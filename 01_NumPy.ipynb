{
 "cells": [
  {
   "cell_type": "code",
   "execution_count": 1,
   "metadata": {
    "id": "vMETgQQ3mZfN"
   },
   "outputs": [],
   "source": [
    "# Importing NumPy, a powerful library for numerical computations and array operations\n",
    "import numpy as np"
   ]
  },
  {
   "cell_type": "code",
   "execution_count": 2,
   "metadata": {
    "colab": {
     "base_uri": "https://localhost:8080/"
    },
    "id": "8XWIw5FWnE6X",
    "outputId": "c131eab9-acae-49a4-8979-987161ede393"
   },
   "outputs": [
    {
     "name": "stdout",
     "output_type": "stream",
     "text": [
      "['soap' 'toothpaste' 'shampoo' 'body cream' 'face wash']\n"
     ]
    }
   ],
   "source": [
    "# 1. Initial product names with dtype = object to allow None later\n",
    "# In Numpy and Pandas, there are no datatypes. Here, datatype is object because only object can be deleted.\n",
    "# Using dtype=object makes the array more flexible, allowing mixed data types or possible modifications.\n",
    "\n",
    "product_names = np.array(['soap', 'toothpaste', 'shampoo', 'body cream', 'face wash'], dtype=object)\n",
    "print(product_names)"
   ]
  },
  {
   "cell_type": "code",
   "execution_count": 3,
   "metadata": {
    "colab": {
     "base_uri": "https://localhost:8080/"
    },
    "id": "xFdCuWaFniZP",
    "outputId": "28f631e9-a60c-440a-dc7e-9d96d4365e5c"
   },
   "outputs": [
    {
     "name": "stdout",
     "output_type": "stream",
     "text": [
      "[598.63800204 211.95562595 739.40409078 861.36591475 958.5351268 ]\n",
      "[477.17 281.93 180.7  822.88 304.36]\n"
     ]
    }
   ],
   "source": [
    "# 2. 5 Random float prices between 100 and 1000, rounded to 2 decimal places\n",
    "# The first print statement generates 5 random float values between 100 and 1000.\n",
    "print(np.random.uniform(100, 1000, 5))\n",
    "\n",
    "# Using np.round() to round the generated values to 2 decimal places for better readability.\n",
    "prices = np.round(np.random.uniform(100, 1000, size=5), 2)\n",
    "print(prices)"
   ]
  },
  {
   "cell_type": "code",
   "execution_count": 4,
   "metadata": {
    "colab": {
     "base_uri": "https://localhost:8080/"
    },
    "id": "-XBCvEQbnzPa",
    "outputId": "5080f915-6dba-4e2b-e5f8-4d5af0c8648a"
   },
   "outputs": [
    {
     "name": "stdout",
     "output_type": "stream",
     "text": [
      "Single random quantity: 45\n",
      "Array of 5 random quantities: [29 31 21  9 17]\n"
     ]
    }
   ],
   "source": [
    "# 3. 5 Random integer quantities between 1 and 50\n",
    "\n",
    "# Generating a single random integer between 1 and 50\n",
    "single_quantity = np.random.randint(1, 51)\n",
    "print(\"Single random quantity:\", single_quantity)\n",
    "\n",
    "# Generating 5 random integers between 1 and 50\n",
    "quantities = np.random.randint(1, 51, size=5)\n",
    "print(\"Array of 5 random quantities:\", quantities)"
   ]
  },
  {
   "cell_type": "code",
   "execution_count": 5,
   "metadata": {
    "colab": {
     "base_uri": "https://localhost:8080/"
    },
    "id": "bj8dD86Yn57L",
    "outputId": "a7313a81-ae85-4fb0-99c6-5e9ddc8b70e5"
   },
   "outputs": [
    {
     "name": "stdout",
     "output_type": "stream",
     "text": [
      "Extra products list: ['bread', 'butter']\n",
      "Updated product names array: ['soap' 'toothpaste' 'shampoo' 'body cream' 'face wash' 'bread' 'butter']\n"
     ]
    }
   ],
   "source": [
    "# 4. Add Python list products to numpy arrays\n",
    "# Creating a Python list of extra products\n",
    "\n",
    "extra_products = ['bread', 'butter']\n",
    "print(\"Extra products list:\", extra_products)\n",
    "\n",
    "# Using np.append() to add the list to the existing NumPy array\n",
    "\n",
    "product_names = np.append(product_names, extra_products)\n",
    "print(\"Updated product names array:\", product_names)"
   ]
  },
  {
   "cell_type": "code",
   "execution_count": 7,
   "metadata": {
    "colab": {
     "base_uri": "https://localhost:8080/"
    },
    "id": "wmqkc2vNo14s",
    "outputId": "436810a4-f37b-4db5-bc64-84f0adbd1629"
   },
   "outputs": [
    {
     "name": "stdin",
     "output_type": "stream",
     "text": [
      "Enter price for bread:  25\n",
      "Enter quantity for bread:  14\n",
      "Enter price for butter:  65\n",
      "Enter quantity for butter:  23\n"
     ]
    }
   ],
   "source": [
    "# Accept their prices and quantities from user\n",
    "# Looping through each item in the extra_products list to collect user input\n",
    "for item in extra_products:\n",
    "\n",
    "    # Asking the user to enter the price (converted to float for decimal values)\n",
    "    p = float(input(f\"Enter price for {item}: \"))\n",
    "\n",
    "    # Asking the user to enter the quantity (converted to int for whole numbers)\n",
    "    q = int(input(f\"Enter quantity for {item}: \"))\n",
    "\n",
    "    # Appending the entered price to the existing prices array\n",
    "    prices = np.append(prices, p)\n",
    "\n",
    "    # Appending the entered quantity to the existing quantities array\n",
    "    quantities = np.append(quantities, q)\n",
    "\n",
    "# This ensures that prices and quantities dynamically expand as users input new values."
   ]
  },
  {
   "cell_type": "code",
   "execution_count": 8,
   "metadata": {
    "colab": {
     "base_uri": "https://localhost:8080/"
    },
    "id": "KtGQ5DfEpzYK",
    "outputId": "544919c1-4929-4d2d-dd40-8040b1ccf900"
   },
   "outputs": [
    {
     "name": "stdout",
     "output_type": "stream",
     "text": [
      "Final Product Names: ['soap' 'toothpaste' 'shampoo' 'body cream' 'face wash' 'bread' 'butter']\n",
      "Final Prices: [477.17 281.93 180.7  822.88 304.36  25.    45.    25.    65.  ]\n",
      "Final Quantities: [29 31 21  9 17 35 50 14 23]\n"
     ]
    }
   ],
   "source": [
    "# Printing updated arrays to confirm all appended values\n",
    "print(\"Final Product Names:\", product_names)\n",
    "print(\"Final Prices:\", prices)\n",
    "print(\"Final Quantities:\", quantities)"
   ]
  },
  {
   "cell_type": "code",
   "execution_count": 9,
   "metadata": {
    "colab": {
     "base_uri": "https://localhost:8080/"
    },
    "id": "4Jo4sU9sqGne",
    "outputId": "45e9c205-7873-4de3-c673-a5ff57372be6"
   },
   "outputs": [
    {
     "name": "stdout",
     "output_type": "stream",
     "text": [
      "\n",
      "All Products:\n",
      "Name: soap         | Price:  477.17 | Quantity: 29\n",
      "Name: toothpaste   | Price:  281.93 | Quantity: 31\n",
      "Name: shampoo      | Price:  180.70 | Quantity: 21\n",
      "Name: body cream   | Price:  822.88 | Quantity: 9\n",
      "Name: face wash    | Price:  304.36 | Quantity: 17\n",
      "Name: bread        | Price:   25.00 | Quantity: 35\n",
      "Name: butter       | Price:   45.00 | Quantity: 50\n"
     ]
    }
   ],
   "source": [
    "# 5. Display all arrays\n",
    "# Using a loop to neatly print all product details in a formatted manner\n",
    "\n",
    "print(\"\\nAll Products:\")\n",
    "for name, price, qty in zip(product_names, prices, quantities):\n",
    "    # Formatting output for better readability:\n",
    "    # - Name aligned to 12 characters\n",
    "    # - Price displayed with 2 decimal places\n",
    "    # - Quantity printed as an integer\n",
    "    print(f\"Name: {name:12} | Price: {price:7.2f} | Quantity: {qty}\")\n"
   ]
  },
  {
   "cell_type": "code",
   "execution_count": 10,
   "metadata": {
    "colab": {
     "base_uri": "https://localhost:8080/"
    },
    "id": "e2FB_P5CKXrI",
    "outputId": "a77fbb6a-0655-4ed3-f7ec-8c3c5a9e0409"
   },
   "outputs": [
    {
     "name": "stdout",
     "output_type": "stream",
     "text": [
      "['soap' 'toothpaste' 'shampoo' 'body cream' 'face wash' 'bread' 'butter']\n"
     ]
    }
   ],
   "source": [
    "print(product_names)"
   ]
  },
  {
   "cell_type": "code",
   "execution_count": 11,
   "metadata": {
    "colab": {
     "base_uri": "https://localhost:8080/"
    },
    "id": "OlQSnjqEKf3h",
    "outputId": "242720ab-580b-4800-f77b-bcdcb2c3e892"
   },
   "outputs": [
    {
     "data": {
      "text/plain": [
       "array([False, False,  True, False, False, False, False])"
      ]
     },
     "execution_count": 11,
     "metadata": {},
     "output_type": "execute_result"
    }
   ],
   "source": [
    "product_names == 'shampoo'"
   ]
  },
  {
   "cell_type": "code",
   "execution_count": 12,
   "metadata": {
    "colab": {
     "base_uri": "https://localhost:8080/"
    },
    "id": "ztLy_t0BrRvf",
    "outputId": "5889511f-5f19-4783-db70-2753e615892e"
   },
   "outputs": [
    {
     "name": "stdout",
     "output_type": "stream",
     "text": [
      "Result (tuple): (array([2], dtype=int64),)\n",
      "Result (array): [2]\n",
      "Boolean array for 'shampoo': [False False  True False False False False]\n",
      "Extracted indices: [2]\n",
      "First index of 'shampoo': 2\n"
     ]
    }
   ],
   "source": [
    "# 6. Delete second product (shampoo)\n",
    "\n",
    "# product_names == 'shampoo'\n",
    "# This creates a Boolean array of the same length as product_names,\n",
    "# with True where the value is 'shampoo' and False elsewhere.\n",
    "\n",
    "# Example:\n",
    "# product_names = ['soap', 'toothpaste', 'shampoo', 'face wash']\n",
    "# product_names == 'shampoo' -> array([False, False, True, False, False, False, False])\n",
    "\n",
    "# np.where(...)\n",
    "# np.where(condition) returns the indices where the condition is True.\n",
    "\n",
    "# So, np.where(product_names == 'shampoo') -> (array([2]),)\n",
    "# The tuple contains an array of indices where the condition is met.\n",
    "\n",
    "result = np.where(product_names == 'shampoo')  # Only indices where 'shampoo' exists (returns a tuple)\n",
    "print(\"Result (tuple):\", result)\n",
    "\n",
    "result = np.where(product_names == 'shampoo')[0]  # Extracting only the array of indices\n",
    "print(\"Result (array):\", result)\n",
    "\n",
    "print(f\"Boolean array for 'shampoo': {product_names == 'shampoo'}\")  # Displays True/False for each element\n",
    "print(f\"Extracted indices: {result}\")\n",
    "print(f\"First index of 'shampoo': {result[0]}\")  # Accessing the first index where 'shampoo' occurs\n"
   ]
  },
  {
   "cell_type": "code",
   "execution_count": 13,
   "metadata": {
    "colab": {
     "base_uri": "https://localhost:8080/"
    },
    "id": "jpvwb4Ptrngf",
    "outputId": "83484bbe-f932-4678-904a-323dfe3b4a5f"
   },
   "outputs": [
    {
     "name": "stdout",
     "output_type": "stream",
     "text": [
      "Index to delete: [2]\n",
      "Updated Product Names: ['soap' 'toothpaste' 'body cream' 'face wash' 'bread' 'butter']\n",
      "Updated Prices: [477.17 281.93 822.88 304.36  25.    45.    25.    65.  ]\n",
      "Updated Quantities: [29 31  9 17 35 50 14 23]\n"
     ]
    }
   ],
   "source": [
    "# Identifying the index of 'shampoo' in the product_names array\n",
    "index_to_delete = np.where(product_names == 'shampoo')[0]\n",
    "print(f\"Index to delete: {index_to_delete}\")\n",
    "\n",
    "idx = index_to_delete[0]  # Extract the first index where 'shampoo' is found\n",
    "\n",
    "# Using np.delete() to remove the item from all relevant arrays\n",
    "product_names = np.delete(product_names, idx)\n",
    "prices = np.delete(prices, idx)\n",
    "quantities = np.delete(quantities, idx)\n",
    "\n",
    "# Printing updated arrays after deletion\n",
    "print(\"Updated Product Names:\", product_names)\n",
    "print(\"Updated Prices:\", prices)\n",
    "print(\"Updated Quantities:\", quantities)"
   ]
  },
  {
   "cell_type": "code",
   "execution_count": 14,
   "metadata": {
    "colab": {
     "base_uri": "https://localhost:8080/"
    },
    "id": "uj8LMNhXvm86",
    "outputId": "de1b258e-b23d-427f-d638-17586b6d6f85"
   },
   "outputs": [
    {
     "name": "stdout",
     "output_type": "stream",
     "text": [
      "Soap index position: [0]\n",
      "Updated Prices: [482.17 281.93 822.88 304.36  25.    45.    25.    65.  ]\n"
     ]
    }
   ],
   "source": [
    "# 7. Modify price of soap by adding 5\n",
    "\n",
    "# Finding the index of 'soap' in the product_names array\n",
    "soap_index = np.where(product_names == 'soap')[0]\n",
    "print(f\"Soap index position: {soap_index}\")\n",
    "\n",
    "# Update its price by adding 5\n",
    "\n",
    "prices[soap_index[0]] += 5  # Modifying the price at the found index\n",
    "\n",
    "# Display the updated prices array\n",
    "print(f\"Updated Prices: {prices}\")"
   ]
  },
  {
   "cell_type": "code",
   "execution_count": 15,
   "metadata": {
    "colab": {
     "base_uri": "https://localhost:8080/"
    },
    "id": "BdM2XgcMwqrd",
    "outputId": "07efde01-88fd-4b58-c5d1-174222a4625e"
   },
   "outputs": [
    {
     "name": "stdin",
     "output_type": "stream",
     "text": [
      "Enter price for toothbrush:  25\n",
      "Enter quantity for toothbrush:  36\n"
     ]
    },
    {
     "name": "stdout",
     "output_type": "stream",
     "text": [
      "Updated Product Names: ['soap' 'toothpaste' 'toothbrush' 'body cream' 'face wash' 'bread'\n",
      " 'butter']\n",
      "Updated Prices: [482.17 281.93  25.   822.88 304.36  25.    45.    25.    65.  ]\n",
      "Updated Quantities: [29 31 36  9 17 35 50 14 23]\n"
     ]
    }
   ],
   "source": [
    "# 8. Insert toothbrush after first two products\n",
    "\n",
    "# Defining the index where 'toothbrush' should be inserted (after the first two products)\n",
    "toothbrush_index = 2\n",
    "\n",
    "# Inserting 'toothbrush' into the product_names array at the specified index\n",
    "product_names = np.insert(product_names, toothbrush_index, 'toothbrush')\n",
    "\n",
    "# Accepting price and quantity for the new product from the user\n",
    "p = float(input(\"Enter price for toothbrush: \"))  # Ensures decimal input for precise pricing\n",
    "q = int(input(\"Enter quantity for toothbrush: \"))  # Converts input to integer for whole numbers\n",
    "\n",
    "# Inserting the user-provided price and quantity at the same index\n",
    "prices = np.insert(prices, toothbrush_index, p)\n",
    "quantities = np.insert(quantities, toothbrush_index, q)\n",
    "\n",
    "# Displaying the updated product list after insertion\n",
    "print(\"Updated Product Names:\", product_names)\n",
    "print(\"Updated Prices:\", prices)\n",
    "print(\"Updated Quantities:\", quantities)"
   ]
  },
  {
   "cell_type": "code",
   "execution_count": 16,
   "metadata": {
    "colab": {
     "base_uri": "https://localhost:8080/"
    },
    "id": "KCoLgjcixjqH",
    "outputId": "4f6456b2-da63-4c9e-c24b-aa9dbaec053c"
   },
   "outputs": [
    {
     "name": "stdout",
     "output_type": "stream",
     "text": [
      "Product Names Array: ['soap' 'toothpaste' 'toothbrush' 'body cream' 'face wash' 'bread'\n",
      " 'butter']\n",
      "Search index for 'face wash' (tuple format): (array([4], dtype=int64),)\n",
      "Search index for 'face wash' (array format): [4]\n",
      "Found 'face wash' -> Price: 304.36, Quantity: 17\n"
     ]
    }
   ],
   "source": [
    "# 9. Search for face wash and display\n",
    "\n",
    "print(f\"Product Names Array: {product_names}\")\n",
    "\n",
    "# Searching for the index where 'face wash' appears in the array\n",
    "search_index = np.where(product_names == 'face wash')\n",
    "print(f\"Search index for 'face wash' (tuple format): {search_index}\")\n",
    "\n",
    "# Extracting only the array of indices\n",
    "search_index = np.where(product_names == 'face wash')[0]\n",
    "print(f\"Search index for 'face wash' (array format): {search_index}\")\n",
    "\n",
    "# Checking if 'face wash' exists in the array before accessing its index\n",
    "if search_index[0]:  # Corrected condition\n",
    "    i = search_index[0]  # Retrieving the first occurrence index\n",
    "\n",
    "    # Displaying details for the found product\n",
    "    print(f\"Found 'face wash' -> Price: {prices[i]:.2f}, Quantity: {quantities[i]}\")\n",
    "\n",
    "else:\n",
    "    print(\"\\n'Face wash' not found..!!\")"
   ]
  },
  {
   "cell_type": "code",
   "execution_count": 17,
   "metadata": {
    "colab": {
     "base_uri": "https://localhost:8080/"
    },
    "id": "hWajfklFzs95",
    "outputId": "291df820-ebc0-473c-9835-85176217f7e9"
   },
   "outputs": [
    {
     "name": "stdout",
     "output_type": "stream",
     "text": [
      "Updated Prices after 10% increase: [530.387 310.123  27.5   905.168 334.796  27.5    49.5    27.5    71.5  ]\n"
     ]
    }
   ],
   "source": [
    "# 10. Multiply all prices by 1.10\n",
    "# Increasing all product prices by 10% to adjust for inflation or markup\n",
    "\n",
    "prices *= 1.10  # Element-wise multiplication to update all prices\n",
    "\n",
    "# Displaying the updated prices array\n",
    "print(f\"Updated Prices after 10% increase: {prices}\")"
   ]
  },
  {
   "cell_type": "code",
   "execution_count": 18,
   "metadata": {
    "colab": {
     "base_uri": "https://localhost:8080/"
    },
    "id": "zeQSa0tZ0Nl2",
    "outputId": "48f1ba72-2149-41ac-ea15-7379527e5a75"
   },
   "outputs": [
    {
     "name": "stdout",
     "output_type": "stream",
     "text": [
      "Average Price (Raw): 253.7748888888889\n",
      "Standard Deviation (Raw): 286.57365092936874\n",
      "\n",
      "Average Price: 253.77\n",
      "Standard Deviation of Prices: 286.57\n"
     ]
    }
   ],
   "source": [
    "# 11. Average and standard deviation\n",
    "\n",
    "# Calculating the average price using np.mean()\n",
    "avg_price = np.mean(prices)\n",
    "print(f\"Average Price (Raw): {avg_price}\")\n",
    "\n",
    "# Calculating the standard deviation of prices using np.std()\n",
    "std_dev_price = np.std(prices)\n",
    "print(f\"Standard Deviation (Raw): {std_dev_price}\")\n",
    "\n",
    "# Displaying the results with formatted output for better readability\n",
    "print(f\"\\nAverage Price: {avg_price:.2f}\")  # Rounded to 2 decimal places\n",
    "print(f\"Standard Deviation of Prices: {std_dev_price:.2f}\")  # Rounded for clarity"
   ]
  },
  {
   "cell_type": "code",
   "execution_count": 19,
   "metadata": {
    "colab": {
     "base_uri": "https://localhost:8080/"
    },
    "id": "NnCPT7B-07I4",
    "outputId": "aa85c3a6-6313-4695-a7e0-502164d46399"
   },
   "outputs": [
    {
     "name": "stdout",
     "output_type": "stream",
     "text": [
      "\n",
      "Product Names: ['soap' 'toothpaste' 'toothbrush' 'body cream' 'face wash' 'bread'\n",
      " 'butter']\n",
      "\n",
      "Boolean array (product_names == 'toothbrush'): [False False  True False False False False]\n",
      "\n",
      "Indices where 'toothbrush' is found (np.where): (array([2], dtype=int64),)\n",
      "\n",
      "Corrected: Indices of 'toothbrush' (np.where(product_names == 'toothbrush')[0]): [2]\n",
      "\n",
      "Updated Product Names: ['soap' 'toothpaste' None 'body cream' 'face wash' 'bread' 'butter']\n",
      "\n",
      "Number of Null Entries: 1\n"
     ]
    }
   ],
   "source": [
    "# 12. Set toothbrush name to None and count nulls\n",
    "\n",
    "# Printing the product names array before modification\n",
    "print(f\"\\nProduct Names: {product_names}\")\n",
    "\n",
    "# Checking where 'toothbrush' exists in the array and displaying the results\n",
    "print(f\"\\nBoolean array (product_names == 'toothbrush'): {product_names == 'toothbrush'}\")\n",
    "print(f\"\\nIndices where 'toothbrush' is found (np.where): {np.where(product_names == 'toothbrush')}\")\n",
    "\n",
    "# Fixing the incorrect indexing in the next line\n",
    "# 'toothbrush'[0] incorrectly tries to index a string instead of product_names array\n",
    "print(f\"\\nCorrected: Indices of 'toothbrush' (np.where(product_names == 'toothbrush')[0]): {np.where(product_names == 'toothbrush')[0]}\")\n",
    "\n",
    "# Setting 'toothbrush' to None at its identified index\n",
    "product_names[np.where(product_names == 'toothbrush')[0]] = None\n",
    "\n",
    "# Counting the number of None values in the product_names array\n",
    "null_count = np.count_nonzero(product_names == None)\n",
    "\n",
    "# Displaying the updated product names and the count of null values\n",
    "print(f\"\\nUpdated Product Names: {product_names}\")\n",
    "print(f\"\\nNumber of Null Entries: {null_count}\")"
   ]
  },
  {
   "cell_type": "code",
   "execution_count": 20,
   "metadata": {
    "colab": {
     "base_uri": "https://localhost:8080/"
    },
    "id": "WhJ77oQl2tay",
    "outputId": "29441680-5cd7-40fa-c1e8-05563096f54e"
   },
   "outputs": [
    {
     "name": "stdout",
     "output_type": "stream",
     "text": [
      "\n",
      "Non-null Products Only:\n",
      "Name: soap         | Price:  530.39 | Quantity: 29\n",
      "Name: toothpaste   | Price:  310.12 | Quantity: 31\n",
      "Name: body cream   | Price:  905.17 | Quantity: 9\n",
      "Name: face wash    | Price:  334.80 | Quantity: 17\n",
      "Name: bread        | Price:   27.50 | Quantity: 35\n",
      "Name: butter       | Price:   49.50 | Quantity: 50\n"
     ]
    }
   ],
   "source": [
    "# Final display of non-null product data\n",
    "\n",
    "print(\"\\nNon-null Products Only:\")\n",
    "\n",
    "# Looping through product data and displaying only valid entries\n",
    "for name, price, qty in zip(product_names, prices, quantities):\n",
    "    if name is not None:  # Ensuring only products with valid names are displayed\n",
    "        print(f\"Name: {name:12} | Price: {price:7.2f} | Quantity: {int(qty)}\")"
   ]
  }
 ],
 "metadata": {
  "colab": {
   "provenance": []
  },
  "kernelspec": {
   "display_name": "Python 3 (ipykernel)",
   "language": "python",
   "name": "python3"
  },
  "language_info": {
   "codemirror_mode": {
    "name": "ipython",
    "version": 3
   },
   "file_extension": ".py",
   "mimetype": "text/x-python",
   "name": "python",
   "nbconvert_exporter": "python",
   "pygments_lexer": "ipython3",
   "version": "3.12.7"
  }
 },
 "nbformat": 4,
 "nbformat_minor": 4
}
