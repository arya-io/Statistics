{
 "cells": [
  {
   "cell_type": "code",
   "execution_count": 1,
   "metadata": {
    "id": "yvFepfMLEMJv"
   },
   "outputs": [],
   "source": [
    "# Importing Pandas for data manipulation and analysis\n",
    "# Importing NumPy for numerical operations and array handling\n",
    "import pandas as pd\n",
    "import numpy as np"
   ]
  },
  {
   "cell_type": "code",
   "execution_count": 2,
   "metadata": {
    "colab": {
     "base_uri": "https://localhost:8080/"
    },
    "id": "mzO8K1sHERW_",
    "outputId": "d4d8190a-fcc1-495b-e725-5b9532594fc3"
   },
   "outputs": [
    {
     "name": "stdout",
     "output_type": "stream",
     "text": [
      "\n",
      "Product Names:\n",
      "0          soap\n",
      "1    toothpaste\n",
      "2       shampoo\n",
      "3    body cream\n",
      "4     face wash\n",
      "dtype: object\n",
      "\n",
      "Product Prices (Initialized to 0):\n",
      "0    0.0\n",
      "1    0.0\n",
      "2    0.0\n",
      "3    0.0\n",
      "4    0.0\n",
      "dtype: float64\n"
     ]
    }
   ],
   "source": [
    "# 1. Initial product names and zero prices as Series\n",
    "\n",
    "# Creating a Pandas Series to store product names\n",
    "product_names = pd.Series(['soap', 'toothpaste', 'shampoo', 'body cream', 'face wash'])\n",
    "print(f\"\\nProduct Names:\\n{product_names}\")\n",
    "\n",
    "# Creating a corresponding Series for prices, initialized to zero for all products\n",
    "product_prices = pd.Series([0] * len(product_names), dtype=float)\n",
    "print(f\"\\nProduct Prices (Initialized to 0):\\n{product_prices}\")"
   ]
  },
  {
   "cell_type": "code",
   "execution_count": 3,
   "metadata": {
    "colab": {
     "base_uri": "https://localhost:8080/"
    },
    "id": "Fg-esJTPE1HQ",
    "outputId": "1cb24c31-bb18-40e4-bf0d-6a33e0ab5aa8"
   },
   "outputs": [
    {
     "name": "stdout",
     "output_type": "stream",
     "text": [
      "\n",
      "Randomly Assigned Product Prices:\n",
      " 0    197.08\n",
      "1    844.55\n",
      "2    797.80\n",
      "3    361.59\n",
      "4    789.26\n",
      "dtype: float64\n"
     ]
    }
   ],
   "source": [
    "# 2. Assign random prices between 100 and 1000\n",
    "\n",
    "# Generating 5 random float values between 100 and 1000, then rounding them to 2 decimal places\n",
    "product_prices = pd.Series(np.round(np.random.uniform(100, 1000, size=5), 2))\n",
    "\n",
    "# Displaying the generated prices\n",
    "print(\"\\nRandomly Assigned Product Prices:\\n\", product_prices)"
   ]
  },
  {
   "cell_type": "code",
   "execution_count": 4,
   "metadata": {
    "colab": {
     "base_uri": "https://localhost:8080/"
    },
    "id": "2b1l6NPEFI35",
    "outputId": "6ae331c0-4324-4630-f501-1823b1ef6dbe"
   },
   "outputs": [
    {
     "name": "stdin",
     "output_type": "stream",
     "text": [
      "Enter price for bread:  25\n",
      "Enter price for butter:  36\n"
     ]
    }
   ],
   "source": [
    "# 3. Add new product_names\n",
    "\n",
    "# Creating a list of extra products to add\n",
    "extra_products = ['bread', 'butter']\n",
    "\n",
    "# Initializing an empty list to store user-provided prices for the new products\n",
    "extra_prices = []\n",
    "\n",
    "# Looping through each product in extra_products and collecting its price from the user\n",
    "for item in extra_products:\n",
    "    p = float(input(f\"Enter price for {item}: \"))  # Ensuring input is stored as a float for decimal values\n",
    "    extra_prices.append(p)  # Adding the entered price to the list\n",
    "\n",
    "# This list will now contain the user-defined prices for the extra products"
   ]
  },
  {
   "cell_type": "code",
   "execution_count": 5,
   "metadata": {
    "colab": {
     "base_uri": "https://localhost:8080/"
    },
    "id": "hRv2-8yQFtYl",
    "outputId": "15e92748-ae81-4386-fb40-ee7a8206c254"
   },
   "outputs": [
    {
     "name": "stdout",
     "output_type": "stream",
     "text": [
      "\n",
      "Updated Product Names:\n",
      " 0          soap\n",
      "1    toothpaste\n",
      "2       shampoo\n",
      "3    body cream\n",
      "4     face wash\n",
      "5         bread\n",
      "6        butter\n",
      "dtype: object\n",
      "\n",
      "Updated Product Prices:\n",
      " 0    197.08\n",
      "1    844.55\n",
      "2    797.80\n",
      "3    361.59\n",
      "4    789.26\n",
      "5     25.00\n",
      "6     36.00\n",
      "dtype: float64\n"
     ]
    }
   ],
   "source": [
    "# Append new products and their prices\n",
    "\n",
    "# The parameter ignore_index=True tells Pandas to:\n",
    "# - Reassign new sequential integer indices to the resulting Series.\n",
    "# - Ignore the original indices from both product_names and extra_products.\n",
    "# - Assign new indices starting from 0 up to the total length - 1.\n",
    "\n",
    "product_names = pd.concat([product_names, pd.Series(extra_products)], ignore_index=True)\n",
    "product_prices = pd.concat([product_prices, pd.Series(extra_prices)], ignore_index=True)\n",
    "\n",
    "# Displaying updated Series after appending\n",
    "print(\"\\nUpdated Product Names:\\n\", product_names)\n",
    "print(\"\\nUpdated Product Prices:\\n\", product_prices)"
   ]
  },
  {
   "cell_type": "code",
   "execution_count": 6,
   "metadata": {
    "colab": {
     "base_uri": "https://localhost:8080/"
    },
    "id": "2yeyCcDMGwbk",
    "outputId": "cc845c6a-82f7-4a04-ff30-e5e1232eb1c2"
   },
   "outputs": [
    {
     "name": "stdout",
     "output_type": "stream",
     "text": [
      "\n",
      "All Products:\n",
      "Name: soap         | Price:  197.08\n",
      "Name: toothpaste   | Price:  844.55\n",
      "Name: shampoo      | Price:  797.80\n",
      "Name: body cream   | Price:  361.59\n",
      "Name: face wash    | Price:  789.26\n",
      "Name: bread        | Price:   25.00\n",
      "Name: butter       | Price:   36.00\n"
     ]
    }
   ],
   "source": [
    "# 4. Display all product_names\n",
    "\n",
    "print(\"\\nAll Products:\")\n",
    "\n",
    "# Looping through the product names and corresponding prices for a structured display\n",
    "for name, price in zip(product_names, product_prices):\n",
    "    print(f\"Name: {name:12} | Price: {price:7.2f}\")\n"
   ]
  },
  {
   "cell_type": "code",
   "execution_count": 7,
   "metadata": {
    "colab": {
     "base_uri": "https://localhost:8080/"
    },
    "id": "A0NrWVByHsbK",
    "outputId": "6feee465-d9a0-4665-d29e-292f2c98d71c"
   },
   "outputs": [
    {
     "name": "stdout",
     "output_type": "stream",
     "text": [
      "\n",
      "Index of 'shampoo' to drop: Index([2], dtype='int64')\n",
      "\n",
      "Product Names after drop:\n",
      " 0          soap\n",
      "1    toothpaste\n",
      "3    body cream\n",
      "4     face wash\n",
      "5         bread\n",
      "6        butter\n",
      "dtype: object\n",
      "\n",
      "Product Names after index reset:\n",
      " 0          soap\n",
      "1    toothpaste\n",
      "2    body cream\n",
      "3     face wash\n",
      "4         bread\n",
      "5        butter\n",
      "dtype: object\n",
      "\n",
      "Product Prices after drop:\n",
      " 0    197.08\n",
      "1    844.55\n",
      "3    361.59\n",
      "4    789.26\n",
      "5     25.00\n",
      "6     36.00\n",
      "dtype: float64\n",
      "\n",
      "Product Prices after index reset:\n",
      " 0    197.08\n",
      "1    844.55\n",
      "2    361.59\n",
      "3    789.26\n",
      "4     25.00\n",
      "5     36.00\n",
      "dtype: float64\n"
     ]
    }
   ],
   "source": [
    "# 5. Delete 'shampoo' with step-by-step breakdown\n",
    "\n",
    "# Finding the index of 'shampoo' in the product_names Series\n",
    "drop_index = product_names[product_names == 'shampoo'].index\n",
    "print(\"\\nIndex of 'shampoo' to drop:\", drop_index)\n",
    "\n",
    "# Checking if the index exists before proceeding with deletion\n",
    "if not drop_index.empty:\n",
    "    # Dropping 'shampoo' from the product_names Series\n",
    "    product_names = product_names.drop(drop_index)\n",
    "    print(\"\\nProduct Names after drop:\\n\", product_names)\n",
    "\n",
    "    # Resetting the index of product_names to maintain sequential numbering\n",
    "    product_names = product_names.reset_index(drop=True)\n",
    "    print(\"\\nProduct Names after index reset:\\n\", product_names)\n",
    "\n",
    "    # Dropping the corresponding price of 'shampoo' in the product_prices Series\n",
    "    product_prices = product_prices.drop(drop_index)\n",
    "    print(\"\\nProduct Prices after drop:\\n\", product_prices)\n",
    "\n",
    "    # Resetting the index of product_prices to maintain sequential numbering\n",
    "    product_prices = product_prices.reset_index(drop=True)\n",
    "    print(\"\\nProduct Prices after index reset:\\n\", product_prices)"
   ]
  },
  {
   "cell_type": "code",
   "execution_count": 8,
   "metadata": {
    "colab": {
     "base_uri": "https://localhost:8080/"
    },
    "id": "ifA7b3wnIbj_",
    "outputId": "cee3e43d-4526-4766-c20a-ce4e404e5bef"
   },
   "outputs": [
    {
     "name": "stdout",
     "output_type": "stream",
     "text": [
      "\n",
      "Boolean Array (product_names == 'body cream'):\n",
      "0    False\n",
      "1    False\n",
      "2     True\n",
      "3    False\n",
      "4    False\n",
      "5    False\n",
      "dtype: bool\n",
      "\n",
      "Filtered Series (product_names[product_names == 'body cream']):\n",
      "2    body cream\n",
      "dtype: object\n",
      "\n",
      "Index of 'body cream': Index([2], dtype='int64')\n",
      "\n",
      "Updated Product Prices:\n",
      " 0    197.08\n",
      "1    844.55\n",
      "2    366.59\n",
      "3    789.26\n",
      "4     25.00\n",
      "5     36.00\n",
      "dtype: float64\n"
     ]
    }
   ],
   "source": [
    "# 6. Add Rs. 5 to the price of 'body cream'\n",
    "\n",
    "# Identifying the index of 'body cream' in the product_names Series\n",
    "body_cream_index = product_names[product_names == 'body cream'].index\n",
    "\n",
    "# Displaying intermediate steps to understand how filtering works\n",
    "print(f\"\\nBoolean Array (product_names == 'body cream'):\\n{product_names == 'body cream'}\")\n",
    "print(f\"\\nFiltered Series (product_names[product_names == 'body cream']):\\n{product_names[product_names == 'body cream']}\")\n",
    "print(f\"\\nIndex of 'body cream': {body_cream_index}\")\n",
    "\n",
    "# Price update\n",
    "\n",
    "product_prices[body_cream_index[0]] += 5  # Increasing the price by Rs. 5\n",
    "\n",
    "# Displaying the updated prices\n",
    "print(\"\\nUpdated Product Prices:\\n\", product_prices)"
   ]
  },
  {
   "cell_type": "code",
   "execution_count": 9,
   "metadata": {
    "colab": {
     "base_uri": "https://localhost:8080/"
    },
    "id": "GC_QCxyuJrTW",
    "outputId": "ec14d99f-6c91-40b2-b37a-997d2b8caa67"
   },
   "outputs": [
    {
     "name": "stdin",
     "output_type": "stream",
     "text": [
      "\n",
      "Enter price for toothbrush:  52\n"
     ]
    },
    {
     "name": "stdout",
     "output_type": "stream",
     "text": [
      "\n",
      "Updated Product Names:\n",
      " 0          soap\n",
      "1    toothpaste\n",
      "2    toothbrush\n",
      "3    body cream\n",
      "4     face wash\n",
      "5         bread\n",
      "6        butter\n",
      "dtype: object\n"
     ]
    }
   ],
   "source": [
    "# 7. Insert 'toothbrush' at position 2, keeping rows 0 and 1 unchanged\n",
    "\n",
    "# Accepting user input for the price of 'toothbrush'\n",
    "p = float(input(\"\\nEnter price for toothbrush: \"))\n",
    "\n",
    "# Splitting the product_names Series and inserting 'toothbrush' at index 2\n",
    "product_names = pd.concat([\n",
    "    product_names.iloc[:2],        # Selecting the first two rows of product_names\n",
    "    pd.Series(['toothbrush']),      # Creating a new Series with 'toothbrush'\n",
    "    product_names.iloc[2:]          # Selecting all rows from index 2 onward\n",
    "]).reset_index(drop=True)           # Resetting the index for sequential ordering\n",
    "\n",
    "# Printing the updated product names Series\n",
    "print(\"\\nUpdated Product Names:\\n\", product_names)"
   ]
  },
  {
   "cell_type": "code",
   "execution_count": 10,
   "metadata": {
    "colab": {
     "base_uri": "https://localhost:8080/"
    },
    "id": "2C2FhAqENHEq",
    "outputId": "432b6c08-fa0e-4816-b13e-14f7d10b5fd9"
   },
   "outputs": [
    {
     "name": "stdout",
     "output_type": "stream",
     "text": [
      "\n",
      "Boolean Array (product_names == 'face wash'):\n",
      "0    False\n",
      "1    False\n",
      "2    False\n",
      "3    False\n",
      "4     True\n",
      "5    False\n",
      "6    False\n",
      "dtype: bool\n",
      "\n",
      "Index of 'face wash': Index([4], dtype='int64')\n",
      "\n",
      "Found 'Face Wash' -> Price: 25.00\n"
     ]
    }
   ],
   "source": [
    "# 8. Search for 'face wash'\n",
    "\n",
    "# Finding the index of 'face wash' in the product_names Series\n",
    "fw_index = product_names[product_names == 'face wash'].index\n",
    "\n",
    "# Displaying the search results\n",
    "print(f\"\\nBoolean Array (product_names == 'face wash'):\\n{product_names == 'face wash'}\")\n",
    "print(f\"\\nIndex of 'face wash': {fw_index}\")\n",
    "\n",
    "# Checking if 'face wash' exists before accessing its price\n",
    "if not fw_index.empty:\n",
    "    print(f\"\\nFound 'Face Wash' -> Price: {product_prices[fw_index[0]]:.2f}\")\n",
    "else:\n",
    "    print(\"\\n'Face Wash' not found\")"
   ]
  },
  {
   "cell_type": "code",
   "execution_count": 11,
   "metadata": {
    "colab": {
     "base_uri": "https://localhost:8080/"
    },
    "id": "bk-SzzUmOxXI",
    "outputId": "40ac2294-cad0-4121-97a4-f8606748f07d"
   },
   "outputs": [
    {
     "name": "stdout",
     "output_type": "stream",
     "text": [
      "\n",
      "Updated Product Prices after 10% increase:\n",
      " 0    216.788\n",
      "1    929.005\n",
      "2    403.249\n",
      "3    868.186\n",
      "4     27.500\n",
      "5     39.600\n",
      "dtype: float64\n"
     ]
    }
   ],
   "source": [
    "# 9. Multiply all prices by 1.10\n",
    "\n",
    "# Applying a 10% price increase across all products\n",
    "product_prices *= 1.10  # Element-wise multiplication\n",
    "\n",
    "# Displaying updated prices after adjustment\n",
    "print(\"\\nUpdated Product Prices after 10% increase:\\n\", product_prices)"
   ]
  },
  {
   "cell_type": "code",
   "execution_count": 12,
   "metadata": {
    "colab": {
     "base_uri": "https://localhost:8080/"
    },
    "id": "Zob3hZ_bO5MF",
    "outputId": "375528a0-7ed8-47c9-8db4-0474ff7ddd01"
   },
   "outputs": [
    {
     "name": "stdout",
     "output_type": "stream",
     "text": [
      "\n",
      "Raw Average Price: 414.05466666666666\n",
      "Raw Standard Deviation: 400.02020489853595\n",
      "\n",
      "Average Price: 414.05\n",
      "Standard Deviation of Prices: 400.02\n"
     ]
    }
   ],
   "source": [
    "# 10. Calculate Average Price and Standard Deviation\n",
    "\n",
    "# Calculating the average price using .mean() method\n",
    "avg_price = product_prices.mean()\n",
    "print(f\"\\nRaw Average Price: {avg_price}\")\n",
    "\n",
    "# Calculating the standard deviation using .std() method\n",
    "std_dev_price = product_prices.std()\n",
    "print(f\"Raw Standard Deviation: {std_dev_price}\")\n",
    "\n",
    "# Displaying results with formatted output\n",
    "print(f\"\\nAverage Price: {avg_price:.2f}\")  # Rounded to 2 decimal places\n",
    "print(f\"Standard Deviation of Prices: {std_dev_price:.2f}\")  # Rounded for clarity"
   ]
  },
  {
   "cell_type": "code",
   "execution_count": 13,
   "metadata": {
    "colab": {
     "base_uri": "https://localhost:8080/"
    },
    "id": "2mnJi1BXTNGN",
    "outputId": "70ecade4-6589-40d9-fd5e-0837d4de10c1"
   },
   "outputs": [
    {
     "name": "stdout",
     "output_type": "stream",
     "text": [
      "\n",
      "Updated Product Names:\n",
      " 0          soap\n",
      "1    toothpaste\n",
      "2          None\n",
      "3    body cream\n",
      "4     face wash\n",
      "5         bread\n",
      "6        butter\n",
      "dtype: object\n",
      "\n",
      "Number of null product names: 1\n"
     ]
    }
   ],
   "source": [
    "# 11. Set 'toothbrush' name to None and count nulls\n",
    "\n",
    "# Identifying where 'toothbrush' appears in product_names and setting it to None\n",
    "product_names[product_names == 'toothbrush'] = None\n",
    "\n",
    "# Counting the number of null values in the product_names Series\n",
    "null_count = product_names.isnull().sum()\n",
    "\n",
    "# Displaying the total count of null product names\n",
    "print(\"\\nUpdated Product Names:\\n\", product_names)\n",
    "print(f\"\\nNumber of null product names: {null_count}\")"
   ]
  },
  {
   "cell_type": "code",
   "execution_count": 14,
   "metadata": {
    "colab": {
     "base_uri": "https://localhost:8080/"
    },
    "id": "nRlKFeYdTmU4",
    "outputId": "f0edce76-5afd-4d88-8357-7774e71c3d3e"
   },
   "outputs": [
    {
     "name": "stdout",
     "output_type": "stream",
     "text": [
      "\n",
      "Non-null Products Only\n",
      "soap         | Price:  216.79\n",
      "toothpaste   | Price:  929.00\n",
      "body cream   | Price:  868.19\n",
      "face wash    | Price:   27.50\n",
      "bread        | Price:   39.60\n"
     ]
    }
   ],
   "source": [
    "# Final display of non-null products\n",
    "\n",
    "print(\"\\nNon-null Products Only\")\n",
    "\n",
    "# Looping through product names and prices, ensuring only valid entries are displayed\n",
    "for name, price in zip(product_names, product_prices):\n",
    "    if name is not None:  # Filtering out None values\n",
    "        print(f\"{name:12} | Price: {price:7.2f}\")"
   ]
  },
  {
   "cell_type": "code",
   "execution_count": 15,
   "metadata": {
    "colab": {
     "base_uri": "https://localhost:8080/"
    },
    "id": "1PmBCjb25ATK",
    "outputId": "6e60a965-2ec8-4cf0-88d3-b2bad8115cc7"
   },
   "outputs": [
    {
     "name": "stdout",
     "output_type": "stream",
     "text": [
      "Initial Products:\n",
      "         Name  Price\n",
      "0        soap      0\n",
      "1  toothpaste      0\n",
      "2     shampoo      0\n",
      "3  body cream      0\n",
      "4   face wash      0\n",
      "         Name  Price\n",
      "0        soap      0\n",
      "1  toothpaste      0\n",
      "2     shampoo      0\n",
      "3  body cream      0\n",
      "4   face wash      0\n",
      "<class 'pandas.core.frame.DataFrame'>\n",
      "RangeIndex: 5 entries, 0 to 4\n",
      "Data columns (total 2 columns):\n",
      " #   Column  Non-Null Count  Dtype \n",
      "---  ------  --------------  ----- \n",
      " 0   Name    5 non-null      object\n",
      " 1   Price   5 non-null      int64 \n",
      "dtypes: int64(1), object(1)\n",
      "memory usage: 212.0+ bytes\n",
      "None\n",
      "       Price\n",
      "count    5.0\n",
      "mean     0.0\n",
      "std      0.0\n",
      "min      0.0\n",
      "25%      0.0\n",
      "50%      0.0\n",
      "75%      0.0\n",
      "max      0.0\n",
      "Name     object\n",
      "Price     int64\n",
      "dtype: object\n",
      "(5, 2)\n"
     ]
    }
   ],
   "source": [
    "### Additional Pandas Methods and Properties ###\n",
    "\n",
    "# 1. Creating an initial product DataFrame\n",
    "product_data = {\n",
    "    'Name': ['soap', 'toothpaste', 'shampoo', 'body cream', 'face wash'],  # Product names\n",
    "    'Price': [0] * 5  # Initial prices set to zero\n",
    "}\n",
    "\n",
    "df = pd.DataFrame(product_data)  # Creating a Pandas DataFrame\n",
    "print(\"Initial Products:\")\n",
    "print(df)  # Displaying the complete DataFrame\n",
    "\n",
    "# Exploring basic Pandas methods\n",
    "print(df.head())  # Displays first few rows for quick overview\n",
    "print(df.info())  # Provides dataset summary, including data types and missing values\n",
    "print(df.describe())  # Gives statistical summary of numerical columns\n",
    "print(df.dtypes)  # Shows data types of each column\n",
    "print(df.shape)  # Returns tuple (rows, columns) to understand structure"
   ]
  },
  {
   "cell_type": "code",
   "execution_count": 16,
   "metadata": {
    "colab": {
     "base_uri": "https://localhost:8080/"
    },
    "id": "W_T1plzU5YfQ",
    "outputId": "19c232dc-e211-4af9-9d12-217baf8744e6"
   },
   "outputs": [
    {
     "name": "stdout",
     "output_type": "stream",
     "text": [
      "         Name  Price\n",
      "0        soap      0\n",
      "1  toothpaste      0\n",
      "2     shampoo      0\n",
      "3  body cream      0\n",
      "4   face wash      0\n",
      "         Name  Price  Discounted Price\n",
      "0        soap      0               0.0\n",
      "1  toothpaste      0               0.0\n",
      "2     shampoo      0               0.0\n",
      "3  body cream      0               0.0\n",
      "4   face wash      0               0.0\n"
     ]
    }
   ],
   "source": [
    "# Sorting the DataFrame by the 'Price' column in ascending order\n",
    "print(df.sort_values(by='Price'))\n",
    "\n",
    "# Applying a function to modify a column's values\n",
    "def apply_discount(price):\n",
    "    return price * 0.9  # Applying a 10% discount to each price value\n",
    "\n",
    "# Creating a new column with discounted prices\n",
    "df['Discounted Price'] = df['Price'].apply(apply_discount)\n",
    "\n",
    "# Display the updated DataFrame\n",
    "print(df)"
   ]
  },
  {
   "cell_type": "code",
   "execution_count": 17,
   "metadata": {
    "colab": {
     "base_uri": "https://localhost:8080/"
    },
    "id": "jV4H-5mh5c_H",
    "outputId": "821108b0-f9e8-4d1c-8ee7-56b8e72c468f"
   },
   "outputs": [
    {
     "name": "stdout",
     "output_type": "stream",
     "text": [
      "         Name  Price  Discounted Price\n",
      "0        soap      0               0.0\n",
      "1  toothpaste      0               0.0\n",
      "Empty DataFrame\n",
      "Columns: [Name, Price, Discounted Price]\n",
      "Index: []\n",
      "         Name   Price  Category  In_Stock\n",
      "0        soap  150.00  Cosmetic      True\n",
      "1  toothpaste  250.50  Cosmetic      True\n",
      "2     shampoo  300.00  Cosmetic     False\n",
      "3  body cream  450.75  Cosmetic      True\n",
      "4   face wash  200.00  Cosmetic     False\n",
      "5       bread   50.25      Food      True\n",
      "6      butter   75.00      Food      True\n"
     ]
    }
   ],
   "source": [
    "# Indexing and selection in Pandas\n",
    "\n",
    "# Select the first two rows using integer-location based indexing (.iloc)\n",
    "print(df.iloc[:2])  # Displays the first two rows in the DataFrame\n",
    "\n",
    "# Select rows where the 'Price' column is greater than 100\n",
    "print(df.loc[df['Price'] > 100])\n",
    "# Uses .loc[] to filter rows based on column conditions\n",
    "\n",
    "# Creating a more detailed product dataset with additional attributes\n",
    "product_data = {\n",
    "    'Name': ['soap', 'toothpaste', 'shampoo', 'body cream', 'face wash', 'bread', 'butter'],\n",
    "    'Price': [150.00, 250.50, 300.00, 450.75, 200.00, 50.25, 75.00],\n",
    "    'Category': ['Cosmetic', 'Cosmetic', 'Cosmetic', 'Cosmetic', 'Cosmetic', 'Food', 'Food'],\n",
    "    'In_Stock': [True, True, False, True, False, True, True]  # Stock availability status\n",
    "}\n",
    "\n",
    "# Convert dictionary into a Pandas DataFrame\n",
    "df = pd.DataFrame(product_data)\n",
    "print(df)  # Display the complete DataFrame"
   ]
  },
  {
   "cell_type": "code",
   "execution_count": 18,
   "metadata": {
    "colab": {
     "base_uri": "https://localhost:8080/"
    },
    "id": "wAOdqJrv5guQ",
    "outputId": "3c69392f-e909-4663-af1f-c70ada1729ee"
   },
   "outputs": [
    {
     "name": "stdout",
     "output_type": "stream",
     "text": [
      "         Name   Price  Category  In_Stock\n",
      "0        soap  150.00  Cosmetic      True\n",
      "1  toothpaste  250.50  Cosmetic      True\n",
      "3  body cream  450.75  Cosmetic      True\n",
      "         Name   Price  Category  In_Stock\n",
      "1  toothpaste  250.50  Cosmetic      True\n",
      "2     shampoo  300.00  Cosmetic     False\n",
      "3  body cream  450.75  Cosmetic      True\n",
      "4   face wash  200.00  Cosmetic     False\n",
      "     Name  Price Category  In_Stock\n",
      "5   bread  50.25     Food      True\n",
      "6  butter  75.00     Food      True\n"
     ]
    }
   ],
   "source": [
    "# Filtering 'Cosmetic' category items that are in stock\n",
    "cosmetic_in_stock = df[(df['Category'] == 'Cosmetic') & (df['In_Stock'] == True)]\n",
    "print(cosmetic_in_stock)\n",
    "\n",
    "# Filtering items that are either expensive (price > 200) OR out of stock\n",
    "expensive_or_out_of_stock = df[(df['Price'] > 200) | (df['In_Stock'] == False)]\n",
    "print(expensive_or_out_of_stock)\n",
    "\n",
    "# Using Pandas 'query' function for cleaner syntax\n",
    "food_or_cheap_query = df.query(\"Category == 'Food' or Price < 100\")\n",
    "print(food_or_cheap_query)"
   ]
  },
  {
   "cell_type": "code",
   "execution_count": 19,
   "metadata": {
    "colab": {
     "base_uri": "https://localhost:8080/"
    },
    "id": "dIV8eWW25i7H",
    "outputId": "0f95a402-df9b-4c55-a2e9-327980ec98da"
   },
   "outputs": [
    {
     "name": "stdout",
     "output_type": "stream",
     "text": [
      "         Name  Name_Upper\n",
      "0        soap        SOAP\n",
      "1  toothpaste  TOOTHPASTE\n",
      "2     shampoo     SHAMPOO\n",
      "3  body cream  BODY CREAM\n",
      "4   face wash   FACE WASH\n",
      "5       bread       BREAD\n",
      "6      butter      BUTTER\n",
      "         Name  Name_Length\n",
      "0        soap            4\n",
      "1  toothpaste           10\n",
      "2     shampoo            7\n",
      "3  body cream           10\n",
      "4   face wash            9\n",
      "5       bread            5\n",
      "6      butter            6\n",
      "         Name  Starts_With_S\n",
      "0        soap           True\n",
      "1  toothpaste          False\n",
      "2     shampoo           True\n",
      "3  body cream          False\n",
      "4   face wash          False\n",
      "5       bread          False\n",
      "6      butter          False\n",
      "         Name  Contains_Tooth\n",
      "0        soap           False\n",
      "1  toothpaste            True\n",
      "2     shampoo           False\n",
      "3  body cream           False\n",
      "4   face wash           False\n",
      "5       bread           False\n",
      "6      butter           False\n",
      "         Name Name_Replaced\n",
      "0        soap          soap\n",
      "1  toothpaste    toothpaste\n",
      "2     shampoo       shampoo\n",
      "3  body cream   body lotion\n",
      "4   face wash     face wash\n",
      "5       bread         bread\n",
      "6      butter        butter\n"
     ]
    }
   ],
   "source": [
    "# String functions in Pandas\n",
    "\n",
    "# Convert all names to uppercase\n",
    "df['Name_Upper'] = df['Name'].str.upper()\n",
    "print(df[['Name', 'Name_Upper']])\n",
    "\n",
    "# Calculate length of each product name\n",
    "df['Name_Length'] = df['Name'].str.len()\n",
    "print(df[['Name', 'Name_Length']])\n",
    "\n",
    "# Check if each product name starts with 's'\n",
    "df['Starts_With_S'] = df['Name'].str.startswith('s')\n",
    "print(df[['Name', 'Starts_With_S']])\n",
    "\n",
    "# Identify product names containing 'tooth'\n",
    "df['Contains_Tooth'] = df['Name'].str.contains('tooth')\n",
    "print(df[['Name', 'Contains_Tooth']])\n",
    "\n",
    "# Replace occurrences of 'cream' with 'lotion' in product names\n",
    "df['Name_Replaced'] = df['Name'].str.replace('cream', 'lotion', regex=False)\n",
    "print(df[['Name', 'Name_Replaced']])"
   ]
  },
  {
   "cell_type": "code",
   "execution_count": 20,
   "metadata": {
    "colab": {
     "base_uri": "https://localhost:8080/"
    },
    "id": "X1TC6jYf5miP",
    "outputId": "2ee610a6-6d57-461a-ad5a-3e357a792c10"
   },
   "outputs": [
    {
     "name": "stdout",
     "output_type": "stream",
     "text": [
      "   Category  Product Region  Sales  Units\n",
      "0  Cosmetic     Soap  North    150     10\n",
      "1  Cosmetic   Lotion  South    200      8\n",
      "2      Food    Bread  North    120     15\n",
      "3      Food   Butter  South     80     10\n",
      "4  Cosmetic  Shampoo  North    250     12\n",
      "Category\n",
      "Cosmetic    600\n",
      "Food        290\n",
      "Name: Sales, dtype: int64\n",
      "          Total_Sales  Average_Units  Number_of_Products\n",
      "Category                                                \n",
      "Cosmetic          600           10.0                   3\n",
      "Food              290           10.0                   3\n"
     ]
    }
   ],
   "source": [
    "# Creating a sample DataFrame with product sales data grouped by category and region\n",
    "data = {\n",
    "    'Category': ['Cosmetic', 'Cosmetic', 'Food', 'Food', 'Cosmetic', 'Food'],\n",
    "    'Product': ['Soap', 'Lotion', 'Bread', 'Butter', 'Shampoo', 'Milk'],\n",
    "    'Region': ['North', 'South', 'North', 'South', 'North', 'East'],\n",
    "    'Sales': [150, 200, 120, 80, 250, 90],\n",
    "    'Units': [10, 8, 15, 10, 12, 5]\n",
    "}\n",
    "\n",
    "df_new = pd.DataFrame(data)  # Convert dictionary into Pandas DataFrame\n",
    "print(df_new.head())  # Display first few rows\n",
    "\n",
    "# Grouping by 'Category' and calculating total sales per category\n",
    "grouped_category_sales = df_new.groupby('Category')['Sales'].sum()\n",
    "print(grouped_category_sales)  # Shows total sales per category\n",
    "\n",
    "# Using `.agg()` function for multiple aggregations\n",
    "grouped_category_multi_agg = df_new.groupby('Category').agg(\n",
    "    Total_Sales=('Sales', 'sum'),  # Summing total sales per category\n",
    "    Average_Units=('Units', 'mean'),  # Computing average units sold per category\n",
    "    Number_of_Products=('Product', 'count')  # Counting the number of products in each category\n",
    ")\n",
    "print(grouped_category_multi_agg)"
   ]
  }
 ],
 "metadata": {
  "colab": {
   "provenance": []
  },
  "kernelspec": {
   "display_name": "Python 3 (ipykernel)",
   "language": "python",
   "name": "python3"
  },
  "language_info": {
   "codemirror_mode": {
    "name": "ipython",
    "version": 3
   },
   "file_extension": ".py",
   "mimetype": "text/x-python",
   "name": "python",
   "nbconvert_exporter": "python",
   "pygments_lexer": "ipython3",
   "version": "3.12.7"
  }
 },
 "nbformat": 4,
 "nbformat_minor": 4
}
