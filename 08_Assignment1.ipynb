{
 "cells": [
  {
   "cell_type": "code",
   "execution_count": 1,
   "metadata": {
    "id": "zEic7PZzShhs"
   },
   "outputs": [],
   "source": [
    "# Q1) use dataset social_media_usage.csv. perform outlier analysis for the daily minutes spent column. do it for facebook and for instagram."
   ]
  },
  {
   "cell_type": "code",
   "execution_count": 2,
   "metadata": {
    "id": "j-NdFXSdTRe5"
   },
   "outputs": [],
   "source": [
    "# facebook"
   ]
  },
  {
   "cell_type": "code",
   "execution_count": 3,
   "metadata": {
    "id": "8tVpLQ7bTgb2"
   },
   "outputs": [],
   "source": [
    "# Import essential libraries for data manipulation and visualization\n",
    "\n",
    "import numpy as np  # NumPy: Used for numerical operations, creating arrays, and performing mathematical computations\n",
    "import pandas as pd  # Pandas: Helps in handling and analyzing structured data using DataFrames and Series\n",
    "import matplotlib.pyplot as plt  # Matplotlib: Used for creating static, animated, and interactive visualizations\n",
    "import seaborn as sns  # Seaborn: Built on top of Matplotlib, provides aesthetically pleasing statistical plots\n"
   ]
  },
  {
   "cell_type": "code",
   "execution_count": 4,
   "metadata": {
    "colab": {
     "base_uri": "https://localhost:8080/",
     "height": 206
    },
    "id": "LtgU0h7nTti2",
    "outputId": "02c7f276-971e-4463-f8b7-9eb0415e0dd3"
   },
   "outputs": [
    {
     "name": "stdout",
     "output_type": "stream",
     "text": [
      "Displaying the first five rows of the dataset:\n",
      "  User_ID        App  Daily_Minutes_Spent  Posts_Per_Day  Likes_Per_Day  \\\n",
      "0     U_1  Pinterest                  288             16             94   \n",
      "1     U_2   Facebook                  192             14            117   \n",
      "2     U_3  Instagram                  351             13            120   \n",
      "3     U_4     TikTok                   21             20            117   \n",
      "4     U_5   LinkedIn                  241             16              9   \n",
      "\n",
      "   Follows_Per_Day  \n",
      "0                0  \n",
      "1               15  \n",
      "2               48  \n",
      "3                8  \n",
      "4               21  \n"
     ]
    }
   ],
   "source": [
    "import pandas as pd  # Importing the Pandas library for data handling\n",
    "\n",
    "# Step 1: Load the dataset into a DataFrame\n",
    "# 'pd.read_csv()' is used to read CSV files and store them as a Pandas DataFrame\n",
    "file_path = 'C:/Users/dbda.STUDENTSDC/Music/LabPractice/Notebooks/Datasets/social_media_usage.csv'\n",
    "df = pd.read_csv(file_path)\n",
    "\n",
    "# Step 2: Display the first five rows of the dataset\n",
    "# 'df.head()' helps us quickly peek at the first few rows to understand the structure of the data\n",
    "print(\"Displaying the first five rows of the dataset:\")\n",
    "print(df.head())  # This prints the first five rows in a readable format\n"
   ]
  },
  {
   "cell_type": "code",
   "execution_count": 5,
   "metadata": {
    "colab": {
     "base_uri": "https://localhost:8080/",
     "height": 423
    },
    "id": "5pf1wlbCT_NY",
    "outputId": "45ecb34c-437d-46f9-9b14-7c5d599928a1"
   },
   "outputs": [
    {
     "data": {
      "text/html": [
       "<div>\n",
       "<style scoped>\n",
       "    .dataframe tbody tr th:only-of-type {\n",
       "        vertical-align: middle;\n",
       "    }\n",
       "\n",
       "    .dataframe tbody tr th {\n",
       "        vertical-align: top;\n",
       "    }\n",
       "\n",
       "    .dataframe thead th {\n",
       "        text-align: right;\n",
       "    }\n",
       "</style>\n",
       "<table border=\"1\" class=\"dataframe\">\n",
       "  <thead>\n",
       "    <tr style=\"text-align: right;\">\n",
       "      <th></th>\n",
       "      <th>User_ID</th>\n",
       "      <th>App</th>\n",
       "      <th>Daily_Minutes_Spent</th>\n",
       "      <th>Posts_Per_Day</th>\n",
       "      <th>Likes_Per_Day</th>\n",
       "      <th>Follows_Per_Day</th>\n",
       "    </tr>\n",
       "  </thead>\n",
       "  <tbody>\n",
       "    <tr>\n",
       "      <th>0</th>\n",
       "      <td>U_1</td>\n",
       "      <td>Pinterest</td>\n",
       "      <td>288</td>\n",
       "      <td>16</td>\n",
       "      <td>94</td>\n",
       "      <td>0</td>\n",
       "    </tr>\n",
       "    <tr>\n",
       "      <th>1</th>\n",
       "      <td>U_2</td>\n",
       "      <td>Facebook</td>\n",
       "      <td>192</td>\n",
       "      <td>14</td>\n",
       "      <td>117</td>\n",
       "      <td>15</td>\n",
       "    </tr>\n",
       "    <tr>\n",
       "      <th>2</th>\n",
       "      <td>U_3</td>\n",
       "      <td>Instagram</td>\n",
       "      <td>351</td>\n",
       "      <td>13</td>\n",
       "      <td>120</td>\n",
       "      <td>48</td>\n",
       "    </tr>\n",
       "    <tr>\n",
       "      <th>3</th>\n",
       "      <td>U_4</td>\n",
       "      <td>TikTok</td>\n",
       "      <td>21</td>\n",
       "      <td>20</td>\n",
       "      <td>117</td>\n",
       "      <td>8</td>\n",
       "    </tr>\n",
       "    <tr>\n",
       "      <th>4</th>\n",
       "      <td>U_5</td>\n",
       "      <td>LinkedIn</td>\n",
       "      <td>241</td>\n",
       "      <td>16</td>\n",
       "      <td>9</td>\n",
       "      <td>21</td>\n",
       "    </tr>\n",
       "    <tr>\n",
       "      <th>...</th>\n",
       "      <td>...</td>\n",
       "      <td>...</td>\n",
       "      <td>...</td>\n",
       "      <td>...</td>\n",
       "      <td>...</td>\n",
       "      <td>...</td>\n",
       "    </tr>\n",
       "    <tr>\n",
       "      <th>995</th>\n",
       "      <td>U_996</td>\n",
       "      <td>LinkedIn</td>\n",
       "      <td>479</td>\n",
       "      <td>4</td>\n",
       "      <td>72</td>\n",
       "      <td>15</td>\n",
       "    </tr>\n",
       "    <tr>\n",
       "      <th>996</th>\n",
       "      <td>U_997</td>\n",
       "      <td>Instagram</td>\n",
       "      <td>499</td>\n",
       "      <td>14</td>\n",
       "      <td>110</td>\n",
       "      <td>49</td>\n",
       "    </tr>\n",
       "    <tr>\n",
       "      <th>997</th>\n",
       "      <td>U_998</td>\n",
       "      <td>Facebook</td>\n",
       "      <td>318</td>\n",
       "      <td>6</td>\n",
       "      <td>105</td>\n",
       "      <td>9</td>\n",
       "    </tr>\n",
       "    <tr>\n",
       "      <th>998</th>\n",
       "      <td>U_999</td>\n",
       "      <td>TikTok</td>\n",
       "      <td>305</td>\n",
       "      <td>15</td>\n",
       "      <td>151</td>\n",
       "      <td>6</td>\n",
       "    </tr>\n",
       "    <tr>\n",
       "      <th>999</th>\n",
       "      <td>U_1000</td>\n",
       "      <td>Pinterest</td>\n",
       "      <td>115</td>\n",
       "      <td>17</td>\n",
       "      <td>81</td>\n",
       "      <td>39</td>\n",
       "    </tr>\n",
       "  </tbody>\n",
       "</table>\n",
       "<p>1000 rows × 6 columns</p>\n",
       "</div>"
      ],
      "text/plain": [
       "    User_ID        App  Daily_Minutes_Spent  Posts_Per_Day  Likes_Per_Day  \\\n",
       "0       U_1  Pinterest                  288             16             94   \n",
       "1       U_2   Facebook                  192             14            117   \n",
       "2       U_3  Instagram                  351             13            120   \n",
       "3       U_4     TikTok                   21             20            117   \n",
       "4       U_5   LinkedIn                  241             16              9   \n",
       "..      ...        ...                  ...            ...            ...   \n",
       "995   U_996   LinkedIn                  479              4             72   \n",
       "996   U_997  Instagram                  499             14            110   \n",
       "997   U_998   Facebook                  318              6            105   \n",
       "998   U_999     TikTok                  305             15            151   \n",
       "999  U_1000  Pinterest                  115             17             81   \n",
       "\n",
       "     Follows_Per_Day  \n",
       "0                  0  \n",
       "1                 15  \n",
       "2                 48  \n",
       "3                  8  \n",
       "4                 21  \n",
       "..               ...  \n",
       "995               15  \n",
       "996               49  \n",
       "997                9  \n",
       "998                6  \n",
       "999               39  \n",
       "\n",
       "[1000 rows x 6 columns]"
      ]
     },
     "execution_count": 5,
     "metadata": {},
     "output_type": "execute_result"
    }
   ],
   "source": [
    "df"
   ]
  },
  {
   "cell_type": "code",
   "execution_count": 6,
   "metadata": {
    "colab": {
     "base_uri": "https://localhost:8080/",
     "height": 423
    },
    "id": "82WErfr4UEhP",
    "outputId": "d6a9a6f0-2c48-43aa-d814-feda65da8d39"
   },
   "outputs": [
    {
     "name": "stdout",
     "output_type": "stream",
     "text": [
      "Filtered dataset: Rows where 'App' is Facebook\n",
      "    User_ID       App  Daily_Minutes_Spent  Posts_Per_Day  Likes_Per_Day  \\\n",
      "1       U_2  Facebook                  192             14            117   \n",
      "11     U_12  Facebook                  314             18            132   \n",
      "14     U_15  Facebook                  434              2            111   \n",
      "21     U_22  Facebook                  100             19             42   \n",
      "23     U_24  Facebook                  221             15            127   \n",
      "..      ...       ...                  ...            ...            ...   \n",
      "974   U_975  Facebook                  241              1             60   \n",
      "979   U_980  Facebook                  348              0            145   \n",
      "983   U_984  Facebook                  485              2            187   \n",
      "985   U_986  Facebook                  231              0             19   \n",
      "997   U_998  Facebook                  318              6            105   \n",
      "\n",
      "     Follows_Per_Day  \n",
      "1                 15  \n",
      "11                28  \n",
      "14                16  \n",
      "21                 9  \n",
      "23                22  \n",
      "..               ...  \n",
      "974                4  \n",
      "979               34  \n",
      "983                0  \n",
      "985                8  \n",
      "997                9  \n",
      "\n",
      "[136 rows x 6 columns]\n"
     ]
    }
   ],
   "source": [
    "# Step 1: Extract rows where the 'App' column is 'Facebook'\n",
    "# 'df.loc[df['App'] == 'Facebook']' filters the dataset to keep only rows related to Facebook\n",
    "Daily_Minutes_Spent = df.loc[df['App'] == 'Facebook']\n",
    "\n",
    "# Step 2: Display the filtered dataset\n",
    "print(\"Filtered dataset: Rows where 'App' is Facebook\")\n",
    "print(Daily_Minutes_Spent)  # Prints the extracted rows for easy review\n"
   ]
  },
  {
   "cell_type": "code",
   "execution_count": 7,
   "metadata": {
    "colab": {
     "base_uri": "https://localhost:8080/",
     "height": 458
    },
    "id": "V_e4tVWgV3Di",
    "outputId": "1b10ca7e-599e-4150-ec8b-98e38f8f5cc8"
   },
   "outputs": [
    {
     "name": "stdout",
     "output_type": "stream",
     "text": [
      "Daily minutes spent on Facebook:\n",
      "1      192\n",
      "11     314\n",
      "14     434\n",
      "21     100\n",
      "23     221\n",
      "      ... \n",
      "974    241\n",
      "979    348\n",
      "983    485\n",
      "985    231\n",
      "997    318\n",
      "Name: Daily_Minutes_Spent, Length: 136, dtype: int64\n"
     ]
    }
   ],
   "source": [
    "# Step 1: Extract only the 'Daily_Minutes_Spent' column for Facebook users\n",
    "# This selects only the relevant column from the previously filtered data\n",
    "Facebook = Daily_Minutes_Spent['Daily_Minutes_Spent']\n",
    "\n",
    "# Step 2: Display the extracted column\n",
    "print(\"Daily minutes spent on Facebook:\")\n",
    "print(Facebook)  # Prints the extracted values for easy review\n"
   ]
  },
  {
   "cell_type": "code",
   "execution_count": 8,
   "metadata": {
    "colab": {
     "base_uri": "https://localhost:8080/"
    },
    "id": "I4tKZArRYYq9",
    "outputId": "aafbb390-d554-4cdd-d908-bcf428a4847f"
   },
   "outputs": [
    {
     "name": "stdout",
     "output_type": "stream",
     "text": [
      "75th Percentile (Q3): 400.25\n",
      "25th Percentile (Q1): 105.5\n",
      "Interquartile Range (IQR): 294.75\n"
     ]
    }
   ],
   "source": [
    "import numpy as np  # Importing NumPy for statistical calculations\n",
    "\n",
    "# Step 1: Calculate the 25th percentile (Q1)\n",
    "# The 'np.percentile()' function finds the value below which 25% of the data falls\n",
    "Q1 = np.percentile(Facebook, 25)\n",
    "\n",
    "# Step 2: Calculate the 75th percentile (Q3)\n",
    "# This finds the value below which 75% of the data falls\n",
    "Q3 = np.percentile(Facebook, 75)\n",
    "\n",
    "# Step 3: Compute the Interquartile Range (IQR)\n",
    "# The IQR measures the spread of the middle 50% of the data\n",
    "IQR = Q3 - Q1\n",
    "\n",
    "# Step 4: Display the calculated values\n",
    "print(\"75th Percentile (Q3):\", Q3)\n",
    "print(\"25th Percentile (Q1):\", Q1)\n",
    "print(\"Interquartile Range (IQR):\", IQR)\n"
   ]
  },
  {
   "cell_type": "code",
   "execution_count": 9,
   "metadata": {
    "colab": {
     "base_uri": "https://localhost:8080/"
    },
    "id": "wlE74wuHZGf0",
    "outputId": "bdafcda0-bfb5-43c4-e3b0-23d26dc2bd28"
   },
   "outputs": [
    {
     "name": "stdout",
     "output_type": "stream",
     "text": [
      "Lower Bound for Outliers: -336.625\n",
      "Upper Bound for Outliers: 842.375\n"
     ]
    }
   ],
   "source": [
    "# Step 1: Calculate the lower bound for outliers\n",
    "# Outliers are values that fall significantly outside the typical range.\n",
    "# We set the lower bound as Q1 - 1.5 * IQR (values below this are potential outliers)\n",
    "lower_bound = Q1 - 1.5 * IQR\n",
    "\n",
    "# Step 2: Calculate the upper bound for outliers\n",
    "# We set the upper bound as Q3 + 1.5 * IQR (values above this are potential outliers)\n",
    "upper_bound = Q3 + 1.5 * IQR\n",
    "\n",
    "# Step 3: Display the calculated bounds\n",
    "print(\"Lower Bound for Outliers:\", lower_bound)\n",
    "print(\"Upper Bound for Outliers:\", upper_bound)\n"
   ]
  },
  {
   "cell_type": "code",
   "execution_count": 10,
   "metadata": {
    "colab": {
     "base_uri": "https://localhost:8080/"
    },
    "id": "RmSx2Z21ZYch",
    "outputId": "f9c84977-0c02-48cf-de28-cad74291b04f"
   },
   "outputs": [
    {
     "name": "stdout",
     "output_type": "stream",
     "text": [
      "Row numbers of outlier records:\n",
      "Index([], dtype='int64')\n"
     ]
    }
   ],
   "source": [
    "# Step 1: Identify outliers based on the calculated lower and upper bounds\n",
    "# The condition (Facebook < lower_bound) | (Facebook > upper_bound) checks if values fall outside this range.\n",
    "# The .index method then retrieves the row numbers of these outlier records.\n",
    "\n",
    "outlier_indices = Facebook[(Facebook < lower_bound) | (Facebook > upper_bound)].index\n",
    "\n",
    "# Step 2: Display the row indices of outlier records\n",
    "print(\"Row numbers of outlier records:\")\n",
    "print(outlier_indices)  # Prints the indices where outliers are present\n"
   ]
  },
  {
   "cell_type": "code",
   "execution_count": 11,
   "metadata": {
    "colab": {
     "base_uri": "https://localhost:8080/"
    },
    "id": "LqzoOTYYaHAR",
    "outputId": "200f3d4f-3cdc-4c48-bbee-7635e8b6ce87"
   },
   "outputs": [
    {
     "name": "stdout",
     "output_type": "stream",
     "text": [
      "Outliers in Facebook Daily Usage Spent using the IQR method:\n",
      "Empty DataFrame\n",
      "Columns: [User_ID, App, Daily_Minutes_Spent, Posts_Per_Day, Likes_Per_Day, Follows_Per_Day]\n",
      "Index: []\n"
     ]
    }
   ],
   "source": [
    "# Step 1: Print outlier rows based on identified indices\n",
    "# 'df.loc[outlier_indices]' retrieves the rows from the original DataFrame\n",
    "# where Facebook usage exceeds the upper bound or falls below the lower bound.\n",
    "\n",
    "print(\"Outliers in Facebook Daily Usage Spent using the IQR method:\")\n",
    "print(df.loc[outlier_indices])  # Apply the row numbers to the original DataFrame\n"
   ]
  },
  {
   "cell_type": "code",
   "execution_count": 12,
   "metadata": {
    "colab": {
     "base_uri": "https://localhost:8080/",
     "height": 526
    },
    "id": "iv-eqi_Fahyv",
    "outputId": "65b0ac9b-fa55-4e09-befb-a392be99211a"
   },
   "outputs": [
    {
     "data": {
      "image/png": "[encoded data removed]",
      "text/plain": [
       "<Figure size 800x600 with 1 Axes>"
      ]
     },
     "metadata": {},
     "output_type": "display_data"
    }
   ],
   "source": [
    "import matplotlib.pyplot as plt  # Importing Matplotlib for visualization\n",
    "import seaborn as sns  # Importing Seaborn for statistical plotting\n",
    "\n",
    "# Step 1: Create a figure with a specified size\n",
    "plt.figure(figsize=(8,6))  # Sets the figure size for better visibility\n",
    "\n",
    "# Step 2: Plot a box plot for Facebook Daily Minutes Spent\n",
    "# A box plot helps visualize the distribution, median, and potential outliers in the data\n",
    "sns.boxplot(y=Facebook)\n",
    "\n",
    "# Step 3: Add a title to the plot for better context\n",
    "plt.title('Facebook Daily Minutes Spent')\n",
    "\n",
    "# Step 4: Display the plot\n",
    "plt.show()\n"
   ]
  },
  {
   "cell_type": "code",
   "execution_count": 13,
   "metadata": {
    "colab": {
     "base_uri": "https://localhost:8080/",
     "height": 564
    },
    "id": "RC5iCaYvbcKP",
    "outputId": "16d8bba0-f855-4b47-f1ad-35f56b07fedc"
   },
   "outputs": [
    {
     "data": {
      "image/png": "[encoded data removed]",
      "text/plain": [
       "<Figure size 800x600 with 1 Axes>"
      ]
     },
     "metadata": {},
     "output_type": "display_data"
    }
   ],
   "source": [
    "import matplotlib.pyplot as plt  # Importing Matplotlib for visualization\n",
    "import seaborn as sns  # Importing Seaborn for statistical plotting\n",
    "\n",
    "# Step 1: Create a figure with a specified size\n",
    "plt.figure(figsize=(8,6))  # Sets the figure size for better visibility\n",
    "\n",
    "# Step 2: Plot a box plot for Facebook Daily Minutes Spent with 'x' axis\n",
    "# A box plot helps visualize the distribution, median, and potential outliers in the data\n",
    "sns.boxplot(x=Facebook)\n",
    "\n",
    "# Step 3: Add a title to the plot for better context\n",
    "plt.title('Facebook Daily Minutes Spent')\n",
    "\n",
    "# Step 4: Display the plot\n",
    "plt.show()\n"
   ]
  },
  {
   "cell_type": "markdown",
   "metadata": {
    "id": "RXYxhpVkb5ad"
   },
   "source": [
    "***INSTAGRAM***"
   ]
  },
  {
   "cell_type": "code",
   "execution_count": 14,
   "metadata": {
    "colab": {
     "base_uri": "https://localhost:8080/",
     "height": 423
    },
    "id": "PoXh4dBnbkhZ",
    "outputId": "783367ac-7743-4738-a0d0-6c7b1ad99bf0"
   },
   "outputs": [
    {
     "name": "stdout",
     "output_type": "stream",
     "text": [
      "Filtered dataset: Rows where 'App' is Instagram\n",
      "    User_ID        App  Daily_Minutes_Spent  Posts_Per_Day  Likes_Per_Day  \\\n",
      "2       U_3  Instagram                  351             13            120   \n",
      "13     U_14  Instagram                  427              0            110   \n",
      "24     U_25  Instagram                  280             13             42   \n",
      "65     U_66  Instagram                  407             13            192   \n",
      "69     U_70  Instagram                   36             20            134   \n",
      "..      ...        ...                  ...            ...            ...   \n",
      "972   U_973  Instagram                  293              0            167   \n",
      "975   U_976  Instagram                  423             16             74   \n",
      "980   U_981  Instagram                  311             14            102   \n",
      "986   U_987  Instagram                  495             12            136   \n",
      "996   U_997  Instagram                  499             14            110   \n",
      "\n",
      "     Follows_Per_Day  \n",
      "2                 48  \n",
      "13                19  \n",
      "24                15  \n",
      "65                18  \n",
      "69                43  \n",
      "..               ...  \n",
      "972               40  \n",
      "975               30  \n",
      "980               43  \n",
      "986               43  \n",
      "996               49  \n",
      "\n",
      "[140 rows x 6 columns]\n"
     ]
    }
   ],
   "source": [
    "# Step 1: Extract rows where the 'App' column is 'Instagram'\n",
    "# 'df.loc[df['App'] == 'Instagram']' filters the dataset to keep only rows related to Instagram\n",
    "Daily_Minutes_Spent = df.loc[df['App'] == 'Instagram']\n",
    "\n",
    "# Step 2: Display the filtered dataset\n",
    "print(\"Filtered dataset: Rows where 'App' is Instagram\")\n",
    "print(Daily_Minutes_Spent)  # Prints the extracted rows for easy review\n"
   ]
  },
  {
   "cell_type": "code",
   "execution_count": 15,
   "metadata": {
    "colab": {
     "base_uri": "https://localhost:8080/",
     "height": 458
    },
    "id": "40iZapB8cHpy",
    "outputId": "31d16890-f2fc-4860-9c8f-6c71357cf0d4"
   },
   "outputs": [
    {
     "name": "stdout",
     "output_type": "stream",
     "text": [
      "Daily minutes spent on Instagram:\n",
      "2      351\n",
      "13     427\n",
      "24     280\n",
      "65     407\n",
      "69      36\n",
      "      ... \n",
      "972    293\n",
      "975    423\n",
      "980    311\n",
      "986    495\n",
      "996    499\n",
      "Name: Daily_Minutes_Spent, Length: 140, dtype: int64\n"
     ]
    }
   ],
   "source": [
    "# Step 1: Extract rows where the 'App' column is 'Instagram'\n",
    "Instagram_Data = df.loc[df['App'] == 'Instagram']\n",
    "\n",
    "# Step 2: Extract the 'Daily_Minutes_Spent' column from the filtered Instagram dataset\n",
    "Instagram = Instagram_Data['Daily_Minutes_Spent']\n",
    "\n",
    "# Step 3: Display the extracted column\n",
    "print(\"Daily minutes spent on Instagram:\")\n",
    "print(Instagram)  # Prints the extracted values for easy review\n"
   ]
  },
  {
   "cell_type": "code",
   "execution_count": 16,
   "metadata": {
    "colab": {
     "base_uri": "https://localhost:8080/"
    },
    "id": "MrmTBsr2cPqN",
    "outputId": "d69ae42a-00f0-4e86-9730-9701e8257c09"
   },
   "outputs": [
    {
     "name": "stdout",
     "output_type": "stream",
     "text": [
      "75th Percentile (Q3): 402.25\n",
      "25th Percentile (Q1): 110.5\n",
      "Interquartile Range (IQR): 291.75\n"
     ]
    }
   ],
   "source": [
    "import numpy as np  # Importing NumPy for statistical calculations\n",
    "\n",
    "# Step 1: Calculate the 25th percentile (Q1)\n",
    "# The 25th percentile (Q1) represents the value below which 25% of the data falls\n",
    "Q1 = np.percentile(Instagram, 25)\n",
    "\n",
    "# Step 2: Calculate the 75th percentile (Q3)\n",
    "# The 75th percentile (Q3) represents the value below which 75% of the data falls\n",
    "Q3 = np.percentile(Instagram, 75)\n",
    "\n",
    "# Step 3: Compute the Interquartile Range (IQR)\n",
    "# The IQR is the range within which the middle 50% of the data lies\n",
    "IQR = Q3 - Q1\n",
    "\n",
    "# Step 4: Display the calculated values\n",
    "print(\"75th Percentile (Q3):\", Q3)\n",
    "print(\"25th Percentile (Q1):\", Q1)\n",
    "print(\"Interquartile Range (IQR):\", IQR)\n"
   ]
  },
  {
   "cell_type": "code",
   "execution_count": 17,
   "metadata": {
    "colab": {
     "base_uri": "https://localhost:8080/"
    },
    "id": "SlqPsQ3lcbyi",
    "outputId": "9486000b-f187-42b9-89b3-f6f1a49ac9cb"
   },
   "outputs": [
    {
     "name": "stdout",
     "output_type": "stream",
     "text": [
      "Lower Bound for Outliers: -327.125\n",
      "Upper Bound for Outliers: 839.875\n"
     ]
    }
   ],
   "source": [
    "# Step 1: Calculate the lower bound for outliers\n",
    "# Any value smaller than this is considered a potential outlier\n",
    "lower_bound = Q1 - 1.5 * IQR\n",
    "\n",
    "# Step 2: Calculate the upper bound for outliers\n",
    "# Any value larger than this is considered a potential outlier\n",
    "upper_bound = Q3 + 1.5 * IQR\n",
    "\n",
    "# Step 3: Display the calculated bounds for reference\n",
    "print(\"Lower Bound for Outliers:\", lower_bound)\n",
    "print(\"Upper Bound for Outliers:\", upper_bound)\n"
   ]
  },
  {
   "cell_type": "code",
   "execution_count": 18,
   "metadata": {
    "colab": {
     "base_uri": "https://localhost:8080/"
    },
    "id": "9Sej2M-ncfm6",
    "outputId": "69e181da-f400-454b-e4df-4a6c388f549c"
   },
   "outputs": [
    {
     "name": "stdout",
     "output_type": "stream",
     "text": [
      "Row numbers of outlier records:\n",
      "Index([], dtype='int64')\n"
     ]
    }
   ],
   "source": [
    "# Step 1: Identify outliers based on the calculated lower and upper bounds\n",
    "# The condition (Instagram < lower_bound) | (Instagram > upper_bound) checks if values fall outside the normal range.\n",
    "# The .index method retrieves the row numbers of these outlier records.\n",
    "\n",
    "outlier_indices = Instagram[(Instagram < lower_bound) | (Instagram > upper_bound)].index\n",
    "\n",
    "# Step 2: Display the row indices of outlier records\n",
    "print(\"Row numbers of outlier records:\")\n",
    "print(outlier_indices)  # Prints the indices where outliers are present\n"
   ]
  },
  {
   "cell_type": "code",
   "execution_count": 19,
   "metadata": {
    "colab": {
     "base_uri": "https://localhost:8080/"
    },
    "id": "bSuJtTl2csY_",
    "outputId": "d53a73d1-e5bd-46d3-fdf4-7a11bb353f69"
   },
   "outputs": [
    {
     "name": "stdout",
     "output_type": "stream",
     "text": [
      "Outliers in Instagram Daily Usage Spent using the IQR method:\n",
      "Empty DataFrame\n",
      "Columns: [User_ID, App, Daily_Minutes_Spent, Posts_Per_Day, Likes_Per_Day, Follows_Per_Day]\n",
      "Index: []\n"
     ]
    }
   ],
   "source": [
    "# Step 1: Print outlier rows based on identified indices\n",
    "# 'df.loc[outlier_indices]' retrieves the rows from the original DataFrame\n",
    "# where Instagram usage exceeds the upper bound or falls below the lower bound.\n",
    "\n",
    "print(\"Outliers in Instagram Daily Usage Spent using the IQR method:\")\n",
    "print(df.loc[outlier_indices])  # Apply the row indices to the original DataFrame\n"
   ]
  },
  {
   "cell_type": "code",
   "execution_count": 20,
   "metadata": {
    "colab": {
     "base_uri": "https://localhost:8080/",
     "height": 526
    },
    "id": "zZAghTmodPQx",
    "outputId": "865aa29c-a513-4f4d-8595-930864f724c9"
   },
   "outputs": [
    {
     "data": {
      "image/png": "[encoded data removed]",
      "text/plain": [
       "<Figure size 800x600 with 1 Axes>"
      ]
     },
     "metadata": {},
     "output_type": "display_data"
    }
   ],
   "source": [
    "import matplotlib.pyplot as plt  # Importing Matplotlib for visualization\n",
    "import seaborn as sns  # Importing Seaborn for statistical plotting\n",
    "\n",
    "# Step 1: Create a figure with a specified size\n",
    "plt.figure(figsize=(8,6))  # Sets the figure size for better visibility\n",
    "\n",
    "# Step 2: Plot a box plot for Instagram Daily Minutes Spent\n",
    "# A box plot helps visualize the distribution, median, and potential outliers in the data\n",
    "sns.boxplot(y=Instagram)\n",
    "\n",
    "# Step 3: Add a title to the plot for better context\n",
    "plt.title('Instagram Daily Minutes Spent')\n",
    "\n",
    "# Step 4: Display the plot\n",
    "plt.show()\n"
   ]
  },
  {
   "cell_type": "code",
   "execution_count": 21,
   "metadata": {
    "colab": {
     "base_uri": "https://localhost:8080/",
     "height": 564
    },
    "id": "9by6rGUndVSu",
    "outputId": "ee1034a2-92ea-44a0-d041-ee2c3eec92a6"
   },
   "outputs": [
    {
     "data": {
      "image/png": "[encoded data removed]",
      "text/plain": [
       "<Figure size 800x600 with 1 Axes>"
      ]
     },
     "metadata": {},
     "output_type": "display_data"
    }
   ],
   "source": [
    "import matplotlib.pyplot as plt  # Importing Matplotlib for visualization\n",
    "import seaborn as sns  # Importing Seaborn for statistical plotting\n",
    "\n",
    "# Step 1: Create a figure with a specified size\n",
    "plt.figure(figsize=(8,6))  # Sets the figure size for better visibility\n",
    "\n",
    "# Step 2: Plot a box plot for Instagram Daily Minutes Spent on the x-axis\n",
    "# A box plot helps visualize the distribution, median, and potential outliers in the data\n",
    "sns.boxplot(x=Instagram)\n",
    "\n",
    "# Step 3: Add a title to the plot for better context\n",
    "plt.title('Instagram Daily Minutes Spent')\n",
    "\n",
    "# Step 4: Display the plot\n",
    "plt.show()\n"
   ]
  },
  {
   "cell_type": "markdown",
   "metadata": {
    "id": "VrXJWLard-fC"
   },
   "source": [
    "# **Question 2**"
   ]
  },
  {
   "cell_type": "code",
   "execution_count": 22,
   "metadata": {
    "id": "RvDOjPBjdZte"
   },
   "outputs": [],
   "source": [
    "# Q2). use dataset weight-height.csv. do outlier analysis for:\n",
    "      # 1. Female heights\n",
    "      # 2. Female weights\n",
    "      # 3. Male heights\n",
    "      # 4. Male weights"
   ]
  },
  {
   "cell_type": "code",
   "execution_count": 23,
   "metadata": {
    "id": "anp4hh7YezGy"
   },
   "outputs": [],
   "source": [
    "df = pd.read_csv('C:/Users/dbda.STUDENTSDC/Music/LabPractice/Notebooks/Datasets/weight-height.csv')"
   ]
  },
  {
   "cell_type": "code",
   "execution_count": 24,
   "metadata": {
    "colab": {
     "base_uri": "https://localhost:8080/",
     "height": 423
    },
    "id": "vqWsGb1IfjKF",
    "outputId": "36342d4f-28ba-4406-9e00-f239f512f891"
   },
   "outputs": [
    {
     "data": {
      "text/html": [
       "<div>\n",
       "<style scoped>\n",
       "    .dataframe tbody tr th:only-of-type {\n",
       "        vertical-align: middle;\n",
       "    }\n",
       "\n",
       "    .dataframe tbody tr th {\n",
       "        vertical-align: top;\n",
       "    }\n",
       "\n",
       "    .dataframe thead th {\n",
       "        text-align: right;\n",
       "    }\n",
       "</style>\n",
       "<table border=\"1\" class=\"dataframe\">\n",
       "  <thead>\n",
       "    <tr style=\"text-align: right;\">\n",
       "      <th></th>\n",
       "      <th>Gender</th>\n",
       "      <th>Height</th>\n",
       "      <th>Weight</th>\n",
       "    </tr>\n",
       "  </thead>\n",
       "  <tbody>\n",
       "    <tr>\n",
       "      <th>0</th>\n",
       "      <td>Male</td>\n",
       "      <td>73.847017</td>\n",
       "      <td>241.893563</td>\n",
       "    </tr>\n",
       "    <tr>\n",
       "      <th>1</th>\n",
       "      <td>Male</td>\n",
       "      <td>68.781904</td>\n",
       "      <td>162.310473</td>\n",
       "    </tr>\n",
       "    <tr>\n",
       "      <th>2</th>\n",
       "      <td>Male</td>\n",
       "      <td>74.110105</td>\n",
       "      <td>212.740856</td>\n",
       "    </tr>\n",
       "    <tr>\n",
       "      <th>3</th>\n",
       "      <td>Male</td>\n",
       "      <td>71.730978</td>\n",
       "      <td>220.042470</td>\n",
       "    </tr>\n",
       "    <tr>\n",
       "      <th>4</th>\n",
       "      <td>Male</td>\n",
       "      <td>69.881796</td>\n",
       "      <td>206.349801</td>\n",
       "    </tr>\n",
       "    <tr>\n",
       "      <th>...</th>\n",
       "      <td>...</td>\n",
       "      <td>...</td>\n",
       "      <td>...</td>\n",
       "    </tr>\n",
       "    <tr>\n",
       "      <th>9995</th>\n",
       "      <td>Female</td>\n",
       "      <td>66.172652</td>\n",
       "      <td>136.777454</td>\n",
       "    </tr>\n",
       "    <tr>\n",
       "      <th>9996</th>\n",
       "      <td>Female</td>\n",
       "      <td>67.067155</td>\n",
       "      <td>170.867906</td>\n",
       "    </tr>\n",
       "    <tr>\n",
       "      <th>9997</th>\n",
       "      <td>Female</td>\n",
       "      <td>63.867992</td>\n",
       "      <td>128.475319</td>\n",
       "    </tr>\n",
       "    <tr>\n",
       "      <th>9998</th>\n",
       "      <td>Female</td>\n",
       "      <td>69.034243</td>\n",
       "      <td>163.852461</td>\n",
       "    </tr>\n",
       "    <tr>\n",
       "      <th>9999</th>\n",
       "      <td>Female</td>\n",
       "      <td>61.944246</td>\n",
       "      <td>113.649103</td>\n",
       "    </tr>\n",
       "  </tbody>\n",
       "</table>\n",
       "<p>10000 rows × 3 columns</p>\n",
       "</div>"
      ],
      "text/plain": [
       "      Gender     Height      Weight\n",
       "0       Male  73.847017  241.893563\n",
       "1       Male  68.781904  162.310473\n",
       "2       Male  74.110105  212.740856\n",
       "3       Male  71.730978  220.042470\n",
       "4       Male  69.881796  206.349801\n",
       "...      ...        ...         ...\n",
       "9995  Female  66.172652  136.777454\n",
       "9996  Female  67.067155  170.867906\n",
       "9997  Female  63.867992  128.475319\n",
       "9998  Female  69.034243  163.852461\n",
       "9999  Female  61.944246  113.649103\n",
       "\n",
       "[10000 rows x 3 columns]"
      ]
     },
     "execution_count": 24,
     "metadata": {},
     "output_type": "execute_result"
    }
   ],
   "source": [
    "df"
   ]
  },
  {
   "cell_type": "code",
   "execution_count": 25,
   "metadata": {
    "id": "jfRSlciVfnCT"
   },
   "outputs": [],
   "source": [
    "import numpy as np  # Import NumPy for statistical calculations\n",
    "import matplotlib.pyplot as plt  # Import Matplotlib for visualization\n",
    "import seaborn as sns  # Import Seaborn for statistical plotting\n",
    "\n",
    "def outlier_analysis(G, HW):\n",
    "    \"\"\"\n",
    "    Function to analyze outliers based on Interquartile Range (IQR).\n",
    "    \n",
    "    Parameters:\n",
    "    G (str): Gender value used to filter the dataset ('Male' or 'Female')\n",
    "    HW (str): Column name (either 'Height' or 'Weight')\n",
    "\n",
    "    Returns:\n",
    "    None (Displays box plot and prints outlier indices)\n",
    "    \"\"\"\n",
    "\n",
    "    # Step 1: Extract rows based on gender\n",
    "    # This filters the dataset to keep only rows related to the specified gender\n",
    "    Body = df.loc[df['Gender'] == G]\n",
    "\n",
    "    # Step 2: Extract the specified feature ('Height' or 'Weight')\n",
    "    # We focus on analyzing either height or weight based on the given parameter HW\n",
    "    Body_HW = Body[HW]\n",
    "\n",
    "    # Step 3: Calculate Q1 (25th percentile) and Q3 (75th percentile)\n",
    "    # These values help in defining the spread of the data\n",
    "    Q1 = np.percentile(Body_HW, 25)\n",
    "    Q3 = np.percentile(Body_HW, 75)\n",
    "    IQR = Q3 - Q1  # Interquartile Range (IQR) represents the middle 50% of the data\n",
    "\n",
    "    # Step 4: Set lower and upper bounds for outliers\n",
    "    # Values outside this range are considered outliers\n",
    "    lower_bound = Q1 - 1.5 * IQR\n",
    "    upper_bound = Q3 + 1.5 * IQR\n",
    "\n",
    "    # Step 5: Identify outlier indices\n",
    "    # Filtering rows where values are below lower_bound or above upper_bound\n",
    "    outlier_indices = Body_HW[(Body_HW < lower_bound) | (Body_HW > upper_bound)].index\n",
    "\n",
    "    # Step 6: Visualize using a box plot\n",
    "    plt.figure(figsize=(4, 2))  # Adjust figure size for better readability\n",
    "    sns.boxplot(y=Body_HW)  # Create box plot to visualize outliers\n",
    "    plt.title(f'Outlier Analysis for {G} - {HW}')  # Dynamic title for clarity\n",
    "    plt.show()\n",
    "\n",
    "    # Step 7: Print outlier row numbers for further analysis\n",
    "    print(f\"Outlier indices for {G} - {HW}:\")\n",
    "    print(outlier_indices)\n"
   ]
  },
  {
   "cell_type": "code",
   "execution_count": 26,
   "metadata": {
    "colab": {
     "base_uri": "https://localhost:8080/",
     "height": 821
    },
    "id": "idViU0K9OM7N",
    "outputId": "467d3744-38ba-435c-b56d-9ed8607f5992"
   },
   "outputs": [
    {
     "data": {
      "image/png": "[encoded data removed]",
      "text/plain": [
       "<Figure size 400x200 with 1 Axes>"
      ]
     },
     "metadata": {},
     "output_type": "display_data"
    },
    {
     "name": "stdout",
     "output_type": "stream",
     "text": [
      "Outlier indices for Male - Height:\n",
      "Index([ 426,  551,  912,  936,  994, 1238, 1317, 1339, 1442, 1577, 1715, 1922,\n",
      "       1942, 2014, 2070, 2191, 2318, 2324, 2334, 2500, 2527, 2623, 2873, 2925,\n",
      "       2959, 2974, 3020, 3265, 3285, 3332, 3547, 3669, 3757, 3816, 3909, 4170,\n",
      "       4275, 4297, 4324, 4331, 4402, 4569, 4637, 4701, 4794, 4980],\n",
      "      dtype='int64')\n"
     ]
    },
    {
     "data": {
      "image/png": "[encoded data removed]",
      "text/plain": [
       "<Figure size 400x200 with 1 Axes>"
      ]
     },
     "metadata": {},
     "output_type": "display_data"
    },
    {
     "name": "stdout",
     "output_type": "stream",
     "text": [
      "Outlier indices for Male - Weight:\n",
      "Index([   0,  551,  565,  806,  994, 1238, 1506, 1577, 1610, 1651, 1750, 1896,\n",
      "       1942, 1954, 2014, 2070, 2074, 2350, 2417, 2500, 2527, 2766, 2873, 2971,\n",
      "       2974, 3090, 3140, 3228, 3285, 3332, 3664, 3669, 3757, 3909, 3918, 3996,\n",
      "       4077, 4275, 4297, 4331, 4468, 4569, 4637, 4701, 4721, 4794],\n",
      "      dtype='int64')\n"
     ]
    },
    {
     "data": {
      "image/png": "[encoded data removed]",
      "text/plain": [
       "<Figure size 400x200 with 1 Axes>"
      ]
     },
     "metadata": {},
     "output_type": "display_data"
    },
    {
     "name": "stdout",
     "output_type": "stream",
     "text": [
      "Outlier indices for Female - Height:\n",
      "Index([5074, 5103, 5345, 5360, 5732, 5740, 6116, 6176, 6624, 6625, 6834, 6908,\n",
      "       7162, 7294, 7311, 7617, 7856, 7924, 8003, 8135, 8241, 8464, 8635, 8692,\n",
      "       9285, 9424, 9825],\n",
      "      dtype='int64')\n"
     ]
    },
    {
     "data": {
      "image/png": "[encoded data removed]",
      "text/plain": [
       "<Figure size 400x200 with 1 Axes>"
      ]
     },
     "metadata": {},
     "output_type": "display_data"
    },
    {
     "name": "stdout",
     "output_type": "stream",
     "text": [
      "Outlier indices for Female - Weight:\n",
      "Index([5214, 5360, 5662, 5740, 6258, 6624, 6687, 6982, 7294, 7311, 7527, 7856,\n",
      "       7892, 7921, 7923, 7935, 8180, 8241, 8382, 8635, 8736, 8748, 8819, 9285,\n",
      "       9310, 9566, 9633, 9846],\n",
      "      dtype='int64')\n"
     ]
    }
   ],
   "source": [
    "outlier_analysis(\"Male\", \"Height\")\n",
    "outlier_analysis(\"Male\", \"Weight\")\n",
    "outlier_analysis(\"Female\", \"Height\")\n",
    "outlier_analysis(\"Female\", \"Weight\")"
   ]
  }
 ],
 "metadata": {
  "colab": {
   "provenance": []
  },
  "kernelspec": {
   "display_name": "Python 3 (ipykernel)",
   "language": "python",
   "name": "python3"
  },
  "language_info": {
   "codemirror_mode": {
    "name": "ipython",
    "version": 3
   },
   "file_extension": ".py",
   "mimetype": "text/x-python",
   "name": "python",
   "nbconvert_exporter": "python",
   "pygments_lexer": "ipython3",
   "version": "3.12.7"
  }
 },
 "nbformat": 4,
 "nbformat_minor": 4
}
