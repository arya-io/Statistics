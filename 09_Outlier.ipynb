{
 "cells": [
  {
   "cell_type": "code",
   "execution_count": 1,
   "metadata": {
    "id": "s9xLhlisqyea"
   },
   "outputs": [
    {
     "name": "stdout",
     "output_type": "stream",
     "text": [
      "Preview of the dataset:\n",
      "              datetime    LA   NY\n",
      "0  2013-01-01 00:00:00  11.7 -1.1\n",
      "1  2013-01-01 01:00:00  10.7 -1.7\n",
      "2  2013-01-01 02:00:00   9.9 -2.0\n",
      "3  2013-01-01 03:00:00   9.3 -2.1\n",
      "4  2013-01-01 04:00:00   8.8 -2.3\n"
     ]
    }
   ],
   "source": [
    "# Import necessary libraries for data handling, statistics, and visualization\n",
    "import pandas as pd  # Pandas is used for data manipulation\n",
    "import numpy as np  # NumPy is used for numerical operations\n",
    "import matplotlib.pyplot as plt  # Matplotlib is used for plotting graphs\n",
    "import seaborn as sns  # Seaborn provides statistical visualizations\n",
    "\n",
    "# Step 1: Load the dataset into a Pandas DataFrame\n",
    "# 'pd.read_csv()' reads the CSV file and stores it in a structured format\n",
    "file_path = 'C:/Users/dbda.STUDENTSDC/Music/LabPractice/Notebooks/Datasets/temp.csv'\n",
    "df = pd.read_csv(file_path)\n",
    "\n",
    "# Step 2: Display the first few rows of the dataset to understand its structure\n",
    "print(\"Preview of the dataset:\")\n",
    "print(df.head())  # Prints the first five rows for quick inspection\n"
   ]
  },
  {
   "cell_type": "code",
   "execution_count": 2,
   "metadata": {
    "colab": {
     "base_uri": "https://localhost:8080/",
     "height": 423
    },
    "id": "IK2AdBuwVb4t",
    "outputId": "21442b67-1302-4e1b-96fe-c1bfd986d945"
   },
   "outputs": [
    {
     "data": {
      "text/html": [
       "<div>\n",
       "<style scoped>\n",
       "    .dataframe tbody tr th:only-of-type {\n",
       "        vertical-align: middle;\n",
       "    }\n",
       "\n",
       "    .dataframe tbody tr th {\n",
       "        vertical-align: top;\n",
       "    }\n",
       "\n",
       "    .dataframe thead th {\n",
       "        text-align: right;\n",
       "    }\n",
       "</style>\n",
       "<table border=\"1\" class=\"dataframe\">\n",
       "  <thead>\n",
       "    <tr style=\"text-align: right;\">\n",
       "      <th></th>\n",
       "      <th>datetime</th>\n",
       "      <th>LA</th>\n",
       "      <th>NY</th>\n",
       "    </tr>\n",
       "  </thead>\n",
       "  <tbody>\n",
       "    <tr>\n",
       "      <th>0</th>\n",
       "      <td>2013-01-01 00:00:00</td>\n",
       "      <td>11.7</td>\n",
       "      <td>-1.1</td>\n",
       "    </tr>\n",
       "    <tr>\n",
       "      <th>1</th>\n",
       "      <td>2013-01-01 01:00:00</td>\n",
       "      <td>10.7</td>\n",
       "      <td>-1.7</td>\n",
       "    </tr>\n",
       "    <tr>\n",
       "      <th>2</th>\n",
       "      <td>2013-01-01 02:00:00</td>\n",
       "      <td>9.9</td>\n",
       "      <td>-2.0</td>\n",
       "    </tr>\n",
       "    <tr>\n",
       "      <th>3</th>\n",
       "      <td>2013-01-01 03:00:00</td>\n",
       "      <td>9.3</td>\n",
       "      <td>-2.1</td>\n",
       "    </tr>\n",
       "    <tr>\n",
       "      <th>4</th>\n",
       "      <td>2013-01-01 04:00:00</td>\n",
       "      <td>8.8</td>\n",
       "      <td>-2.3</td>\n",
       "    </tr>\n",
       "    <tr>\n",
       "      <th>...</th>\n",
       "      <td>...</td>\n",
       "      <td>...</td>\n",
       "      <td>...</td>\n",
       "    </tr>\n",
       "    <tr>\n",
       "      <th>35059</th>\n",
       "      <td>2016-12-31 19:00:00</td>\n",
       "      <td>13.5</td>\n",
       "      <td>4.6</td>\n",
       "    </tr>\n",
       "    <tr>\n",
       "      <th>35060</th>\n",
       "      <td>2016-12-31 20:00:00</td>\n",
       "      <td>13.2</td>\n",
       "      <td>5.7</td>\n",
       "    </tr>\n",
       "    <tr>\n",
       "      <th>35061</th>\n",
       "      <td>2016-12-31 21:00:00</td>\n",
       "      <td>12.8</td>\n",
       "      <td>5.8</td>\n",
       "    </tr>\n",
       "    <tr>\n",
       "      <th>35062</th>\n",
       "      <td>2016-12-31 22:00:00</td>\n",
       "      <td>12.3</td>\n",
       "      <td>5.7</td>\n",
       "    </tr>\n",
       "    <tr>\n",
       "      <th>35063</th>\n",
       "      <td>2016-12-31 23:00:00</td>\n",
       "      <td>11.9</td>\n",
       "      <td>5.5</td>\n",
       "    </tr>\n",
       "  </tbody>\n",
       "</table>\n",
       "<p>35064 rows × 3 columns</p>\n",
       "</div>"
      ],
      "text/plain": [
       "                  datetime    LA   NY\n",
       "0      2013-01-01 00:00:00  11.7 -1.1\n",
       "1      2013-01-01 01:00:00  10.7 -1.7\n",
       "2      2013-01-01 02:00:00   9.9 -2.0\n",
       "3      2013-01-01 03:00:00   9.3 -2.1\n",
       "4      2013-01-01 04:00:00   8.8 -2.3\n",
       "...                    ...   ...  ...\n",
       "35059  2016-12-31 19:00:00  13.5  4.6\n",
       "35060  2016-12-31 20:00:00  13.2  5.7\n",
       "35061  2016-12-31 21:00:00  12.8  5.8\n",
       "35062  2016-12-31 22:00:00  12.3  5.7\n",
       "35063  2016-12-31 23:00:00  11.9  5.5\n",
       "\n",
       "[35064 rows x 3 columns]"
      ]
     },
     "execution_count": 2,
     "metadata": {},
     "output_type": "execute_result"
    }
   ],
   "source": [
    "df"
   ]
  },
  {
   "cell_type": "code",
   "execution_count": 3,
   "metadata": {
    "id": "1tfr2elfO4-2"
   },
   "outputs": [
    {
     "name": "stdout",
     "output_type": "stream",
     "text": [
      "Extracted 'NY' column data:\n",
      "0       -1.1\n",
      "1       -1.7\n",
      "2       -2.0\n",
      "3       -2.1\n",
      "4       -2.3\n",
      "        ... \n",
      "35059    4.6\n",
      "35060    5.7\n",
      "35061    5.8\n",
      "35062    5.7\n",
      "35063    5.5\n",
      "Name: NY, Length: 35064, dtype: float64\n"
     ]
    }
   ],
   "source": [
    "# Step 1: Extract the 'NY' column from the DataFrame\n",
    "# This selects only the column named 'NY' from the dataset\n",
    "ny_data = df['NY']\n",
    "\n",
    "# Step 2: Display the extracted data\n",
    "print(\"Extracted 'NY' column data:\")\n",
    "print(ny_data)  # Prints the values of the 'NY' column for review\n"
   ]
  },
  {
   "cell_type": "code",
   "execution_count": 4,
   "metadata": {
    "colab": {
     "base_uri": "https://localhost:8080/"
    },
    "id": "qnVrPlg4PLRk",
    "outputId": "3d88b40c-31ef-44ba-bc55-2891f22ecf91"
   },
   "outputs": [
    {
     "name": "stdout",
     "output_type": "stream",
     "text": [
      "75th Percentile (Q3): 20.6\n",
      "25th Percentile (Q1): 3.9\n",
      "Interquartile Range (IQR): 16.700000000000003\n"
     ]
    }
   ],
   "source": [
    "import numpy as np  # Importing NumPy for statistical calculations\n",
    "\n",
    "# Step 1: Calculate the 25th percentile (Q1)\n",
    "# Q1 represents the value below which 25% of the data falls\n",
    "Q1 = np.percentile(ny_data, 25)\n",
    "\n",
    "# Step 2: Calculate the 75th percentile (Q3)\n",
    "# Q3 represents the value below which 75% of the data falls\n",
    "Q3 = np.percentile(ny_data, 75)\n",
    "\n",
    "# Step 3: Compute the Interquartile Range (IQR)\n",
    "# IQR represents the middle 50% of the data range, useful for detecting outliers\n",
    "IQR = Q3 - Q1\n",
    "\n",
    "# Step 4: Display the calculated values\n",
    "print(\"75th Percentile (Q3):\", Q3)\n",
    "print(\"25th Percentile (Q1):\", Q1)\n",
    "print(\"Interquartile Range (IQR):\", IQR)\n"
   ]
  },
  {
   "cell_type": "code",
   "execution_count": 5,
   "metadata": {
    "colab": {
     "base_uri": "https://localhost:8080/"
    },
    "id": "ZpK9i4QgQy5a",
    "outputId": "75db2cf8-d3b2-4145-d4f4-73f2714053a9"
   },
   "outputs": [
    {
     "name": "stdout",
     "output_type": "stream",
     "text": [
      "Lower Bound for Outliers: -21.150000000000006\n",
      "Upper Bound for Outliers: 45.650000000000006\n"
     ]
    }
   ],
   "source": [
    "# Step 1: Calculate the lower bound for outliers\n",
    "# Any value below this threshold is considered a potential outlier\n",
    "lower_bound = Q1 - 1.5 * IQR\n",
    "\n",
    "# Step 2: Calculate the upper bound for outliers\n",
    "# Any value above this threshold is considered a potential outlier\n",
    "upper_bound = Q3 + 1.5 * IQR\n",
    "\n",
    "# Step 3: Display the calculated bounds\n",
    "print(\"Lower Bound for Outliers:\", lower_bound)\n",
    "print(\"Upper Bound for Outliers:\", upper_bound)\n"
   ]
  },
  {
   "cell_type": "code",
   "execution_count": 6,
   "metadata": {
    "colab": {
     "base_uri": "https://localhost:8080/"
    },
    "id": "FgP4KpUuPq1d",
    "outputId": "cbf30a61-eafc-4559-e840-034010fd3988"
   },
   "outputs": [
    {
     "name": "stdout",
     "output_type": "stream",
     "text": [
      "Row numbers of outlier records:\n",
      "Index([18749, 18750, 18751, 18752, 18753, 18754], dtype='int64')\n"
     ]
    }
   ],
   "source": [
    "# Step 1: Identify outlier indices based on calculated lower and upper bounds\n",
    "# This condition filters data where values fall outside the normal range\n",
    "outlier_indices = ny_data[(ny_data < lower_bound) | (ny_data > upper_bound)].index\n",
    "\n",
    "# Step 2: Display the row indices of outlier records\n",
    "print(\"Row numbers of outlier records:\")\n",
    "print(outlier_indices)  # Prints the indices where outliers are present\n"
   ]
  },
  {
   "cell_type": "code",
   "execution_count": 7,
   "metadata": {
    "colab": {
     "base_uri": "https://localhost:8080/"
    },
    "id": "UTC5iuViQmKj",
    "outputId": "1546e022-dc82-43bb-c00e-0b271fecf334"
   },
   "outputs": [
    {
     "name": "stdout",
     "output_type": "stream",
     "text": [
      "Outliers in NY Temperatures using the IQR method:\n",
      "                  datetime   LA    NY\n",
      "18749  2015-02-21 05:00:00  9.3 -21.6\n",
      "18750  2015-02-21 06:00:00  8.9 -21.6\n",
      "18751  2015-02-21 07:00:00  6.9 -21.6\n",
      "18752  2015-02-21 08:00:00  6.1 -22.4\n",
      "18753  2015-02-21 09:00:00  5.6 -22.4\n",
      "18754  2015-02-21 10:00:00  4.7 -22.4\n"
     ]
    }
   ],
   "source": [
    "# Step 1: Print outlier rows based on identified indices\n",
    "# 'df.loc[outlier_indices]' retrieves the rows from the original DataFrame\n",
    "# where NY temperature values exceed the upper bound or fall below the lower bound.\n",
    "\n",
    "print(\"Outliers in NY Temperatures using the IQR method:\")\n",
    "print(df.loc[outlier_indices])  # Apply the row indices to the original DataFrame\n"
   ]
  },
  {
   "cell_type": "code",
   "execution_count": 8,
   "metadata": {
    "colab": {
     "base_uri": "https://localhost:8080/",
     "height": 526
    },
    "id": "GwPJudjORfBi",
    "outputId": "b426f1ec-4265-4b6c-d181-672669f323a8"
   },
   "outputs": [
    {
     "data": {
      "image/png": "[encoded data removed]",
      "text/plain": [
       "<Figure size 800x600 with 1 Axes>"
      ]
     },
     "metadata": {},
     "output_type": "display_data"
    }
   ],
   "source": [
    "import matplotlib.pyplot as plt  # Importing Matplotlib for data visualization\n",
    "import seaborn as sns  # Importing Seaborn for statistical plotting\n",
    "\n",
    "# Step 1: Create a figure with a specified size\n",
    "plt.figure(figsize=(8,6))  # Sets the figure size for better readability\n",
    "\n",
    "# Step 2: Generate a box plot for NY Temperatures\n",
    "# A box plot helps visualize the distribution, median, and potential outliers in the dataset\n",
    "sns.boxplot(y=ny_data)\n",
    "\n",
    "# Step 3: Add a title for better understanding\n",
    "plt.title('NY Temperatures')\n",
    "\n",
    "# Step 4: Display the plot\n",
    "plt.show()\n"
   ]
  },
  {
   "cell_type": "code",
   "execution_count": 9,
   "metadata": {
    "colab": {
     "base_uri": "https://localhost:8080/",
     "height": 564
    },
    "id": "K3Wer_0FSBbh",
    "outputId": "0e905549-4e1d-4bed-d47a-22ee3c343b8d"
   },
   "outputs": [
    {
     "data": {
      "image/png": "[encoded data removed]",
      "text/plain": [
       "<Figure size 800x600 with 1 Axes>"
      ]
     },
     "metadata": {},
     "output_type": "display_data"
    }
   ],
   "source": [
    "# Step 1: Create a figure with a specified size\n",
    "plt.figure(figsize=(8,6))  # Adjusts figure size for better readability\n",
    "\n",
    "# Step 2: Generate a box plot for NY Temperatures on the x-axis\n",
    "# A box plot helps visualize distribution, median, and potential outliers\n",
    "sns.boxplot(x=ny_data)\n",
    "\n",
    "# Step 3: Add a title for better context\n",
    "plt.title('NY Temperatures')\n",
    "\n",
    "# Step 4: Display the plot\n",
    "plt.show()\n"
   ]
  }
 ],
 "metadata": {
  "colab": {
   "provenance": []
  },
  "kernelspec": {
   "display_name": "Python 3 (ipykernel)",
   "language": "python",
   "name": "python3"
  },
  "language_info": {
   "codemirror_mode": {
    "name": "ipython",
    "version": 3
   },
   "file_extension": ".py",
   "mimetype": "text/x-python",
   "name": "python",
   "nbconvert_exporter": "python",
   "pygments_lexer": "ipython3",
   "version": "3.12.7"
  }
 },
 "nbformat": 4,
 "nbformat_minor": 4
}
