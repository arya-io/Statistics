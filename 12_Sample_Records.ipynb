{
 "cells": [
  {
   "cell_type": "code",
   "execution_count": 1,
   "metadata": {
    "id": "4L1UhLmqD2Cl"
   },
   "outputs": [],
   "source": [
    "# Simple random sampling\n",
    "import pandas as pd\n",
    "import numpy as np"
   ]
  },
  {
   "cell_type": "code",
   "execution_count": 2,
   "metadata": {
    "id": "7_Ac_WYcD6tI"
   },
   "outputs": [],
   "source": [
    "df_2015 = pd.read_csv(\"C:/Users/dbda.STUDENTSDC/Music/LabPractice/Notebooks/Datasets/marathon_results_2015.csv\")\n",
    "df_2016 = pd.read_csv(\"C:/Users/dbda.STUDENTSDC/Music/LabPractice/Notebooks/Datasets/marathon_results_2016.csv\")\n",
    "df_2017 = pd.read_csv(\"C:/Users/dbda.STUDENTSDC/Music/LabPractice/Notebooks/Datasets/marathon_results_2017.csv\")"
   ]
  },
  {
   "cell_type": "code",
   "execution_count": 3,
   "metadata": {
    "id": "vkQrDEE_EiyK"
   },
   "outputs": [
    {
     "name": "stdout",
     "output_type": "stream",
     "text": [
      "Preview of the merged dataset:\n",
      "   Unnamed: 0 Bib                   Name  Age M/F         City State Country  \\\n",
      "0         0.0   3         Desisa, Lelisa   25   M         Ambo   NaN     ETH   \n",
      "1         1.0   4  Tsegay, Yemane Adhane   30   M  Addis Ababa   NaN     ETH   \n",
      "2         2.0   8         Chebet, Wilson   29   M     Marakwet   NaN     KEN   \n",
      "3         3.0  11       Kipyego, Bernard   28   M      Eldoret   NaN     KEN   \n",
      "4         4.0  10          Korir, Wesley   32   M       Kitale   NaN     KEN   \n",
      "\n",
      "  Citizen Unnamed: 9  ...      30K      35K      40K     Pace Proj Time  \\\n",
      "0     NaN        NaN  ...  1:32:00  1:47:59  2:02:39  0:04:56         -   \n",
      "1     NaN        NaN  ...  1:31:59  1:47:59  2:02:42  0:04:58         -   \n",
      "2     NaN        NaN  ...  1:32:00  1:47:59  2:03:01  0:04:59         -   \n",
      "3     NaN        NaN  ...  1:32:00  1:48:03  2:03:47  0:05:00         -   \n",
      "4     NaN        NaN  ...  1:32:00  1:47:59  2:03:27  0:05:00         -   \n",
      "\n",
      "  Official Time Overall Gender Division Unnamed: 8  \n",
      "0       2:09:17       1      1        1        NaN  \n",
      "1       2:09:48       2      2        2        NaN  \n",
      "2       2:10:22       3      3        3        NaN  \n",
      "3       2:10:47       4      4        4        NaN  \n",
      "4       2:10:49       5      5        5        NaN  \n",
      "\n",
      "[5 rows x 26 columns]\n"
     ]
    }
   ],
   "source": [
    "import pandas as pd  # Import Pandas for data manipulation\n",
    "\n",
    "# Step 1: Concatenate the datasets from multiple years into a single DataFrame\n",
    "# This merges the data, making it easier for analysis across years\n",
    "df = pd.concat([df_2015, df_2016, df_2017])\n",
    "\n",
    "# Step 2: Display a preview of the combined dataset\n",
    "print(\"Preview of the merged dataset:\")\n",
    "print(df.head())  # Shows the first few rows for quick inspection\n"
   ]
  },
  {
   "cell_type": "code",
   "execution_count": 4,
   "metadata": {
    "id": "aHtUkTGCHN4B"
   },
   "outputs": [
    {
     "name": "stdout",
     "output_type": "stream",
     "text": [
      "Preview of systematically sampled data:\n",
      "    Unnamed: 0  Bib                  Name  Age M/F               City State  \\\n",
      "0          0.0    3        Desisa, Lelisa   25   M               Ambo   NaN   \n",
      "7          7.0    1       Keflezighi, Meb   39   M          San Diego    CA   \n",
      "14        14.0   76         Goffi, Danilo   42   M  Parabiago - Milan   NaN   \n",
      "21        21.0   32  Zywicki, Benjamin P.   26   M         Louisville    CO   \n",
      "28        28.0  106          Glaz, Daniel   32   M            Chicago    IL   \n",
      "\n",
      "   Country Citizen Unnamed: 9  ...      30K      35K      40K     Pace  \\\n",
      "0      ETH     NaN        NaN  ...  1:32:00  1:47:59  2:02:39  0:04:56   \n",
      "7      USA     NaN        NaN  ...  1:31:59  1:47:59  2:04:58  0:05:04   \n",
      "14     ITA     NaN        NaN  ...  1:38:02  1:54:55  2:11:25  0:05:18   \n",
      "21     USA     NaN        NaN  ...  1:38:46  1:56:05  2:13:25  0:05:24   \n",
      "28     USA     NaN        NaN  ...  1:42:19  1:59:50  2:17:03  0:05:32   \n",
      "\n",
      "   Proj Time Official Time Overall Gender Division Unnamed: 8  \n",
      "0          -       2:09:17       1      1        1        NaN  \n",
      "7          -       2:12:42       8      8        8        NaN  \n",
      "14         -       2:18:44      15     15        1        NaN  \n",
      "21         -       2:21:10      22     22       21        NaN  \n",
      "28         -       2:24:44      29     29       27        NaN  \n",
      "\n",
      "[5 rows x 26 columns]\n"
     ]
    }
   ],
   "source": [
    "# Step 1: Apply systematic sampling by picking every 7th record\n",
    "# This ensures data is evenly sampled throughout the dataset\n",
    "sample_df = df.iloc[::7, :]\n",
    "\n",
    "# Step 2: Display a preview of the sampled dataset\n",
    "print(\"Preview of systematically sampled data:\")\n",
    "print(sample_df.head())  # Shows the first few rows for quick inspection\n"
   ]
  },
  {
   "cell_type": "code",
   "execution_count": 5,
   "metadata": {
    "id": "pqV0njWJEVcu"
   },
   "outputs": [
    {
     "name": "stdout",
     "output_type": "stream",
     "text": [
      "Total number of rows in the original DataFrame: 79638\n"
     ]
    }
   ],
   "source": [
    "# Step 1: Get the total number of rows in the original DataFrame\n",
    "# The 'len()' function counts the number of rows in 'df'\n",
    "original_row_count = len(df)\n",
    "\n",
    "# Step 2: Print the result for easy reference\n",
    "print(\"Total number of rows in the original DataFrame:\", original_row_count)\n"
   ]
  },
  {
   "cell_type": "code",
   "execution_count": 6,
   "metadata": {
    "id": "cwRrvHOXEf6h"
   },
   "outputs": [
    {
     "name": "stdout",
     "output_type": "stream",
     "text": [
      "Preview of randomly sampled data:\n",
      "       Unnamed: 0    Bib                 Name  Age M/F            City State  \\\n",
      "24038     24038.0  31350    Labonte, Laura R.   34   F     Charlestown    MA   \n",
      "20218     20218.0  21352        Vargas, Mario   64   M  Shaker Heights    OH   \n",
      "23755     23755.0  27235  Wilkins, Stephen D.   53   M      Dorchester    MA   \n",
      "1447       1447.0   4337     Johnson, David T   32   M         Brandon    FL   \n",
      "25121         NaN  26089       Bashor, Mari W   67   F      Sacramento    CA   \n",
      "\n",
      "      Country Citizen Unnamed: 9  ...      30K      35K      40K     Pace  \\\n",
      "24038     USA     NaN        NaN  ...  3:22:19  3:56:22  4:29:25  0:10:49   \n",
      "20218     USA     NaN        NaN  ...  2:52:26  3:24:14  3:54:58  0:09:28   \n",
      "23755     USA     NaN        NaN  ...  3:14:37  3:49:59  4:24:08  0:10:40   \n",
      "1447      USA     NaN        NaN  ...  2:00:46  2:21:31  2:43:11  0:06:39   \n",
      "25121     USA     NaN        NaN  ...  3:35:49  4:17:13  4:56:18  0:11:58   \n",
      "\n",
      "      Proj Time Official Time Overall Gender Division Unnamed: 8  \n",
      "24038         -       4:43:30   24039  10561     5235        NaN  \n",
      "20218         -       4:08:04   20219  11836      568        NaN  \n",
      "23755         -       4:39:30   23756  13348     1896        NaN  \n",
      "1447          -       2:54:17    1448   1376     1108        NaN  \n",
      "25121   5:13:34       5:13:34   25121  11285       87        NaN  \n",
      "\n",
      "[5 rows x 26 columns]\n"
     ]
    }
   ],
   "source": [
    "# Step 1: Perform simple random sampling (selecting 10% of the dataset)\n",
    "# The 'sample()' function randomly selects records based on the fraction provided\n",
    "sample_df = df.sample(frac=0.1, random_state=42)\n",
    "\n",
    "# Step 2: Display a preview of the sampled dataset\n",
    "print(\"Preview of randomly sampled data:\")\n",
    "print(sample_df.head())  # Shows the first few rows for quick inspection\n"
   ]
  },
  {
   "cell_type": "code",
   "execution_count": 7,
   "metadata": {
    "id": "whsd1vHoFDS_"
   },
   "outputs": [
    {
     "name": "stdout",
     "output_type": "stream",
     "text": [
      "Total number of rows in the sampled DataFrame: 7964\n"
     ]
    }
   ],
   "source": [
    "# Step 1: Get the total number of rows in the sampled DataFrame\n",
    "sample_row_count = len(sample_df)\n",
    "\n",
    "# Step 2: Print the result for quick inspection\n",
    "print(\"Total number of rows in the sampled DataFrame:\", sample_row_count)\n"
   ]
  },
  {
   "cell_type": "code",
   "execution_count": 8,
   "metadata": {
    "colab": {
     "base_uri": "https://localhost:8080/"
    },
    "id": "xvThjtBNFLdN",
    "outputId": "86d85e4f-7eb6-462c-f8ea-350934587974"
   },
   "outputs": [
    {
     "name": "stdout",
     "output_type": "stream",
     "text": [
      "First few rows of the original DataFrame:\n",
      "   Unnamed: 0 Bib                   Name  Age M/F         City State Country  \\\n",
      "0         0.0   3         Desisa, Lelisa   25   M         Ambo   NaN     ETH   \n",
      "1         1.0   4  Tsegay, Yemane Adhane   30   M  Addis Ababa   NaN     ETH   \n",
      "2         2.0   8         Chebet, Wilson   29   M     Marakwet   NaN     KEN   \n",
      "3         3.0  11       Kipyego, Bernard   28   M      Eldoret   NaN     KEN   \n",
      "4         4.0  10          Korir, Wesley   32   M       Kitale   NaN     KEN   \n",
      "\n",
      "  Citizen Unnamed: 9  ...      30K      35K      40K     Pace Proj Time  \\\n",
      "0     NaN        NaN  ...  1:32:00  1:47:59  2:02:39  0:04:56         -   \n",
      "1     NaN        NaN  ...  1:31:59  1:47:59  2:02:42  0:04:58         -   \n",
      "2     NaN        NaN  ...  1:32:00  1:47:59  2:03:01  0:04:59         -   \n",
      "3     NaN        NaN  ...  1:32:00  1:48:03  2:03:47  0:05:00         -   \n",
      "4     NaN        NaN  ...  1:32:00  1:47:59  2:03:27  0:05:00         -   \n",
      "\n",
      "  Official Time Overall Gender Division Unnamed: 8  \n",
      "0       2:09:17       1      1        1        NaN  \n",
      "1       2:09:48       2      2        2        NaN  \n",
      "2       2:10:22       3      3        3        NaN  \n",
      "3       2:10:47       4      4        4        NaN  \n",
      "4       2:10:49       5      5        5        NaN  \n",
      "\n",
      "[5 rows x 26 columns]\n",
      "\n",
      "First few rows of the sampled DataFrame:\n",
      "       Unnamed: 0    Bib                 Name  Age M/F            City State  \\\n",
      "24038     24038.0  31350    Labonte, Laura R.   34   F     Charlestown    MA   \n",
      "20218     20218.0  21352        Vargas, Mario   64   M  Shaker Heights    OH   \n",
      "23755     23755.0  27235  Wilkins, Stephen D.   53   M      Dorchester    MA   \n",
      "1447       1447.0   4337     Johnson, David T   32   M         Brandon    FL   \n",
      "25121         NaN  26089       Bashor, Mari W   67   F      Sacramento    CA   \n",
      "\n",
      "      Country Citizen Unnamed: 9  ...      30K      35K      40K     Pace  \\\n",
      "24038     USA     NaN        NaN  ...  3:22:19  3:56:22  4:29:25  0:10:49   \n",
      "20218     USA     NaN        NaN  ...  2:52:26  3:24:14  3:54:58  0:09:28   \n",
      "23755     USA     NaN        NaN  ...  3:14:37  3:49:59  4:24:08  0:10:40   \n",
      "1447      USA     NaN        NaN  ...  2:00:46  2:21:31  2:43:11  0:06:39   \n",
      "25121     USA     NaN        NaN  ...  3:35:49  4:17:13  4:56:18  0:11:58   \n",
      "\n",
      "      Proj Time Official Time Overall Gender Division Unnamed: 8  \n",
      "24038         -       4:43:30   24039  10561     5235        NaN  \n",
      "20218         -       4:08:04   20219  11836      568        NaN  \n",
      "23755         -       4:39:30   23756  13348     1896        NaN  \n",
      "1447          -       2:54:17    1448   1376     1108        NaN  \n",
      "25121   5:13:34       5:13:34   25121  11285       87        NaN  \n",
      "\n",
      "[5 rows x 26 columns]\n"
     ]
    }
   ],
   "source": [
    "# Step 1: Display the first few rows of the original DataFrame\n",
    "print(\"First few rows of the original DataFrame:\")\n",
    "print(df.head())  # Shows the first five rows of the full dataset\n",
    "\n",
    "# Step 2: Display the first few rows of the sampled DataFrame\n",
    "print(\"\\nFirst few rows of the sampled DataFrame:\")\n",
    "print(sample_df.head())  # Shows the first five rows of the sampled dataset\n"
   ]
  },
  {
   "cell_type": "code",
   "execution_count": 9,
   "metadata": {
    "id": "lIHEHG7uFMrk"
   },
   "outputs": [
    {
     "name": "stdout",
     "output_type": "stream",
     "text": [
      "Total Male Athletes: 43482\n",
      "Total Female Athletes: 36156\n"
     ]
    }
   ],
   "source": [
    "# Step 1: Count the number of male athletes\n",
    "# Filters rows where 'M/F' column is 'M' and calculates the total count\n",
    "total_males = len(df[df['M/F'] == 'M'])\n",
    "\n",
    "# Step 2: Count the number of female athletes\n",
    "# Filters rows where 'M/F' column is 'F' and calculates the total count\n",
    "total_females = len(df[df['M/F'] == 'F'])\n",
    "\n",
    "# Step 3: Print the results for quick reference\n",
    "print(\"Total Male Athletes:\", total_males)\n",
    "print(\"Total Female Athletes:\", total_females)\n"
   ]
  },
  {
   "cell_type": "code",
   "execution_count": 10,
   "metadata": {
    "id": "nwfLdkC7IwDk"
   },
   "outputs": [
    {
     "name": "stdout",
     "output_type": "stream",
     "text": [
      "Total sample size: 7963\n",
      "Proportionate sample size for males: 4348\n",
      "Proportionate sample size for females: 3615\n"
     ]
    }
   ],
   "source": [
    "# Step 1: Calculate the sample size (10% of the total dataset)\n",
    "sample_size = int(0.1 * original_row_count)\n",
    "\n",
    "# Step 2: Compute the proportionate number of male athletes\n",
    "sample_males = int(0.1 * total_males)\n",
    "\n",
    "# Step 3: Compute the proportionate number of female athletes\n",
    "sample_females = int(0.1 * total_females)\n",
    "\n",
    "# Step 4: Print results for verification\n",
    "print(f\"Total sample size: {sample_size}\")\n",
    "print(f\"Proportionate sample size for males: {sample_males}\")\n",
    "print(f\"Proportionate sample size for females: {sample_females}\")\n"
   ]
  },
  {
   "cell_type": "code",
   "execution_count": 11,
   "metadata": {
    "id": "7AiqeCFOJDf_"
   },
   "outputs": [
    {
     "name": "stdout",
     "output_type": "stream",
     "text": [
      "Sampled Male Athletes: 4348\n",
      "Sampled Female Athletes: 3615\n"
     ]
    }
   ],
   "source": [
    "# Step 1: Generate a proportionate sample of male athletes\n",
    "# The '.sample()' function selects 'sample_males' number of male records randomly\n",
    "male_sample = df[df['M/F'] == 'M'].sample(n=sample_males, random_state=42)\n",
    "\n",
    "# Step 2: Generate a proportionate sample of female athletes\n",
    "# The '.sample()' function selects 'sample_females' number of female records randomly\n",
    "female_sample = df[df['M/F'] == 'F'].sample(n=sample_females, random_state=42)\n",
    "\n",
    "# Step 3: Display sample sizes for verification\n",
    "print(f\"Sampled Male Athletes: {len(male_sample)}\")\n",
    "print(f\"Sampled Female Athletes: {len(female_sample)}\")\n"
   ]
  },
  {
   "cell_type": "code",
   "execution_count": 12,
   "metadata": {
    "id": "WxBSCaS8Jzr-"
   },
   "outputs": [
    {
     "name": "stdout",
     "output_type": "stream",
     "text": [
      "Preview of the merged sample dataset:\n",
      "   Unnamed: 0    Bib                Name  Age M/F           City State  \\\n",
      "0     17164.0   5919   Pucci, Ferdinando   36   M         Quincy    MA   \n",
      "1         NaN  28464     Burns, Shawn M.   44   M       Pembroke    MA   \n",
      "2         NaN   2338       Sauvola, Lars   41   M         Rindge    NH   \n",
      "3      6577.0   9603  Burns, Jonathan M.   47   M  Mechanicsburg    PA   \n",
      "4     17054.0   5434      Benjamin, Elad   40   M        Raanana   NaN   \n",
      "\n",
      "  Country Citizen Unnamed: 9  ...      30K      35K      40K     Pace  \\\n",
      "0     USA     NaN        NaN  ...  2:23:12  3:00:12  3:46:17  0:09:27   \n",
      "1     USA     NaN        NaN  ...  3:10:08  3:48:26  4:25:25  0:10:46   \n",
      "2     USA     NaN        NaN  ...  2:10:14  2:33:48  2:56:56  0:07:08   \n",
      "3     USA     NaN        NaN  ...  2:16:58  2:41:11  3:06:37  0:07:34   \n",
      "4     ISR     NaN        NaN  ...  2:40:03  3:08:50  3:38:39  0:08:52   \n",
      "\n",
      "  Proj Time Official Time Overall Gender Division Unnamed: 8  \n",
      "0         -       4:07:27   17166  10390     3796        NaN  \n",
      "1   4:41:59       4:41:59   23023  12863     1835        NaN  \n",
      "2   3:06:43       3:06:43    2332   2154      335        NaN  \n",
      "3         -       3:18:23    6578   5654      850        NaN  \n",
      "4         -       3:52:28   17055  10576     1657        NaN  \n",
      "\n",
      "[5 rows x 26 columns]\n"
     ]
    }
   ],
   "source": [
    "# Step 1: Combine male and female samples into a single DataFrame\n",
    "# 'pd.concat()' merges both datasets while keeping all records intact\n",
    "sample_df = pd.concat([male_sample, female_sample])\n",
    "\n",
    "# Step 2: Reset index after merging to maintain clean and sequential indexing\n",
    "sample_df.reset_index(drop=True, inplace=True)\n",
    "\n",
    "# Step 3: Display a preview of the combined sample dataset\n",
    "print(\"Preview of the merged sample dataset:\")\n",
    "print(sample_df.head())  # Shows the first few rows for quick inspection\n"
   ]
  },
  {
   "cell_type": "code",
   "execution_count": 13,
   "metadata": {
    "id": "ESOFPdvhKLKc"
   },
   "outputs": [
    {
     "name": "stdout",
     "output_type": "stream",
     "text": [
      "Total number of rows in the sampled DataFrame: 7963\n"
     ]
    }
   ],
   "source": [
    "# Step 1: Get the total number of rows in the sampled DataFrame\n",
    "sample_row_count = len(sample_df)\n",
    "\n",
    "# Step 2: Print the result for easy reference\n",
    "print(\"Total number of rows in the sampled DataFrame:\", sample_row_count)\n"
   ]
  },
  {
   "cell_type": "code",
   "execution_count": 14,
   "metadata": {
    "colab": {
     "base_uri": "https://localhost:8080/"
    },
    "id": "jj0ObQ01Kcnh",
    "outputId": "0c4ca57d-2871-4801-fd19-55a9846fbf99"
   },
   "outputs": [
    {
     "name": "stdout",
     "output_type": "stream",
     "text": [
      "First few rows of the original DataFrame:\n",
      "   Unnamed: 0 Bib                   Name  Age M/F         City State Country  \\\n",
      "0         0.0   3         Desisa, Lelisa   25   M         Ambo   NaN     ETH   \n",
      "1         1.0   4  Tsegay, Yemane Adhane   30   M  Addis Ababa   NaN     ETH   \n",
      "2         2.0   8         Chebet, Wilson   29   M     Marakwet   NaN     KEN   \n",
      "3         3.0  11       Kipyego, Bernard   28   M      Eldoret   NaN     KEN   \n",
      "4         4.0  10          Korir, Wesley   32   M       Kitale   NaN     KEN   \n",
      "\n",
      "  Citizen Unnamed: 9  ...      30K      35K      40K     Pace Proj Time  \\\n",
      "0     NaN        NaN  ...  1:32:00  1:47:59  2:02:39  0:04:56         -   \n",
      "1     NaN        NaN  ...  1:31:59  1:47:59  2:02:42  0:04:58         -   \n",
      "2     NaN        NaN  ...  1:32:00  1:47:59  2:03:01  0:04:59         -   \n",
      "3     NaN        NaN  ...  1:32:00  1:48:03  2:03:47  0:05:00         -   \n",
      "4     NaN        NaN  ...  1:32:00  1:47:59  2:03:27  0:05:00         -   \n",
      "\n",
      "  Official Time Overall Gender Division Unnamed: 8  \n",
      "0       2:09:17       1      1        1        NaN  \n",
      "1       2:09:48       2      2        2        NaN  \n",
      "2       2:10:22       3      3        3        NaN  \n",
      "3       2:10:47       4      4        4        NaN  \n",
      "4       2:10:49       5      5        5        NaN  \n",
      "\n",
      "[5 rows x 26 columns]\n",
      "\n",
      "First few rows of the sampled DataFrame:\n",
      "   Unnamed: 0    Bib                Name  Age M/F           City State  \\\n",
      "0     17164.0   5919   Pucci, Ferdinando   36   M         Quincy    MA   \n",
      "1         NaN  28464     Burns, Shawn M.   44   M       Pembroke    MA   \n",
      "2         NaN   2338       Sauvola, Lars   41   M         Rindge    NH   \n",
      "3      6577.0   9603  Burns, Jonathan M.   47   M  Mechanicsburg    PA   \n",
      "4     17054.0   5434      Benjamin, Elad   40   M        Raanana   NaN   \n",
      "\n",
      "  Country Citizen Unnamed: 9  ...      30K      35K      40K     Pace  \\\n",
      "0     USA     NaN        NaN  ...  2:23:12  3:00:12  3:46:17  0:09:27   \n",
      "1     USA     NaN        NaN  ...  3:10:08  3:48:26  4:25:25  0:10:46   \n",
      "2     USA     NaN        NaN  ...  2:10:14  2:33:48  2:56:56  0:07:08   \n",
      "3     USA     NaN        NaN  ...  2:16:58  2:41:11  3:06:37  0:07:34   \n",
      "4     ISR     NaN        NaN  ...  2:40:03  3:08:50  3:38:39  0:08:52   \n",
      "\n",
      "  Proj Time Official Time Overall Gender Division Unnamed: 8  \n",
      "0         -       4:07:27   17166  10390     3796        NaN  \n",
      "1   4:41:59       4:41:59   23023  12863     1835        NaN  \n",
      "2   3:06:43       3:06:43    2332   2154      335        NaN  \n",
      "3         -       3:18:23    6578   5654      850        NaN  \n",
      "4         -       3:52:28   17055  10576     1657        NaN  \n",
      "\n",
      "[5 rows x 26 columns]\n"
     ]
    }
   ],
   "source": [
    "# Step 1: Display the first few rows of the original DataFrame\n",
    "print(\"First few rows of the original DataFrame:\")\n",
    "print(df.head())  # Shows the first five rows for quick inspection\n",
    "\n",
    "# Step 2: Display the first few rows of the sampled DataFrame\n",
    "print(\"\\nFirst few rows of the sampled DataFrame:\")\n",
    "print(sample_df.head())  # Shows the first five rows of the sampled dataset\n"
   ]
  },
  {
   "cell_type": "code",
   "execution_count": 15,
   "metadata": {
    "colab": {
     "base_uri": "https://localhost:8080/"
    },
    "id": "9YqACdnhKfyY",
    "outputId": "16667fc7-9ac1-4f35-f2ed-8cfbb36f812b"
   },
   "outputs": [
    {
     "name": "stdout",
     "output_type": "stream",
     "text": [
      "\n",
      "Number of rows in the original DataFrame: 79638\n",
      "Number of rows in the sampled DataFrame: 7963\n"
     ]
    }
   ],
   "source": [
    "# Step 1: Print the total number of rows in the original DataFrame\n",
    "print(f\"\\nNumber of rows in the original DataFrame: {original_row_count}\")\n",
    "\n",
    "# Step 2: Print the total number of rows in the sampled DataFrame\n",
    "print(f\"Number of rows in the sampled DataFrame: {sample_row_count}\")\n"
   ]
  },
  {
   "cell_type": "code",
   "execution_count": 16,
   "metadata": {
    "colab": {
     "base_uri": "https://localhost:8080/"
    },
    "id": "UIEH5AmRLHbf",
    "outputId": "6c0d8e94-f639-4c80-f0d0-4c2b8bbf82fe"
   },
   "outputs": [
    {
     "name": "stdout",
     "output_type": "stream",
     "text": [
      "Number of male athletes in the sampled DataFrame: 4348\n",
      "Number of female athletes in the sampled DataFrame: 3615\n"
     ]
    }
   ],
   "source": [
    "# Step 1: Count the number of male athletes in the sampled DataFrame\n",
    "num_males_sampled = len(sample_df[sample_df['M/F'] == 'M'])\n",
    "\n",
    "# Step 2: Count the number of female athletes in the sampled DataFrame\n",
    "num_females_sampled = len(sample_df[sample_df['M/F'] == 'F'])\n",
    "\n",
    "# Step 3: Print the results for easy comparison\n",
    "print(f\"Number of male athletes in the sampled DataFrame: {num_males_sampled}\")\n",
    "print(f\"Number of female athletes in the sampled DataFrame: {num_females_sampled}\")\n"
   ]
  },
  {
   "cell_type": "code",
   "execution_count": 17,
   "metadata": {
    "id": "oE0YuPLqMiYD"
   },
   "outputs": [
    {
     "name": "stdout",
     "output_type": "stream",
     "text": [
      "Total number of rows in the original DataFrame: 79638\n"
     ]
    }
   ],
   "source": [
    "# Step 1: Get the total number of rows in the original DataFrame\n",
    "# 'len(df)' counts the number of rows in the dataset\n",
    "original_row_count = len(df)\n",
    "\n",
    "# Step 2: Print the result for quick reference\n",
    "print(f\"Total number of rows in the original DataFrame: {original_row_count}\")\n"
   ]
  },
  {
   "cell_type": "code",
   "execution_count": 18,
   "metadata": {
    "id": "M3U5jYJaM-Eh"
   },
   "outputs": [
    {
     "name": "stdout",
     "output_type": "stream",
     "text": [
      "Total unique countries represented: 105\n",
      "List of unique countries:\n",
      "['ETH' 'KEN' 'USA' 'UKR' 'RSA' 'ITA' 'RUS' 'JPN' 'CAN' 'BEL' 'NZL' 'BLR'\n",
      " 'AUS' 'GBR' 'CRO' 'ECU' 'GER' 'ESP' 'SWE' 'BRA' 'HKG' 'MEX' 'DEN' 'MAS'\n",
      " 'IRL' 'ISL' 'CHI' 'GUA' 'FIN' 'SVK' 'COL' 'SUI' 'CHN' 'AUT' 'NED' 'FRA'\n",
      " 'CRC' 'CYP' 'POL' 'NOR' 'KOR' 'POR' 'TPE' 'PER' 'SIN' 'PAN' 'VEN' 'LUX'\n",
      " 'CZE' 'VIE' 'MAR' 'BER' 'ROU' 'IND' 'LIE' 'ARG' 'ESA' 'DOM' 'ISR' 'GRE'\n",
      " 'SLO' 'LTU' 'URU' 'CAY' 'EST' 'JAM' 'UAE' 'VGB' 'TUR' 'LAT' 'AND' 'OMA'\n",
      " 'BAH' 'TRI' 'INA' 'AHO' 'PHI' 'UGA' 'QAT' 'ZIM' 'TWN' 'HON' 'FLK' 'HUN'\n",
      " 'JOR' 'ALB' 'SRB' 'PAK' 'BRN' 'BDI' 'EGY' 'THA' 'MLT' 'KSA' 'SMR' 'BUL'\n",
      " 'ALG' 'NCA' 'BAR' 'GRN' 'PAR' 'TCA' 'KUW' 'MGL' 'NGR']\n"
     ]
    }
   ],
   "source": [
    "# Step 1: Find the unique countries in the dataset\n",
    "unique_countries = df['Country'].unique()  # Extracts all unique country names\n",
    "\n",
    "# Step 2: Count the total number of unique countries\n",
    "num_countries = len(unique_countries)  # Computes the total unique count\n",
    "\n",
    "# Step 3: Print the results for verification\n",
    "print(f\"Total unique countries represented: {num_countries}\")\n",
    "print(\"List of unique countries:\")\n",
    "print(unique_countries)  # Displays all distinct countries\n"
   ]
  },
  {
   "cell_type": "code",
   "execution_count": 19,
   "metadata": {
    "id": "j-jlxN6uNVSA"
   },
   "outputs": [
    {
     "name": "stdout",
     "output_type": "stream",
     "text": [
      "Randomly selected 52 countries:\n",
      "['COL' 'JAM' 'EST' 'IND' 'PAN' 'SMR' 'NGR' 'LUX' 'NZL' 'ETH' 'SWE' 'SUI'\n",
      " 'BDI' 'ALG' 'UGA' 'RSA' 'TWN' 'AUT' 'AUS' 'CHI' 'GRN' 'ARG' 'DEN' 'PHI'\n",
      " 'SIN' 'BAH' 'ECU' 'TPE' 'KOR' 'BEL' 'ALB' 'BLR' 'MGL' 'QAT' 'FIN' 'ZIM'\n",
      " 'ITA' 'URU' 'ESA' 'NOR' 'FRA' 'GER' 'UAE' 'NED' 'JPN' 'PER' 'TUR' 'LAT'\n",
      " 'GUA' 'BRA' 'JOR' 'ISL']\n"
     ]
    }
   ],
   "source": [
    "import numpy as np  # Import NumPy for random selection\n",
    "\n",
    "# Step 1: Set a seed for reproducibility\n",
    "np.random.seed(42)\n",
    "\n",
    "# Step 2: Randomly select half of the unique countries\n",
    "selected_countries = np.random.choice(unique_countries, size=len(unique_countries) // 2, replace=False)\n",
    "\n",
    "# Step 3: Print the results\n",
    "print(f\"Randomly selected {len(selected_countries)} countries:\")\n",
    "print(selected_countries)\n"
   ]
  },
  {
   "cell_type": "code",
   "execution_count": 20,
   "metadata": {
    "id": "01twPzFMN0er"
   },
   "outputs": [
    {
     "name": "stdout",
     "output_type": "stream",
     "text": [
      "Randomly selected 52 countries:\n",
      "['COL' 'JAM' 'EST' 'IND' 'PAN' 'SMR' 'NGR' 'LUX' 'NZL' 'ETH' 'SWE' 'SUI'\n",
      " 'BDI' 'ALG' 'UGA' 'RSA' 'TWN' 'AUT' 'AUS' 'CHI' 'GRN' 'ARG' 'DEN' 'PHI'\n",
      " 'SIN' 'BAH' 'ECU' 'TPE' 'KOR' 'BEL' 'ALB' 'BLR' 'MGL' 'QAT' 'FIN' 'ZIM'\n",
      " 'ITA' 'URU' 'ESA' 'NOR' 'FRA' 'GER' 'UAE' 'NED' 'JPN' 'PER' 'TUR' 'LAT'\n",
      " 'GUA' 'BRA' 'JOR' 'ISL']\n"
     ]
    }
   ],
   "source": [
    "import numpy as np  # Import NumPy for random selection\n",
    "\n",
    "# Step 1: Set a seed for reproducibility\n",
    "np.random.seed(42)  # Ensures consistent random selection across runs\n",
    "\n",
    "# Step 2: Randomly select half of the unique countries\n",
    "# 'replace=False' ensures each country is chosen only once\n",
    "selected_countries = np.random.choice(unique_countries, size=num_countries//2, replace=False)\n",
    "\n",
    "# Step 3: Print the results for verification\n",
    "print(f\"Randomly selected {len(selected_countries)} countries:\")\n",
    "print(selected_countries)\n"
   ]
  },
  {
   "cell_type": "code",
   "execution_count": 21,
   "metadata": {
    "id": "Am9h_3hyOgcH"
   },
   "outputs": [
    {
     "name": "stdout",
     "output_type": "stream",
     "text": [
      "Sampled dataset now contains records from 52 countries.\n",
      "    Unnamed: 0 Bib                   Name  Age M/F               City State  \\\n",
      "0          0.0   3         Desisa, Lelisa   25   M               Ambo   NaN   \n",
      "1          1.0   4  Tsegay, Yemane Adhane   30   M        Addis Ababa   NaN   \n",
      "8          8.0   5           Tola, Tadese   27   M        Addis Ababa   NaN   \n",
      "12        12.0  15         April, Lusapho   32   M          Uitenhage   NaN   \n",
      "14        14.0  76          Goffi, Danilo   42   M  Parabiago - Milan   NaN   \n",
      "\n",
      "   Country Citizen Unnamed: 9  ...      30K      35K      40K     Pace  \\\n",
      "0      ETH     NaN        NaN  ...  1:32:00  1:47:59  2:02:39  0:04:56   \n",
      "1      ETH     NaN        NaN  ...  1:31:59  1:47:59  2:02:42  0:04:58   \n",
      "8      ETH     NaN        NaN  ...  1:32:00  1:48:00  2:04:39  0:05:06   \n",
      "12     RSA     NaN        NaN  ...  1:32:00  1:48:07  2:06:50  0:05:13   \n",
      "14     ITA     NaN        NaN  ...  1:38:02  1:54:55  2:11:25  0:05:18   \n",
      "\n",
      "   Proj Time Official Time Overall Gender Division Unnamed: 8  \n",
      "0          -       2:09:17       1      1        1        NaN  \n",
      "1          -       2:09:48       2      2        2        NaN  \n",
      "8          -       2:13:35       9      9        9        NaN  \n",
      "12         -       2:16:25      13     13       13        NaN  \n",
      "14         -       2:18:44      15     15        1        NaN  \n",
      "\n",
      "[5 rows x 26 columns]\n"
     ]
    }
   ],
   "source": [
    "# Step 1: Create a new DataFrame containing records from the selected countries\n",
    "# 'df['Country'].isin(selected_countries)' filters only rows where 'Country' matches the selected list\n",
    "sample_df = df[df['Country'].isin(selected_countries)]\n",
    "\n",
    "# Step 2: Display a preview of the filtered dataset\n",
    "print(f\"Sampled dataset now contains records from {len(selected_countries)} countries.\")\n",
    "print(sample_df.head())  # Shows the first few rows for quick verification\n"
   ]
  },
  {
   "cell_type": "code",
   "execution_count": 22,
   "metadata": {
    "id": "9ZQl2hArO4_d"
   },
   "outputs": [
    {
     "name": "stdout",
     "output_type": "stream",
     "text": [
      "Total number of rows in the sampled DataFrame: 5331\n"
     ]
    }
   ],
   "source": [
    "# Step 1: Count the total number of rows in the sampled DataFrame\n",
    "sample_row_count = len(sample_df)\n",
    "\n",
    "# Step 2: Print the result for quick verification\n",
    "print(f\"Total number of rows in the sampled DataFrame: {sample_row_count}\")\n"
   ]
  },
  {
   "cell_type": "code",
   "execution_count": 23,
   "metadata": {
    "colab": {
     "base_uri": "https://localhost:8080/"
    },
    "id": "CHxsq45uPIfc",
    "outputId": "20453aee-88da-4b4c-fd70-201b203aad32"
   },
   "outputs": [
    {
     "name": "stdout",
     "output_type": "stream",
     "text": [
      "First few rows of the original DataFrame:\n",
      "   Unnamed: 0 Bib                   Name  Age M/F         City State Country  \\\n",
      "0         0.0   3         Desisa, Lelisa   25   M         Ambo   NaN     ETH   \n",
      "1         1.0   4  Tsegay, Yemane Adhane   30   M  Addis Ababa   NaN     ETH   \n",
      "2         2.0   8         Chebet, Wilson   29   M     Marakwet   NaN     KEN   \n",
      "3         3.0  11       Kipyego, Bernard   28   M      Eldoret   NaN     KEN   \n",
      "4         4.0  10          Korir, Wesley   32   M       Kitale   NaN     KEN   \n",
      "\n",
      "  Citizen Unnamed: 9  ...      30K      35K      40K     Pace Proj Time  \\\n",
      "0     NaN        NaN  ...  1:32:00  1:47:59  2:02:39  0:04:56         -   \n",
      "1     NaN        NaN  ...  1:31:59  1:47:59  2:02:42  0:04:58         -   \n",
      "2     NaN        NaN  ...  1:32:00  1:47:59  2:03:01  0:04:59         -   \n",
      "3     NaN        NaN  ...  1:32:00  1:48:03  2:03:47  0:05:00         -   \n",
      "4     NaN        NaN  ...  1:32:00  1:47:59  2:03:27  0:05:00         -   \n",
      "\n",
      "  Official Time Overall Gender Division Unnamed: 8  \n",
      "0       2:09:17       1      1        1        NaN  \n",
      "1       2:09:48       2      2        2        NaN  \n",
      "2       2:10:22       3      3        3        NaN  \n",
      "3       2:10:47       4      4        4        NaN  \n",
      "4       2:10:49       5      5        5        NaN  \n",
      "\n",
      "[5 rows x 26 columns]\n",
      "\n",
      "First few rows of the sampled DataFrame:\n",
      "    Unnamed: 0 Bib                   Name  Age M/F               City State  \\\n",
      "0          0.0   3         Desisa, Lelisa   25   M               Ambo   NaN   \n",
      "1          1.0   4  Tsegay, Yemane Adhane   30   M        Addis Ababa   NaN   \n",
      "8          8.0   5           Tola, Tadese   27   M        Addis Ababa   NaN   \n",
      "12        12.0  15         April, Lusapho   32   M          Uitenhage   NaN   \n",
      "14        14.0  76          Goffi, Danilo   42   M  Parabiago - Milan   NaN   \n",
      "\n",
      "   Country Citizen Unnamed: 9  ...      30K      35K      40K     Pace  \\\n",
      "0      ETH     NaN        NaN  ...  1:32:00  1:47:59  2:02:39  0:04:56   \n",
      "1      ETH     NaN        NaN  ...  1:31:59  1:47:59  2:02:42  0:04:58   \n",
      "8      ETH     NaN        NaN  ...  1:32:00  1:48:00  2:04:39  0:05:06   \n",
      "12     RSA     NaN        NaN  ...  1:32:00  1:48:07  2:06:50  0:05:13   \n",
      "14     ITA     NaN        NaN  ...  1:38:02  1:54:55  2:11:25  0:05:18   \n",
      "\n",
      "   Proj Time Official Time Overall Gender Division Unnamed: 8  \n",
      "0          -       2:09:17       1      1        1        NaN  \n",
      "1          -       2:09:48       2      2        2        NaN  \n",
      "8          -       2:13:35       9      9        9        NaN  \n",
      "12         -       2:16:25      13     13       13        NaN  \n",
      "14         -       2:18:44      15     15        1        NaN  \n",
      "\n",
      "[5 rows x 26 columns]\n"
     ]
    }
   ],
   "source": [
    "# Step 1: Print the first few rows of the original DataFrame\n",
    "print(\"First few rows of the original DataFrame:\")\n",
    "print(df.head())  # Displays the first five rows\n",
    "\n",
    "# Step 2: Print the first few rows of the sampled DataFrame\n",
    "print(\"\\nFirst few rows of the sampled DataFrame:\")\n",
    "print(sample_df.head())  # Displays the first five rows\n"
   ]
  },
  {
   "cell_type": "code",
   "execution_count": 24,
   "metadata": {
    "colab": {
     "base_uri": "https://localhost:8080/"
    },
    "id": "_smmx9doVt9Y",
    "outputId": "f357ab79-0c69-48ef-898d-5686b6d385c4"
   },
   "outputs": [
    {
     "name": "stdout",
     "output_type": "stream",
     "text": [
      "\n",
      "Number of rows in the original DataFrame: 79638\n",
      "Number of rows in the sampled DataFrame: 5331\n"
     ]
    }
   ],
   "source": [
    "# Step 1: Print the total number of rows in the original DataFrame\n",
    "print(f\"\\nNumber of rows in the original DataFrame: {original_row_count}\")\n",
    "\n",
    "# Step 2: Print the total number of rows in the sampled DataFrame\n",
    "print(f\"Number of rows in the sampled DataFrame: {sample_row_count}\")\n"
   ]
  }
 ],
 "metadata": {
  "colab": {
   "provenance": []
  },
  "kernelspec": {
   "display_name": "Python 3 (ipykernel)",
   "language": "python",
   "name": "python3"
  },
  "language_info": {
   "codemirror_mode": {
    "name": "ipython",
    "version": 3
   },
   "file_extension": ".py",
   "mimetype": "text/x-python",
   "name": "python",
   "nbconvert_exporter": "python",
   "pygments_lexer": "ipython3",
   "version": "3.12.7"
  }
 },
 "nbformat": 4,
 "nbformat_minor": 4
}
