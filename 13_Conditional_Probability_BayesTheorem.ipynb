{
 "cells": [
  {
   "cell_type": "code",
   "execution_count": 1,
   "metadata": {
    "id": "eJZrgu5Agx8S"
   },
   "outputs": [],
   "source": [
    "# 📌 Step 1: Importing the pandas library\n",
    "# Pandas helps us work with structured data (tables like Excel sheets)\n",
    "import pandas as pd"
   ]
  },
  {
   "cell_type": "code",
   "execution_count": 2,
   "metadata": {
    "colab": {
     "base_uri": "https://localhost:8080/",
     "height": 206
    },
    "id": "dzPyyAyQhcRa",
    "outputId": "bd4db054-265e-4d2d-a385-f4741bc53905"
   },
   "outputs": [
    {
     "data": {
      "text/html": [
       "<div>\n",
       "<style scoped>\n",
       "    .dataframe tbody tr th:only-of-type {\n",
       "        vertical-align: middle;\n",
       "    }\n",
       "\n",
       "    .dataframe tbody tr th {\n",
       "        vertical-align: top;\n",
       "    }\n",
       "\n",
       "    .dataframe thead th {\n",
       "        text-align: right;\n",
       "    }\n",
       "</style>\n",
       "<table border=\"1\" class=\"dataframe\">\n",
       "  <thead>\n",
       "    <tr style=\"text-align: right;\">\n",
       "      <th></th>\n",
       "      <th>survived</th>\n",
       "      <th>pclass</th>\n",
       "      <th>gender</th>\n",
       "      <th>age</th>\n",
       "      <th>sibsp</th>\n",
       "      <th>parch</th>\n",
       "      <th>fare</th>\n",
       "      <th>embarked</th>\n",
       "      <th>deck</th>\n",
       "    </tr>\n",
       "  </thead>\n",
       "  <tbody>\n",
       "    <tr>\n",
       "      <th>0</th>\n",
       "      <td>0</td>\n",
       "      <td>3</td>\n",
       "      <td>male</td>\n",
       "      <td>22.0</td>\n",
       "      <td>1</td>\n",
       "      <td>0</td>\n",
       "      <td>7.2500</td>\n",
       "      <td>S</td>\n",
       "      <td>NaN</td>\n",
       "    </tr>\n",
       "    <tr>\n",
       "      <th>1</th>\n",
       "      <td>1</td>\n",
       "      <td>1</td>\n",
       "      <td>female</td>\n",
       "      <td>38.0</td>\n",
       "      <td>1</td>\n",
       "      <td>0</td>\n",
       "      <td>71.2833</td>\n",
       "      <td>C</td>\n",
       "      <td>C</td>\n",
       "    </tr>\n",
       "    <tr>\n",
       "      <th>2</th>\n",
       "      <td>1</td>\n",
       "      <td>3</td>\n",
       "      <td>female</td>\n",
       "      <td>26.0</td>\n",
       "      <td>0</td>\n",
       "      <td>0</td>\n",
       "      <td>7.9250</td>\n",
       "      <td>S</td>\n",
       "      <td>NaN</td>\n",
       "    </tr>\n",
       "    <tr>\n",
       "      <th>3</th>\n",
       "      <td>1</td>\n",
       "      <td>1</td>\n",
       "      <td>female</td>\n",
       "      <td>35.0</td>\n",
       "      <td>1</td>\n",
       "      <td>0</td>\n",
       "      <td>53.1000</td>\n",
       "      <td>S</td>\n",
       "      <td>C</td>\n",
       "    </tr>\n",
       "    <tr>\n",
       "      <th>4</th>\n",
       "      <td>0</td>\n",
       "      <td>3</td>\n",
       "      <td>male</td>\n",
       "      <td>35.0</td>\n",
       "      <td>0</td>\n",
       "      <td>0</td>\n",
       "      <td>8.0500</td>\n",
       "      <td>S</td>\n",
       "      <td>NaN</td>\n",
       "    </tr>\n",
       "  </tbody>\n",
       "</table>\n",
       "</div>"
      ],
      "text/plain": [
       "   survived  pclass  gender   age  sibsp  parch     fare embarked deck\n",
       "0         0       3    male  22.0      1      0   7.2500        S  NaN\n",
       "1         1       1  female  38.0      1      0  71.2833        C    C\n",
       "2         1       3  female  26.0      0      0   7.9250        S  NaN\n",
       "3         1       1  female  35.0      1      0  53.1000        S    C\n",
       "4         0       3    male  35.0      0      0   8.0500        S  NaN"
      ]
     },
     "execution_count": 2,
     "metadata": {},
     "output_type": "execute_result"
    }
   ],
   "source": [
    "# 📌 Step 2: Load the Titanic dataset\n",
    "# This table has passenger details we'll analyze.\n",
    "df = pd.read_csv(\"C:/Users/dbda.STUDENTSDC/Music/LabPractice/Notebooks/Datasets/titanic.csv\")\n",
    "\n",
    "# ✅ Now, let's check what our dataset looks like.\n",
    "df.head()  # Shows the first 5 rows"
   ]
  },
  {
   "cell_type": "code",
   "execution_count": 3,
   "metadata": {
    "colab": {
     "base_uri": "https://localhost:8080/",
     "height": 366
    },
    "id": "SfhgEdnkkGXM",
    "outputId": "95345ffc-8336-4524-c1a7-affac10ffe00"
   },
   "outputs": [
    {
     "data": {
      "text/plain": [
       "survived    891\n",
       "pclass      891\n",
       "gender      891\n",
       "age         714\n",
       "sibsp       891\n",
       "parch       891\n",
       "fare        891\n",
       "embarked    889\n",
       "deck        203\n",
       "dtype: int64"
      ]
     },
     "execution_count": 3,
     "metadata": {},
     "output_type": "execute_result"
    }
   ],
   "source": [
    "df.count()"
   ]
  },
  {
   "cell_type": "code",
   "execution_count": 4,
   "metadata": {
    "colab": {
     "base_uri": "https://localhost:8080/"
    },
    "id": "Trf7W9fwh8zO",
    "outputId": "c1c76966-e54d-49cb-ee47-ecb5d9113217"
   },
   "outputs": [],
   "source": [
    "# 📌 Step 3: Select relevant columns\n",
    "# We only need 'gender' and 'survived' for probability calculations.\n",
    "df = df[['gender', 'survived']]\n",
    "\n",
    "# 📌 Step 4: Remove missing values\n",
    "# Some rows might have empty data—we drop them to avoid errors.\n",
    "df.dropna(inplace=True)  # 'inplace=True' means changes are directly applied to 'df'"
   ]
  },
  {
   "cell_type": "code",
   "execution_count": 5,
   "metadata": {
    "colab": {
     "base_uri": "https://localhost:8080/"
    },
    "id": "is3pYIJViQmE",
    "outputId": "570a924f-301c-4072-c41b-e62224c7633f"
   },
   "outputs": [
    {
     "name": "stdout",
     "output_type": "stream",
     "text": [
      "Total passengers: 891\n"
     ]
    }
   ],
   "source": [
    "# 📌 Step 5: Get total number of rows (passengers)\n",
    "# 'len(df)' counts the total entries in our dataset.\n",
    "total = len(df)\n",
    "\n",
    "# 📌 Step 6: Print the total count\n",
    "print(f\"Total passengers: {total}\")  # Displays the total number of passengers\n"
   ]
  },
  {
   "cell_type": "markdown",
   "metadata": {
    "id": "0s6LX-LDm035"
   },
   "source": [
    "# Marginal Probability"
   ]
  },
  {
   "cell_type": "code",
   "execution_count": 6,
   "metadata": {
    "colab": {
     "base_uri": "https://localhost:8080/"
    },
    "id": "CJRSYvlfikLp",
    "outputId": "77aa55f7-002e-4306-c6ee-55dfb4c1fbda"
   },
   "outputs": [
    {
     "name": "stdout",
     "output_type": "stream",
     "text": [
      "314\n"
     ]
    }
   ],
   "source": [
    "# 📌 Step 7: Marginal probability of gender\n",
    "# Marginal probability = Probability of an event happening, ignoring other conditions.\n",
    "p_female = len(df[df['gender'] == 'female']) / total  # Probability of a female passenger\n",
    "p_male = len(df[df['gender'] == 'male']) / total  # Probability of a male passenger\n",
    "\n",
    "# 📌 Print useful details for verification\n",
    "print(len(df[df['gender'] == 'female']))  # Total number of female passengers\n",
    "\n",
    "# Optional prints for further clarity:\n",
    "# print(df['gender'] == 'female')  # Shows which rows match 'female'\n",
    "# print(round(p_female, 2))  # Rounded probability for better readability\n",
    "# print(df[df['gender'] == 'female'])  # Displays only female passenger rows"
   ]
  },
  {
   "cell_type": "code",
   "execution_count": 7,
   "metadata": {
    "colab": {
     "base_uri": "https://localhost:8080/"
    },
    "id": "9A3L_RGXi-1_",
    "outputId": "cf4593cf-fef9-42eb-94c8-5831990009c1"
   },
   "outputs": [
    {
     "name": "stdout",
     "output_type": "stream",
     "text": [
      "0.3838383838383838\n",
      "0.6161616161616161\n",
      "1.0\n"
     ]
    }
   ],
   "source": [
    "# 📌 Step 8: Marginal probability of survival\n",
    "# Chance of survival, ignoring other factors.\n",
    "p_survived = len(df[df['survived'] == 1]) / total  # Probability of survival\n",
    "p_not_survived = len(df[df['survived'] == 0]) / total  # Probability of not surviving\n",
    "\n",
    "# 📌 Print the probabilities\n",
    "print(p_survived)  # Shows survival probability\n",
    "print(p_not_survived)  # Shows non-survival probability\n",
    "\n",
    "# ✅ The sum should be 1, as they cover all possible outcomes.\n",
    "print(p_survived + p_not_survived)"
   ]
  },
  {
   "cell_type": "code",
   "execution_count": 8,
   "metadata": {
    "colab": {
     "base_uri": "https://localhost:8080/"
    },
    "id": "wXQrREZEjWmN",
    "outputId": "83cafb5e-27db-4fa2-e212-3be2a2a40047"
   },
   "outputs": [
    {
     "name": "stdout",
     "output_type": "stream",
     "text": [
      "\n",
      "Marginal Probabilities:\n",
      "P(gender = female): 0.352\n",
      "P(gender = male): 0.648\n",
      "P(survived = 1): 0.384\n",
      "P(survived = 0): 0.616\n"
     ]
    }
   ],
   "source": [
    "# 📌 Step 9: Print marginal probabilities\n",
    "print(\"\\nMarginal Probabilities:\")  # Header for clarity\n",
    "\n",
    "# Using formatted strings (f-strings) to round values to 3 decimal places\n",
    "print(f\"P(gender = female): {p_female:.3f}\")  # Probability of female passenger\n",
    "print(f\"P(gender = male): {p_male:.3f}\")  # Probability of male passenger\n",
    "print(f\"P(survived = 1): {p_survived:.3f}\")  # Probability of survival\n",
    "print(f\"P(survived = 0): {p_not_survived:.3f}\")  # Probability of not surviving"
   ]
  },
  {
   "cell_type": "markdown",
   "metadata": {
    "id": "jjHGy2AbmxSJ"
   },
   "source": [
    "# Joint Probability"
   ]
  },
  {
   "cell_type": "code",
   "execution_count": 9,
   "metadata": {
    "id": "wyhfEqwTj9hK"
   },
   "outputs": [],
   "source": [
    "# 📌 Step 10: Calculate joint probabilities\n",
    "# Joint probability is the chance of two events happening together.\n",
    "p_female_survived = len(df[(df['gender'] == 'female') & (df['survived'] == 1)]) / total  # Probability of female surviving\n",
    "p_female_not_survived = len(df[(df['gender'] == 'female') & (df['survived'] == 0)]) / total  # Probability of female not surviving\n",
    "p_male_survived = len(df[(df['gender'] == 'male') & (df['survived'] == 1)]) / total  # Probability of male surviving\n",
    "p_male_not_survived = len(df[(df['gender'] == 'male') & (df['survived'] == 0)]) / total  # Probability of male not surviving"
   ]
  },
  {
   "cell_type": "code",
   "execution_count": 10,
   "metadata": {
    "colab": {
     "base_uri": "https://localhost:8080/"
    },
    "id": "vvGSjZsLkuaH",
    "outputId": "c43dfc6e-7aef-4cff-8fd8-f230fdd15b7d"
   },
   "outputs": [
    {
     "name": "stdout",
     "output_type": "stream",
     "text": [
      "\n",
      "Joint Probabilities:\n",
      "P(gender = female, survived = 1): 0.262\n",
      "P(gender = female, survived = 0): 0.091\n",
      "P(gender = male, survived = 1): 0.122\n",
      "P(gender = male, survived = 0): 0.525\n"
     ]
    }
   ],
   "source": [
    "print(\"\\nJoint Probabilities:\")\n",
    "print(f\"P(gender = female, survived = 1): {p_female_survived:.3f}\")\n",
    "print(f\"P(gender = female, survived = 0): {p_female_not_survived:.3f}\")\n",
    "print(f\"P(gender = male, survived = 1): {p_male_survived:.3f}\")\n",
    "print(f\"P(gender = male, survived = 0): {p_male_not_survived:.3f}\")"
   ]
  },
  {
   "cell_type": "markdown",
   "metadata": {
    "id": "IrBMdvUdmr-C"
   },
   "source": [
    "# Conditional Probability"
   ]
  },
  {
   "cell_type": "code",
   "execution_count": 11,
   "metadata": {
    "colab": {
     "base_uri": "https://localhost:8080/"
    },
    "id": "Fa09Qr-0lGAN",
    "outputId": "77f0eac9-40cd-4301-d5e7-7cd6f6ac7733"
   },
   "outputs": [
    {
     "name": "stdout",
     "output_type": "stream",
     "text": [
      "\n",
      "Conditional Probabilities:\n",
      "P(Survived = 1 | Gender = Female): 0.742\n",
      "P(Survived = 1 | Gender = Male): 0.189\n"
     ]
    }
   ],
   "source": [
    "print(\"\\nConditional Probabilities:\")\n",
    "\n",
    "# 📌 Step 11: Calculate conditional probability\n",
    "# Conditional probability answers: \"Given that a passenger is female/male, what is the probability they survived?\"\n",
    "\n",
    "# P(Survived | Female) = P(Survive AND Female) / P(Female)\n",
    "p_survived_given_female = p_female_survived / p_female\n",
    "print(f\"P(Survived = 1 | Gender = Female): {p_survived_given_female:.3f}\")  # Probability of survival, given female\n",
    "\n",
    "# P(Survived | Male) = P(Survive AND Male) / P(Male)\n",
    "p_survived_given_male = p_male_survived / p_male\n",
    "print(f\"P(Survived = 1 | Gender = Male): {p_survived_given_male:.3f}\")  # Probability of survival, given male\n"
   ]
  },
  {
   "cell_type": "code",
   "execution_count": 12,
   "metadata": {
    "id": "u0LS4dvclmYk"
   },
   "outputs": [],
   "source": [
    "# p_female_survived: This is a joint probability. It answers: \"What is the probability that a randomly chosen passenger was both female AND survived?\"\n",
    "\n",
    "# Calculated as: len(df[(df['gender'] == 'female') & (df['survived'] == 1)]) / total\n",
    "\n",
    "# p_survived_given_female: This is a conditional probability. It answers: \"What is the probability that a randomly chosen passenger survived, GIVEN THAT they were female?\"\n",
    "\n",
    "# Calculated as: p_female_survived / p_female"
   ]
  },
  {
   "cell_type": "markdown",
   "metadata": {
    "id": "60jvhXwhKSEI"
   },
   "source": [
    "# Bayes' Theorem"
   ]
  },
  {
   "cell_type": "code",
   "execution_count": 13,
   "metadata": {
    "colab": {
     "base_uri": "https://localhost:8080/"
    },
    "id": "UFaZIVnxKJBw",
    "outputId": "2801a089-009d-43d0-b42c-384dac64fca2"
   },
   "outputs": [
    {
     "name": "stdout",
     "output_type": "stream",
     "text": [
      "\n",
      "Bayes' Theorem Calculations: \n",
      "P(Gender = Female | Survived = 1): 0.681\n"
     ]
    }
   ],
   "source": [
    "print(\"\\nBayes' Theorem Calculations: \")\n",
    "# P(Female | Survived) = [p(Survived | Female) * P(Female)] / P(Survived)\n",
    "\n",
    "# This answers: \"What is the probability that a randomly chosen passenger was female, GIVEN THAT they survived?\"\n",
    "\n",
    "p_female_given_survived = (p_survived_given_female * p_female) / p_survived\n",
    "print(f\"P(Gender = Female | Survived = 1): {p_female_given_survived:.3f}\")"
   ]
  },
  {
   "cell_type": "code",
   "execution_count": 14,
   "metadata": {
    "colab": {
     "base_uri": "https://localhost:8080/"
    },
    "id": "mxn0ce9KLVNW",
    "outputId": "e281ccf8-5968-4f81-b11e-6e10da873c5b"
   },
   "outputs": [
    {
     "name": "stdout",
     "output_type": "stream",
     "text": [
      "P(Gender = Male | Survived = 1): 0.319\n"
     ]
    }
   ],
   "source": [
    "# P(Male | Survived) = [p(Survived | Male) * P(Male)] / P(Survived)\n",
    "\n",
    "# This answers: \"What is the probability that a randomly chosen passenger was male, GIVEN THAT they survived?\"\n",
    "\n",
    "p_female_given_survived = (p_survived_given_male * p_male) / p_survived\n",
    "print(f\"P(Gender = Male | Survived = 1): {p_female_given_survived:.3f}\")"
   ]
  }
 ],
 "metadata": {
  "colab": {
   "provenance": []
  },
  "kernelspec": {
   "display_name": "Python 3 (ipykernel)",
   "language": "python",
   "name": "python3"
  },
  "language_info": {
   "codemirror_mode": {
    "name": "ipython",
    "version": 3
   },
   "file_extension": ".py",
   "mimetype": "text/x-python",
   "name": "python",
   "nbconvert_exporter": "python",
   "pygments_lexer": "ipython3",
   "version": "3.12.7"
  }
 },
 "nbformat": 4,
 "nbformat_minor": 4
}
