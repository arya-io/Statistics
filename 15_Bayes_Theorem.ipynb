{
 "cells": [
  {
   "cell_type": "code",
   "execution_count": 1,
   "id": "eeead514-c9cd-41d7-ba37-690854dc3c43",
   "metadata": {},
   "outputs": [],
   "source": [
    "import pandas as pd"
   ]
  },
  {
   "cell_type": "code",
   "execution_count": 2,
   "id": "52c9022e-01db-4bf9-8665-f246ccb24140",
   "metadata": {},
   "outputs": [],
   "source": [
    "df = pd.read_csv(\"C:/Users/dbda.STUDENTSDC/Music/LabPractice/Notebooks/Datasets/loan_approval_dataset.csv\")"
   ]
  },
  {
   "cell_type": "code",
   "execution_count": 3,
   "id": "a44af4fe-675d-4671-89b3-94e46daa4524",
   "metadata": {},
   "outputs": [
    {
     "data": {
      "text/html": [
       "<div>\n",
       "<style scoped>\n",
       "    .dataframe tbody tr th:only-of-type {\n",
       "        vertical-align: middle;\n",
       "    }\n",
       "\n",
       "    .dataframe tbody tr th {\n",
       "        vertical-align: top;\n",
       "    }\n",
       "\n",
       "    .dataframe thead th {\n",
       "        text-align: right;\n",
       "    }\n",
       "</style>\n",
       "<table border=\"1\" class=\"dataframe\">\n",
       "  <thead>\n",
       "    <tr style=\"text-align: right;\">\n",
       "      <th></th>\n",
       "      <th>loan_id</th>\n",
       "      <th>no_of_dependents</th>\n",
       "      <th>education</th>\n",
       "      <th>self_employed</th>\n",
       "      <th>income_annum</th>\n",
       "      <th>loan_amount</th>\n",
       "      <th>loan_term</th>\n",
       "      <th>cibil_score</th>\n",
       "      <th>residential_assets_value</th>\n",
       "      <th>commercial_assets_value</th>\n",
       "      <th>luxury_assets_value</th>\n",
       "      <th>bank_asset_value</th>\n",
       "      <th>loan_status</th>\n",
       "    </tr>\n",
       "  </thead>\n",
       "  <tbody>\n",
       "    <tr>\n",
       "      <th>0</th>\n",
       "      <td>1</td>\n",
       "      <td>2</td>\n",
       "      <td>Graduate</td>\n",
       "      <td>No</td>\n",
       "      <td>9600000</td>\n",
       "      <td>29900000</td>\n",
       "      <td>12</td>\n",
       "      <td>778</td>\n",
       "      <td>2400000</td>\n",
       "      <td>17600000</td>\n",
       "      <td>22700000</td>\n",
       "      <td>8000000</td>\n",
       "      <td>Approved</td>\n",
       "    </tr>\n",
       "    <tr>\n",
       "      <th>1</th>\n",
       "      <td>2</td>\n",
       "      <td>0</td>\n",
       "      <td>Not Graduate</td>\n",
       "      <td>Yes</td>\n",
       "      <td>4100000</td>\n",
       "      <td>12200000</td>\n",
       "      <td>8</td>\n",
       "      <td>417</td>\n",
       "      <td>2700000</td>\n",
       "      <td>2200000</td>\n",
       "      <td>8800000</td>\n",
       "      <td>3300000</td>\n",
       "      <td>Rejected</td>\n",
       "    </tr>\n",
       "    <tr>\n",
       "      <th>2</th>\n",
       "      <td>3</td>\n",
       "      <td>3</td>\n",
       "      <td>Graduate</td>\n",
       "      <td>No</td>\n",
       "      <td>9100000</td>\n",
       "      <td>29700000</td>\n",
       "      <td>20</td>\n",
       "      <td>506</td>\n",
       "      <td>7100000</td>\n",
       "      <td>4500000</td>\n",
       "      <td>33300000</td>\n",
       "      <td>12800000</td>\n",
       "      <td>Rejected</td>\n",
       "    </tr>\n",
       "    <tr>\n",
       "      <th>3</th>\n",
       "      <td>4</td>\n",
       "      <td>3</td>\n",
       "      <td>Graduate</td>\n",
       "      <td>No</td>\n",
       "      <td>8200000</td>\n",
       "      <td>30700000</td>\n",
       "      <td>8</td>\n",
       "      <td>467</td>\n",
       "      <td>18200000</td>\n",
       "      <td>3300000</td>\n",
       "      <td>23300000</td>\n",
       "      <td>7900000</td>\n",
       "      <td>Rejected</td>\n",
       "    </tr>\n",
       "    <tr>\n",
       "      <th>4</th>\n",
       "      <td>5</td>\n",
       "      <td>5</td>\n",
       "      <td>Not Graduate</td>\n",
       "      <td>Yes</td>\n",
       "      <td>9800000</td>\n",
       "      <td>24200000</td>\n",
       "      <td>20</td>\n",
       "      <td>382</td>\n",
       "      <td>12400000</td>\n",
       "      <td>8200000</td>\n",
       "      <td>29400000</td>\n",
       "      <td>5000000</td>\n",
       "      <td>Rejected</td>\n",
       "    </tr>\n",
       "    <tr>\n",
       "      <th>...</th>\n",
       "      <td>...</td>\n",
       "      <td>...</td>\n",
       "      <td>...</td>\n",
       "      <td>...</td>\n",
       "      <td>...</td>\n",
       "      <td>...</td>\n",
       "      <td>...</td>\n",
       "      <td>...</td>\n",
       "      <td>...</td>\n",
       "      <td>...</td>\n",
       "      <td>...</td>\n",
       "      <td>...</td>\n",
       "      <td>...</td>\n",
       "    </tr>\n",
       "    <tr>\n",
       "      <th>4264</th>\n",
       "      <td>4265</td>\n",
       "      <td>5</td>\n",
       "      <td>Graduate</td>\n",
       "      <td>Yes</td>\n",
       "      <td>1000000</td>\n",
       "      <td>2300000</td>\n",
       "      <td>12</td>\n",
       "      <td>317</td>\n",
       "      <td>2800000</td>\n",
       "      <td>500000</td>\n",
       "      <td>3300000</td>\n",
       "      <td>800000</td>\n",
       "      <td>Rejected</td>\n",
       "    </tr>\n",
       "    <tr>\n",
       "      <th>4265</th>\n",
       "      <td>4266</td>\n",
       "      <td>0</td>\n",
       "      <td>Not Graduate</td>\n",
       "      <td>Yes</td>\n",
       "      <td>3300000</td>\n",
       "      <td>11300000</td>\n",
       "      <td>20</td>\n",
       "      <td>559</td>\n",
       "      <td>4200000</td>\n",
       "      <td>2900000</td>\n",
       "      <td>11000000</td>\n",
       "      <td>1900000</td>\n",
       "      <td>Approved</td>\n",
       "    </tr>\n",
       "    <tr>\n",
       "      <th>4266</th>\n",
       "      <td>4267</td>\n",
       "      <td>2</td>\n",
       "      <td>Not Graduate</td>\n",
       "      <td>No</td>\n",
       "      <td>6500000</td>\n",
       "      <td>23900000</td>\n",
       "      <td>18</td>\n",
       "      <td>457</td>\n",
       "      <td>1200000</td>\n",
       "      <td>12400000</td>\n",
       "      <td>18100000</td>\n",
       "      <td>7300000</td>\n",
       "      <td>Rejected</td>\n",
       "    </tr>\n",
       "    <tr>\n",
       "      <th>4267</th>\n",
       "      <td>4268</td>\n",
       "      <td>1</td>\n",
       "      <td>Not Graduate</td>\n",
       "      <td>No</td>\n",
       "      <td>4100000</td>\n",
       "      <td>12800000</td>\n",
       "      <td>8</td>\n",
       "      <td>780</td>\n",
       "      <td>8200000</td>\n",
       "      <td>700000</td>\n",
       "      <td>14100000</td>\n",
       "      <td>5800000</td>\n",
       "      <td>Approved</td>\n",
       "    </tr>\n",
       "    <tr>\n",
       "      <th>4268</th>\n",
       "      <td>4269</td>\n",
       "      <td>1</td>\n",
       "      <td>Graduate</td>\n",
       "      <td>No</td>\n",
       "      <td>9200000</td>\n",
       "      <td>29700000</td>\n",
       "      <td>10</td>\n",
       "      <td>607</td>\n",
       "      <td>17800000</td>\n",
       "      <td>11800000</td>\n",
       "      <td>35700000</td>\n",
       "      <td>12000000</td>\n",
       "      <td>Approved</td>\n",
       "    </tr>\n",
       "  </tbody>\n",
       "</table>\n",
       "<p>4269 rows × 13 columns</p>\n",
       "</div>"
      ],
      "text/plain": [
       "      loan_id   no_of_dependents      education  self_employed   income_annum  \\\n",
       "0           1                  2       Graduate             No        9600000   \n",
       "1           2                  0   Not Graduate            Yes        4100000   \n",
       "2           3                  3       Graduate             No        9100000   \n",
       "3           4                  3       Graduate             No        8200000   \n",
       "4           5                  5   Not Graduate            Yes        9800000   \n",
       "...       ...                ...            ...            ...            ...   \n",
       "4264     4265                  5       Graduate            Yes        1000000   \n",
       "4265     4266                  0   Not Graduate            Yes        3300000   \n",
       "4266     4267                  2   Not Graduate             No        6500000   \n",
       "4267     4268                  1   Not Graduate             No        4100000   \n",
       "4268     4269                  1       Graduate             No        9200000   \n",
       "\n",
       "       loan_amount   loan_term  cibil_score   residential_assets_value  \\\n",
       "0         29900000          12          778                    2400000   \n",
       "1         12200000           8          417                    2700000   \n",
       "2         29700000          20          506                    7100000   \n",
       "3         30700000           8          467                   18200000   \n",
       "4         24200000          20          382                   12400000   \n",
       "...            ...         ...          ...                        ...   \n",
       "4264       2300000          12          317                    2800000   \n",
       "4265      11300000          20          559                    4200000   \n",
       "4266      23900000          18          457                    1200000   \n",
       "4267      12800000           8          780                    8200000   \n",
       "4268      29700000          10          607                   17800000   \n",
       "\n",
       "       commercial_assets_value   luxury_assets_value   bank_asset_value  \\\n",
       "0                     17600000              22700000            8000000   \n",
       "1                      2200000               8800000            3300000   \n",
       "2                      4500000              33300000           12800000   \n",
       "3                      3300000              23300000            7900000   \n",
       "4                      8200000              29400000            5000000   \n",
       "...                        ...                   ...                ...   \n",
       "4264                    500000               3300000             800000   \n",
       "4265                   2900000              11000000            1900000   \n",
       "4266                  12400000              18100000            7300000   \n",
       "4267                    700000              14100000            5800000   \n",
       "4268                  11800000              35700000           12000000   \n",
       "\n",
       "     loan_status  \n",
       "0       Approved  \n",
       "1       Rejected  \n",
       "2       Rejected  \n",
       "3       Rejected  \n",
       "4       Rejected  \n",
       "...          ...  \n",
       "4264    Rejected  \n",
       "4265    Approved  \n",
       "4266    Rejected  \n",
       "4267    Approved  \n",
       "4268    Approved  \n",
       "\n",
       "[4269 rows x 13 columns]"
      ]
     },
     "execution_count": 3,
     "metadata": {},
     "output_type": "execute_result"
    }
   ],
   "source": [
    "df"
   ]
  },
  {
   "cell_type": "code",
   "execution_count": 4,
   "id": "cda9eabf-df12-4b0e-b9b4-dac3d8ccd86e",
   "metadata": {},
   "outputs": [
    {
     "name": "stdout",
     "output_type": "stream",
     "text": [
      "Total number of records: 4269\n"
     ]
    }
   ],
   "source": [
    "# Count the total number of records in the DataFrame\n",
    "N = len(df)\n",
    "\n",
    "# Print the result for verification\n",
    "print(f\"Total number of records: {N}\")"
   ]
  },
  {
   "cell_type": "code",
   "execution_count": 5,
   "id": "133f13cf-43a4-405e-9e58-8e693267ee3d",
   "metadata": {},
   "outputs": [
    {
     "name": "stdout",
     "output_type": "stream",
     "text": [
      "Total number of approved loans: 2656\n"
     ]
    }
   ],
   "source": [
    "# Step 1: Count the number of loans that were approved\n",
    "A = len(df[df['loan_status'] == 'Approved'])\n",
    "\n",
    "# Step 2: Print the result for verification\n",
    "print(f\"Total number of approved loans: {A}\")"
   ]
  },
  {
   "cell_type": "code",
   "execution_count": 6,
   "id": "7c8607fb-c9fa-444f-b76b-2770990b371a",
   "metadata": {},
   "outputs": [
    {
     "name": "stdout",
     "output_type": "stream",
     "text": [
      "Total number of individuals with good credit (CIBIL >= 700): 1430\n"
     ]
    }
   ],
   "source": [
    "# Step 1: Count the number of individuals with good credit (CIBIL score >= 700)\n",
    "B = len(df[df['cibil_score'] >= 700])\n",
    "\n",
    "# Step 2: Print the result for verification\n",
    "print(f\"Total number of individuals with good credit (CIBIL >= 700): {B}\")"
   ]
  },
  {
   "cell_type": "code",
   "execution_count": 7,
   "id": "57747cf4-21d3-4b8e-9943-9bce2ed17d52",
   "metadata": {},
   "outputs": [
    {
     "name": "stdout",
     "output_type": "stream",
     "text": [
      "Total number of approved loans with good credit (CIBIL >= 700): 1423\n"
     ]
    }
   ],
   "source": [
    "# Step 1: Count the number of individuals who got loan approval AND have good credit (CIBIL >= 700)\n",
    "A_and_B = len(df[(df['loan_status'] == 'Approved') & (df['cibil_score'] >= 700)])\n",
    "\n",
    "# Step 2: Print the result for verification\n",
    "print(f\"Total number of approved loans with good credit (CIBIL >= 700): {A_and_B}\")"
   ]
  },
  {
   "cell_type": "code",
   "execution_count": 8,
   "id": "964e9258-1db2-4e56-8b48-83cc5ba4d1cf",
   "metadata": {},
   "outputs": [
    {
     "name": "stdout",
     "output_type": "stream",
     "text": [
      "P(Loan Approved): 0.62\n",
      "P(Good Credit): 0.33\n",
      "P(Good Credit | Approved): 0.54\n"
     ]
    }
   ],
   "source": [
    "# Step 1: Compute the probability of loan approval\n",
    "P_A = A / N  # P(Loan Approved)\n",
    "\n",
    "# Step 2: Compute the probability of having good credit\n",
    "P_B = B / N  # P(Good Credit)\n",
    "\n",
    "# Step 3: Compute the conditional probability P(Good Credit | Approved)\n",
    "P_B_given_A = A_and_B / A  # Probability of good credit, given loan was approved\n",
    "\n",
    "# Step 4: Print the results for verification\n",
    "print(f\"P(Loan Approved): {round(P_A, 2)}\")\n",
    "print(f\"P(Good Credit): {round(P_B, 2)}\")\n",
    "print(f\"P(Good Credit | Approved): {round(P_B_given_A, 2)}\")"
   ]
  },
  {
   "cell_type": "code",
   "execution_count": 9,
   "id": "dcf4f0e9-c836-4e38-9155-fff65cabda0b",
   "metadata": {},
   "outputs": [
    {
     "name": "stdout",
     "output_type": "stream",
     "text": [
      "P(Loan Approved | Good Credit): 1.0\n"
     ]
    }
   ],
   "source": [
    "# Step 1: Compute conditional probability P(Loan Approved | Good Credit) using Bayes' theorem\n",
    "P_A_given_B = (P_B_given_A * P_A) / P_B  # Bayes' Theorem formula\n",
    "\n",
    "# Step 2: Print the result for verification\n",
    "print(f\"P(Loan Approved | Good Credit): {round(P_A_given_B, 2)}\")"
   ]
  },
  {
   "cell_type": "code",
   "execution_count": 10,
   "id": "5045b1da-3e15-47a1-8a56-f9ffb8141bf8",
   "metadata": {},
   "outputs": [
    {
     "name": "stdout",
     "output_type": "stream",
     "text": [
      "Total Records: 4269\n",
      "Approved Count: 2656\n",
      "Good Credit Count: 1430\n",
      "Approved AND Good Credit: 1423\n",
      "P(Loan Approved): 0.62\n",
      "P(Good CIBIL Score): 0.33\n",
      "P(Good CIBIL Score | Loan was Approved): 0.54\n",
      "P(Loan Approved | Good Credit): 1.0\n"
     ]
    }
   ],
   "source": [
    "# Display summary of dataset analysis\n",
    "print(\"Total Records:\", N)\n",
    "print(\"Approved Count:\", A)\n",
    "print(\"Good Credit Count:\", B)\n",
    "print(\"Approved AND Good Credit:\", A_and_B)\n",
    "\n",
    "# Display probabilities for deeper insights\n",
    "print(\"P(Loan Approved):\", round(P_A, 2))\n",
    "print(\"P(Good CIBIL Score):\", round(P_B, 2))\n",
    "print(\"P(Good CIBIL Score | Loan was Approved):\", round(P_B_given_A, 2))\n",
    "print(\"P(Loan Approved | Good Credit):\", round(P_A_given_B, 2))"
   ]
  },
  {
   "cell_type": "code",
   "execution_count": 11,
   "id": "1cb16e42-7a16-410b-87f0-fecf719fc49a",
   "metadata": {},
   "outputs": [
    {
     "name": "stdout",
     "output_type": "stream",
     "text": [
      "Total number of customers with bad credit (CIBIL < 700): 2839\n"
     ]
    }
   ],
   "source": [
    "# Step 1: Calculate the number of people with bad credit (CIBIL < 700)\n",
    "bad_credit = N - B  # Total records minus the good credit count\n",
    "\n",
    "# Step 2: Print the result for verification\n",
    "print(f\"Total number of customers with bad credit (CIBIL < 700): {bad_credit}\")"
   ]
  },
  {
   "cell_type": "code",
   "execution_count": 12,
   "id": "855cadfa-142e-480e-97f7-71aa3a68991d",
   "metadata": {},
   "outputs": [
    {
     "name": "stdout",
     "output_type": "stream",
     "text": [
      "Total number of approved loans with bad credit (CIBIL < 700): 1233\n"
     ]
    }
   ],
   "source": [
    "# Step 1: Compute the number of approved applicants who do NOT have good credit\n",
    "A_and_notB = A - A_and_B  # Approved minus those with good credit\n",
    "\n",
    "# Step 2: Print the result for verification\n",
    "print(f\"Total number of approved loans with bad credit (CIBIL < 700): {A_and_notB}\")"
   ]
  },
  {
   "cell_type": "code",
   "execution_count": 14,
   "id": "baec0b8e-52bd-4ad6-a7f6-0108c5a2eff9",
   "metadata": {},
   "outputs": [
    {
     "name": "stdout",
     "output_type": "stream",
     "text": [
      "P(Loan Approved | Bad Credit): 0.43\n"
     ]
    }
   ],
   "source": [
    "# Step 1: Compute P(Loan Approved | Bad Credit) using Bayes' theorem\n",
    "P_A_given_notB = (A_and_notB / A) * (P_A / (bad_credit / N))  # Where P_notB = bad_credit / N\n",
    "\n",
    "# Step 2: Print result for verification\n",
    "print(f\"P(Loan Approved | Bad Credit): {round(P_A_given_notB, 2)}\")"
   ]
  },
  {
   "cell_type": "code",
   "execution_count": 15,
   "id": "4b67a34e-b9a0-47ba-87c2-1655e4f34cf4",
   "metadata": {},
   "outputs": [
    {
     "name": "stdout",
     "output_type": "stream",
     "text": [
      "P(Loan Approved | CIBIL Score = 800): 1.0\n",
      "P(Loan Approved | CIBIL Score = 500): 0.43\n"
     ]
    }
   ],
   "source": [
    "# Compute the probability of loan approval given good credit (CIBIL = 800)\n",
    "print(\"P(Loan Approved | CIBIL Score = 800):\", round(P_A_given_B, 2))  # Good credit\n",
    "\n",
    "# Compute the probability of loan approval given bad credit (CIBIL = 500)\n",
    "print(\"P(Loan Approved | CIBIL Score = 500):\", round(P_A_given_notB, 2))  # Bad credit"
   ]
  },
  {
   "cell_type": "code",
   "execution_count": 16,
   "id": "cec234e1-e616-443c-a1d5-e5d981ee19c3",
   "metadata": {},
   "outputs": [],
   "source": [
    "# Now suppose out of 300 new customers with bad credit rating, 285 were approved ...\n",
    "# This was because of some policy relaxation ...\n",
    "# 301st customer walks in and she she has a bad credit rating ... What are her chances of getting a loan?"
   ]
  },
  {
   "cell_type": "code",
   "execution_count": 17,
   "id": "bf994f8a-bd36-44e7-a1a5-1b1c60e8edc5",
   "metadata": {},
   "outputs": [
    {
     "name": "stdout",
     "output_type": "stream",
     "text": [
      "New bad credit count: 300\n",
      "New approved loans with bad credit: 285\n"
     ]
    }
   ],
   "source": [
    "# Step 1: Define new evidence\n",
    "new_bad_credit = 300  # New count of people with bad credit (CIBIL < 700)\n",
    "new_approved_bad_credit = 285  # New count of approved loans for bad credit holders\n",
    "\n",
    "# Step 2: Print results to verify data entry\n",
    "print(f\"New bad credit count: {new_bad_credit}\")\n",
    "print(f\"New approved loans with bad credit: {new_approved_bad_credit}\")"
   ]
  },
  {
   "cell_type": "code",
   "execution_count": 18,
   "id": "2c88d11c-d1ef-4848-bd68-59de5fccb34d",
   "metadata": {},
   "outputs": [
    {
     "name": "stdout",
     "output_type": "stream",
     "text": [
      "Updated Total Records: 4569\n",
      "Updated Approved Count: 2941\n",
      "Updated Bad Credit Count: 3139\n"
     ]
    }
   ],
   "source": [
    "# Step 1: Update the bad credit count with new customers\n",
    "bad_credit += new_bad_credit  # Add newly arrived bad credit customers\n",
    "\n",
    "# Step 2: Update the number of approved loans\n",
    "A += new_approved_bad_credit  # Add newly approved loans from bad credit applicants\n",
    "\n",
    "# Step 3: Update total records (since all new customers had bad credit)\n",
    "N += new_bad_credit  # Total dataset increases by the number of new bad credit customers\n",
    "\n",
    "# Step 4: Print updated values for verification\n",
    "print(f\"Updated Total Records: {N}\")\n",
    "print(f\"Updated Approved Count: {A}\")\n",
    "print(f\"Updated Bad Credit Count: {bad_credit}\")"
   ]
  },
  {
   "cell_type": "code",
   "execution_count": 19,
   "id": "efd9942a-fa97-482f-a57f-df3d369a0f64",
   "metadata": {},
   "outputs": [
    {
     "name": "stdout",
     "output_type": "stream",
     "text": [
      "Updated count of approved loans with bad credit: 1518\n"
     ]
    }
   ],
   "source": [
    "# Step 1: Update the count of approved applicants with bad credit\n",
    "A_and_notB += new_approved_bad_credit  # Add newly approved cases\n",
    "\n",
    "# Step 2: Print the updated count for verification\n",
    "print(f\"Updated count of approved loans with bad credit: {A_and_notB}\")"
   ]
  },
  {
   "cell_type": "code",
   "execution_count": 20,
   "id": "6b0d4d84-bae3-42f2-9b07-2cc5c9907745",
   "metadata": {},
   "outputs": [
    {
     "name": "stdout",
     "output_type": "stream",
     "text": [
      "P(Loan Approved): 0.64\n",
      "P(Bad Credit): 0.69\n",
      "P(Approved AND Bad Credit): 0.33\n",
      "P(Loan Approved | Bad Credit): 0.48\n"
     ]
    }
   ],
   "source": [
    "# Step 1: Compute updated marginal probabilities\n",
    "P_A = A / N  # Probability of loan approval\n",
    "P_notB = bad_credit / N  # Probability of having bad credit\n",
    "\n",
    "# Step 2: Compute joint probability P(Approved AND Bad Credit)\n",
    "P_A_and_notB = A_and_notB / N  # Probability of being approved despite bad credit\n",
    "\n",
    "# Step 3: Compute conditional probability P(Loan Approved | Bad Credit)\n",
    "P_A_given_notB = P_A_and_notB / P_notB  # Probability of approval given bad credit\n",
    "\n",
    "# Step 4: Print results for verification\n",
    "print(f\"P(Loan Approved): {round(P_A, 2)}\")\n",
    "print(f\"P(Bad Credit): {round(P_notB, 2)}\")\n",
    "print(f\"P(Approved AND Bad Credit): {round(P_A_and_notB, 2)}\")\n",
    "print(f\"P(Loan Approved | Bad Credit): {round(P_A_given_notB, 2)}\")"
   ]
  },
  {
   "cell_type": "code",
   "execution_count": 21,
   "id": "4fade8bb-6cf1-4cd1-837a-f503071c8ae1",
   "metadata": {},
   "outputs": [
    {
     "name": "stdout",
     "output_type": "stream",
     "text": [
      "After updating with 300 new bad credit customers:\n",
      "P(Loan Approved | CIBIL Score < 700): 0.48\n"
     ]
    }
   ],
   "source": [
    "# Print updated conditional probability after adding 300 new bad credit customers\n",
    "print(\"After updating with 300 new bad credit customers:\")\n",
    "print(\"P(Loan Approved | CIBIL Score < 700):\", round(P_A_given_notB, 2))"
   ]
  }
 ],
 "metadata": {
  "kernelspec": {
   "display_name": "Python 3 (ipykernel)",
   "language": "python",
   "name": "python3"
  },
  "language_info": {
   "codemirror_mode": {
    "name": "ipython",
    "version": 3
   },
   "file_extension": ".py",
   "mimetype": "text/x-python",
   "name": "python",
   "nbconvert_exporter": "python",
   "pygments_lexer": "ipython3",
   "version": "3.12.7"
  }
 },
 "nbformat": 4,
 "nbformat_minor": 5
}
