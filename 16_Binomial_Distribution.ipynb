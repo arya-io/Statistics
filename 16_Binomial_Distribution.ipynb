{
 "cells": [
  {
   "cell_type": "code",
   "execution_count": 1,
   "id": "c97d289d-8b8b-4ef9-9753-92df10c2465a",
   "metadata": {},
   "outputs": [],
   "source": [
    "# Importing the binomial distribution function from the SciPy library\n",
    "from scipy.stats import binom \n",
    "\n",
    "# The 'binom' function helps us work with binomial probability distributions.\n",
    "# It's useful when we're dealing with independent experiments (like flipping a coin) \n",
    "# and we want to calculate probabilities of a certain number of successes."
   ]
  },
  {
   "cell_type": "code",
   "execution_count": 2,
   "id": "4a242115-ab60-44cb-9e79-3ea8aa262993",
   "metadata": {},
   "outputs": [],
   "source": [
    "# Given values for the binomial probability calculation\n",
    "n = 5  # Total number of students in the group\n",
    "k = 3  # Number of students who like Python\n",
    "p = 0.66  # Probability that any individual student likes Python\n",
    "\n",
    "# Explanation:\n",
    "# - 'n' represents the total trials or number of students we are considering.\n",
    "# - 'k' represents the successful outcomes (students who like Python).\n",
    "# - 'p' is the probability of a single student liking Python.\n",
    "# - This setup is useful for calculating probabilities using binomial distribution,\n",
    "#   which helps us understand the likelihood of different numbers of students liking Python."
   ]
  },
  {
   "cell_type": "code",
   "execution_count": 3,
   "id": "67006739-fa94-4792-be64-9539945cc4dc",
   "metadata": {},
   "outputs": [],
   "source": [
    "# Calculate the binomial probability using the probability mass function (PMF)\n",
    "probability = binom.pmf(k, n, p)\n",
    "\n",
    "# Explanation:\n",
    "# - The binomial PMF calculates the probability of exactly 'k' successes \n",
    "#   (students who like Python) in 'n' trials (total students), \n",
    "#   given that each student has a probability 'p' of liking Python.\n",
    "# - The 'pmf' function gives the probability of getting exactly 'k' successes, \n",
    "#   making it useful for answering \"What is the chance that precisely 3 students like Python?\""
   ]
  },
  {
   "cell_type": "code",
   "execution_count": 4,
   "id": "e01f10ec-a493-4088-b07a-f7fc0d54219d",
   "metadata": {},
   "outputs": [
    {
     "name": "stdout",
     "output_type": "stream",
     "text": [
      "The probability that exactly 3 out of 5 students like Python is: 0.3323\n"
     ]
    }
   ],
   "source": [
    "# Display the calculated probability with formatting for readability\n",
    "print(f\"The probability that exactly {k} out of {n} students like Python is: {probability:.4f}\")\n",
    "\n",
    "# Explanation:\n",
    "# - The 'print' function displays the probability result in a readable format.\n",
    "# - '{:.4f}' ensures the probability is rounded to four decimal places for better precision.\n",
    "# - The f-string format allows us to dynamically insert values ('k', 'n', and 'probability')\n",
    "#   into the output statement, making it clear and easy to understand."
   ]
  },
  {
   "cell_type": "markdown",
   "id": "bb3fb3b3-114e-4ffb-b68c-8f834613ad68",
   "metadata": {},
   "source": [
    "Practice Questions:"
   ]
  },
  {
   "cell_type": "markdown",
   "id": "31e3fa73-9c16-4bb9-a733-944d52876b19",
   "metadata": {},
   "source": [
    "1). Hospital records show that of patients suffering from a specific disease, \n",
    "    75% die of it. What is the probability that of six randomly selected patients, four will recover?"
   ]
  },
  {
   "cell_type": "code",
   "execution_count": 5,
   "id": "9486ac0a-da4a-48cb-9523-a4b9dcd35f20",
   "metadata": {},
   "outputs": [],
   "source": [
    "# Given values for the binomial probability calculation\n",
    "n = 6  # Total number of patients in the study\n",
    "k = 4  # Number of patients who recover\n",
    "p = 0.25  # Probability that a single patient does not recover (dies)\n",
    "\n",
    "# Explanation:\n",
    "# - 'n' represents the total trials or number of patients we are considering.\n",
    "# - 'k' represents the successful outcomes (patients who recover).\n",
    "# - 'p' is the probability of an unfavorable outcome (patient not recovering).\n",
    "# - If we want to calculate the probability of recovery instead, \n",
    "#   we can use '1 - p' (since recovery is the opposite of not recovering)."
   ]
  },
  {
   "cell_type": "code",
   "execution_count": 6,
   "id": "dd1b410a-360e-48d4-babd-0e4224f09fe8",
   "metadata": {},
   "outputs": [],
   "source": [
    "# Calculate the binomial probability using the probability mass function (PMF)\n",
    "probability = binom.pmf(k, n, p)\n",
    "\n",
    "# Explanation:\n",
    "# - The binomial PMF calculates the probability of exactly 'k' successes \n",
    "#   (patients who recover) in 'n' trials (total patients), \n",
    "#   given that each patient has a probability 'p' of an unfavorable outcome (not recovering).\n",
    "# - If we want the probability of recovery instead, we should use '1 - p', \n",
    "#   since survival and non-survival are complementary events."
   ]
  },
  {
   "cell_type": "code",
   "execution_count": 7,
   "id": "5b705db5-323e-4b6b-868a-e08784411a9b",
   "metadata": {},
   "outputs": [
    {
     "name": "stdout",
     "output_type": "stream",
     "text": [
      "The probability that exactly 4 out of 6 patients recover: 0.0330\n"
     ]
    }
   ],
   "source": [
    "# Display the calculated probability with formatting for readability\n",
    "print(f\"The probability that exactly {k} out of {n} patients recover: {probability:.4f}\")\n",
    "\n",
    "# Explanation:\n",
    "# - The 'print' function is used to display the probability result in a clear format.\n",
    "# - '{:.4f}' ensures the probability is rounded to four decimal places for better precision.\n",
    "# - The f-string format allows us to dynamically insert values ('k', 'n', and 'probability') \n",
    "#   into the output statement, making it easy to interpret."
   ]
  },
  {
   "cell_type": "markdown",
   "id": "8d34176c-03db-4949-bfa7-1bde0a872eaa",
   "metadata": {},
   "source": [
    "Q2). In a random experiment, a coin is taken for tossing and it was tossed exactly 10 times.What are the probabilities of obtaining exactly six heads out of total 10 tosses?"
   ]
  },
  {
   "cell_type": "code",
   "execution_count": 8,
   "id": "fb6664a1-66c9-489c-9c1f-b7da3899f935",
   "metadata": {},
   "outputs": [
    {
     "name": "stdout",
     "output_type": "stream",
     "text": [
      "The probability of obtaining exactly 6 heads out of 10 tosses is: 0.2051\n"
     ]
    }
   ],
   "source": [
    "# Given values for the binomial probability calculation\n",
    "n = 10  # Total number of coin tosses\n",
    "k = 6   # Number of times heads appear\n",
    "p = 0.5  # Probability of getting heads in a single toss (since a fair coin has equal chances)\n",
    "\n",
    "# Explanation:\n",
    "# - 'n' represents the total number of tosses (trials).\n",
    "# - 'k' represents the successful outcomes (getting heads).\n",
    "# - 'p' is the probability of getting heads in each toss.\n",
    "# - Since this is a fair coin, the chance of heads or tails is equal, meaning p = 0.5.\n",
    "\n",
    "# Calculate the binomial probability using the probability mass function (PMF)\n",
    "probability = binom.pmf(k, n, p)\n",
    "\n",
    "# Explanation:\n",
    "# - The binomial PMF calculates the probability of exactly 'k' successes \n",
    "#   (getting 6 heads) in 'n' trials (total 10 tosses).\n",
    "# - Since 'p' represents the probability of getting heads per toss, \n",
    "#   this calculation determines the likelihood of getting exactly 6 heads out of 10 tosses.\n",
    "\n",
    "# Display the calculated probability with formatting for readability\n",
    "print(f\"The probability of obtaining exactly {k} heads out of {n} tosses is: {probability:.4f}\")"
   ]
  },
  {
   "cell_type": "markdown",
   "id": "7a55b1e6-7e98-4fe9-bea3-a11ce4a2f112",
   "metadata": {},
   "source": [
    "Q3). Normally, 65% of all the students who appear for C-DAC entrance test clear it. 50 students from a coaching class have appeared for cdac march 2025 entrance test.\n",
    "What is the probability that none of them will clear it?\n",
    "What is the probability that more than 40 will clear it?"
   ]
  },
  {
   "cell_type": "code",
   "execution_count": 9,
   "id": "fd856a53-62b5-41f6-be92-08ddfb44727c",
   "metadata": {},
   "outputs": [
    {
     "name": "stdout",
     "output_type": "stream",
     "text": [
      "The probability that none of the 50 students clear the C-DAC entrance test is: 0.0000\n",
      "The probability that more than 40 students clear the test is: 0.0067\n"
     ]
    }
   ],
   "source": [
    "# Given values for the binomial probability calculation\n",
    "n = 50  # Total number of students appearing for the C-DAC entrance test\n",
    "k = 0   # Number of students who clear the test (for probability of no one passing)\n",
    "p = 0.65  # Probability that a single student clears the test\n",
    "\n",
    "# Explanation:\n",
    "# - 'n' represents the total number of students taking the test.\n",
    "# - 'k' represents the number of successful outcomes (students who pass the test).\n",
    "# - 'p' is the probability of a student successfully clearing the entrance test.\n",
    "# - We will use the binomial probability mass function (PMF) to calculate:\n",
    "#   1. The probability that **none** of the students pass (`k=0`).\n",
    "#   2. The probability that **more than 40** students pass (`k > 40`).\n",
    "\n",
    "# Calculate probability of no students clearing the test (k = 0)\n",
    "probability_none_pass = binom.pmf(0, n, p)\n",
    "\n",
    "# Calculate probability of more than 40 students clearing the test (k > 40)\n",
    "# This requires summing probabilities for k = 41 to k = 50\n",
    "probability_more_than_40 = 1 - binom.cdf(40, n, p)\n",
    "\n",
    "# Display the calculated probabilities\n",
    "print(f\"The probability that none of the {n} students clear the C-DAC entrance test is: {probability_none_pass:.4f}\")\n",
    "print(f\"The probability that more than 40 students clear the test is: {probability_more_than_40:.4f}\")"
   ]
  }
 ],
 "metadata": {
  "kernelspec": {
   "display_name": "Python 3 (ipykernel)",
   "language": "python",
   "name": "python3"
  },
  "language_info": {
   "codemirror_mode": {
    "name": "ipython",
    "version": 3
   },
   "file_extension": ".py",
   "mimetype": "text/x-python",
   "name": "python",
   "nbconvert_exporter": "python",
   "pygments_lexer": "ipython3",
   "version": "3.12.7"
  }
 },
 "nbformat": 4,
 "nbformat_minor": 5
}
