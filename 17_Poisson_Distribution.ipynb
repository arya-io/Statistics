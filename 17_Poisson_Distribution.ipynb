{
 "cells": [
  {
   "cell_type": "markdown",
   "id": "c6050bf5-5560-439d-bcac-7b4cbdaef78f",
   "metadata": {},
   "source": [
    "**Poisson Distribution: Historically, 8 defective products are manufactured in a day.\n",
    "What is the probability of exactly 4 defective products in a day?**"
   ]
  },
  {
   "cell_type": "code",
   "execution_count": 1,
   "id": "ae72d1b2-5dc8-4894-98ee-2c89b78aeeac",
   "metadata": {},
   "outputs": [],
   "source": [
    "# Importing the math module to access mathematical functions and constants\n",
    "import math"
   ]
  },
  {
   "cell_type": "code",
   "execution_count": 2,
   "id": "b02c966a-9263-47c6-8a5f-9e1b286e84fb",
   "metadata": {},
   "outputs": [
    {
     "name": "stdout",
     "output_type": "stream",
     "text": [
      "e^(-Lambda): 0.00033546262790251196\n",
      "Lambda^x: 4096\n",
      "x! (factorial of x): 24\n",
      "The probability of 4 defective products in a day: 0.057\n"
     ]
    }
   ],
   "source": [
    "# Defining the parameters for the Poisson distribution\n",
    "Lambda = 8  # Average number of defective products per day\n",
    "x = 4       # The number of defective products we want to find the probability for\n",
    "\n",
    "# Calculating the probability using the Poisson formula\n",
    "# Breaking it down for better understanding:\n",
    "\n",
    "# Step 1: Compute e^(-Lambda)\n",
    "exp_term = math.e ** -Lambda  \n",
    "print(\"e^(-Lambda):\", exp_term)  # Printing to understand the value\n",
    "\n",
    "# Step 2: Compute Lambda^x\n",
    "power_term = Lambda ** x  \n",
    "print(\"Lambda^x:\", power_term)  # Printing to see the calculation\n",
    "\n",
    "# Step 3: Compute x factorial\n",
    "factorial_term = math.factorial(x)  \n",
    "print(\"x! (factorial of x):\", factorial_term)  # Printing factorial value\n",
    "\n",
    "# Step 4: Combine all components to calculate the final probability\n",
    "p_4 = (exp_term * power_term) / factorial_term  \n",
    "print(\"The probability of 4 defective products in a day: {:.3f}\".format(p_4))  # Formatted output"
   ]
  },
  {
   "cell_type": "code",
   "execution_count": 3,
   "id": "c1e0fb53-d6d2-4bb1-b360-f8210f50dad2",
   "metadata": {},
   "outputs": [
    {
     "name": "stdout",
     "output_type": "stream",
     "text": [
      "Poisson PMF value: 0.057252288495362\n",
      "The probability of 4 defective products in a day (rounded): 0.057\n"
     ]
    }
   ],
   "source": [
    "# Importing the Poisson distribution function from the SciPy library\n",
    "from scipy.stats import poisson  \n",
    "\n",
    "# Defining the parameters\n",
    "mu = 8  # Average number of defective products per day (mean of the distribution)\n",
    "x = 4   # The specific number of defective products we are calculating the probability for\n",
    "\n",
    "# Using the poisson.pmf function to compute the probability mass function (PMF)\n",
    "# Breaking it down for better understanding:\n",
    "\n",
    "# Step 1: Calculate Poisson PMF directly using SciPy\n",
    "p_4 = poisson.pmf(x, mu)  \n",
    "print(\"Poisson PMF value:\", p_4)  # Print the raw probability\n",
    "\n",
    "# Step 2: Round the result for better readability\n",
    "rounded_p_4 = round(p_4, 3)  \n",
    "print(\"The probability of 4 defective products in a day (rounded):\", rounded_p_4)  "
   ]
  },
  {
   "cell_type": "markdown",
   "id": "112e455a-51ac-4c9d-81db-535c3d74cff9",
   "metadata": {},
   "source": [
    "Practice question (no need to solve using formula, use function only):"
   ]
  },
  {
   "cell_type": "markdown",
   "id": "d1f69597-0cf9-4229-8566-d220518e1c3a",
   "metadata": {},
   "source": [
    "Q1) Normally, a salesperson has to drive through 3 traffic signals during a sales trip. What is the probability that he will cross:\n",
    "a. 4 traffic signals\n",
    "b. upto 4 traffic signals today?"
   ]
  },
  {
   "cell_type": "code",
   "execution_count": 4,
   "id": "56c5411e-c408-4474-bdee-4836c80ec7c8",
   "metadata": {},
   "outputs": [
    {
     "name": "stdout",
     "output_type": "stream",
     "text": [
      "Probability of crossing exactly 4 traffic signals: 0.168\n",
      "Probability of crossing up to 4 traffic signals: 0.815\n"
     ]
    }
   ],
   "source": [
    "# Importing the Poisson distribution function from SciPy\n",
    "from scipy.stats import poisson  \n",
    "\n",
    "# Defining the average number of traffic signals per trip\n",
    "mu = 3  # Expected number of traffic signals the salesperson encounters\n",
    "\n",
    "# Part (a): Probability of crossing exactly 4 traffic signals\n",
    "x = 4  # Exact number of traffic signals\n",
    "p_exact_4 = poisson.pmf(x, mu)  \n",
    "print(\"Probability of crossing exactly 4 traffic signals:\", round(p_exact_4, 3))  \n",
    "\n",
    "# Part (b): Probability of crossing up to 4 traffic signals (i.e., 0, 1, 2, 3, or 4 signals)\n",
    "p_upto_4 = sum(poisson.pmf(i, mu) for i in range(5))  # Summing probabilities for x = 0 to x = 4\n",
    "print(\"Probability of crossing up to 4 traffic signals:\", round(p_upto_4, 3))  "
   ]
  },
  {
   "cell_type": "code",
   "execution_count": 5,
   "id": "5a6e4015-c407-4c62-bdb5-776902113ea5",
   "metadata": {},
   "outputs": [
    {
     "name": "stdout",
     "output_type": "stream",
     "text": [
      "Cumulative probability of up to 4 occurrences: 0.815\n"
     ]
    }
   ],
   "source": [
    "# Importing the Poisson distribution function from SciPy\n",
    "from scipy.stats import poisson  \n",
    "\n",
    "# Defining the average number of occurrences\n",
    "mu = 3  # Expected number of events (traffic signals, defective items, etc.)\n",
    "\n",
    "# Defining the specific threshold value\n",
    "x = 4  # The maximum number of events we want cumulative probability for\n",
    "\n",
    "# Computing the cumulative probability for up to 4 occurrences\n",
    "p_upto_4 = poisson.cdf(x, mu)  \n",
    "print(\"Cumulative probability of up to 4 occurrences:\", round(p_upto_4, 3))  "
   ]
  },
  {
   "cell_type": "markdown",
   "id": "f3a41eb8-593b-4920-b838-fdc298192511",
   "metadata": {},
   "source": [
    "Q2) A life insurance salesman sales on the average 3 life insurance policies per week. Use poisson's law to calculate the probability:"
   ]
  },
  {
   "cell_type": "markdown",
   "id": "bf5303c2-9438-4372-8bd6-fe6b59f8ef9b",
   "metadata": {},
   "source": [
    "A) in a given week he will sell some policies."
   ]
  },
  {
   "cell_type": "code",
   "execution_count": 6,
   "id": "399e4e8d-7a7a-4258-86f8-40a50978681d",
   "metadata": {},
   "outputs": [
    {
     "name": "stdout",
     "output_type": "stream",
     "text": [
      "Probability of selling at least one policy in a given week: 0.95\n"
     ]
    }
   ],
   "source": [
    "# Importing the Poisson distribution function from SciPy\n",
    "from scipy.stats import poisson  \n",
    "\n",
    "# Defining the average number of policies sold per week\n",
    "mu = 3  # Expected number of life insurance policies sold\n",
    "\n",
    "# Defining the case where no policies are sold\n",
    "x = 0  # Zero policies sold\n",
    "\n",
    "# Computing the probability that the salesman sells at least one policy\n",
    "# This is equivalent to 1 minus the probability of selling exactly 0 policies\n",
    "p_some_policies = 1 - poisson.pmf(x, mu)  \n",
    "print(\"Probability of selling at least one policy in a given week:\", round(p_some_policies, 3))  "
   ]
  },
  {
   "cell_type": "markdown",
   "id": "372d9918-d354-4063-bbfd-10fd5471df11",
   "metadata": {},
   "source": [
    "B) In a given week, he will sell 2 or more policies but not more than five policies."
   ]
  },
  {
   "cell_type": "code",
   "execution_count": 7,
   "id": "b5bf1455-4498-4df3-a7b6-e8e3d9063363",
   "metadata": {},
   "outputs": [
    {
     "name": "stdout",
     "output_type": "stream",
     "text": [
      "Probability of selling between 2 and 5 policies in a given week: 0.717\n"
     ]
    }
   ],
   "source": [
    "# Importing the Poisson distribution function from SciPy\n",
    "from scipy.stats import poisson  \n",
    "\n",
    "# Defining the average number of policies sold per week\n",
    "mu = 3  # Expected number of life insurance policies sold\n",
    "\n",
    "# Defining the range of policies we are considering (2, 3, 4, or 5 policies)\n",
    "x_values = [2, 3, 4, 5]  \n",
    "\n",
    "# Computing the probability of selling between 2 and 5 policies (inclusive)\n",
    "p_2_to_5 = sum(poisson.pmf(x, mu) for x in x_values)  \n",
    "print(\"Probability of selling between 2 and 5 policies in a given week:\", round(p_2_to_5, 3))  "
   ]
  },
  {
   "cell_type": "markdown",
   "id": "b7aa2e65-2e0d-48d8-b39c-8780b7761099",
   "metadata": {},
   "source": [
    "C) Assuming that per week, there are 5 working days, what is the probability that on a given day, he will sell one policy?"
   ]
  },
  {
   "cell_type": "code",
   "execution_count": 8,
   "id": "ed16fc2a-86fe-4582-b2ec-1d56ff647c44",
   "metadata": {},
   "outputs": [
    {
     "name": "stdout",
     "output_type": "stream",
     "text": [
      "Probability of selling exactly 1 policy in a given day: 0.329\n"
     ]
    }
   ],
   "source": [
    "# Importing the Poisson distribution function from SciPy\n",
    "from scipy.stats import poisson  \n",
    "\n",
    "# Calculating the average number of policies sold per day\n",
    "mu = 3 / 5  # Since the salesman sells 3 policies per week over 5 working days\n",
    "\n",
    "# Defining the number of policies sold on a given day\n",
    "x = 1  # We want the probability of selling exactly 1 policy\n",
    "\n",
    "# Computing the probability using Poisson PMF\n",
    "p_1_policy = poisson.pmf(x, mu)  \n",
    "print(\"Probability of selling exactly 1 policy in a given day:\", round(p_1_policy, 3))  "
   ]
  },
  {
   "cell_type": "markdown",
   "id": "dd401657-08d8-4a3a-a511-b62fb4f8d036",
   "metadata": {},
   "source": [
    "D) What is the probability that he will sell exactly 3 policies in a week?"
   ]
  },
  {
   "cell_type": "code",
   "execution_count": 9,
   "id": "7c1c9045-2b10-4edf-bc58-7474e3abfe7c",
   "metadata": {},
   "outputs": [
    {
     "name": "stdout",
     "output_type": "stream",
     "text": [
      "Probability of selling exactly 3 policies in a given week: 0.224\n"
     ]
    }
   ],
   "source": [
    "# Importing the Poisson distribution function from SciPy\n",
    "from scipy.stats import poisson  \n",
    "\n",
    "# Defining the average number of policies sold per week\n",
    "mu = 3  # Expected number of life insurance policies sold\n",
    "\n",
    "# Defining the number of policies sold we want to calculate the probability for\n",
    "x = 3  # Exact number of policies\n",
    "\n",
    "# Computing the probability using Poisson PMF\n",
    "p_3_policies = poisson.pmf(x, mu)  \n",
    "print(\"Probability of selling exactly 3 policies in a given week:\", round(p_3_policies, 3))  "
   ]
  }
 ],
 "metadata": {
  "kernelspec": {
   "display_name": "Python 3 (ipykernel)",
   "language": "python",
   "name": "python3"
  },
  "language_info": {
   "codemirror_mode": {
    "name": "ipython",
    "version": 3
   },
   "file_extension": ".py",
   "mimetype": "text/x-python",
   "name": "python",
   "nbconvert_exporter": "python",
   "pygments_lexer": "ipython3",
   "version": "3.12.7"
  }
 },
 "nbformat": 4,
 "nbformat_minor": 5
}
