{
 "cells": [
  {
   "cell_type": "markdown",
   "id": "073fbcb1-88f0-4ee6-a43e-9086f858c43b",
   "metadata": {},
   "source": [
    "Q1) Use dataset Retail_Data_transaction.csv. Find average daily sale count. Use Poisson distribution to calculate and plot probability for average daily sale count +/- 10 transactions."
   ]
  },
  {
   "cell_type": "code",
   "execution_count": 1,
   "id": "8ddf8879-767f-4459-8015-4fba1fea5657",
   "metadata": {},
   "outputs": [],
   "source": [
    "# Importing necessary libraries for data handling, visualization, and probability calculations\n",
    "import matplotlib.pyplot as plt  # For plotting graphs\n",
    "import pandas as pd  # For managing data\n",
    "from scipy.stats import poisson  # For Poisson probability calculations"
   ]
  },
  {
   "cell_type": "code",
   "execution_count": 2,
   "id": "30748b4f-eeea-44ab-b09e-f0c4535be1b7",
   "metadata": {},
   "outputs": [],
   "source": [
    "# Loading the retail transactions dataset from the specified file path\n",
    "df = pd.read_csv('C:/Users/dbda.STUDENTSDC/Music/LabPractice/Notebooks/Datasets/Retail_Data_Transactions.csv')"
   ]
  },
  {
   "cell_type": "code",
   "execution_count": 3,
   "id": "d0b6d7f0-c47a-4ead-b77c-57b58534c695",
   "metadata": {},
   "outputs": [
    {
     "data": {
      "text/html": [
       "<div>\n",
       "<style scoped>\n",
       "    .dataframe tbody tr th:only-of-type {\n",
       "        vertical-align: middle;\n",
       "    }\n",
       "\n",
       "    .dataframe tbody tr th {\n",
       "        vertical-align: top;\n",
       "    }\n",
       "\n",
       "    .dataframe thead th {\n",
       "        text-align: right;\n",
       "    }\n",
       "</style>\n",
       "<table border=\"1\" class=\"dataframe\">\n",
       "  <thead>\n",
       "    <tr style=\"text-align: right;\">\n",
       "      <th></th>\n",
       "      <th>customer_id</th>\n",
       "      <th>trans_date</th>\n",
       "      <th>tran_amount</th>\n",
       "    </tr>\n",
       "  </thead>\n",
       "  <tbody>\n",
       "    <tr>\n",
       "      <th>0</th>\n",
       "      <td>CS5295</td>\n",
       "      <td>11-Feb-13</td>\n",
       "      <td>35</td>\n",
       "    </tr>\n",
       "    <tr>\n",
       "      <th>1</th>\n",
       "      <td>CS4768</td>\n",
       "      <td>15-Mar-15</td>\n",
       "      <td>39</td>\n",
       "    </tr>\n",
       "    <tr>\n",
       "      <th>2</th>\n",
       "      <td>CS2122</td>\n",
       "      <td>26-Feb-13</td>\n",
       "      <td>52</td>\n",
       "    </tr>\n",
       "    <tr>\n",
       "      <th>3</th>\n",
       "      <td>CS1217</td>\n",
       "      <td>16-Nov-11</td>\n",
       "      <td>99</td>\n",
       "    </tr>\n",
       "    <tr>\n",
       "      <th>4</th>\n",
       "      <td>CS1850</td>\n",
       "      <td>20-Nov-13</td>\n",
       "      <td>78</td>\n",
       "    </tr>\n",
       "  </tbody>\n",
       "</table>\n",
       "</div>"
      ],
      "text/plain": [
       "  customer_id trans_date  tran_amount\n",
       "0      CS5295  11-Feb-13           35\n",
       "1      CS4768  15-Mar-15           39\n",
       "2      CS2122  26-Feb-13           52\n",
       "3      CS1217  16-Nov-11           99\n",
       "4      CS1850  20-Nov-13           78"
      ]
     },
     "execution_count": 3,
     "metadata": {},
     "output_type": "execute_result"
    }
   ],
   "source": [
    "# Display the first five rows of the retail transactions dataset\n",
    "df.head()"
   ]
  },
  {
   "cell_type": "code",
   "execution_count": 4,
   "id": "ca78fb7e-2b43-4fe1-848d-965f66025aca",
   "metadata": {},
   "outputs": [
    {
     "name": "stdout",
     "output_type": "stream",
     "text": [
      "<class 'pandas.core.frame.DataFrame'>\n",
      "RangeIndex: 125000 entries, 0 to 124999\n",
      "Data columns (total 3 columns):\n",
      " #   Column       Non-Null Count   Dtype \n",
      "---  ------       --------------   ----- \n",
      " 0   customer_id  125000 non-null  object\n",
      " 1   trans_date   125000 non-null  object\n",
      " 2   tran_amount  125000 non-null  int64 \n",
      "dtypes: int64(1), object(2)\n",
      "memory usage: 2.9+ MB\n"
     ]
    }
   ],
   "source": [
    "# Displaying detailed information about the dataset, including column names, data types, and missing values\n",
    "df.info()"
   ]
  },
  {
   "cell_type": "code",
   "execution_count": 5,
   "id": "e7da4cb2-c07f-4c16-bdf9-d1d672989f11",
   "metadata": {},
   "outputs": [],
   "source": [
    "# Grouping data by transaction date and calculating the average sales per day\n",
    "df = df.groupby('trans_date').agg(avg_sales=('tran_amount', 'mean'))"
   ]
  },
  {
   "cell_type": "code",
   "execution_count": 6,
   "id": "50240ce2-f7ea-4658-adf5-6f954a986a32",
   "metadata": {},
   "outputs": [],
   "source": [
    "# Converting 'avg_sales' to integer type for Poisson analysis\n",
    "df['avg_sales'] = df['avg_sales'].astype(int)"
   ]
  },
  {
   "cell_type": "code",
   "execution_count": 7,
   "id": "370c1a78-cc20-4ffb-9717-fa208b69e4f3",
   "metadata": {},
   "outputs": [
    {
     "name": "stdout",
     "output_type": "stream",
     "text": [
      "<class 'pandas.core.frame.DataFrame'>\n",
      "Index: 1401 entries, 01-Apr-12 to 31-Oct-14\n",
      "Data columns (total 1 columns):\n",
      " #   Column     Non-Null Count  Dtype\n",
      "---  ------     --------------  -----\n",
      " 0   avg_sales  1401 non-null   int32\n",
      "dtypes: int32(1)\n",
      "memory usage: 16.4+ KB\n"
     ]
    }
   ],
   "source": [
    "# Display dataset information, including column names, data types, and non-null values\n",
    "df.info()"
   ]
  },
  {
   "cell_type": "code",
   "execution_count": 8,
   "id": "5260496a-12e1-4d12-8933-79abc2778cef",
   "metadata": {},
   "outputs": [
    {
     "data": {
      "text/html": [
       "<div>\n",
       "<style scoped>\n",
       "    .dataframe tbody tr th:only-of-type {\n",
       "        vertical-align: middle;\n",
       "    }\n",
       "\n",
       "    .dataframe tbody tr th {\n",
       "        vertical-align: top;\n",
       "    }\n",
       "\n",
       "    .dataframe thead th {\n",
       "        text-align: right;\n",
       "    }\n",
       "</style>\n",
       "<table border=\"1\" class=\"dataframe\">\n",
       "  <thead>\n",
       "    <tr style=\"text-align: right;\">\n",
       "      <th></th>\n",
       "      <th>avg_sales</th>\n",
       "    </tr>\n",
       "    <tr>\n",
       "      <th>trans_date</th>\n",
       "      <th></th>\n",
       "    </tr>\n",
       "  </thead>\n",
       "  <tbody>\n",
       "    <tr>\n",
       "      <th>01-Apr-12</th>\n",
       "      <td>64</td>\n",
       "    </tr>\n",
       "    <tr>\n",
       "      <th>01-Apr-13</th>\n",
       "      <td>62</td>\n",
       "    </tr>\n",
       "    <tr>\n",
       "      <th>01-Apr-14</th>\n",
       "      <td>66</td>\n",
       "    </tr>\n",
       "    <tr>\n",
       "      <th>01-Aug-11</th>\n",
       "      <td>65</td>\n",
       "    </tr>\n",
       "    <tr>\n",
       "      <th>01-Aug-12</th>\n",
       "      <td>64</td>\n",
       "    </tr>\n",
       "  </tbody>\n",
       "</table>\n",
       "</div>"
      ],
      "text/plain": [
       "            avg_sales\n",
       "trans_date           \n",
       "01-Apr-12          64\n",
       "01-Apr-13          62\n",
       "01-Apr-14          66\n",
       "01-Aug-11          65\n",
       "01-Aug-12          64"
      ]
     },
     "execution_count": 8,
     "metadata": {},
     "output_type": "execute_result"
    }
   ],
   "source": [
    "# Display the first five rows of the dataset to confirm changes\n",
    "df.head()"
   ]
  },
  {
   "cell_type": "code",
   "execution_count": 9,
   "id": "e8afd9fd-da0c-4b26-8542-6fea927cf033",
   "metadata": {},
   "outputs": [
    {
     "name": "stdout",
     "output_type": "stream",
     "text": [
      "<class 'pandas.core.frame.DataFrame'>\n",
      "Index: 1401 entries, 01-Apr-12 to 31-Oct-14\n",
      "Data columns (total 1 columns):\n",
      " #   Column     Non-Null Count  Dtype\n",
      "---  ------     --------------  -----\n",
      " 0   avg_sales  1401 non-null   int32\n",
      "dtypes: int32(1)\n",
      "memory usage: 16.4+ KB\n"
     ]
    }
   ],
   "source": [
    "# Displaying dataset information, including column names, data types, and non-null values\n",
    "df.info()"
   ]
  },
  {
   "cell_type": "code",
   "execution_count": 10,
   "id": "46ba35a4-318d-4deb-873c-f5177e034f52",
   "metadata": {},
   "outputs": [
    {
     "name": "stdout",
     "output_type": "stream",
     "text": [
      "Average daily sales count: 64.54 transactions\n"
     ]
    }
   ],
   "source": [
    "# Computing the average daily sales count\n",
    "avg_sale = df['avg_sales'].mean()  \n",
    "\n",
    "# Printing the result\n",
    "print(f\"Average daily sales count: {avg_sale:.2f} transactions\")"
   ]
  },
  {
   "cell_type": "code",
   "execution_count": 11,
   "id": "862775e8-d6a6-4981-a5ca-75f0eaa5d35b",
   "metadata": {},
   "outputs": [],
   "source": [
    "# Defining the range for Poisson distribution, centered around the average daily sales count\n",
    "k = range(int(avg_sale) - 10, int(avg_sale) + 11)  # +/- 10 transactions from the average"
   ]
  },
  {
   "cell_type": "code",
   "execution_count": 12,
   "id": "47b7314a-58f2-4b24-9520-4bdc2f12ea06",
   "metadata": {},
   "outputs": [],
   "source": [
    "# Computing the Poisson probabilities for daily sales counts within the defined range\n",
    "probabilities = poisson.pmf(k, avg_sale)"
   ]
  },
  {
   "cell_type": "code",
   "execution_count": 13,
   "id": "35d321ee-037b-4644-a2a5-47b5aeba0ba3",
   "metadata": {},
   "outputs": [
    {
     "name": "stdout",
     "output_type": "stream",
     "text": [
      "Poisson probabilities for each k: \n",
      "54 transactions: 0.0218\n",
      "55 transactions: 0.0256\n",
      "56 transactions: 0.0295\n",
      "57 transactions: 0.0334\n",
      "58 transactions: 0.0371\n",
      "59 transactions: 0.0406\n",
      "60 transactions: 0.0437\n",
      "61 transactions: 0.0462\n",
      "62 transactions: 0.0481\n",
      "63 transactions: 0.0493\n",
      "64 transactions: 0.0497\n",
      "65 transactions: 0.0493\n",
      "66 transactions: 0.0482\n",
      "67 transactions: 0.0465\n",
      "68 transactions: 0.0441\n",
      "69 transactions: 0.0413\n",
      "70 transactions: 0.0380\n",
      "71 transactions: 0.0346\n",
      "72 transactions: 0.0310\n",
      "73 transactions: 0.0274\n",
      "74 transactions: 0.0239\n"
     ]
    }
   ],
   "source": [
    "# Printing the computed Poisson probabilities for each sales count in the defined range\n",
    "print(\"Poisson probabilities for each k: \")\n",
    "for sale, prob in zip(k, probabilities):\n",
    "    print(f\"{sale} transactions: {prob:.4f}\")  # Formatting probability to 4 decimal places for readability"
   ]
  },
  {
   "cell_type": "code",
   "execution_count": 14,
   "id": "e3fe909e-58ab-41c6-8cbf-77e64e5b34d7",
   "metadata": {},
   "outputs": [
    {
     "data": {
      "image/png": "[encoded data removed]",
      "text/plain": [
       "<Figure size 1000x600 with 1 Axes>"
      ]
     },
     "metadata": {},
     "output_type": "display_data"
    }
   ],
   "source": [
    "# Creating a figure for Poisson distribution visualization\n",
    "plt.figure(figsize=(10, 6))  # Adjusting figure size for clarity\n",
    "\n",
    "# Plotting the Poisson PMF using marker points for visibility\n",
    "plt.plot(k, probabilities, label=\"Poisson Distribution\", marker='o', color='blue')  \n",
    "\n",
    "# Labeling the axes\n",
    "plt.xlabel(\"Sale\")  # X-axis represents the number of transactions\n",
    "plt.ylabel(\"Probability\")  # Y-axis represents the Poisson probability\n",
    "\n",
    "# Adding title and legend for clear interpretation\n",
    "plt.title(\"Poisson Distribution of Event Sales\")\n",
    "plt.legend()\n",
    "\n",
    "# Enhancing readability with gridlines\n",
    "plt.grid(True)\n",
    "\n",
    "# Displaying the plot\n",
    "plt.show()"
   ]
  },
  {
   "cell_type": "markdown",
   "id": "d696335e-8b26-4207-9f9f-b2aed20517d6",
   "metadata": {},
   "source": [
    "2. Use titanic dataset. Calculate the historical probability of any passenger surviving. Use binomial distribution to calculate and plot probability of exactly 0 out of random 100 passengers surviving, exactly 1 out of random 100 passengers surviving, exactly 2 out of random 100 passengers surviving.... upto all 100 passengers surviving."
   ]
  },
  {
   "cell_type": "code",
   "execution_count": 15,
   "id": "d28c92aa-75e1-4b4a-951d-cf05539c9c0f",
   "metadata": {},
   "outputs": [],
   "source": [
    "# Importing necessary libraries for binomial calculations and numerical operations\n",
    "from scipy.stats import binom  # For binomial probability calculations\n",
    "import numpy as np  # For handling numerical operations"
   ]
  },
  {
   "cell_type": "code",
   "execution_count": 16,
   "id": "2b53e6d2-dda5-4a38-a4b5-3ed0037b4fda",
   "metadata": {},
   "outputs": [],
   "source": [
    "# Loading the Titanic dataset from the specified file path\n",
    "df = pd.read_csv(\"C:/Users/dbda.STUDENTSDC/Music/LabPractice/Notebooks/Datasets/titanic.csv\")"
   ]
  },
  {
   "cell_type": "code",
   "execution_count": 17,
   "id": "977c8d6a-e4e6-4968-a76d-954a17bb22cc",
   "metadata": {},
   "outputs": [
    {
     "data": {
      "text/html": [
       "<div>\n",
       "<style scoped>\n",
       "    .dataframe tbody tr th:only-of-type {\n",
       "        vertical-align: middle;\n",
       "    }\n",
       "\n",
       "    .dataframe tbody tr th {\n",
       "        vertical-align: top;\n",
       "    }\n",
       "\n",
       "    .dataframe thead th {\n",
       "        text-align: right;\n",
       "    }\n",
       "</style>\n",
       "<table border=\"1\" class=\"dataframe\">\n",
       "  <thead>\n",
       "    <tr style=\"text-align: right;\">\n",
       "      <th></th>\n",
       "      <th>survived</th>\n",
       "      <th>pclass</th>\n",
       "      <th>gender</th>\n",
       "      <th>age</th>\n",
       "      <th>sibsp</th>\n",
       "      <th>parch</th>\n",
       "      <th>fare</th>\n",
       "      <th>embarked</th>\n",
       "      <th>deck</th>\n",
       "    </tr>\n",
       "  </thead>\n",
       "  <tbody>\n",
       "    <tr>\n",
       "      <th>0</th>\n",
       "      <td>0</td>\n",
       "      <td>3</td>\n",
       "      <td>male</td>\n",
       "      <td>22.0</td>\n",
       "      <td>1</td>\n",
       "      <td>0</td>\n",
       "      <td>7.2500</td>\n",
       "      <td>S</td>\n",
       "      <td>NaN</td>\n",
       "    </tr>\n",
       "    <tr>\n",
       "      <th>1</th>\n",
       "      <td>1</td>\n",
       "      <td>1</td>\n",
       "      <td>female</td>\n",
       "      <td>38.0</td>\n",
       "      <td>1</td>\n",
       "      <td>0</td>\n",
       "      <td>71.2833</td>\n",
       "      <td>C</td>\n",
       "      <td>C</td>\n",
       "    </tr>\n",
       "    <tr>\n",
       "      <th>2</th>\n",
       "      <td>1</td>\n",
       "      <td>3</td>\n",
       "      <td>female</td>\n",
       "      <td>26.0</td>\n",
       "      <td>0</td>\n",
       "      <td>0</td>\n",
       "      <td>7.9250</td>\n",
       "      <td>S</td>\n",
       "      <td>NaN</td>\n",
       "    </tr>\n",
       "    <tr>\n",
       "      <th>3</th>\n",
       "      <td>1</td>\n",
       "      <td>1</td>\n",
       "      <td>female</td>\n",
       "      <td>35.0</td>\n",
       "      <td>1</td>\n",
       "      <td>0</td>\n",
       "      <td>53.1000</td>\n",
       "      <td>S</td>\n",
       "      <td>C</td>\n",
       "    </tr>\n",
       "    <tr>\n",
       "      <th>4</th>\n",
       "      <td>0</td>\n",
       "      <td>3</td>\n",
       "      <td>male</td>\n",
       "      <td>35.0</td>\n",
       "      <td>0</td>\n",
       "      <td>0</td>\n",
       "      <td>8.0500</td>\n",
       "      <td>S</td>\n",
       "      <td>NaN</td>\n",
       "    </tr>\n",
       "  </tbody>\n",
       "</table>\n",
       "</div>"
      ],
      "text/plain": [
       "   survived  pclass  gender   age  sibsp  parch     fare embarked deck\n",
       "0         0       3    male  22.0      1      0   7.2500        S  NaN\n",
       "1         1       1  female  38.0      1      0  71.2833        C    C\n",
       "2         1       3  female  26.0      0      0   7.9250        S  NaN\n",
       "3         1       1  female  35.0      1      0  53.1000        S    C\n",
       "4         0       3    male  35.0      0      0   8.0500        S  NaN"
      ]
     },
     "execution_count": 17,
     "metadata": {},
     "output_type": "execute_result"
    }
   ],
   "source": [
    "# Display the first five rows of the Titanic dataset\n",
    "df.head()"
   ]
  },
  {
   "cell_type": "code",
   "execution_count": 18,
   "id": "6bfe318e-f4c7-4a4d-afba-fb063ad3cf1d",
   "metadata": {},
   "outputs": [],
   "source": [
    "# Number of passengers in the random sample\n",
    "n = 100  \n",
    "\n",
    "# Probability of survival based on historical data\n",
    "p = df['survived'].mean()  \n",
    "\n",
    "# Range of possible survivors (0 to 100)\n",
    "k = np.arange(0, 101)  "
   ]
  },
  {
   "cell_type": "code",
   "execution_count": 19,
   "id": "07ea6943-6446-42ff-879a-1e62d86eaea1",
   "metadata": {},
   "outputs": [],
   "source": [
    "# Computing binomial probabilities for different survival outcomes\n",
    "probabilities = binom.pmf(k, n, p)"
   ]
  },
  {
   "cell_type": "code",
   "execution_count": 20,
   "id": "91af6467-d434-4d83-b6ff-a00862d71894",
   "metadata": {},
   "outputs": [
    {
     "data": {
      "text/html": [
       "<div>\n",
       "<style scoped>\n",
       "    .dataframe tbody tr th:only-of-type {\n",
       "        vertical-align: middle;\n",
       "    }\n",
       "\n",
       "    .dataframe tbody tr th {\n",
       "        vertical-align: top;\n",
       "    }\n",
       "\n",
       "    .dataframe thead th {\n",
       "        text-align: right;\n",
       "    }\n",
       "</style>\n",
       "<table border=\"1\" class=\"dataframe\">\n",
       "  <thead>\n",
       "    <tr style=\"text-align: right;\">\n",
       "      <th></th>\n",
       "      <th>Survivors</th>\n",
       "      <th>Probability</th>\n",
       "    </tr>\n",
       "  </thead>\n",
       "  <tbody>\n",
       "    <tr>\n",
       "      <th>0</th>\n",
       "      <td>0</td>\n",
       "      <td>9.321033e-22</td>\n",
       "    </tr>\n",
       "    <tr>\n",
       "      <th>1</th>\n",
       "      <td>1</td>\n",
       "      <td>5.806545e-20</td>\n",
       "    </tr>\n",
       "    <tr>\n",
       "      <th>2</th>\n",
       "      <td>2</td>\n",
       "      <td>1.790510e-18</td>\n",
       "    </tr>\n",
       "    <tr>\n",
       "      <th>3</th>\n",
       "      <td>3</td>\n",
       "      <td>3.643639e-17</td>\n",
       "    </tr>\n",
       "    <tr>\n",
       "      <th>4</th>\n",
       "      <td>4</td>\n",
       "      <td>5.504284e-16</td>\n",
       "    </tr>\n",
       "  </tbody>\n",
       "</table>\n",
       "</div>"
      ],
      "text/plain": [
       "   Survivors   Probability\n",
       "0          0  9.321033e-22\n",
       "1          1  5.806545e-20\n",
       "2          2  1.790510e-18\n",
       "3          3  3.643639e-17\n",
       "4          4  5.504284e-16"
      ]
     },
     "execution_count": 20,
     "metadata": {},
     "output_type": "execute_result"
    }
   ],
   "source": [
    "# Convert probabilities into a DataFrame for better readability\n",
    "prob_df = pd.DataFrame({'Survivors': k, 'Probability': probabilities})\n",
    "\n",
    "# Display the first few rows\n",
    "prob_df.head()"
   ]
  },
  {
   "cell_type": "code",
   "execution_count": 21,
   "id": "8fef0d67-16d3-45c0-817e-c5bf6aa924cc",
   "metadata": {},
   "outputs": [
    {
     "data": {
      "image/png": "[encoded data removed]",
      "text/plain": [
       "<Figure size 1000x500 with 1 Axes>"
      ]
     },
     "metadata": {},
     "output_type": "display_data"
    }
   ],
   "source": [
    "# Creating a figure for binomial probability visualization\n",
    "plt.figure(figsize=(10, 5))  # Adjusting figure size for clear display\n",
    "\n",
    "# Plotting a bar chart to represent probabilities\n",
    "plt.bar(k, probabilities, color='skyblue')  \n",
    "\n",
    "# Labeling the axes\n",
    "plt.xlabel(\"Number of Survivors (k)\")  # X-axis represents possible survivor counts\n",
    "plt.ylabel(\"Probability\")  # Y-axis represents the likelihood of each outcome\n",
    "\n",
    "# Adding a title with survival probability for context\n",
    "plt.title(f\"Binomial Probability Distribution (Titanic Survival)\\n(n=100, p={p:.4f})\")\n",
    "\n",
    "# Displaying the plot\n",
    "plt.show()"
   ]
  },
  {
   "cell_type": "markdown",
   "id": "19e42cc8-7165-4d87-9197-b8a49b2de458",
   "metadata": {},
   "source": [
    "3. Use billionaires dataset. Calculate Z-scores. Find and plot outlier.\n",
    "http://www.kaggle.com/datasets/nelgiriyewithana/billionaires-statistics-dataset"
   ]
  },
  {
   "cell_type": "code",
   "execution_count": 22,
   "id": "05777ac6-2224-49bd-b0b3-0f811f1b5e56",
   "metadata": {},
   "outputs": [],
   "source": [
    "# Importing necessary libraries for probability calculations and data handling\n",
    "import pandas as pd  # For managing datasets\n",
    "import numpy as np  # For numerical operations\n",
    "from scipy.stats import norm  # For PDF and CDF calculations"
   ]
  },
  {
   "cell_type": "code",
   "execution_count": 23,
   "id": "ed405c17-176d-45c1-9ecb-e7544dde852e",
   "metadata": {},
   "outputs": [],
   "source": [
    "# Loading the Billionaires dataset from the specified file path\n",
    "df = pd.read_csv(\"C:/Users/dbda.STUDENTSDC/Music/LabPractice/Notebooks/Datasets/Billionaires_statistics.csv\")"
   ]
  },
  {
   "cell_type": "code",
   "execution_count": 24,
   "id": "5e5c316f-5365-4b0c-9bb0-f48f4ab031c4",
   "metadata": {},
   "outputs": [
    {
     "data": {
      "text/html": [
       "<div>\n",
       "<style scoped>\n",
       "    .dataframe tbody tr th:only-of-type {\n",
       "        vertical-align: middle;\n",
       "    }\n",
       "\n",
       "    .dataframe tbody tr th {\n",
       "        vertical-align: top;\n",
       "    }\n",
       "\n",
       "    .dataframe thead th {\n",
       "        text-align: right;\n",
       "    }\n",
       "</style>\n",
       "<table border=\"1\" class=\"dataframe\">\n",
       "  <thead>\n",
       "    <tr style=\"text-align: right;\">\n",
       "      <th></th>\n",
       "      <th>rank</th>\n",
       "      <th>finalWorth</th>\n",
       "      <th>category</th>\n",
       "      <th>personName</th>\n",
       "      <th>age</th>\n",
       "      <th>country</th>\n",
       "      <th>city</th>\n",
       "      <th>source</th>\n",
       "      <th>industries</th>\n",
       "      <th>countryOfCitizenship</th>\n",
       "      <th>...</th>\n",
       "      <th>cpi_change_country</th>\n",
       "      <th>gdp_country</th>\n",
       "      <th>gross_tertiary_education_enrollment</th>\n",
       "      <th>gross_primary_education_enrollment_country</th>\n",
       "      <th>life_expectancy_country</th>\n",
       "      <th>tax_revenue_country_country</th>\n",
       "      <th>total_tax_rate_country</th>\n",
       "      <th>population_country</th>\n",
       "      <th>latitude_country</th>\n",
       "      <th>longitude_country</th>\n",
       "    </tr>\n",
       "  </thead>\n",
       "  <tbody>\n",
       "    <tr>\n",
       "      <th>0</th>\n",
       "      <td>1</td>\n",
       "      <td>211000</td>\n",
       "      <td>Fashion &amp; Retail</td>\n",
       "      <td>Bernard Arnault &amp; family</td>\n",
       "      <td>74.0</td>\n",
       "      <td>France</td>\n",
       "      <td>Paris</td>\n",
       "      <td>LVMH</td>\n",
       "      <td>Fashion &amp; Retail</td>\n",
       "      <td>France</td>\n",
       "      <td>...</td>\n",
       "      <td>1.1</td>\n",
       "      <td>$2,715,518,274,227</td>\n",
       "      <td>65.6</td>\n",
       "      <td>102.5</td>\n",
       "      <td>82.5</td>\n",
       "      <td>24.2</td>\n",
       "      <td>60.7</td>\n",
       "      <td>67059887.0</td>\n",
       "      <td>46.227638</td>\n",
       "      <td>2.213749</td>\n",
       "    </tr>\n",
       "    <tr>\n",
       "      <th>1</th>\n",
       "      <td>2</td>\n",
       "      <td>180000</td>\n",
       "      <td>Automotive</td>\n",
       "      <td>Elon Musk</td>\n",
       "      <td>51.0</td>\n",
       "      <td>United States</td>\n",
       "      <td>Austin</td>\n",
       "      <td>Tesla, SpaceX</td>\n",
       "      <td>Automotive</td>\n",
       "      <td>United States</td>\n",
       "      <td>...</td>\n",
       "      <td>7.5</td>\n",
       "      <td>$21,427,700,000,000</td>\n",
       "      <td>88.2</td>\n",
       "      <td>101.8</td>\n",
       "      <td>78.5</td>\n",
       "      <td>9.6</td>\n",
       "      <td>36.6</td>\n",
       "      <td>328239523.0</td>\n",
       "      <td>37.090240</td>\n",
       "      <td>-95.712891</td>\n",
       "    </tr>\n",
       "  </tbody>\n",
       "</table>\n",
       "<p>2 rows × 35 columns</p>\n",
       "</div>"
      ],
      "text/plain": [
       "   rank  finalWorth          category                personName   age  \\\n",
       "0     1      211000  Fashion & Retail  Bernard Arnault & family  74.0   \n",
       "1     2      180000        Automotive                 Elon Musk  51.0   \n",
       "\n",
       "         country    city         source        industries  \\\n",
       "0         France   Paris           LVMH  Fashion & Retail   \n",
       "1  United States  Austin  Tesla, SpaceX        Automotive   \n",
       "\n",
       "  countryOfCitizenship  ... cpi_change_country           gdp_country  \\\n",
       "0               France  ...                1.1   $2,715,518,274,227    \n",
       "1        United States  ...                7.5  $21,427,700,000,000    \n",
       "\n",
       "  gross_tertiary_education_enrollment  \\\n",
       "0                                65.6   \n",
       "1                                88.2   \n",
       "\n",
       "  gross_primary_education_enrollment_country life_expectancy_country  \\\n",
       "0                                      102.5                    82.5   \n",
       "1                                      101.8                    78.5   \n",
       "\n",
       "  tax_revenue_country_country total_tax_rate_country population_country  \\\n",
       "0                        24.2                   60.7         67059887.0   \n",
       "1                         9.6                   36.6        328239523.0   \n",
       "\n",
       "  latitude_country longitude_country  \n",
       "0        46.227638          2.213749  \n",
       "1        37.090240        -95.712891  \n",
       "\n",
       "[2 rows x 35 columns]"
      ]
     },
     "execution_count": 24,
     "metadata": {},
     "output_type": "execute_result"
    }
   ],
   "source": [
    "# Display the first two rows of the dataset\n",
    "df.head(2)"
   ]
  },
  {
   "cell_type": "code",
   "execution_count": 25,
   "id": "c73203c5-6b2e-4147-9cad-37bad8d5a9e6",
   "metadata": {},
   "outputs": [],
   "source": [
    "# Calculating the mean and standard deviation of final worth\n",
    "finalWorth_mean = df['finalWorth'].mean()  # Average final worth\n",
    "finalWorth_std = df['finalWorth'].std()  # Standard deviation of final worth"
   ]
  },
  {
   "cell_type": "code",
   "execution_count": 26,
   "id": "833cec0a-7733-4732-b4aa-13d3b24330c8",
   "metadata": {},
   "outputs": [],
   "source": [
    "# Define the wealth range for PDF calculations\n",
    "start_finalWorth = 100000  # Lower bound\n",
    "end_finalWorth = 700000  # Upper bound"
   ]
  },
  {
   "cell_type": "code",
   "execution_count": 27,
   "id": "2a8004a4-6eaa-48d2-8c13-9630e804b215",
   "metadata": {},
   "outputs": [],
   "source": [
    "# Generating a small range of 'finalWorth' values within the specified interval\n",
    "finalWorth_num_points = 2  # Number of points to generate\n",
    "finalWorth_values_in_range = np.linspace(start_finalWorth, end_finalWorth, finalWorth_num_points)"
   ]
  },
  {
   "cell_type": "code",
   "execution_count": 28,
   "id": "211307f0-a8c8-48f0-8111-a9bc21271a5e",
   "metadata": {},
   "outputs": [],
   "source": [
    "# Compute the Probability Density Function (PDF) values for the defined wealth range\n",
    "pdf_values_in_range = norm.pdf(finalWorth_values_in_range, start_finalWorth, finalWorth_std)"
   ]
  },
  {
   "cell_type": "code",
   "execution_count": 29,
   "id": "3f3a03e6-c1db-4c6f-8dbc-bbf076914d10",
   "metadata": {},
   "outputs": [
    {
     "name": "stdout",
     "output_type": "stream",
     "text": [
      "100000.0 4.0566657137947625e-05\n",
      "700000.0 0.0\n"
     ]
    }
   ],
   "source": [
    "# Looping through the range of final worth values and printing associated PDF values\n",
    "for i in range(len(finalWorth_values_in_range)):\n",
    "    print(finalWorth_values_in_range[i], pdf_values_in_range[i])"
   ]
  },
  {
   "cell_type": "code",
   "execution_count": 30,
   "id": "b68ef36f-dbc2-4cfe-9bbf-e1a60d13cbc1",
   "metadata": {},
   "outputs": [
    {
     "name": "stdout",
     "output_type": "stream",
     "text": [
      "0.0\n"
     ]
    }
   ],
   "source": [
    "# Computing the exact probability of wealth falling within the defined range using CDF\n",
    "prob_range_exact = norm.cdf(end_finalWorth, finalWorth_mean, finalWorth_std) - norm.cdf(start_finalWorth, finalWorth_mean, finalWorth_std)\n",
    "\n",
    "# Printing the result\n",
    "print(prob_range_exact)"
   ]
  },
  {
   "cell_type": "code",
   "execution_count": 31,
   "id": "b0d2f380-4729-4ad2-96f6-a41c3d7767da",
   "metadata": {},
   "outputs": [
    {
     "data": {
      "text/plain": [
       "0       20.989450\n",
       "1       17.836602\n",
       "2       11.124085\n",
       "3       10.412152\n",
       "4       10.310447\n",
       "          ...    \n",
       "2635    -0.368557\n",
       "2636    -0.368557\n",
       "2637    -0.368557\n",
       "2638    -0.368557\n",
       "2639    -0.368557\n",
       "Name: Z-score, Length: 2640, dtype: float64"
      ]
     },
     "execution_count": 31,
     "metadata": {},
     "output_type": "execute_result"
    }
   ],
   "source": [
    "from scipy.stats import zscore\n",
    "\n",
    "# Compute Z-scores for net worth\n",
    "df[\"Z-score\"] = zscore(df[\"finalWorth\"])  # Standardized scores for detecting anomalies\n",
    "\n",
    "# Display Z-scores\n",
    "df[\"Z-score\"]"
   ]
  },
  {
   "cell_type": "code",
   "execution_count": 32,
   "id": "bd30baad-f0f4-433a-abc1-d50f7f41ba71",
   "metadata": {},
   "outputs": [
    {
     "name": "stdout",
     "output_type": "stream",
     "text": [
      "    rank  finalWorth               category  \\\n",
      "0      1      211000       Fashion & Retail   \n",
      "1      2      180000             Automotive   \n",
      "2      3      114000             Technology   \n",
      "3      4      107000             Technology   \n",
      "4      5      106000  Finance & Investments   \n",
      "5      6      104000             Technology   \n",
      "6      7       94500  Media & Entertainment   \n",
      "7      8       93000                Telecom   \n",
      "8      9       83400            Diversified   \n",
      "9     10       80700             Technology   \n",
      "10    11       80500       Fashion & Retail   \n",
      "11    12       79200             Technology   \n",
      "12    13       77300       Fashion & Retail   \n",
      "13    14       76000             Technology   \n",
      "14    15       68000        Food & Beverage   \n",
      "15    16       64400             Technology   \n",
      "16    17       59000            Diversified   \n",
      "17    17       59000            Diversified   \n",
      "18    19       58800       Fashion & Retail   \n",
      "19    20       57600       Fashion & Retail   \n",
      "20    21       56700       Fashion & Retail   \n",
      "21    22       54400  Media & Entertainment   \n",
      "22    23       50100             Technology   \n",
      "23    24       47200            Diversified   \n",
      "24    25       45100       Fashion & Retail   \n",
      "25    26       45000             Technology   \n",
      "26    27       42900       Fashion & Retail   \n",
      "27    28       40100       Fashion & Retail   \n",
      "28    29       39100              Logistics   \n",
      "29    30       38900        Food & Beverage   \n",
      "30    31       38300        Food & Beverage   \n",
      "31    31       38300        Food & Beverage   \n",
      "32    33       38000            Diversified   \n",
      "33    34       35300             Technology   \n",
      "34    35       35000     Gambling & Casinos   \n",
      "35    35       35000  Finance & Investments   \n",
      "36    37       34700        Food & Beverage   \n",
      "\n",
      "                               personName   age        country          city  \\\n",
      "0                Bernard Arnault & family  74.0         France         Paris   \n",
      "1                               Elon Musk  51.0  United States        Austin   \n",
      "2                              Jeff Bezos  59.0  United States        Medina   \n",
      "3                           Larry Ellison  78.0  United States         Lanai   \n",
      "4                          Warren Buffett  92.0  United States         Omaha   \n",
      "5                              Bill Gates  67.0  United States        Medina   \n",
      "6                       Michael Bloomberg  81.0  United States      New York   \n",
      "7               Carlos Slim Helu & family  83.0         Mexico   Mexico City   \n",
      "8                           Mukesh Ambani  65.0          India        Mumbai   \n",
      "9                           Steve Ballmer  67.0  United States   Hunts Point   \n",
      "10  Francoise Bettencourt Meyers & family  69.0         France         Paris   \n",
      "11                             Larry Page  50.0  United States     Palo Alto   \n",
      "12                         Amancio Ortega  87.0          Spain     La Coruna   \n",
      "13                            Sergey Brin  49.0  United States     Los Altos   \n",
      "14                         Zhong Shanshan  68.0          China      Hangzhou   \n",
      "15                        Mark Zuckerberg  38.0  United States     Palo Alto   \n",
      "16                  Charles Koch & family  87.0  United States       Wichita   \n",
      "17                    Julia Koch & family  60.0  United States      New York   \n",
      "18                             Jim Walton  74.0  United States   Bentonville   \n",
      "19                    Rob Walton & family  78.0  United States   Bentonville   \n",
      "20                           Alice Walton  73.0  United States    Fort Worth   \n",
      "21                 David Thomson & family  65.0         Canada       Toronto   \n",
      "22                           Michael Dell  58.0  United States        Austin   \n",
      "23                           Gautam Adani  60.0          India     Ahmedabad   \n",
      "24                   Phil Knight & family  85.0  United States     Hillsboro   \n",
      "25                           Zhang Yiming  39.0          China       Beijing   \n",
      "26                         Dieter Schwarz  83.0        Germany    Neckarsulm   \n",
      "27              François Pinault & family  86.0         France         Paris   \n",
      "28                   Klaus-Michael Kuehne  85.0    Switzerland  Schindellegi   \n",
      "29                       Giovanni Ferrero  58.0        Belgium      Brussels   \n",
      "30                        Jacqueline Mars  83.0  United States    The Plains   \n",
      "31                              John Mars  87.0  United States       Jackson   \n",
      "32                            Li Ka-shing  94.0      Hong Kong           NaN   \n",
      "33                             Ma Huateng  51.0          China      Shenzhen   \n",
      "34                Miriam Adelson & family  77.0  United States     Las Vegas   \n",
      "35                            Ken Griffin  54.0  United States         Miami   \n",
      "36                        Mark Mateschitz  30.0        Austria      Salzburg   \n",
      "\n",
      "                         source             industries countryOfCitizenship  \\\n",
      "0                          LVMH       Fashion & Retail               France   \n",
      "1                 Tesla, SpaceX             Automotive        United States   \n",
      "2                        Amazon             Technology        United States   \n",
      "3                        Oracle             Technology        United States   \n",
      "4            Berkshire Hathaway  Finance & Investments        United States   \n",
      "5                     Microsoft             Technology        United States   \n",
      "6                  Bloomberg LP  Media & Entertainment        United States   \n",
      "7                       Telecom                Telecom               Mexico   \n",
      "8                   Diversified            Diversified                India   \n",
      "9                     Microsoft             Technology        United States   \n",
      "10                      L'Oréal       Fashion & Retail               France   \n",
      "11                       Google             Technology        United States   \n",
      "12                         Zara       Fashion & Retail                Spain   \n",
      "13                       Google             Technology        United States   \n",
      "14   Beverages, pharmaceuticals        Food & Beverage                China   \n",
      "15                     Facebook             Technology        United States   \n",
      "16              Koch Industries            Diversified        United States   \n",
      "17              Koch Industries            Diversified        United States   \n",
      "18                      Walmart       Fashion & Retail        United States   \n",
      "19                      Walmart       Fashion & Retail        United States   \n",
      "20                      Walmart       Fashion & Retail        United States   \n",
      "21                        Media  Media & Entertainment               Canada   \n",
      "22            Dell Technologies             Technology        United States   \n",
      "23  Infrastructure, commodities            Diversified                India   \n",
      "24                         Nike       Fashion & Retail        United States   \n",
      "25                       TikTok             Technology                China   \n",
      "26                       Retail       Fashion & Retail              Germany   \n",
      "27                 Luxury goods       Fashion & Retail               France   \n",
      "28                     Shipping              Logistics              Germany   \n",
      "29          Nutella, chocolates        Food & Beverage                Italy   \n",
      "30              Candy, pet food        Food & Beverage        United States   \n",
      "31              Candy, pet food        Food & Beverage        United States   \n",
      "32                  Diversified            Diversified            Hong Kong   \n",
      "33               Internet media             Technology                China   \n",
      "34                      Casinos     Gambling & Casinos        United States   \n",
      "35                  Hedge funds  Finance & Investments        United States   \n",
      "36                     Red Bull        Food & Beverage              Austria   \n",
      "\n",
      "    ...           gdp_country  gross_tertiary_education_enrollment  \\\n",
      "0   ...   $2,715,518,274,227                                  65.6   \n",
      "1   ...  $21,427,700,000,000                                  88.2   \n",
      "2   ...  $21,427,700,000,000                                  88.2   \n",
      "3   ...  $21,427,700,000,000                                  88.2   \n",
      "4   ...  $21,427,700,000,000                                  88.2   \n",
      "5   ...  $21,427,700,000,000                                  88.2   \n",
      "6   ...  $21,427,700,000,000                                  88.2   \n",
      "7   ...   $1,258,286,717,125                                  40.2   \n",
      "8   ...   $2,611,000,000,000                                  28.1   \n",
      "9   ...  $21,427,700,000,000                                  88.2   \n",
      "10  ...   $2,715,518,274,227                                  65.6   \n",
      "11  ...  $21,427,700,000,000                                  88.2   \n",
      "12  ...   $1,394,116,310,769                                  88.9   \n",
      "13  ...  $21,427,700,000,000                                  88.2   \n",
      "14  ...  $19,910,000,000,000                                  50.6   \n",
      "15  ...  $21,427,700,000,000                                  88.2   \n",
      "16  ...  $21,427,700,000,000                                  88.2   \n",
      "17  ...  $21,427,700,000,000                                  88.2   \n",
      "18  ...  $21,427,700,000,000                                  88.2   \n",
      "19  ...  $21,427,700,000,000                                  88.2   \n",
      "20  ...  $21,427,700,000,000                                  88.2   \n",
      "21  ...   $1,736,425,629,520                                  68.9   \n",
      "22  ...  $21,427,700,000,000                                  88.2   \n",
      "23  ...   $2,611,000,000,000                                  28.1   \n",
      "24  ...  $21,427,700,000,000                                  88.2   \n",
      "25  ...  $19,910,000,000,000                                  50.6   \n",
      "26  ...   $3,845,630,030,824                                  70.2   \n",
      "27  ...   $2,715,518,274,227                                  65.6   \n",
      "28  ...     $703,082,435,360                                  59.6   \n",
      "29  ...     $529,606,710,418                                  79.7   \n",
      "30  ...  $21,427,700,000,000                                  88.2   \n",
      "31  ...  $21,427,700,000,000                                  88.2   \n",
      "32  ...                   NaN                                  NaN   \n",
      "33  ...  $19,910,000,000,000                                  50.6   \n",
      "34  ...  $21,427,700,000,000                                  88.2   \n",
      "35  ...  $21,427,700,000,000                                  88.2   \n",
      "36  ...     $446,314,739,528                                  85.1   \n",
      "\n",
      "   gross_primary_education_enrollment_country life_expectancy_country  \\\n",
      "0                                       102.5                    82.5   \n",
      "1                                       101.8                    78.5   \n",
      "2                                       101.8                    78.5   \n",
      "3                                       101.8                    78.5   \n",
      "4                                       101.8                    78.5   \n",
      "5                                       101.8                    78.5   \n",
      "6                                       101.8                    78.5   \n",
      "7                                       105.8                    75.0   \n",
      "8                                       113.0                    69.4   \n",
      "9                                       101.8                    78.5   \n",
      "10                                      102.5                    82.5   \n",
      "11                                      101.8                    78.5   \n",
      "12                                      102.7                    83.3   \n",
      "13                                      101.8                    78.5   \n",
      "14                                      100.2                    77.0   \n",
      "15                                      101.8                    78.5   \n",
      "16                                      101.8                    78.5   \n",
      "17                                      101.8                    78.5   \n",
      "18                                      101.8                    78.5   \n",
      "19                                      101.8                    78.5   \n",
      "20                                      101.8                    78.5   \n",
      "21                                      100.9                    81.9   \n",
      "22                                      101.8                    78.5   \n",
      "23                                      113.0                    69.4   \n",
      "24                                      101.8                    78.5   \n",
      "25                                      100.2                    77.0   \n",
      "26                                      104.0                    80.9   \n",
      "27                                      102.5                    82.5   \n",
      "28                                      105.2                    83.6   \n",
      "29                                      103.9                    81.6   \n",
      "30                                      101.8                    78.5   \n",
      "31                                      101.8                    78.5   \n",
      "32                                        NaN                     NaN   \n",
      "33                                      100.2                    77.0   \n",
      "34                                      101.8                    78.5   \n",
      "35                                      101.8                    78.5   \n",
      "36                                      103.1                    81.6   \n",
      "\n",
      "   tax_revenue_country_country total_tax_rate_country population_country  \\\n",
      "0                         24.2                   60.7       6.705989e+07   \n",
      "1                          9.6                   36.6       3.282395e+08   \n",
      "2                          9.6                   36.6       3.282395e+08   \n",
      "3                          9.6                   36.6       3.282395e+08   \n",
      "4                          9.6                   36.6       3.282395e+08   \n",
      "5                          9.6                   36.6       3.282395e+08   \n",
      "6                          9.6                   36.6       3.282395e+08   \n",
      "7                         13.1                   55.1       1.260140e+08   \n",
      "8                         11.2                   49.7       1.366418e+09   \n",
      "9                          9.6                   36.6       3.282395e+08   \n",
      "10                        24.2                   60.7       6.705989e+07   \n",
      "11                         9.6                   36.6       3.282395e+08   \n",
      "12                        14.2                   47.0       4.707678e+07   \n",
      "13                         9.6                   36.6       3.282395e+08   \n",
      "14                         9.4                   59.2       1.397715e+09   \n",
      "15                         9.6                   36.6       3.282395e+08   \n",
      "16                         9.6                   36.6       3.282395e+08   \n",
      "17                         9.6                   36.6       3.282395e+08   \n",
      "18                         9.6                   36.6       3.282395e+08   \n",
      "19                         9.6                   36.6       3.282395e+08   \n",
      "20                         9.6                   36.6       3.282395e+08   \n",
      "21                        12.8                   24.5       3.699198e+07   \n",
      "22                         9.6                   36.6       3.282395e+08   \n",
      "23                        11.2                   49.7       1.366418e+09   \n",
      "24                         9.6                   36.6       3.282395e+08   \n",
      "25                         9.4                   59.2       1.397715e+09   \n",
      "26                        11.5                   48.8       8.313280e+07   \n",
      "27                        24.2                   60.7       6.705989e+07   \n",
      "28                        10.1                   28.8       8.574832e+06   \n",
      "29                        24.0                   55.4       1.148406e+07   \n",
      "30                         9.6                   36.6       3.282395e+08   \n",
      "31                         9.6                   36.6       3.282395e+08   \n",
      "32                         NaN                    NaN                NaN   \n",
      "33                         9.4                   59.2       1.397715e+09   \n",
      "34                         9.6                   36.6       3.282395e+08   \n",
      "35                         9.6                   36.6       3.282395e+08   \n",
      "36                        25.4                   51.4       8.877067e+06   \n",
      "\n",
      "   latitude_country longitude_country    Z-score  \n",
      "0         46.227638          2.213749  20.989450  \n",
      "1         37.090240        -95.712891  17.836602  \n",
      "2         37.090240        -95.712891  11.124085  \n",
      "3         37.090240        -95.712891  10.412152  \n",
      "4         37.090240        -95.712891  10.310447  \n",
      "5         37.090240        -95.712891  10.107037  \n",
      "6         37.090240        -95.712891   9.140842  \n",
      "7         23.634501       -102.552784   8.988284  \n",
      "8         20.593684         78.962880   8.011918  \n",
      "9         37.090240        -95.712891   7.737315  \n",
      "10        46.227638          2.213749   7.716975  \n",
      "11        37.090240        -95.712891   7.584758  \n",
      "12        40.463667         -3.749220   7.391519  \n",
      "13        37.090240        -95.712891   7.259303  \n",
      "14        35.861660        104.195397   6.445665  \n",
      "15        37.090240        -95.712891   6.079527  \n",
      "16        37.090240        -95.712891   5.530321  \n",
      "17        37.090240        -95.712891   5.530321  \n",
      "18        37.090240        -95.712891   5.509980  \n",
      "19        37.090240        -95.712891   5.387935  \n",
      "20        37.090240        -95.712891   5.296400  \n",
      "21        56.130366       -106.346771   5.062479  \n",
      "22        37.090240        -95.712891   4.625149  \n",
      "23        20.593684         78.962880   4.330205  \n",
      "24        37.090240        -95.712891   4.116625  \n",
      "25        35.861660        104.195397   4.106454  \n",
      "26        51.165691         10.451526   3.892874  \n",
      "27        46.227638          2.213749   3.608101  \n",
      "28        46.818188          8.227512   3.506396  \n",
      "29        50.503887          4.469936   3.486055  \n",
      "30        37.090240        -95.712891   3.425032  \n",
      "31        37.090240        -95.712891   3.425032  \n",
      "32              NaN               NaN   3.394521  \n",
      "33        35.861660        104.195397   3.119918  \n",
      "34        37.090240        -95.712891   3.089406  \n",
      "35        37.090240        -95.712891   3.089406  \n",
      "36        47.516231         14.550072   3.058895  \n",
      "\n",
      "[37 rows x 36 columns]\n"
     ]
    }
   ],
   "source": [
    "# Identifying outliers where Z-score is beyond the threshold (|Z| > 3)\n",
    "outliers = df[df[\"Z-score\"].abs() > 3]\n",
    "\n",
    "# Displaying the outliers\n",
    "print(outliers)"
   ]
  },
  {
   "cell_type": "code",
   "execution_count": 33,
   "id": "8ea06aa4-49b1-4a52-b1e8-25a18fbea84e",
   "metadata": {},
   "outputs": [
    {
     "data": {
      "image/png": "[encoded data removed]",
      "text/plain": [
       "<Figure size 1000x500 with 1 Axes>"
      ]
     },
     "metadata": {},
     "output_type": "display_data"
    }
   ],
   "source": [
    "import matplotlib.pyplot as plt\n",
    "\n",
    "# Creating a figure for Z-score distribution visualization\n",
    "plt.figure(figsize=(10, 5))  # Adjusting figure size for clarity\n",
    "\n",
    "# Plotting the histogram to show Z-score frequency\n",
    "plt.hist(df[\"Z-score\"], bins=30, color='skyblue', edgecolor='black', alpha=0.7)  \n",
    "\n",
    "# Adding vertical lines for outlier thresholds\n",
    "plt.axvline(3, color=\"red\", linestyle=\"dashed\", label=\"Outlier threshold (+3)\")\n",
    "plt.axvline(-3, color=\"red\", linestyle=\"dashed\", label=\"Outlier threshold (-3)\")\n",
    "\n",
    "# Labeling axes\n",
    "plt.xlabel(\"Z-score\")  \n",
    "plt.ylabel(\"Frequency\")  \n",
    "\n",
    "# Adding a title for context\n",
    "plt.title(\"Distribution of Z-scores for Billionaires' Net Worth\")\n",
    "\n",
    "# Displaying legend for clarity\n",
    "plt.legend()\n",
    "\n",
    "# Showing the plot\n",
    "plt.show()"
   ]
  },
  {
   "cell_type": "markdown",
   "id": "daf7c733-de1a-469d-bd10-e333337a4958",
   "metadata": {},
   "source": [
    "4. Do z-score analysis like above for the dataset http://www.kaggle.com/datasets/nasirayub2/australian-student-performancedata-aspd24\n",
    "    Column: Final Exam Scores"
   ]
  },
  {
   "cell_type": "code",
   "execution_count": 34,
   "id": "a9156c47-346e-4fc0-97be-5148d66aef4e",
   "metadata": {},
   "outputs": [],
   "source": [
    "# Loading the Australian Student Performance dataset from the specified file path\n",
    "df = pd.read_csv(\"C:/Users/dbda.STUDENTSDC/Music/LabPractice/Notebooks/Datasets/Australian_Student_PerformanceData (ASPD24).csv\")"
   ]
  },
  {
   "cell_type": "code",
   "execution_count": 35,
   "id": "fd44c110-ca24-4477-af81-4b52116dd70a",
   "metadata": {},
   "outputs": [
    {
     "data": {
      "text/html": [
       "<div>\n",
       "<style scoped>\n",
       "    .dataframe tbody tr th:only-of-type {\n",
       "        vertical-align: middle;\n",
       "    }\n",
       "\n",
       "    .dataframe tbody tr th {\n",
       "        vertical-align: top;\n",
       "    }\n",
       "\n",
       "    .dataframe thead th {\n",
       "        text-align: right;\n",
       "    }\n",
       "</style>\n",
       "<table border=\"1\" class=\"dataframe\">\n",
       "  <thead>\n",
       "    <tr style=\"text-align: right;\">\n",
       "      <th></th>\n",
       "      <th>Student ID</th>\n",
       "      <th>University ID</th>\n",
       "      <th>University Name</th>\n",
       "      <th>Age</th>\n",
       "      <th>Gender</th>\n",
       "      <th>Major</th>\n",
       "      <th>Year of Study</th>\n",
       "      <th>GPA</th>\n",
       "      <th>High School GPA</th>\n",
       "      <th>Entrance Exam Score</th>\n",
       "      <th>...</th>\n",
       "      <th>Research Involvement</th>\n",
       "      <th>Internship Experience</th>\n",
       "      <th>Peer Reviews</th>\n",
       "      <th>Academic Advising</th>\n",
       "      <th>Learning Style</th>\n",
       "      <th>Study Environment</th>\n",
       "      <th>Core Course Average</th>\n",
       "      <th>Extracurricular Participation</th>\n",
       "      <th>Peer Evaluations</th>\n",
       "      <th>Performance</th>\n",
       "    </tr>\n",
       "  </thead>\n",
       "  <tbody>\n",
       "    <tr>\n",
       "      <th>0</th>\n",
       "      <td>1</td>\n",
       "      <td>86</td>\n",
       "      <td>University C</td>\n",
       "      <td>25</td>\n",
       "      <td>F</td>\n",
       "      <td>EE</td>\n",
       "      <td>1</td>\n",
       "      <td>2.06</td>\n",
       "      <td>3.50</td>\n",
       "      <td>60</td>\n",
       "      <td>...</td>\n",
       "      <td>0</td>\n",
       "      <td>0</td>\n",
       "      <td>61</td>\n",
       "      <td>5</td>\n",
       "      <td>Visual</td>\n",
       "      <td>Good</td>\n",
       "      <td>51</td>\n",
       "      <td>0</td>\n",
       "      <td>83</td>\n",
       "      <td>Satisfactory</td>\n",
       "    </tr>\n",
       "    <tr>\n",
       "      <th>1</th>\n",
       "      <td>2</td>\n",
       "      <td>17</td>\n",
       "      <td>University A</td>\n",
       "      <td>26</td>\n",
       "      <td>F</td>\n",
       "      <td>ME</td>\n",
       "      <td>4</td>\n",
       "      <td>2.12</td>\n",
       "      <td>3.46</td>\n",
       "      <td>52</td>\n",
       "      <td>...</td>\n",
       "      <td>0</td>\n",
       "      <td>1</td>\n",
       "      <td>72</td>\n",
       "      <td>7</td>\n",
       "      <td>Reading/Writing</td>\n",
       "      <td>Excellent</td>\n",
       "      <td>60</td>\n",
       "      <td>0</td>\n",
       "      <td>56</td>\n",
       "      <td>Poor</td>\n",
       "    </tr>\n",
       "  </tbody>\n",
       "</table>\n",
       "<p>2 rows × 51 columns</p>\n",
       "</div>"
      ],
      "text/plain": [
       "   Student ID  University ID University Name  Age Gender Major  Year of Study  \\\n",
       "0           1             86    University C   25      F    EE              1   \n",
       "1           2             17    University A   26      F    ME              4   \n",
       "\n",
       "    GPA  High School GPA  Entrance Exam Score  ...  Research Involvement  \\\n",
       "0  2.06             3.50                   60  ...                     0   \n",
       "1  2.12             3.46                   52  ...                     0   \n",
       "\n",
       "   Internship Experience  Peer Reviews  Academic Advising   Learning Style  \\\n",
       "0                      0            61                  5           Visual   \n",
       "1                      1            72                  7  Reading/Writing   \n",
       "\n",
       "  Study Environment Core Course Average  Extracurricular Participation  \\\n",
       "0              Good                  51                              0   \n",
       "1         Excellent                  60                              0   \n",
       "\n",
       "   Peer Evaluations   Performance  \n",
       "0                83  Satisfactory  \n",
       "1                56          Poor  \n",
       "\n",
       "[2 rows x 51 columns]"
      ]
     },
     "execution_count": 35,
     "metadata": {},
     "output_type": "execute_result"
    }
   ],
   "source": [
    "# Display the first two rows of the dataset\n",
    "df.head(2)"
   ]
  },
  {
   "cell_type": "code",
   "execution_count": 36,
   "id": "b350e393-cf68-43d2-9be6-c018aca94845",
   "metadata": {},
   "outputs": [],
   "source": [
    "# Calculating the mean and standard deviation of final exam scores\n",
    "score_mean = df['Final Exam Scores'].mean()  # Average final exam score\n",
    "score_std = df['Final Exam Scores'].std()  # Standard deviation of final exam scores"
   ]
  },
  {
   "cell_type": "code",
   "execution_count": 37,
   "id": "2adbadef-a474-4adc-a665-84d8c0090b86",
   "metadata": {},
   "outputs": [],
   "source": [
    "# Define the specific range for PDF calculations\n",
    "start_score = 50  # Lower bound for final exam scores\n",
    "end_score = 95  # Upper bound for final exam scores"
   ]
  },
  {
   "cell_type": "code",
   "execution_count": 38,
   "id": "65e6fc52-8655-4bb7-8a75-54b7a3111fe9",
   "metadata": {},
   "outputs": [],
   "source": [
    "# Generating a small range of final exam score values within the specified interval\n",
    "num_points = 2  # Number of points to generate\n",
    "scores_values_in_range = np.linspace(start_score, end_score, num_points)"
   ]
  },
  {
   "cell_type": "code",
   "execution_count": 39,
   "id": "0395e2d3-e337-41b8-9d4c-5b6098de7f44",
   "metadata": {},
   "outputs": [],
   "source": [
    "# Compute the Probability Density Function (PDF) values for the defined score range\n",
    "pdf_values_in_range = norm.pdf(scores_values_in_range, score_mean, score_std)"
   ]
  },
  {
   "cell_type": "code",
   "execution_count": 40,
   "id": "1349a629-6a52-4d4c-9af7-e98ff621fafe",
   "metadata": {},
   "outputs": [
    {
     "name": "stdout",
     "output_type": "stream",
     "text": [
      "50.0 0.00650808433643897\n",
      "95.0 0.010152617970692432\n"
     ]
    }
   ],
   "source": [
    "# Looping through the range of exam scores and printing their associated PDF values\n",
    "for i in range(len(scores_values_in_range)):\n",
    "    print(scores_values_in_range[i], pdf_values_in_range[i])"
   ]
  },
  {
   "cell_type": "code",
   "execution_count": 41,
   "id": "2c765e21-600c-4530-b53d-7ab7fcc510b8",
   "metadata": {},
   "outputs": [
    {
     "name": "stdout",
     "output_type": "stream",
     "text": [
      "0.8768601883260395\n"
     ]
    }
   ],
   "source": [
    "# Compute the exact probability of a final exam score falling within the defined range using CDF\n",
    "prob_range_exact = norm.cdf(end_score, score_mean, score_std) - norm.cdf(start_score, score_mean, score_std)\n",
    "\n",
    "# Print the result\n",
    "print(prob_range_exact)"
   ]
  },
  {
   "cell_type": "code",
   "execution_count": 42,
   "id": "e48da22b-38de-464d-b8d6-f32e41ad565f",
   "metadata": {},
   "outputs": [],
   "source": [
    "from scipy.stats import zscore\n",
    "\n",
    "# Compute Z-scores for final exam scores to standardize values\n",
    "df[\"Z-score\"] = zscore(df[\"Final Exam Scores\"])"
   ]
  },
  {
   "cell_type": "code",
   "execution_count": 43,
   "id": "cc627779-0983-491e-b176-d646074a5b2e",
   "metadata": {},
   "outputs": [
    {
     "data": {
      "text/plain": [
       "0         0.445584\n",
       "1         0.307148\n",
       "2        -1.492513\n",
       "3         0.445584\n",
       "4         1.276197\n",
       "            ...   \n",
       "100251   -0.800336\n",
       "100252    0.791672\n",
       "100253   -1.423296\n",
       "100254   -0.731118\n",
       "100255    1.553068\n",
       "Name: Z-score, Length: 100256, dtype: float64"
      ]
     },
     "execution_count": 43,
     "metadata": {},
     "output_type": "execute_result"
    }
   ],
   "source": [
    "df[\"Z-score\"]"
   ]
  },
  {
   "cell_type": "code",
   "execution_count": 44,
   "id": "028f83a4-ade2-4c36-adeb-d567c1796aa5",
   "metadata": {},
   "outputs": [
    {
     "data": {
      "text/html": [
       "<div>\n",
       "<style scoped>\n",
       "    .dataframe tbody tr th:only-of-type {\n",
       "        vertical-align: middle;\n",
       "    }\n",
       "\n",
       "    .dataframe tbody tr th {\n",
       "        vertical-align: top;\n",
       "    }\n",
       "\n",
       "    .dataframe thead th {\n",
       "        text-align: right;\n",
       "    }\n",
       "</style>\n",
       "<table border=\"1\" class=\"dataframe\">\n",
       "  <thead>\n",
       "    <tr style=\"text-align: right;\">\n",
       "      <th></th>\n",
       "      <th>Final Exam Scores</th>\n",
       "      <th>Z-score</th>\n",
       "    </tr>\n",
       "  </thead>\n",
       "  <tbody>\n",
       "    <tr>\n",
       "      <th>0</th>\n",
       "      <td>81</td>\n",
       "      <td>0.445584</td>\n",
       "    </tr>\n",
       "    <tr>\n",
       "      <th>1</th>\n",
       "      <td>79</td>\n",
       "      <td>0.307148</td>\n",
       "    </tr>\n",
       "    <tr>\n",
       "      <th>2</th>\n",
       "      <td>53</td>\n",
       "      <td>-1.492513</td>\n",
       "    </tr>\n",
       "    <tr>\n",
       "      <th>3</th>\n",
       "      <td>81</td>\n",
       "      <td>0.445584</td>\n",
       "    </tr>\n",
       "    <tr>\n",
       "      <th>4</th>\n",
       "      <td>93</td>\n",
       "      <td>1.276197</td>\n",
       "    </tr>\n",
       "  </tbody>\n",
       "</table>\n",
       "</div>"
      ],
      "text/plain": [
       "   Final Exam Scores   Z-score\n",
       "0                 81  0.445584\n",
       "1                 79  0.307148\n",
       "2                 53 -1.492513\n",
       "3                 81  0.445584\n",
       "4                 93  1.276197"
      ]
     },
     "execution_count": 44,
     "metadata": {},
     "output_type": "execute_result"
    }
   ],
   "source": [
    "# Display the first few rows for clarity\n",
    "df[[\"Final Exam Scores\", \"Z-score\"]].head()"
   ]
  }
 ],
 "metadata": {
  "kernelspec": {
   "display_name": "Python 3 (ipykernel)",
   "language": "python",
   "name": "python3"
  },
  "language_info": {
   "codemirror_mode": {
    "name": "ipython",
    "version": 3
   },
   "file_extension": ".py",
   "mimetype": "text/x-python",
   "name": "python",
   "nbconvert_exporter": "python",
   "pygments_lexer": "ipython3",
   "version": "3.12.7"
  }
 },
 "nbformat": 4,
 "nbformat_minor": 5
}
