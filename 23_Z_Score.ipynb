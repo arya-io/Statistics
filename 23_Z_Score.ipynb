{
 "cells": [
  {
   "cell_type": "code",
   "execution_count": 1,
   "id": "42f8e75e-3911-41ae-acce-cfc63515d37c",
   "metadata": {},
   "outputs": [],
   "source": [
    "# Import necessary libraries\n",
    "import pandas as pd  # For handling data in tabular format\n",
    "import numpy as np  # For numerical computations\n",
    "from scipy.stats import norm  # For working with normal distribution\n",
    "\n",
    "# PDF (Probability Density Function) and CDF (Cumulative Distribution Function)\n",
    "# These functions help analyze the probability distribution of continuous data\n",
    "# - PDF: Shows the likelihood of different values occurring\n",
    "# - CDF: Represents the cumulative probability up to a given value"
   ]
  },
  {
   "cell_type": "code",
   "execution_count": 2,
   "id": "6c3ae504-41ad-47e8-92e3-7d47bf098319",
   "metadata": {},
   "outputs": [
    {
     "name": "stdout",
     "output_type": "stream",
     "text": [
      "   Unnamed: 0.1  Unnamed: 0 Gender     Height      Weight  Weight_zscore  \\\n",
      "0             0           0   Male  73.847017  241.893563       2.505797   \n",
      "1             1           1   Male  68.781904  162.310473       0.027101   \n",
      "2             2           2   Male  74.110105  212.740856       1.597806   \n",
      "3             3           3   Male  71.730978  220.042470       1.825222   \n",
      "4             4           4   Male  69.881796  206.349801       1.398750   \n",
      "\n",
      "   Height_zscore  \n",
      "0       1.944061  \n",
      "1       0.627537  \n",
      "2       2.012443  \n",
      "3       1.394060  \n",
      "4       0.913421  \n"
     ]
    }
   ],
   "source": [
    "# Load the dataset from the specified file path\n",
    "# Ensure the file exists at the given location before running the code\n",
    "df = pd.read_csv(\"C:/Users/dbda.STUDENTSDC/Music/LabPractice/Notebooks/Datasets/weight-height.csv\")\n",
    "\n",
    "# Now, 'df' contains the weight-height data, which can be analyzed further.\n",
    "# To check the first few rows of the dataset, you can run:\n",
    "print(df.head())  # Displays the first five rows to get an overview of the data structure"
   ]
  },
  {
   "cell_type": "code",
   "execution_count": 3,
   "id": "83d9a4c9-11c9-4943-baba-97b5f8b6d723",
   "metadata": {},
   "outputs": [
    {
     "name": "stdout",
     "output_type": "stream",
     "text": [
      "Mean Height: 66.36755975482124\n",
      "Standard Deviation of Height: 3.8475281207732324\n"
     ]
    }
   ],
   "source": [
    "# Calculate the mean of the 'Height' column\n",
    "# This represents the average height value in the dataset\n",
    "height_mean = df['Height'].mean()\n",
    "\n",
    "# Calculate the standard deviation of the 'Height' column\n",
    "# This measures the dispersion of height values around the mean\n",
    "height_std = df['Height'].std()\n",
    "\n",
    "# Print the computed values for better understanding\n",
    "print(\"Mean Height:\", height_mean)\n",
    "print(\"Standard Deviation of Height:\", height_std)"
   ]
  },
  {
   "cell_type": "code",
   "execution_count": 4,
   "id": "c0b7b36e-2d3e-49a3-b96d-fe6857681b73",
   "metadata": {},
   "outputs": [],
   "source": [
    "# Define the specific height range for which to calculate PDF values\n",
    "start_height = 68  # Lower bound of the height range\n",
    "end_height = 70  # Upper bound of the height range\n",
    "\n",
    "# This range will be used in probability density calculations to analyze the likelihood\n",
    "# of heights falling within this interval based on the dataset's distribution."
   ]
  },
  {
   "cell_type": "code",
   "execution_count": 5,
   "id": "1973c8b7-d0e4-4cea-835f-17d649a4ace1",
   "metadata": {},
   "outputs": [
    {
     "name": "stdout",
     "output_type": "stream",
     "text": [
      "Generated height values: [68. 70.]\n"
     ]
    }
   ],
   "source": [
    "# Define the number of points to generate within the specified height range\n",
    "num_points = 2  # This sets how many height values to generate\n",
    "\n",
    "# Generate evenly spaced values between 'start_height' and 'end_height'\n",
    "# np.linspace(start, stop, num) creates 'num' values from 'start' to 'stop' (inclusive)\n",
    "height_values_in_range = np.linspace(start_height, end_height, num_points)\n",
    "\n",
    "# Print the generated height values for clarity\n",
    "print(\"Generated height values:\", height_values_in_range)"
   ]
  },
  {
   "cell_type": "code",
   "execution_count": 6,
   "id": "37906fc9-2f27-4c94-9db7-460806a8fa03",
   "metadata": {},
   "outputs": [
    {
     "name": "stdout",
     "output_type": "stream",
     "text": [
      "[0.09476289 0.06640193]\n"
     ]
    }
   ],
   "source": [
    "# Calculate PDF (Probability Density Function) values for the specified height range\n",
    "# PDF provides the likelihood of observing specific values based on a normal distribution\n",
    "\n",
    "pdf_values_in_range = norm.pdf(height_values_in_range, height_mean, height_std)\n",
    "\n",
    "# Breakdown of parameters:\n",
    "# - height_values_in_range: The specific range of height values to analyze\n",
    "# - height_mean: Mean of the height distribution (center of the normal curve)\n",
    "# - height_std: Standard deviation of heights (spread of the distribution)\n",
    "\n",
    "# To inspect the computed PDF values, print the output:\n",
    "print(pdf_values_in_range)  # Displays the probability density for each height in the range"
   ]
  },
  {
   "cell_type": "code",
   "execution_count": 7,
   "id": "c824184e-1816-4ec8-b390-1ea3238b6360",
   "metadata": {},
   "outputs": [
    {
     "name": "stdout",
     "output_type": "stream",
     "text": [
      "68.0 0.09476288995625082\n",
      "70.0 0.06640193233904933\n"
     ]
    }
   ],
   "source": [
    "# Loop through the generated height values\n",
    "# This iterates over each height and prints its corresponding PDF value\n",
    "for i in range(len(height_values_in_range)):\n",
    "    print(height_values_in_range[i], pdf_values_in_range[i])\n",
    "\n",
    "# Interpretation:\n",
    "# - 'height_values_in_range[i]' represents the height value at index 'i'\n",
    "# - 'pdf_values_in_range[i]' contains the probability density for that height\n",
    "# - Together, they show how likely each height value is under the normal distribution"
   ]
  },
  {
   "cell_type": "code",
   "execution_count": 8,
   "id": "4693a716-530e-4c59-b4a1-476d26fc3f73",
   "metadata": {},
   "outputs": [
    {
     "name": "stdout",
     "output_type": "stream",
     "text": [
      "0.1631197592684437\n"
     ]
    }
   ],
   "source": [
    "# Calculate the Cumulative Distribution Function (CDF) for the specified height range\n",
    "# CDF helps determine the probability that a value falls within a certain range\n",
    "\n",
    "# Compute the exact probability that a height falls between 'start_height' and 'end_height'\n",
    "# This is done by subtracting the cumulative probability up to 'start_height' from the cumulative probability up to 'end_height'\n",
    "prob_range_exact = norm.cdf(end_height, height_mean, height_std) - norm.cdf(start_height, height_mean, height_std)\n",
    "\n",
    "# Print the probability value\n",
    "print(prob_range_exact)  # Displays the probability of heights falling in the given range"
   ]
  }
 ],
 "metadata": {
  "kernelspec": {
   "display_name": "Python 3 (ipykernel)",
   "language": "python",
   "name": "python3"
  },
  "language_info": {
   "codemirror_mode": {
    "name": "ipython",
    "version": 3
   },
   "file_extension": ".py",
   "mimetype": "text/x-python",
   "name": "python",
   "nbconvert_exporter": "python",
   "pygments_lexer": "ipython3",
   "version": "3.12.7"
  }
 },
 "nbformat": 4,
 "nbformat_minor": 5
}
