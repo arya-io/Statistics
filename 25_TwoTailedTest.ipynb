{
 "cells": [
  {
   "cell_type": "code",
   "execution_count": 1,
   "id": "7d7434e6-64f8-474f-a3bd-a256e821aefa",
   "metadata": {},
   "outputs": [],
   "source": [
    "# Hypothesis Testing Example for Medicine Testing\n",
    "# A pharmaceutical company claims that fever symptoms last for a duration \n",
    "# different from the historically observed 16 weeks.\n",
    "\n",
    "# Null Hypothesis (H0): Mean fever duration is 16 weeks (mu = 16)\n",
    "# Alternative Hypothesis (H1): Mean fever duration is not 16 weeks (mu <> 16)\n",
    "\n",
    "# This setup will help us conduct hypothesis testing to determine if there \n",
    "# is sufficient statistical evidence to support the claim."
   ]
  },
  {
   "cell_type": "code",
   "execution_count": 2,
   "id": "6a43f956-3d29-48ed-917b-97bd32574819",
   "metadata": {},
   "outputs": [],
   "source": [
    "# Import necessary libraries for statistical analysis\n",
    "import numpy as np  # For numerical computations\n",
    "from scipy.stats import norm  # For normal distribution-related functions\n",
    "\n",
    "# These libraries will help us perform hypothesis testing,\n",
    "# including calculating probabilities and critical values under the normal distribution."
   ]
  },
  {
   "cell_type": "code",
   "execution_count": 3,
   "id": "118e4ff6-f8e2-41cf-80bb-629712fe2b99",
   "metadata": {},
   "outputs": [],
   "source": [
    "# Set a random seed for reproducibility\n",
    "np.random.seed(42)  # Ensures the results are the same every time you run the code\n",
    "\n",
    "# Define the sample size\n",
    "n = 1000  # Number of patients in the study\n",
    "\n",
    "# This sets up the foundation for generating synthetic data on fever recovery durations."
   ]
  },
  {
   "cell_type": "code",
   "execution_count": 4,
   "id": "97e1b124-741c-4fc7-bc4d-973e4825b06c",
   "metadata": {},
   "outputs": [
    {
     "name": "stdout",
     "output_type": "stream",
     "text": [
      "[16.99342831 15.7234714  17.29537708 19.04605971 15.53169325 15.53172609\n",
      " 19.15842563 17.53486946 15.06105123 17.08512009]\n"
     ]
    }
   ],
   "source": [
    "# Generate random sample data representing fever recovery durations\n",
    "# Using a normal distribution, assuming the historical mean recovery time is 16 weeks\n",
    "# loc = mean (mu) of the normal distribution (center of the distribution)\n",
    "# scale = standard deviation (sigma), controlling variability in recovery times\n",
    "\n",
    "fever_durations = np.random.normal(loc=16, scale=2, size=n)\n",
    "\n",
    "# Print the first few generated values to inspect the dataset\n",
    "print(fever_durations[:10])  # Displays the first 10 simulated recovery times"
   ]
  },
  {
   "cell_type": "code",
   "execution_count": 5,
   "id": "867b3906-b55e-45f1-af63-3ec92d95ce17",
   "metadata": {},
   "outputs": [
    {
     "name": "stdout",
     "output_type": "stream",
     "text": [
      "[19.99806631 18.57390105 15.97889111 13.85918967 17.89466994 16.98045616\n",
      " 18.48557966 17.70551541 18.94865815 14.19429437]\n"
     ]
    }
   ],
   "source": [
    "# Generate random sample data representing fever recovery durations\n",
    "# Assuming the new treatment results in a slightly different mean duration (15.8 weeks)\n",
    "# loc = 15.8 (mean recovery duration under the new treatment)\n",
    "# scale = 3 (standard deviation, indicating variability in recovery times)\n",
    "# size = n (total number of samples)\n",
    "\n",
    "sample_data = np.random.normal(loc=15.8, scale=3, size=n)\n",
    "\n",
    "# Print the first few generated values to inspect the dataset\n",
    "print(sample_data[:10])  # Displays the first 10 simulated recovery times"
   ]
  },
  {
   "cell_type": "code",
   "execution_count": 6,
   "id": "166a3ca5-a011-43fd-9e07-762c298120ba",
   "metadata": {},
   "outputs": [],
   "source": [
    "# Define the mean value under the null hypothesis (H0)\n",
    "# H0 states that the average fever recovery duration is 16 weeks\n",
    "mu0 = 16\n",
    "\n",
    "# This will be used in hypothesis testing to compare with the sample data"
   ]
  },
  {
   "cell_type": "code",
   "execution_count": 7,
   "id": "76e7b130-a0a4-4405-9e79-f5f961187ac0",
   "metadata": {},
   "outputs": [
    {
     "name": "stdout",
     "output_type": "stream",
     "text": [
      "Sample Mean: 16.01250871174747\n",
      "Sample Standard Deviation: 2.9923631316822625\n",
      "Standard Error: 0.0946268308243031\n"
     ]
    }
   ],
   "source": [
    "# Compute sample statistics for hypothesis testing\n",
    "sample_mean = np.mean(sample_data)  # Calculate the mean of the sample data\n",
    "sample_std = np.std(sample_data, ddof=1)  # Compute the sample standard deviation (using Bessel's correction)\n",
    "se = sample_std / np.sqrt(n)  # Calculate the standard error of the mean (SE)\n",
    "\n",
    "# Print the computed values for inspection\n",
    "print(\"Sample Mean:\", sample_mean)\n",
    "print(\"Sample Standard Deviation:\", sample_std)\n",
    "print(\"Standard Error:\", se)"
   ]
  },
  {
   "cell_type": "code",
   "execution_count": 8,
   "id": "c2b7237f-040c-4245-9dae-797c3dd0982c",
   "metadata": {},
   "outputs": [
    {
     "name": "stdout",
     "output_type": "stream",
     "text": [
      "Z-Statistic: 0.13218990468669334\n",
      "P-Value: 0.8948340859411157\n",
      "Fail to reject H0: No significant difference in fever duration.\n"
     ]
    }
   ],
   "source": [
    "# Perform a two-tailed Z-test to evaluate the hypothesis\n",
    "# - This test checks if the sample mean significantly differs from the hypothesized mean (mu0)\n",
    "# - Since it's a two-tailed test, we calculate both tails of the normal distribution\n",
    "\n",
    "z_stat = (sample_mean - mu0) / se  # Compute the Z-score (standardized test statistic)\n",
    "\n",
    "# Compute the two-tailed p-value\n",
    "# norm.cdf(z_stat) gives the probability of observing a value ≤ z_stat under normality\n",
    "# We multiply by 2 to account for both tails (extreme values in both directions)\n",
    "p_value = 2 * min(norm.cdf(z_stat), 1 - norm.cdf(z_stat))\n",
    "\n",
    "# Print the results for interpretation\n",
    "print(\"Z-Statistic:\", z_stat)\n",
    "print(\"P-Value:\", p_value)\n",
    "\n",
    "# Decision criteria: \n",
    "# - If p_value ≤ 0.05: Reject H0 (significant difference in recovery duration)\n",
    "# - If p_value > 0.05: Fail to reject H0 (no significant evidence of difference)\n",
    "if p_value <= 0.05:\n",
    "    print(\"Reject H0: Fever duration is significantly different from 16 weeks.\")\n",
    "else:\n",
    "    print(\"Fail to reject H0: No significant difference in fever duration.\")"
   ]
  },
  {
   "cell_type": "code",
   "execution_count": 9,
   "id": "d7dbfb53-2ca9-438d-bbfb-b452e371a652",
   "metadata": {},
   "outputs": [
    {
     "name": "stdout",
     "output_type": "stream",
     "text": [
      "Alpha       Z-Stat     P-Value     Critical z       Decision\n",
      "------------------------------------------------------------\n",
      "    0.01    0.1322      0.8948         2.5758 Fail to Reject\n",
      "    0.05    0.1322      0.8948         1.9600 Fail to Reject\n",
      "    0.10    0.1322      0.8948         1.6449 Fail to Reject\n"
     ]
    }
   ],
   "source": [
    "# Define different significance levels (alpha values) for hypothesis testing\n",
    "alphas = [0.01, 0.05, 0.10]  # Common thresholds for rejecting the null hypothesis\n",
    "\n",
    "# Print table header with formatted spacing\n",
    "print(f\"{'Alpha':<8}{'Z-Stat':>10}{'P-Value':>12}{'Critical z':>15}{'Decision':>15}\")\n",
    "print(\"-\" * 60)  # Separator for readability\n",
    "\n",
    "# Loop through each alpha level to compute critical values and decide hypothesis outcome\n",
    "for alpha in alphas:\n",
    "    z_critical = norm.ppf(1 - alpha / 2)  # Compute two-tailed critical Z value\n",
    "    decision = \"Reject H0\" if abs(z_stat) > z_critical else \"Fail to Reject\"  # Hypothesis test decision\n",
    "    print(f\"{alpha:8.2f}{z_stat:>10.4}{p_value:>12.4f}{z_critical:>15.4f}{decision:>15}\")"
   ]
  }
 ],
 "metadata": {
  "kernelspec": {
   "display_name": "Python 3 (ipykernel)",
   "language": "python",
   "name": "python3"
  },
  "language_info": {
   "codemirror_mode": {
    "name": "ipython",
    "version": 3
   },
   "file_extension": ".py",
   "mimetype": "text/x-python",
   "name": "python",
   "nbconvert_exporter": "python",
   "pygments_lexer": "ipython3",
   "version": "3.12.7"
  }
 },
 "nbformat": 4,
 "nbformat_minor": 5
}
