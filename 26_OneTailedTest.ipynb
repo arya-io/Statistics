{
 "cells": [
  {
   "cell_type": "code",
   "execution_count": 1,
   "id": "be983d0d-95d6-4270-9faa-ecbc6ce1717d",
   "metadata": {},
   "outputs": [],
   "source": [
    "# ONE-TAILED TEST (Left-Tailed)\n",
    "# Hypothesis Testing Example for Medicine Testing\n",
    "\n",
    "# A pharmaceutical company claims that their new medicine reduces fever duration.\n",
    "# Historically, the average fever duration is 16 weeks.\n",
    "\n",
    "# Null Hypothesis (H0): Mean fever duration is at least 16 weeks (mu >= 16)\n",
    "# Alternative Hypothesis (H1): Mean fever duration is less than 16 weeks (mu < 16)\n",
    "\n",
    "# This setup prepares us to conduct a hypothesis test to determine whether the new \n",
    "# medicine significantly lowers fever recovery time."
   ]
  },
  {
   "cell_type": "code",
   "execution_count": 2,
   "id": "86c933bf-a180-4229-a41c-fee68880cc09",
   "metadata": {},
   "outputs": [],
   "source": [
    "# Import necessary libraries for statistical analysis\n",
    "import numpy as np  # For numerical computations\n",
    "from scipy.stats import norm  # For normal distribution-related functions\n",
    "\n",
    "# These libraries will help with numerical operations and statistical hypothesis testing."
   ]
  },
  {
   "cell_type": "code",
   "execution_count": 3,
   "id": "9058d29d-10dd-42fe-83f1-364acf0ef6a0",
   "metadata": {},
   "outputs": [],
   "source": [
    "# Set a random seed for reproducibility\n",
    "np.random.seed(42)  # Ensures the results remain consistent across runs\n",
    "\n",
    "# Define the sample size (number of patients in the study)\n",
    "n = 1000  # Simulated data for 1,000 patients"
   ]
  },
  {
   "cell_type": "code",
   "execution_count": 4,
   "id": "39016826-8c74-45c5-bd4c-5c3516ec2e39",
   "metadata": {},
   "outputs": [
    {
     "name": "stdout",
     "output_type": "stream",
     "text": [
      "[17.49014246 15.5852071  17.94306561 20.56908957 15.29753988 15.29758913\n",
      " 20.73763845 18.30230419 14.59157684 17.62768013]\n"
     ]
    }
   ],
   "source": [
    "# Generate random numbers from a normal distribution\n",
    "# Using loc = mean (mu) as the center of the distribution\n",
    "# Using scale = standard deviation (sigma) to control variability in the data\n",
    "\n",
    "random_data = np.random.normal(loc=16, scale=3, size=1000)\n",
    "\n",
    "# Print first 10 generated values for inspection\n",
    "print(random_data[:10])  # Displays sample values to verify distribution"
   ]
  },
  {
   "cell_type": "code",
   "execution_count": 5,
   "id": "19763fb6-75ca-4abb-b04e-465fdff26354",
   "metadata": {},
   "outputs": [
    {
     "name": "stdout",
     "output_type": "stream",
     "text": [
      "[19.99806631 18.57390105 15.97889111 13.85918967 17.89466994 16.98045616\n",
      " 18.48557966 17.70551541 18.94865815 14.19429437]\n"
     ]
    }
   ],
   "source": [
    "# Generate random sample data representing fever recovery durations\n",
    "# Assuming the new medicine reduces the fever duration to a mean of 15.8 weeks\n",
    "# loc = 15.8 (mean recovery duration under the new treatment)\n",
    "# scale = 3 (standard deviation, indicating variability in recovery times)\n",
    "# size = n (total number of samples)\n",
    "\n",
    "sample_data = np.random.normal(loc=15.8, scale=3, size=n)\n",
    "\n",
    "# Print the first few generated values to inspect the dataset\n",
    "print(sample_data[:10])  # Displays the first 10 simulated recovery times"
   ]
  },
  {
   "cell_type": "code",
   "execution_count": 6,
   "id": "4f1dff35-4b8f-42eb-a924-40692119e6af",
   "metadata": {},
   "outputs": [],
   "source": [
    "# Define the mean value under the null hypothesis (H0)\n",
    "# H0 states that the average fever recovery duration is 16 weeks\n",
    "mu0 = 16\n",
    "\n",
    "# This value will be used for statistical hypothesis testing to compare against the sample mean."
   ]
  },
  {
   "cell_type": "code",
   "execution_count": 7,
   "id": "cf0ce509-036f-434d-b7f2-636e96e1591d",
   "metadata": {},
   "outputs": [
    {
     "name": "stdout",
     "output_type": "stream",
     "text": [
      "Sample Mean: 16.01250871174747\n",
      "Sample Standard Deviation: 2.9923631316822625\n",
      "Standard Error: 0.0946268308243031\n"
     ]
    }
   ],
   "source": [
    "# Compute sample statistics for hypothesis testing\n",
    "sample_mean = np.mean(sample_data)  # Calculate the mean of the sample data\n",
    "sample_std = np.std(sample_data, ddof=1)  # Compute the sample standard deviation (using Bessel's correction)\n",
    "se = sample_std / np.sqrt(n)  # Calculate the standard error of the mean (SE)\n",
    "\n",
    "# Print the computed values for inspection\n",
    "print(\"Sample Mean:\", sample_mean)\n",
    "print(\"Sample Standard Deviation:\", sample_std)\n",
    "print(\"Standard Error:\", se)"
   ]
  },
  {
   "cell_type": "code",
   "execution_count": 8,
   "id": "51f5cf62-cf90-482b-8d29-49721812bab5",
   "metadata": {},
   "outputs": [
    {
     "name": "stdout",
     "output_type": "stream",
     "text": [
      "Z-Statistic: 0.13218990468669334\n",
      "P-Value: 0.5525829570294422\n",
      "Fail to reject H0: No significant evidence that fever duration is shorter than 16 weeks.\n"
     ]
    }
   ],
   "source": [
    "# Perform a one-tailed Z-test to evaluate the hypothesis\n",
    "# - This test checks if the sample mean is significantly less than the hypothesized mean (mu0)\n",
    "\n",
    "z_stat = (sample_mean - mu0) / se  # Compute the Z-score (standardized test statistic)\n",
    "\n",
    "# Compute the one-tailed p-value\n",
    "# norm.cdf(z_stat) gives the probability of observing a value ≤ z_stat under normality\n",
    "p_value = norm.cdf(z_stat)\n",
    "\n",
    "# Print the results for interpretation\n",
    "print(\"Z-Statistic:\", z_stat)\n",
    "print(\"P-Value:\", p_value)\n",
    "\n",
    "# Decision criteria:\n",
    "# - If p_value ≤ 0.05: Reject H0 (significant difference, sample mean is significantly lower)\n",
    "# - If p_value > 0.05: Fail to reject H0 (no significant evidence that sample mean is lower)\n",
    "if p_value <= 0.05:\n",
    "    print(\"Reject H0: Fever duration is significantly shorter than 16 weeks.\")\n",
    "else:\n",
    "    print(\"Fail to reject H0: No significant evidence that fever duration is shorter than 16 weeks.\")"
   ]
  },
  {
   "cell_type": "code",
   "execution_count": 9,
   "id": "5353ad1b-5ad5-41d6-a309-367b0eef8df1",
   "metadata": {},
   "outputs": [
    {
     "name": "stdout",
     "output_type": "stream",
     "text": [
      "Alpha       Z-Stat     P-Value     Critical z       Decision\n",
      "------------------------------------------------------------\n",
      "0.01        0.1322      0.5526        -2.3263 Fail to Reject\n",
      "0.05        0.1322      0.5526        -1.6449 Fail to Reject\n",
      "0.10        0.1322      0.5526        -1.2816 Fail to Reject\n"
     ]
    }
   ],
   "source": [
    "# Define different significance levels (alpha values) for hypothesis testing\n",
    "alphas = [0.01, 0.05, 0.10]  # Common thresholds for rejecting the null hypothesis\n",
    "\n",
    "# Print table header with formatted spacing\n",
    "print(f\"{'Alpha':<8}{'Z-Stat':>10}{'P-Value':>12}{'Critical z':>15}{'Decision':>15}\")\n",
    "print(\"-\" * 60)  # Separator for readability\n",
    "\n",
    "# Loop through each alpha level to compute critical values and decide hypothesis outcome\n",
    "for alpha in alphas:\n",
    "    z_critical = norm.ppf(alpha)  # Compute one-tailed critical Z value\n",
    "    decision = \"Reject H0\" if z_stat < z_critical else \"Fail to Reject\"  # Hypothesis test decision\n",
    "    print(f\"{alpha:<8.2f}{z_stat:>10.4f}{p_value:>12.4f}{z_critical:>15.4f}{decision:>15}\")"
   ]
  }
 ],
 "metadata": {
  "kernelspec": {
   "display_name": "Python 3 (ipykernel)",
   "language": "python",
   "name": "python3"
  },
  "language_info": {
   "codemirror_mode": {
    "name": "ipython",
    "version": 3
   },
   "file_extension": ".py",
   "mimetype": "text/x-python",
   "name": "python",
   "nbconvert_exporter": "python",
   "pygments_lexer": "ipython3",
   "version": "3.12.7"
  }
 },
 "nbformat": 4,
 "nbformat_minor": 5
}
