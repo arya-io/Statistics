{
 "cells": [
  {
   "cell_type": "code",
   "execution_count": 1,
   "id": "125a6271-d389-42b1-9df0-756f333746c1",
   "metadata": {},
   "outputs": [],
   "source": [
    "# RIGHT-TAILED-TEST: Hypothesis Testing for Battery Life Improvement\n",
    "# A battery manufacturer claims that a new technology extends battery life beyond 30 hours.\n",
    "\n",
    "# Null Hypothesis (H0): Mean battery life is ≤ 30 hours (mu ≤ 30)\n",
    "# Alternative Hypothesis (H1): Mean battery life is > 30 hours (mu > 30)\n",
    "\n",
    "# This setup will guide us through hypothesis testing to evaluate whether there is \n",
    "# statistical evidence supporting the manufacturer's claim."
   ]
  },
  {
   "cell_type": "code",
   "execution_count": 2,
   "id": "9fe2fab5-7c21-4586-84c1-28bbd4ad78b6",
   "metadata": {},
   "outputs": [],
   "source": [
    "# Import necessary libraries for statistical analysis\n",
    "import numpy as np  # For numerical computations\n",
    "from scipy.stats import norm  # For normal distribution-related functions\n",
    "\n",
    "# These libraries will help with numerical operations and statistical hypothesis testing."
   ]
  },
  {
   "cell_type": "code",
   "execution_count": 3,
   "id": "0bf57531-80a7-4c13-848a-c75091e25aee",
   "metadata": {},
   "outputs": [],
   "source": [
    "# Set a random seed for reproducibility\n",
    "np.random.seed(42)  # Ensures consistent results across runs\n",
    "\n",
    "# Define the sample size\n",
    "n = 1000  # Number of batteries tested in the study\n",
    "\n",
    "# This setup prepares the foundation for generating synthetic data on battery life improvements."
   ]
  },
  {
   "cell_type": "code",
   "execution_count": 4,
   "id": "95573a08-9055-434d-b0b6-18531cfe9769",
   "metadata": {},
   "outputs": [
    {
     "name": "stdout",
     "output_type": "stream",
     "text": [
      "[32.49014246 30.5852071  32.94306561 35.56908957 30.29753988 30.29758913\n",
      " 35.73763845 33.30230419 29.59157684 32.62768013]\n"
     ]
    }
   ],
   "source": [
    "# Generate random battery life durations from a normal distribution\n",
    "# loc = mean (mu), representing the average battery life\n",
    "# scale = standard deviation (sigma), controlling the variability in battery performance\n",
    "\n",
    "battery_life_samples = np.random.normal(loc=31, scale=3, size=n)  # Simulating battery life data\n",
    "\n",
    "# Print the first few generated values to inspect the dataset\n",
    "print(battery_life_samples[:10])  # Displays the first 10 simulated battery durations"
   ]
  },
  {
   "cell_type": "code",
   "execution_count": 5,
   "id": "b3910729-4a17-4238-b6ad-b205e651cb69",
   "metadata": {},
   "outputs": [
    {
     "name": "stdout",
     "output_type": "stream",
     "text": [
      "[34.29806631 32.87390105 30.27889111 28.15918967 32.19466994 31.28045616\n",
      " 32.78557966 32.00551541 33.24865815 28.49429437]\n"
     ]
    }
   ],
   "source": [
    "# Generate random sample data representing battery life durations under new technology\n",
    "# - loc = 30.1 (assumed mean battery life under the new technology)\n",
    "# - scale = 3 (standard deviation, indicating variability in battery performance)\n",
    "# - size = n (total number of samples)\n",
    "\n",
    "sample_data = np.random.normal(loc=30.1, scale=3, size=n)\n",
    "\n",
    "# Print the first few generated values to inspect the dataset\n",
    "print(sample_data[:10])  # Displays the first 10 simulated battery durations"
   ]
  },
  {
   "cell_type": "code",
   "execution_count": 6,
   "id": "cb177cfd-8ee9-44fc-98bb-ab858fed2945",
   "metadata": {},
   "outputs": [],
   "source": [
    "# Define the mean value under the null hypothesis (H0)\n",
    "# H0 states that the average battery life is 30 hours or less\n",
    "mu0 = 30\n",
    "\n",
    "# This value will be used in hypothesis testing to compare against the sample mean."
   ]
  },
  {
   "cell_type": "code",
   "execution_count": 7,
   "id": "390f613f-c6c6-4ead-8a19-856836ead279",
   "metadata": {},
   "outputs": [
    {
     "name": "stdout",
     "output_type": "stream",
     "text": [
      "Sample Mean: 30.31250871174747\n",
      "Sample Standard Deviation: 2.9923631316822625\n",
      "Standard Error: 0.0946268308243031\n"
     ]
    }
   ],
   "source": [
    "# Compute sample statistics for hypothesis testing\n",
    "sample_mean = np.mean(sample_data)  # Calculate the mean of the sample data\n",
    "sample_std = np.std(sample_data, ddof=1)  # Compute the sample standard deviation (using Bessel's correction)\n",
    "se = sample_std / np.sqrt(n)  # Calculate the standard error of the mean (SE)\n",
    "\n",
    "# Print the computed values for inspection\n",
    "print(\"Sample Mean:\", sample_mean)\n",
    "print(\"Sample Standard Deviation:\", sample_std)\n",
    "print(\"Standard Error:\", se)"
   ]
  },
  {
   "cell_type": "code",
   "execution_count": 8,
   "id": "17663616-427f-4646-b3ce-d8566fc44dde",
   "metadata": {},
   "outputs": [
    {
     "name": "stdout",
     "output_type": "stream",
     "text": [
      "Z-Statistic: 3.302538075355339\n",
      "P-Value: 0.00047907039547490093\n",
      "Reject H0: Battery life is significantly greater than 30 hours.\n"
     ]
    }
   ],
   "source": [
    "# Perform a right-tailed Z-test to evaluate the hypothesis\n",
    "# - This test checks if the sample mean is significantly greater than the hypothesized mean (mu0)\n",
    "\n",
    "z_stat = (sample_mean - mu0) / se  # Compute the Z-score (standardized test statistic)\n",
    "\n",
    "# Compute the right-tailed p-value\n",
    "# norm.cdf(z_stat) gives the probability of observing a value ≤ z_stat under normality\n",
    "# Since we're testing whether the mean is greater, we subtract from 1 to capture the right tail\n",
    "p_value = 1 - norm.cdf(z_stat)\n",
    "\n",
    "# Print the results for interpretation\n",
    "print(\"Z-Statistic:\", z_stat)\n",
    "print(\"P-Value:\", p_value)\n",
    "\n",
    "# Decision criteria:\n",
    "# - If p_value ≤ 0.05: Reject H0 (significant evidence that battery life exceeds 30 hours)\n",
    "# - If p_value > 0.05: Fail to reject H0 (no significant evidence supporting battery life improvement)\n",
    "if p_value <= 0.05:\n",
    "    print(\"Reject H0: Battery life is significantly greater than 30 hours.\")\n",
    "else:\n",
    "    print(\"Fail to reject H0: No significant evidence that battery life exceeds 30 hours.\")"
   ]
  },
  {
   "cell_type": "code",
   "execution_count": 9,
   "id": "d2dd160b-f1ff-4410-ab3f-7380987cab6f",
   "metadata": {},
   "outputs": [
    {
     "name": "stdout",
     "output_type": "stream",
     "text": [
      "Alpha       Z-Stat     P-Value     Critical z       Decision\n",
      "------------------------------------------------------------\n",
      "0.01        3.3025      0.0005         2.3263      Reject H0\n",
      "0.05        3.3025      0.0005         1.6449      Reject H0\n",
      "0.10        3.3025      0.0005         1.2816      Reject H0\n"
     ]
    }
   ],
   "source": [
    "# Define different significance levels (alpha values) for hypothesis testing\n",
    "alphas = [0.01, 0.05, 0.10]  # Common thresholds for rejecting the null hypothesis\n",
    "\n",
    "# Print table header with formatted spacing\n",
    "print(f\"{'Alpha':<8}{'Z-Stat':>10}{'P-Value':>12}{'Critical z':>15}{'Decision':>15}\")\n",
    "print(\"-\" * 60)  # Separator for readability\n",
    "\n",
    "# Loop through each alpha level to compute critical values and decide hypothesis outcome\n",
    "for alpha in alphas:\n",
    "    z_critical = norm.ppf(1 - alpha)  # Compute one-tailed critical Z value\n",
    "    decision = \"Reject H0\" if z_stat > z_critical else \"Fail to Reject\"  # Hypothesis test decision\n",
    "    print(f\"{alpha:<8.2f}{z_stat:>10.4f}{p_value:>12.4f}{z_critical:>15.4f}{decision:>15}\")"
   ]
  }
 ],
 "metadata": {
  "kernelspec": {
   "display_name": "Python 3 (ipykernel)",
   "language": "python",
   "name": "python3"
  },
  "language_info": {
   "codemirror_mode": {
    "name": "ipython",
    "version": 3
   },
   "file_extension": ".py",
   "mimetype": "text/x-python",
   "name": "python",
   "nbconvert_exporter": "python",
   "pygments_lexer": "ipython3",
   "version": "3.12.7"
  }
 },
 "nbformat": 4,
 "nbformat_minor": 5
}
