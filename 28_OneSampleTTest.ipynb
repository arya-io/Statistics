{
 "cells": [
  {
   "cell_type": "code",
   "execution_count": 1,
   "id": "4c8a454a-f9b3-401f-83a8-02cf62978e34",
   "metadata": {},
   "outputs": [],
   "source": [
    "# Hypothesis Testing: Two-Sample T-Test for Gender-Based Spending Behavior\n",
    "\n",
    "# Dataset: Mall_Customers.csv\n",
    "# The 'Genre' column contains either 'Male' or 'Female'.\n",
    "# The 'Spending Score (1-100)' column represents customer spending behavior.\n",
    "\n",
    "# Objective:\n",
    "# Perform a two-sample t-test to determine if there is a statistically significant difference\n",
    "# in spending scores between Male and Female customers.\n",
    "\n",
    "# Null Hypothesis (H0): There is no difference in mean spending scores between genders.\n",
    "# Alternative Hypothesis (H1): There is a difference in mean spending scores between genders."
   ]
  },
  {
   "cell_type": "code",
   "execution_count": 2,
   "id": "935cf361-f135-4084-b8e2-45795dc1b55d",
   "metadata": {},
   "outputs": [],
   "source": [
    "# Import necessary libraries for data analysis and statistical testing\n",
    "import pandas as pd  # For loading and processing the dataset\n",
    "from scipy import stats  # For performing statistical hypothesis tests\n",
    "\n",
    "# These libraries will help us conduct a one-sample t-test on the spending scores in the dataset."
   ]
  },
  {
   "cell_type": "code",
   "execution_count": 3,
   "id": "852c71d5-0cfa-497b-a8d6-454d09776f6d",
   "metadata": {},
   "outputs": [
    {
     "name": "stdout",
     "output_type": "stream",
     "text": [
      "   CustomerID   Genre  Age  Annual Income (k$)  Spending Score (1-100)\n",
      "0           1    Male   19                  15                      39\n",
      "1           2    Male   21                  15                      81\n",
      "2           3  Female   20                  16                       6\n",
      "3           4  Female   23                  16                      77\n",
      "4           5  Female   31                  17                      40\n"
     ]
    }
   ],
   "source": [
    "# Load the dataset into a Pandas DataFrame\n",
    "data = pd.read_csv('C:/Users/dbda.STUDENTSDC/Music/LabPractice/Notebooks/Datasets/Mall_Customers.csv')\n",
    "\n",
    "# Display the first few rows to inspect the data structure\n",
    "print(data.head())"
   ]
  },
  {
   "cell_type": "code",
   "execution_count": 4,
   "id": "d44fd8f8-aa9d-4c6b-890c-6a97fbd5ac09",
   "metadata": {},
   "outputs": [
    {
     "data": {
      "text/html": [
       "<div>\n",
       "<style scoped>\n",
       "    .dataframe tbody tr th:only-of-type {\n",
       "        vertical-align: middle;\n",
       "    }\n",
       "\n",
       "    .dataframe tbody tr th {\n",
       "        vertical-align: top;\n",
       "    }\n",
       "\n",
       "    .dataframe thead th {\n",
       "        text-align: right;\n",
       "    }\n",
       "</style>\n",
       "<table border=\"1\" class=\"dataframe\">\n",
       "  <thead>\n",
       "    <tr style=\"text-align: right;\">\n",
       "      <th></th>\n",
       "      <th>CustomerID</th>\n",
       "      <th>Genre</th>\n",
       "      <th>Age</th>\n",
       "      <th>Annual Income (k$)</th>\n",
       "      <th>Spending Score (1-100)</th>\n",
       "    </tr>\n",
       "  </thead>\n",
       "  <tbody>\n",
       "    <tr>\n",
       "      <th>0</th>\n",
       "      <td>1</td>\n",
       "      <td>Male</td>\n",
       "      <td>19</td>\n",
       "      <td>15</td>\n",
       "      <td>39</td>\n",
       "    </tr>\n",
       "    <tr>\n",
       "      <th>1</th>\n",
       "      <td>2</td>\n",
       "      <td>Male</td>\n",
       "      <td>21</td>\n",
       "      <td>15</td>\n",
       "      <td>81</td>\n",
       "    </tr>\n",
       "    <tr>\n",
       "      <th>2</th>\n",
       "      <td>3</td>\n",
       "      <td>Female</td>\n",
       "      <td>20</td>\n",
       "      <td>16</td>\n",
       "      <td>6</td>\n",
       "    </tr>\n",
       "    <tr>\n",
       "      <th>3</th>\n",
       "      <td>4</td>\n",
       "      <td>Female</td>\n",
       "      <td>23</td>\n",
       "      <td>16</td>\n",
       "      <td>77</td>\n",
       "    </tr>\n",
       "    <tr>\n",
       "      <th>4</th>\n",
       "      <td>5</td>\n",
       "      <td>Female</td>\n",
       "      <td>31</td>\n",
       "      <td>17</td>\n",
       "      <td>40</td>\n",
       "    </tr>\n",
       "  </tbody>\n",
       "</table>\n",
       "</div>"
      ],
      "text/plain": [
       "   CustomerID   Genre  Age  Annual Income (k$)  Spending Score (1-100)\n",
       "0           1    Male   19                  15                      39\n",
       "1           2    Male   21                  15                      81\n",
       "2           3  Female   20                  16                       6\n",
       "3           4  Female   23                  16                      77\n",
       "4           5  Female   31                  17                      40"
      ]
     },
     "execution_count": 4,
     "metadata": {},
     "output_type": "execute_result"
    }
   ],
   "source": [
    "# Display the first few rows of the dataset to inspect its structure\n",
    "data.head()"
   ]
  },
  {
   "cell_type": "code",
   "execution_count": 5,
   "id": "53c4cd53-1a92-4f44-b74f-269bc7beb101",
   "metadata": {},
   "outputs": [
    {
     "name": "stdout",
     "output_type": "stream",
     "text": [
      "<class 'pandas.core.frame.DataFrame'>\n",
      "RangeIndex: 200 entries, 0 to 199\n",
      "Data columns (total 5 columns):\n",
      " #   Column                  Non-Null Count  Dtype \n",
      "---  ------                  --------------  ----- \n",
      " 0   CustomerID              200 non-null    int64 \n",
      " 1   Genre                   200 non-null    object\n",
      " 2   Age                     200 non-null    int64 \n",
      " 3   Annual Income (k$)      200 non-null    int64 \n",
      " 4   Spending Score (1-100)  200 non-null    int64 \n",
      "dtypes: int64(4), object(1)\n",
      "memory usage: 7.9+ KB\n"
     ]
    }
   ],
   "source": [
    "# Display dataset information, including column names, data types, and missing values\n",
    "data.info()"
   ]
  },
  {
   "cell_type": "code",
   "execution_count": 6,
   "id": "f2039238-4340-459a-acfe-0196fbdaf72b",
   "metadata": {},
   "outputs": [
    {
     "name": "stdout",
     "output_type": "stream",
     "text": [
      "0      19\n",
      "1      21\n",
      "2      20\n",
      "3      23\n",
      "4      31\n",
      "       ..\n",
      "195    35\n",
      "196    45\n",
      "197    32\n",
      "198    32\n",
      "199    30\n",
      "Name: Age, Length: 200, dtype: int64\n"
     ]
    }
   ],
   "source": [
    "# Extract the 'Age' column from the dataset\n",
    "age_data = data['Age']\n",
    "\n",
    "# Display the extracted age data\n",
    "print(age_data)"
   ]
  },
  {
   "cell_type": "code",
   "execution_count": 7,
   "id": "b7f8f922-09a6-468a-a416-17222a6025a4",
   "metadata": {},
   "outputs": [],
   "source": [
    "# Define the hypothesized population average age for statistical testing\n",
    "pop_avg_age = 40\n",
    "\n",
    "# This value will be used as the benchmark for a one-sample t-test\n",
    "# to determine if the sample mean age significantly differs from 40."
   ]
  },
  {
   "cell_type": "code",
   "execution_count": 8,
   "id": "94653050-2cd2-4efc-b38c-6774db8ac790",
   "metadata": {},
   "outputs": [
    {
     "name": "stdout",
     "output_type": "stream",
     "text": [
      "T-Statistic: -1.1642528048895828\n",
      "P-Value: 0.24571546680949305\n",
      "Fail to reject H0: No significant evidence that the average age differs from 40.\n"
     ]
    }
   ],
   "source": [
    "# Perform a one-sample t-test to compare the sample mean age to the hypothesized population mean\n",
    "t_statistic, p_value = stats.ttest_1samp(age_data, pop_avg_age)\n",
    "\n",
    "# Print the test results for interpretation\n",
    "print(\"T-Statistic:\", t_statistic)\n",
    "print(\"P-Value:\", p_value)\n",
    "\n",
    "# Decision criteria:\n",
    "# - If p_value ≤ 0.05: Reject H0 (significant difference in average age)\n",
    "# - If p_value > 0.05: Fail to reject H0 (no significant evidence of difference)\n",
    "if p_value <= 0.05:\n",
    "    print(\"Reject H0: The average age is significantly different from 40.\")\n",
    "else:\n",
    "    print(\"Fail to reject H0: No significant evidence that the average age differs from 40.\")"
   ]
  },
  {
   "cell_type": "code",
   "execution_count": 9,
   "id": "fd94803e-dd39-4b2f-b8b9-10b7b7655256",
   "metadata": {},
   "outputs": [
    {
     "name": "stdout",
     "output_type": "stream",
     "text": [
      "Degrees of Freedom: 199\n"
     ]
    }
   ],
   "source": [
    "# Compute degrees of freedom for the one-sample t-test\n",
    "# Degrees of freedom (df) is calculated as (sample size - 1)\n",
    "degrees_of_freedom = len(age_data) - 1\n",
    "\n",
    "# Print the computed value for verification\n",
    "print(\"Degrees of Freedom:\", degrees_of_freedom)"
   ]
  },
  {
   "cell_type": "code",
   "execution_count": 10,
   "id": "d330db53-a9dd-41fa-8f55-53262440b7b6",
   "metadata": {},
   "outputs": [
    {
     "name": "stdout",
     "output_type": "stream",
     "text": [
      "T-statistic:  -1.1642528048895828\n",
      "P-value:  0.24571546680949305\n",
      "Degrees of freedom:  199\n"
     ]
    }
   ],
   "source": [
    "# Print the results of the one-sample t-test for age comparison\n",
    "print(\"T-statistic: \", t_statistic)  # The computed test statistic\n",
    "print(\"P-value: \", p_value)  # The probability of observing the result under H0\n",
    "print(\"Degrees of freedom: \", degrees_of_freedom)  # df = sample size - 1"
   ]
  },
  {
   "cell_type": "code",
   "execution_count": 11,
   "id": "9d21e1e8-70cd-48d4-a465-e9a82017bdbf",
   "metadata": {},
   "outputs": [
    {
     "name": "stdout",
     "output_type": "stream",
     "text": [
      "The null hypothesis (mean age = 40) cannot be rejected.\n"
     ]
    }
   ],
   "source": [
    "# Set the significance level (alpha) for hypothesis testing\n",
    "alpha = 0.025  # Defines the threshold for rejecting the null hypothesis\n",
    "\n",
    "# Evaluate the hypothesis test result\n",
    "if p_value < alpha:\n",
    "    print(\"The null hypothesis (mean age = 40) is rejected.\")\n",
    "else:\n",
    "    print(\"The null hypothesis (mean age = 40) cannot be rejected.\")"
   ]
  },
  {
   "cell_type": "code",
   "execution_count": 12,
   "id": "a8df8f29-58b5-4e35-8acb-f4a6a815b378",
   "metadata": {},
   "outputs": [
    {
     "name": "stdout",
     "output_type": "stream",
     "text": [
      "Critical value:  1.971956544249395\n"
     ]
    }
   ],
   "source": [
    "# Compute the critical t-value for the one-sample t-test\n",
    "# - The critical value helps determine the rejection region for the hypothesis test\n",
    "# - stats.t.ppf(1 - alpha, df) calculates the one-tailed critical value\n",
    "critical_value = stats.t.ppf(1 - alpha, degrees_of_freedom)\n",
    "\n",
    "# Print the computed critical t-value for reference\n",
    "print(\"Critical value: \", critical_value)"
   ]
  },
  {
   "cell_type": "code",
   "execution_count": 13,
   "id": "f4979d6f-ce42-4df5-85a3-ce8c00db82f3",
   "metadata": {},
   "outputs": [
    {
     "name": "stdout",
     "output_type": "stream",
     "text": [
      "The null hypothesis (mean age = 40) cannot be rejected.\n"
     ]
    }
   ],
   "source": [
    "# Compare the absolute value of the t-statistic with the critical value\n",
    "# - If t_statistic is within the threshold, we fail to reject H0\n",
    "# - Otherwise, we reject H0, indicating a significant difference in mean age\n",
    "\n",
    "if abs(t_statistic) < critical_value:\n",
    "    print(\"The null hypothesis (mean age = 40) cannot be rejected.\")\n",
    "else:\n",
    "    print(\"The null hypothesis (mean age = 40) is rejected.\")"
   ]
  }
 ],
 "metadata": {
  "kernelspec": {
   "display_name": "Python 3 (ipykernel)",
   "language": "python",
   "name": "python3"
  },
  "language_info": {
   "codemirror_mode": {
    "name": "ipython",
    "version": 3
   },
   "file_extension": ".py",
   "mimetype": "text/x-python",
   "name": "python",
   "nbconvert_exporter": "python",
   "pygments_lexer": "ipython3",
   "version": "3.12.7"
  }
 },
 "nbformat": 4,
 "nbformat_minor": 5
}
