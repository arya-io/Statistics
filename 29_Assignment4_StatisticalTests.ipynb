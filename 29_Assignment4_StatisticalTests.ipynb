{
 "cells": [
  {
   "cell_type": "markdown",
   "id": "ae73230e-ed1d-4634-ab8e-27a196d2a15b",
   "metadata": {},
   "source": [
    "Q1) For the three combined Marathon datasets, extract the top 25 records with lowest finish time(official time column). Check the null hypothesis H0 = The average finishing time of the top 25 athletes is 130 minutes.Test it for alpha = 1%, 5% and 10% using a two-tailed test."
   ]
  },
  {
   "cell_type": "code",
   "execution_count": 1,
   "id": "eebfab83-1174-4e05-b025-90ac9c3de133",
   "metadata": {},
   "outputs": [],
   "source": [
    "# Marathon Performance Analysis: Hypothesis Testing\n",
    "\n",
    "# Import necessary libraries for data analysis and statistical testing\n",
    "import pandas as pd  # For loading and processing datasets\n",
    "import numpy as np  # For numerical operations\n",
    "from scipy import stats  # For hypothesis testing\n",
    "\n",
    "# Objective:\n",
    "# Extract the top 25 athletes with the lowest official finish times from the combined Marathon datasets.\n",
    "# Perform a two-tailed hypothesis test to evaluate whether their average finishing time is significantly different from 130 minutes.\n",
    "\n",
    "# Null Hypothesis (H0): The average finishing time of the top 25 athletes is 130 minutes.\n",
    "# Alternative Hypothesis (H1): The average finishing time of the top 25 athletes is not 130 minutes.\n",
    "\n",
    "# Significance levels (alpha): 1%, 5%, and 10%."
   ]
  },
  {
   "cell_type": "code",
   "execution_count": 2,
   "id": "81b9ed32-3c8d-41f1-ad42-d1823994e53a",
   "metadata": {},
   "outputs": [
    {
     "name": "stdout",
     "output_type": "stream",
     "text": [
      "   Unnamed: 0 Bib                   Name  Age M/F         City State Country  \\\n",
      "0           0   3         Desisa, Lelisa   25   M         Ambo   NaN     ETH   \n",
      "1           1   4  Tsegay, Yemane Adhane   30   M  Addis Ababa   NaN     ETH   \n",
      "2           2   8         Chebet, Wilson   29   M     Marakwet   NaN     KEN   \n",
      "3           3  11       Kipyego, Bernard   28   M      Eldoret   NaN     KEN   \n",
      "4           4  10          Korir, Wesley   32   M       Kitale   NaN     KEN   \n",
      "\n",
      "  Citizen Unnamed: 9  ...      25K      30K      35K      40K     Pace  \\\n",
      "0     NaN        NaN  ...  1:16:07  1:32:00  1:47:59  2:02:39  0:04:56   \n",
      "1     NaN        NaN  ...  1:16:07  1:31:59  1:47:59  2:02:42  0:04:58   \n",
      "2     NaN        NaN  ...  1:16:07  1:32:00  1:47:59  2:03:01  0:04:59   \n",
      "3     NaN        NaN  ...  1:16:07  1:32:00  1:48:03  2:03:47  0:05:00   \n",
      "4     NaN        NaN  ...  1:16:07  1:32:00  1:47:59  2:03:27  0:05:00   \n",
      "\n",
      "  Proj Time Official Time Overall Gender Division  \n",
      "0         -       2:09:17       1      1        1  \n",
      "1         -       2:09:48       2      2        2  \n",
      "2         -       2:10:22       3      3        3  \n",
      "3         -       2:10:47       4      4        4  \n",
      "4         -       2:10:49       5      5        5  \n",
      "\n",
      "[5 rows x 25 columns]\n",
      "  Bib                   Name  Age M/F         City State Country Citizen  \\\n",
      "0   5    Hayle, Lemi Berhanu   21   M  Addis Ababa   NaN     ETH     NaN   \n",
      "1   1         Desisa, Lelisa   26   M         Ambo   NaN     ETH     NaN   \n",
      "2   6  Tsegay, Yemane Adhane   31   M  Addis Ababa   NaN     ETH     NaN   \n",
      "3  11          Korir, Wesley   33   M       Kitale   NaN     KEN     NaN   \n",
      "4  14       Lonyangata, Paul   23   M      Eldoret   NaN     KEN     NaN   \n",
      "\n",
      "  Unnamed: 8       5K  ...      25K      30K      35K      40K     Pace  \\\n",
      "0        NaN  0:15:47  ...  1:19:15  1:34:17  1:50:24  2:05:59  0:05:04   \n",
      "1        NaN  0:15:47  ...  1:19:15  1:34:17  1:50:24  2:05:59  0:05:06   \n",
      "2        NaN  0:15:46  ...  1:19:15  1:34:45  1:50:48  2:06:47  0:05:07   \n",
      "3        NaN  0:15:46  ...  1:19:16  1:34:45  1:50:48  2:06:47  0:05:07   \n",
      "4        NaN  0:15:46  ...  1:19:18  1:34:46  1:51:30  2:08:11  0:05:11   \n",
      "\n",
      "  Proj Time Official Time Overall Gender Division  \n",
      "0   2:12:45       2:12:45       1      1        1  \n",
      "1   2:13:32       2:13:32       2      2        2  \n",
      "2   2:14:02       2:14:02       3      3        3  \n",
      "3   2:14:05       2:14:05       4      4        4  \n",
      "4   2:15:45       2:15:45       5      5        5  \n",
      "\n",
      "[5 rows x 24 columns]\n",
      "   Unnamed: 0 Bib              Name  Age M/F           City State Country  \\\n",
      "0           0  11   Kirui, Geoffrey   24   M       Keringet   NaN     KEN   \n",
      "1           1  17       Rupp, Galen   30   M       Portland    OR     USA   \n",
      "2           2  23     Osako, Suguru   25   M   Machida-City   NaN     JPN   \n",
      "3           3  21  Biwott, Shadrack   32   M  Mammoth Lakes    CA     USA   \n",
      "4           4   9    Chebet, Wilson   31   M       Marakwet   NaN     KEN   \n",
      "\n",
      "  Citizen Unnamed: 9  ...      25K      30K      35K      40K     Pace  \\\n",
      "0     NaN        NaN  ...  1:16:59  1:33:01  1:48:19  2:02:53  0:04:57   \n",
      "1     NaN        NaN  ...  1:16:59  1:33:01  1:48:19  2:03:14  0:04:58   \n",
      "2     NaN        NaN  ...  1:17:00  1:33:01  1:48:31  2:03:38  0:04:59   \n",
      "3     NaN        NaN  ...  1:17:00  1:33:01  1:48:58  2:04:35  0:05:03   \n",
      "4     NaN        NaN  ...  1:16:59  1:33:01  1:48:41  2:05:00  0:05:04   \n",
      "\n",
      "  Proj Time Official Time Overall Gender Division  \n",
      "0         -       2:09:37       1      1        1  \n",
      "1         -       2:09:58       2      2        2  \n",
      "2         -       2:10:28       3      3        3  \n",
      "3         -       2:12:08       4      4        4  \n",
      "4         -       2:12:35       5      5        5  \n",
      "\n",
      "[5 rows x 25 columns]\n"
     ]
    }
   ],
   "source": [
    "# Load marathon datasets from 2015, 2016, and 2017\n",
    "df_2015 = pd.read_csv(\"C:/Users/dbda.STUDENTSDC/Music/LabPractice/Notebooks/Datasets/marathon_results_2015.csv\")\n",
    "df_2016 = pd.read_csv(\"C:/Users/dbda.STUDENTSDC/Music/LabPractice/Notebooks/Datasets/marathon_results_2016.csv\")\n",
    "df_2017 = pd.read_csv(\"C:/Users/dbda.STUDENTSDC/Music/LabPractice/Notebooks/Datasets/marathon_results_2017.csv\")\n",
    "\n",
    "# Display the first few rows of each dataset to verify successful loading\n",
    "print(df_2015.head())\n",
    "print(df_2016.head())\n",
    "print(df_2017.head())"
   ]
  },
  {
   "cell_type": "code",
   "execution_count": 3,
   "id": "9f05f9ad-e17a-45e7-8cf5-a2e33435aaa3",
   "metadata": {},
   "outputs": [
    {
     "name": "stdout",
     "output_type": "stream",
     "text": [
      "Combined dataset shape: (79638, 26)\n",
      "   Unnamed: 0 Bib                   Name  Age M/F         City State Country  \\\n",
      "0         0.0   3         Desisa, Lelisa   25   M         Ambo   NaN     ETH   \n",
      "1         1.0   4  Tsegay, Yemane Adhane   30   M  Addis Ababa   NaN     ETH   \n",
      "2         2.0   8         Chebet, Wilson   29   M     Marakwet   NaN     KEN   \n",
      "3         3.0  11       Kipyego, Bernard   28   M      Eldoret   NaN     KEN   \n",
      "4         4.0  10          Korir, Wesley   32   M       Kitale   NaN     KEN   \n",
      "\n",
      "  Citizen Unnamed: 9  ...      30K      35K      40K     Pace Proj Time  \\\n",
      "0     NaN        NaN  ...  1:32:00  1:47:59  2:02:39  0:04:56         -   \n",
      "1     NaN        NaN  ...  1:31:59  1:47:59  2:02:42  0:04:58         -   \n",
      "2     NaN        NaN  ...  1:32:00  1:47:59  2:03:01  0:04:59         -   \n",
      "3     NaN        NaN  ...  1:32:00  1:48:03  2:03:47  0:05:00         -   \n",
      "4     NaN        NaN  ...  1:32:00  1:47:59  2:03:27  0:05:00         -   \n",
      "\n",
      "  Official Time Overall Gender Division Unnamed: 8  \n",
      "0       2:09:17       1      1        1        NaN  \n",
      "1       2:09:48       2      2        2        NaN  \n",
      "2       2:10:22       3      3        3        NaN  \n",
      "3       2:10:47       4      4        4        NaN  \n",
      "4       2:10:49       5      5        5        NaN  \n",
      "\n",
      "[5 rows x 26 columns]\n"
     ]
    }
   ],
   "source": [
    "# Combine the 2015, 2016, and 2017 marathon datasets into a single DataFrame\n",
    "df = pd.concat([df_2015, df_2016, df_2017], ignore_index=True)  # Reset index for consistency\n",
    "\n",
    "# Display the shape of the combined dataset to verify merging\n",
    "print(\"Combined dataset shape:\", df.shape)\n",
    "\n",
    "# Show the first few rows to check the structure\n",
    "print(df.head())"
   ]
  },
  {
   "cell_type": "code",
   "execution_count": 4,
   "id": "fe4c5e45-b946-4692-812b-9b81496b73c8",
   "metadata": {},
   "outputs": [
    {
     "name": "stdout",
     "output_type": "stream",
     "text": [
      "<class 'pandas.core.frame.DataFrame'>\n",
      "RangeIndex: 79638 entries, 0 to 79637\n",
      "Data columns (total 26 columns):\n",
      " #   Column         Non-Null Count  Dtype  \n",
      "---  ------         --------------  -----  \n",
      " 0   Unnamed: 0     53008 non-null  float64\n",
      " 1   Bib            79638 non-null  object \n",
      " 2   Name           79638 non-null  object \n",
      " 3   Age            79638 non-null  int64  \n",
      " 4   M/F            79638 non-null  object \n",
      " 5   City           79637 non-null  object \n",
      " 6   State          70645 non-null  object \n",
      " 7   Country        79638 non-null  object \n",
      " 8   Citizen        3440 non-null   object \n",
      " 9   Unnamed: 9     158 non-null    object \n",
      " 10  5K             79638 non-null  object \n",
      " 11  10K            79638 non-null  object \n",
      " 12  15K            79638 non-null  object \n",
      " 13  20K            79638 non-null  object \n",
      " 14  Half           79638 non-null  object \n",
      " 15  25K            79638 non-null  object \n",
      " 16  30K            79638 non-null  object \n",
      " 17  35K            79638 non-null  object \n",
      " 18  40K            79638 non-null  object \n",
      " 19  Pace           79638 non-null  object \n",
      " 20  Proj Time      79638 non-null  object \n",
      " 21  Official Time  79638 non-null  object \n",
      " 22  Overall        79638 non-null  int64  \n",
      " 23  Gender         79638 non-null  int64  \n",
      " 24  Division       79638 non-null  int64  \n",
      " 25  Unnamed: 8     83 non-null     object \n",
      "dtypes: float64(1), int64(4), object(21)\n",
      "memory usage: 15.8+ MB\n"
     ]
    }
   ],
   "source": [
    "# Display dataset information, including column names, data types, and missing values\n",
    "df.info()"
   ]
  },
  {
   "cell_type": "code",
   "execution_count": 5,
   "id": "e7b75900-f219-47e8-98a3-2689fe06ec74",
   "metadata": {},
   "outputs": [
    {
     "data": {
      "text/html": [
       "<div>\n",
       "<style scoped>\n",
       "    .dataframe tbody tr th:only-of-type {\n",
       "        vertical-align: middle;\n",
       "    }\n",
       "\n",
       "    .dataframe tbody tr th {\n",
       "        vertical-align: top;\n",
       "    }\n",
       "\n",
       "    .dataframe thead th {\n",
       "        text-align: right;\n",
       "    }\n",
       "</style>\n",
       "<table border=\"1\" class=\"dataframe\">\n",
       "  <thead>\n",
       "    <tr style=\"text-align: right;\">\n",
       "      <th></th>\n",
       "      <th>Unnamed: 0</th>\n",
       "      <th>Bib</th>\n",
       "      <th>Name</th>\n",
       "      <th>Age</th>\n",
       "      <th>M/F</th>\n",
       "      <th>City</th>\n",
       "      <th>State</th>\n",
       "      <th>Country</th>\n",
       "      <th>Citizen</th>\n",
       "      <th>Unnamed: 9</th>\n",
       "      <th>...</th>\n",
       "      <th>Pace</th>\n",
       "      <th>Proj Time</th>\n",
       "      <th>Official Time</th>\n",
       "      <th>Overall</th>\n",
       "      <th>Gender</th>\n",
       "      <th>Division</th>\n",
       "      <th>Unnamed: 8</th>\n",
       "      <th>of_Hours</th>\n",
       "      <th>of_Minutes</th>\n",
       "      <th>of_Seconds</th>\n",
       "    </tr>\n",
       "  </thead>\n",
       "  <tbody>\n",
       "    <tr>\n",
       "      <th>0</th>\n",
       "      <td>0.0</td>\n",
       "      <td>3</td>\n",
       "      <td>Desisa, Lelisa</td>\n",
       "      <td>25</td>\n",
       "      <td>M</td>\n",
       "      <td>Ambo</td>\n",
       "      <td>NaN</td>\n",
       "      <td>ETH</td>\n",
       "      <td>NaN</td>\n",
       "      <td>NaN</td>\n",
       "      <td>...</td>\n",
       "      <td>0:04:56</td>\n",
       "      <td>-</td>\n",
       "      <td>2:09:17</td>\n",
       "      <td>1</td>\n",
       "      <td>1</td>\n",
       "      <td>1</td>\n",
       "      <td>NaN</td>\n",
       "      <td>2</td>\n",
       "      <td>9</td>\n",
       "      <td>17</td>\n",
       "    </tr>\n",
       "    <tr>\n",
       "      <th>1</th>\n",
       "      <td>1.0</td>\n",
       "      <td>4</td>\n",
       "      <td>Tsegay, Yemane Adhane</td>\n",
       "      <td>30</td>\n",
       "      <td>M</td>\n",
       "      <td>Addis Ababa</td>\n",
       "      <td>NaN</td>\n",
       "      <td>ETH</td>\n",
       "      <td>NaN</td>\n",
       "      <td>NaN</td>\n",
       "      <td>...</td>\n",
       "      <td>0:04:58</td>\n",
       "      <td>-</td>\n",
       "      <td>2:09:48</td>\n",
       "      <td>2</td>\n",
       "      <td>2</td>\n",
       "      <td>2</td>\n",
       "      <td>NaN</td>\n",
       "      <td>2</td>\n",
       "      <td>9</td>\n",
       "      <td>48</td>\n",
       "    </tr>\n",
       "    <tr>\n",
       "      <th>2</th>\n",
       "      <td>2.0</td>\n",
       "      <td>8</td>\n",
       "      <td>Chebet, Wilson</td>\n",
       "      <td>29</td>\n",
       "      <td>M</td>\n",
       "      <td>Marakwet</td>\n",
       "      <td>NaN</td>\n",
       "      <td>KEN</td>\n",
       "      <td>NaN</td>\n",
       "      <td>NaN</td>\n",
       "      <td>...</td>\n",
       "      <td>0:04:59</td>\n",
       "      <td>-</td>\n",
       "      <td>2:10:22</td>\n",
       "      <td>3</td>\n",
       "      <td>3</td>\n",
       "      <td>3</td>\n",
       "      <td>NaN</td>\n",
       "      <td>2</td>\n",
       "      <td>10</td>\n",
       "      <td>22</td>\n",
       "    </tr>\n",
       "    <tr>\n",
       "      <th>3</th>\n",
       "      <td>3.0</td>\n",
       "      <td>11</td>\n",
       "      <td>Kipyego, Bernard</td>\n",
       "      <td>28</td>\n",
       "      <td>M</td>\n",
       "      <td>Eldoret</td>\n",
       "      <td>NaN</td>\n",
       "      <td>KEN</td>\n",
       "      <td>NaN</td>\n",
       "      <td>NaN</td>\n",
       "      <td>...</td>\n",
       "      <td>0:05:00</td>\n",
       "      <td>-</td>\n",
       "      <td>2:10:47</td>\n",
       "      <td>4</td>\n",
       "      <td>4</td>\n",
       "      <td>4</td>\n",
       "      <td>NaN</td>\n",
       "      <td>2</td>\n",
       "      <td>10</td>\n",
       "      <td>47</td>\n",
       "    </tr>\n",
       "    <tr>\n",
       "      <th>4</th>\n",
       "      <td>4.0</td>\n",
       "      <td>10</td>\n",
       "      <td>Korir, Wesley</td>\n",
       "      <td>32</td>\n",
       "      <td>M</td>\n",
       "      <td>Kitale</td>\n",
       "      <td>NaN</td>\n",
       "      <td>KEN</td>\n",
       "      <td>NaN</td>\n",
       "      <td>NaN</td>\n",
       "      <td>...</td>\n",
       "      <td>0:05:00</td>\n",
       "      <td>-</td>\n",
       "      <td>2:10:49</td>\n",
       "      <td>5</td>\n",
       "      <td>5</td>\n",
       "      <td>5</td>\n",
       "      <td>NaN</td>\n",
       "      <td>2</td>\n",
       "      <td>10</td>\n",
       "      <td>49</td>\n",
       "    </tr>\n",
       "  </tbody>\n",
       "</table>\n",
       "<p>5 rows × 29 columns</p>\n",
       "</div>"
      ],
      "text/plain": [
       "   Unnamed: 0 Bib                   Name  Age M/F         City State Country  \\\n",
       "0         0.0   3         Desisa, Lelisa   25   M         Ambo   NaN     ETH   \n",
       "1         1.0   4  Tsegay, Yemane Adhane   30   M  Addis Ababa   NaN     ETH   \n",
       "2         2.0   8         Chebet, Wilson   29   M     Marakwet   NaN     KEN   \n",
       "3         3.0  11       Kipyego, Bernard   28   M      Eldoret   NaN     KEN   \n",
       "4         4.0  10          Korir, Wesley   32   M       Kitale   NaN     KEN   \n",
       "\n",
       "  Citizen Unnamed: 9  ...     Pace Proj Time Official Time Overall Gender  \\\n",
       "0     NaN        NaN  ...  0:04:56         -       2:09:17       1      1   \n",
       "1     NaN        NaN  ...  0:04:58         -       2:09:48       2      2   \n",
       "2     NaN        NaN  ...  0:04:59         -       2:10:22       3      3   \n",
       "3     NaN        NaN  ...  0:05:00         -       2:10:47       4      4   \n",
       "4     NaN        NaN  ...  0:05:00         -       2:10:49       5      5   \n",
       "\n",
       "  Division Unnamed: 8 of_Hours of_Minutes of_Seconds  \n",
       "0        1        NaN        2          9         17  \n",
       "1        2        NaN        2          9         48  \n",
       "2        3        NaN        2         10         22  \n",
       "3        4        NaN        2         10         47  \n",
       "4        5        NaN        2         10         49  \n",
       "\n",
       "[5 rows x 29 columns]"
      ]
     },
     "execution_count": 5,
     "metadata": {},
     "output_type": "execute_result"
    }
   ],
   "source": [
    "# Step 1: Split 'Official Time' into separate columns for hours, minutes, and seconds\n",
    "df[['of_Hours', 'of_Minutes', 'of_Seconds']] = df['Official Time'].str.split(':', expand=True)\n",
    "\n",
    "# Step 2: Convert extracted time components to integers for calculations\n",
    "df[['of_Hours', 'of_Minutes', 'of_Seconds']] = df[['of_Hours', 'of_Minutes', 'of_Seconds']].astype(int)\n",
    "\n",
    "# Step 3: Display a preview of the modified DataFrame to verify the changes\n",
    "df.head()  # Shows the first few rows of the updated dataset"
   ]
  },
  {
   "cell_type": "code",
   "execution_count": 6,
   "id": "ecce347f-5dd7-41d9-87b4-271c6fe03d93",
   "metadata": {},
   "outputs": [
    {
     "name": "stdout",
     "output_type": "stream",
     "text": [
      "<class 'pandas.core.frame.DataFrame'>\n",
      "RangeIndex: 79638 entries, 0 to 79637\n",
      "Data columns (total 29 columns):\n",
      " #   Column         Non-Null Count  Dtype  \n",
      "---  ------         --------------  -----  \n",
      " 0   Unnamed: 0     53008 non-null  float64\n",
      " 1   Bib            79638 non-null  object \n",
      " 2   Name           79638 non-null  object \n",
      " 3   Age            79638 non-null  int64  \n",
      " 4   M/F            79638 non-null  object \n",
      " 5   City           79637 non-null  object \n",
      " 6   State          70645 non-null  object \n",
      " 7   Country        79638 non-null  object \n",
      " 8   Citizen        3440 non-null   object \n",
      " 9   Unnamed: 9     158 non-null    object \n",
      " 10  5K             79638 non-null  object \n",
      " 11  10K            79638 non-null  object \n",
      " 12  15K            79638 non-null  object \n",
      " 13  20K            79638 non-null  object \n",
      " 14  Half           79638 non-null  object \n",
      " 15  25K            79638 non-null  object \n",
      " 16  30K            79638 non-null  object \n",
      " 17  35K            79638 non-null  object \n",
      " 18  40K            79638 non-null  object \n",
      " 19  Pace           79638 non-null  object \n",
      " 20  Proj Time      79638 non-null  object \n",
      " 21  Official Time  79638 non-null  object \n",
      " 22  Overall        79638 non-null  int64  \n",
      " 23  Gender         79638 non-null  int64  \n",
      " 24  Division       79638 non-null  int64  \n",
      " 25  Unnamed: 8     83 non-null     object \n",
      " 26  of_Hours       79638 non-null  int32  \n",
      " 27  of_Minutes     79638 non-null  int32  \n",
      " 28  of_Seconds     79638 non-null  int32  \n",
      "dtypes: float64(1), int32(3), int64(4), object(21)\n",
      "memory usage: 16.7+ MB\n"
     ]
    }
   ],
   "source": [
    "# Display dataset information, including column names, data types, and missing values\n",
    "df.info()"
   ]
  },
  {
   "cell_type": "code",
   "execution_count": 7,
   "id": "71bddf51-9067-46f5-bbd0-f3981a1c44e1",
   "metadata": {},
   "outputs": [
    {
     "name": "stdout",
     "output_type": "stream",
     "text": [
      "   finish_time\n",
      "0         7757\n",
      "1         7788\n",
      "2         7822\n",
      "3         7847\n",
      "4         7849\n"
     ]
    }
   ],
   "source": [
    "# Step 1: Convert 'Official Time' to total seconds for easier analysis\n",
    "df[\"finish_time\"] = df[\"of_Hours\"] * 3600 + df[\"of_Minutes\"] * 60 + df[\"of_Seconds\"]\n",
    "\n",
    "# Step 2: Display a preview of the converted finish times\n",
    "print(df[['finish_time']].head())  # Shows the first few rows for verification"
   ]
  },
  {
   "cell_type": "code",
   "execution_count": 8,
   "id": "b8a4825f-9518-4941-85f2-8484ea366f68",
   "metadata": {},
   "outputs": [
    {
     "name": "stdout",
     "output_type": "stream",
     "text": [
      "       Unnamed: 0 Bib                   Name  Age M/F         City State  \\\n",
      "0             0.0   3         Desisa, Lelisa   25   M         Ambo   NaN   \n",
      "53228         0.0  11        Kirui, Geoffrey   24   M     Keringet   NaN   \n",
      "1             1.0   4  Tsegay, Yemane Adhane   30   M  Addis Ababa   NaN   \n",
      "53229         1.0  17            Rupp, Galen   30   M     Portland    OR   \n",
      "2             2.0   8         Chebet, Wilson   29   M     Marakwet   NaN   \n",
      "\n",
      "      Country Citizen Unnamed: 9  ... Proj Time Official Time Overall Gender  \\\n",
      "0         ETH     NaN        NaN  ...         -       2:09:17       1      1   \n",
      "53228     KEN     NaN        NaN  ...         -       2:09:37       1      1   \n",
      "1         ETH     NaN        NaN  ...         -       2:09:48       2      2   \n",
      "53229     USA     NaN        NaN  ...         -       2:09:58       2      2   \n",
      "2         KEN     NaN        NaN  ...         -       2:10:22       3      3   \n",
      "\n",
      "      Division Unnamed: 8 of_Hours of_Minutes of_Seconds finish_time  \n",
      "0            1        NaN        2          9         17        7757  \n",
      "53228        1        NaN        2          9         37        7777  \n",
      "1            2        NaN        2          9         48        7788  \n",
      "53229        2        NaN        2          9         58        7798  \n",
      "2            3        NaN        2         10         22        7822  \n",
      "\n",
      "[5 rows x 30 columns]\n"
     ]
    }
   ],
   "source": [
    "# Sort the dataset by 'finish_time' in ascending order to get the fastest athletes\n",
    "df = df.sort_values(by=['finish_time'])\n",
    "\n",
    "# Display the top 5 rows to verify the sorting\n",
    "print(df.head())"
   ]
  },
  {
   "cell_type": "code",
   "execution_count": 9,
   "id": "a9d8ad16-eef7-45f0-8c02-af08d2605529",
   "metadata": {},
   "outputs": [
    {
     "name": "stdout",
     "output_type": "stream",
     "text": [
      "       finish_time\n",
      "0             7757\n",
      "53228         7777\n",
      "1             7788\n",
      "53229         7798\n",
      "2             7822\n"
     ]
    }
   ],
   "source": [
    "# Select the top 25 athletes with the lowest finish times\n",
    "df = df.iloc[:25]\n",
    "\n",
    "# Display the extracted subset for verification\n",
    "print(df[['finish_time']].head())  # Shows the first few rows of the filtered dataset"
   ]
  },
  {
   "cell_type": "code",
   "execution_count": 10,
   "id": "00a49255-2396-48c0-81c2-ac2b352563dd",
   "metadata": {},
   "outputs": [
    {
     "name": "stdout",
     "output_type": "stream",
     "text": [
      "<class 'pandas.core.frame.DataFrame'>\n",
      "Index: 25 entries, 0 to 53236\n",
      "Data columns (total 30 columns):\n",
      " #   Column         Non-Null Count  Dtype  \n",
      "---  ------         --------------  -----  \n",
      " 0   Unnamed: 0     21 non-null     float64\n",
      " 1   Bib            25 non-null     object \n",
      " 2   Name           25 non-null     object \n",
      " 3   Age            25 non-null     int64  \n",
      " 4   M/F            25 non-null     object \n",
      " 5   City           25 non-null     object \n",
      " 6   State          9 non-null      object \n",
      " 7   Country        25 non-null     object \n",
      " 8   Citizen        0 non-null      object \n",
      " 9   Unnamed: 9     0 non-null      object \n",
      " 10  5K             25 non-null     object \n",
      " 11  10K            25 non-null     object \n",
      " 12  15K            25 non-null     object \n",
      " 13  20K            25 non-null     object \n",
      " 14  Half           25 non-null     object \n",
      " 15  25K            25 non-null     object \n",
      " 16  30K            25 non-null     object \n",
      " 17  35K            25 non-null     object \n",
      " 18  40K            25 non-null     object \n",
      " 19  Pace           25 non-null     object \n",
      " 20  Proj Time      25 non-null     object \n",
      " 21  Official Time  25 non-null     object \n",
      " 22  Overall        25 non-null     int64  \n",
      " 23  Gender         25 non-null     int64  \n",
      " 24  Division       25 non-null     int64  \n",
      " 25  Unnamed: 8     0 non-null      object \n",
      " 26  of_Hours       25 non-null     int32  \n",
      " 27  of_Minutes     25 non-null     int32  \n",
      " 28  of_Seconds     25 non-null     int32  \n",
      " 29  finish_time    25 non-null     int32  \n",
      "dtypes: float64(1), int32(4), int64(4), object(21)\n",
      "memory usage: 5.7+ KB\n"
     ]
    }
   ],
   "source": [
    "# Display dataset information, including column names, data types, and missing values\n",
    "df.info()"
   ]
  },
  {
   "cell_type": "code",
   "execution_count": 11,
   "id": "a3a5ccc0-4452-472b-a9ba-44b10d2b86de",
   "metadata": {},
   "outputs": [
    {
     "name": "stdout",
     "output_type": "stream",
     "text": [
      "0        7757\n",
      "53228    7777\n",
      "1        7788\n",
      "53229    7798\n",
      "2        7822\n",
      "Name: finish_time, dtype: int32\n"
     ]
    }
   ],
   "source": [
    "# Extract the 'finish_time' column for further analysis\n",
    "finish_t = df['finish_time']\n",
    "\n",
    "# Display the extracted finish times\n",
    "print(finish_t.head())  # Shows the first few values for verification"
   ]
  },
  {
   "cell_type": "code",
   "execution_count": 12,
   "id": "1b5ac42b-737d-413d-9de3-068cb883f6eb",
   "metadata": {},
   "outputs": [],
   "source": [
    "# Define the hypothesized average finish time in seconds\n",
    "finish_avg = 8500  # This represents the assumed population mean for hypothesis testing\n",
    "\n",
    "# This value will be used in a two-tailed t-test to assess whether the top 25 athletes\n",
    "# have a significantly different average finish time compared to 8500 seconds."
   ]
  },
  {
   "cell_type": "code",
   "execution_count": 13,
   "id": "4b595ffe-dd8e-475e-a1b9-127c201e0d7d",
   "metadata": {},
   "outputs": [
    {
     "name": "stdout",
     "output_type": "stream",
     "text": [
      "T-Statistic: -27.064749111936585\n",
      "P-Value: 1.7005525082817027e-19\n",
      "Reject H0: The average finish time is significantly different from 8500 seconds.\n"
     ]
    }
   ],
   "source": [
    "# Perform a one-sample t-test to compare the sample mean finish time to the hypothesized population mean\n",
    "t_statistic, p_value = stats.ttest_1samp(finish_t, finish_avg)\n",
    "\n",
    "# Print the test results for interpretation\n",
    "print(\"T-Statistic:\", t_statistic)\n",
    "print(\"P-Value:\", p_value)\n",
    "\n",
    "# Decision criteria:\n",
    "# - If p_value ≤ 0.05: Reject H0 (significant evidence that finish time differs from 8500 seconds)\n",
    "# - If p_value > 0.05: Fail to reject H0 (no significant evidence supporting a difference)\n",
    "if p_value <= 0.05:\n",
    "    print(\"Reject H0: The average finish time is significantly different from 8500 seconds.\")\n",
    "else:\n",
    "    print(\"Fail to reject H0: No significant evidence that the average finish time differs from 8500 seconds.\")"
   ]
  },
  {
   "cell_type": "code",
   "execution_count": 14,
   "id": "937f7ba7-eabb-441a-bcd6-779c8ef4f5e6",
   "metadata": {},
   "outputs": [
    {
     "name": "stdout",
     "output_type": "stream",
     "text": [
      "Degrees of Freedom: 24\n"
     ]
    }
   ],
   "source": [
    "# Compute degrees of freedom for the one-sample t-test\n",
    "# Degrees of freedom (df) is calculated as (sample size - 1)\n",
    "degrees_of_freedom = len(finish_t) - 1\n",
    "\n",
    "# Print the computed value for verification\n",
    "print(\"Degrees of Freedom:\", degrees_of_freedom)"
   ]
  },
  {
   "cell_type": "code",
   "execution_count": 15,
   "id": "a8bba289-0d89-41a1-a460-fd31a048b4ed",
   "metadata": {},
   "outputs": [
    {
     "name": "stdout",
     "output_type": "stream",
     "text": [
      "T-statistic: -27.064749111936585\n",
      "P-value: 1.7005525082817027e-19\n",
      "Degrees of freedom: 24\n"
     ]
    }
   ],
   "source": [
    "# Print the t-test results for hypothesis interpretation\n",
    "print(\"T-statistic:\", t_statistic)  # Indicates the test statistic for comparison\n",
    "print(\"P-value:\", p_value)  # Determines statistical significance\n",
    "print(\"Degrees of freedom:\", degrees_of_freedom)  # Critical in t-distribution evaluation"
   ]
  },
  {
   "cell_type": "code",
   "execution_count": 16,
   "id": "42894617-6eae-42f2-8a97-c13737e7a1e7",
   "metadata": {},
   "outputs": [
    {
     "name": "stdout",
     "output_type": "stream",
     "text": [
      "The null hypothesis (mean finish time = 8500 seconds) is rejected.\n"
     ]
    }
   ],
   "source": [
    "# Interpretation of hypothesis test results\n",
    "\n",
    "alpha = 0.025  # Significance level for decision-making\n",
    "\n",
    "# Compare p-value with alpha to determine whether to reject H0\n",
    "if p_value < alpha:\n",
    "    print(\"The null hypothesis (mean finish time = 8500 seconds) is rejected.\")\n",
    "else:\n",
    "    print(\"The null hypothesis (mean finish time = 8500 seconds) cannot be rejected.\")"
   ]
  },
  {
   "cell_type": "code",
   "execution_count": 17,
   "id": "c5d833d4-5fbf-4f31-ab94-005670f9e5db",
   "metadata": {},
   "outputs": [
    {
     "name": "stdout",
     "output_type": "stream",
     "text": [
      "The null hypothesis (mean finish time = 8500 seconds) is rejected.\n"
     ]
    }
   ],
   "source": [
    "# Interpretation of hypothesis test results at alpha = 1%\n",
    "\n",
    "alpha = 0.01  # Significance level for decision-making\n",
    "\n",
    "# Compare p-value with alpha to determine whether to reject H0\n",
    "if p_value < alpha:\n",
    "    print(\"The null hypothesis (mean finish time = 8500 seconds) is rejected.\")\n",
    "else:\n",
    "    print(\"The null hypothesis (mean finish time = 8500 seconds) cannot be rejected.\")"
   ]
  },
  {
   "cell_type": "code",
   "execution_count": 18,
   "id": "82d2124f-a69c-4d1e-b119-1a840533ab0f",
   "metadata": {},
   "outputs": [
    {
     "name": "stdout",
     "output_type": "stream",
     "text": [
      "The null hypothesis (mean finish time = 8500 seconds) is rejected.\n"
     ]
    }
   ],
   "source": [
    "# Interpretation of hypothesis test results at alpha = 5%\n",
    "\n",
    "alpha = 0.05  # Significance level for decision-making\n",
    "\n",
    "# Compare p-value with alpha to determine whether to reject H0\n",
    "if p_value < alpha:\n",
    "    print(\"The null hypothesis (mean finish time = 8500 seconds) is rejected.\")\n",
    "else:\n",
    "    print(\"The null hypothesis (mean finish time = 8500 seconds) cannot be rejected.\")"
   ]
  },
  {
   "cell_type": "code",
   "execution_count": 19,
   "id": "2b9b8f3d-1c8e-4f0a-ab7e-c471c23b13d0",
   "metadata": {},
   "outputs": [
    {
     "name": "stdout",
     "output_type": "stream",
     "text": [
      "The null hypothesis (mean finish time = 8500 seconds) is rejected.\n"
     ]
    }
   ],
   "source": [
    "# Interpretation of hypothesis test results at alpha = 10%\n",
    "\n",
    "alpha = 0.10  # Significance level for hypothesis evaluation\n",
    "\n",
    "# Compare p-value with alpha to determine whether to reject H0\n",
    "if p_value < alpha:\n",
    "    print(\"The null hypothesis (mean finish time = 8500 seconds) is rejected.\")\n",
    "else:\n",
    "    print(\"The null hypothesis (mean finish time = 8500 seconds) cannot be rejected.\")"
   ]
  },
  {
   "cell_type": "markdown",
   "id": "1f54a364-e4e5-46da-aa0c-42698904a4d8",
   "metadata": {},
   "source": [
    "<!-- Q2) For the diabetes dataset, divide people in 2 groups:(A) age <= 40, (B) age > 40. Take 30 samples each. Run a two sample t test to see if their glucose level have significant statistical difference   -->"
   ]
  },
  {
   "cell_type": "code",
   "execution_count": 20,
   "id": "3f497ed7-714a-497e-b19f-424574669293",
   "metadata": {},
   "outputs": [],
   "source": [
    "# Q2) For the diabetes dataset, divide people into two groups: (a) age <= 40, (b) age > 40.\n",
    "# Take 30 samples each.\n",
    "# Run a two sample t-test to see if their Glucose levels have a significant statistical difference."
   ]
  },
  {
   "cell_type": "code",
   "execution_count": 21,
   "id": "f2c57310-4da8-4d84-ada4-17b3e855dad0",
   "metadata": {},
   "outputs": [
    {
     "name": "stdout",
     "output_type": "stream",
     "text": [
      "<class 'pandas.core.frame.DataFrame'>\n",
      "RangeIndex: 768 entries, 0 to 767\n",
      "Data columns (total 9 columns):\n",
      " #   Column                    Non-Null Count  Dtype  \n",
      "---  ------                    --------------  -----  \n",
      " 0   Pregnancies               768 non-null    int64  \n",
      " 1   Glucose                   768 non-null    int64  \n",
      " 2   BloodPressure             768 non-null    int64  \n",
      " 3   SkinThickness             768 non-null    int64  \n",
      " 4   Insulin                   768 non-null    int64  \n",
      " 5   BMI                       768 non-null    float64\n",
      " 6   DiabetesPedigreeFunction  768 non-null    float64\n",
      " 7   Age                       768 non-null    int64  \n",
      " 8   Outcome                   768 non-null    int64  \n",
      "dtypes: float64(2), int64(7)\n",
      "memory usage: 54.1 KB\n"
     ]
    }
   ],
   "source": [
    "# Load the diabetes dataset into a DataFrame\n",
    "df = pd.read_csv(\"C:/Users/dbda.STUDENTSDC/Music/LabPractice/Notebooks/Datasets/diabetes.csv\")\n",
    "\n",
    "# Display basic information about the dataset to check structure and data types\n",
    "df.info()"
   ]
  },
  {
   "cell_type": "code",
   "execution_count": 22,
   "id": "0e8f55cb-4542-419f-b19a-db1b4d2e54a1",
   "metadata": {},
   "outputs": [
    {
     "data": {
      "text/html": [
       "<div>\n",
       "<style scoped>\n",
       "    .dataframe tbody tr th:only-of-type {\n",
       "        vertical-align: middle;\n",
       "    }\n",
       "\n",
       "    .dataframe tbody tr th {\n",
       "        vertical-align: top;\n",
       "    }\n",
       "\n",
       "    .dataframe thead th {\n",
       "        text-align: right;\n",
       "    }\n",
       "</style>\n",
       "<table border=\"1\" class=\"dataframe\">\n",
       "  <thead>\n",
       "    <tr style=\"text-align: right;\">\n",
       "      <th></th>\n",
       "      <th>Pregnancies</th>\n",
       "      <th>Glucose</th>\n",
       "      <th>BloodPressure</th>\n",
       "      <th>SkinThickness</th>\n",
       "      <th>Insulin</th>\n",
       "      <th>BMI</th>\n",
       "      <th>DiabetesPedigreeFunction</th>\n",
       "      <th>Age</th>\n",
       "      <th>Outcome</th>\n",
       "    </tr>\n",
       "  </thead>\n",
       "  <tbody>\n",
       "    <tr>\n",
       "      <th>0</th>\n",
       "      <td>6</td>\n",
       "      <td>148</td>\n",
       "      <td>72</td>\n",
       "      <td>35</td>\n",
       "      <td>0</td>\n",
       "      <td>33.6</td>\n",
       "      <td>0.627</td>\n",
       "      <td>50</td>\n",
       "      <td>1</td>\n",
       "    </tr>\n",
       "    <tr>\n",
       "      <th>1</th>\n",
       "      <td>1</td>\n",
       "      <td>85</td>\n",
       "      <td>66</td>\n",
       "      <td>29</td>\n",
       "      <td>0</td>\n",
       "      <td>26.6</td>\n",
       "      <td>0.351</td>\n",
       "      <td>31</td>\n",
       "      <td>0</td>\n",
       "    </tr>\n",
       "    <tr>\n",
       "      <th>2</th>\n",
       "      <td>8</td>\n",
       "      <td>183</td>\n",
       "      <td>64</td>\n",
       "      <td>0</td>\n",
       "      <td>0</td>\n",
       "      <td>23.3</td>\n",
       "      <td>0.672</td>\n",
       "      <td>32</td>\n",
       "      <td>1</td>\n",
       "    </tr>\n",
       "    <tr>\n",
       "      <th>3</th>\n",
       "      <td>1</td>\n",
       "      <td>89</td>\n",
       "      <td>66</td>\n",
       "      <td>23</td>\n",
       "      <td>94</td>\n",
       "      <td>28.1</td>\n",
       "      <td>0.167</td>\n",
       "      <td>21</td>\n",
       "      <td>0</td>\n",
       "    </tr>\n",
       "    <tr>\n",
       "      <th>4</th>\n",
       "      <td>0</td>\n",
       "      <td>137</td>\n",
       "      <td>40</td>\n",
       "      <td>35</td>\n",
       "      <td>168</td>\n",
       "      <td>43.1</td>\n",
       "      <td>2.288</td>\n",
       "      <td>33</td>\n",
       "      <td>1</td>\n",
       "    </tr>\n",
       "  </tbody>\n",
       "</table>\n",
       "</div>"
      ],
      "text/plain": [
       "   Pregnancies  Glucose  BloodPressure  SkinThickness  Insulin   BMI  \\\n",
       "0            6      148             72             35        0  33.6   \n",
       "1            1       85             66             29        0  26.6   \n",
       "2            8      183             64              0        0  23.3   \n",
       "3            1       89             66             23       94  28.1   \n",
       "4            0      137             40             35      168  43.1   \n",
       "\n",
       "   DiabetesPedigreeFunction  Age  Outcome  \n",
       "0                     0.627   50        1  \n",
       "1                     0.351   31        0  \n",
       "2                     0.672   32        1  \n",
       "3                     0.167   21        0  \n",
       "4                     2.288   33        1  "
      ]
     },
     "execution_count": 22,
     "metadata": {},
     "output_type": "execute_result"
    }
   ],
   "source": [
    "# Display the first few rows of the diabetes dataset to verify its structure\n",
    "df.head()"
   ]
  },
  {
   "cell_type": "code",
   "execution_count": 23,
   "id": "b0624649-3221-4059-8d2f-bc8574c4ec5c",
   "metadata": {},
   "outputs": [
    {
     "name": "stdout",
     "output_type": "stream",
     "text": [
      "Glucose levels (Age ≤ 40):\n",
      " count    574.000000\n",
      "mean     117.458188\n",
      "std       30.516167\n",
      "min        0.000000\n",
      "25%       97.000000\n",
      "50%      113.000000\n",
      "75%      134.000000\n",
      "max      199.000000\n",
      "Name: Glucose, dtype: float64\n",
      "Glucose levels (Age > 40):\n",
      " count    194.000000\n",
      "mean     131.061856\n",
      "std       34.039999\n",
      "min        0.000000\n",
      "25%      106.000000\n",
      "50%      129.000000\n",
      "75%      155.000000\n",
      "max      197.000000\n",
      "Name: Glucose, dtype: float64\n"
     ]
    }
   ],
   "source": [
    "# Extract glucose levels for individuals aged 40 or younger\n",
    "age_le_40 = df[df['Age'] <= 40]['Glucose']\n",
    "\n",
    "# Extract glucose levels for individuals older than 40\n",
    "age_gt_40 = df[df['Age'] > 40]['Glucose']\n",
    "\n",
    "# Display summary statistics for verification\n",
    "print(\"Glucose levels (Age ≤ 40):\\n\", age_le_40.describe())\n",
    "print(\"Glucose levels (Age > 40):\\n\", age_gt_40.describe())"
   ]
  },
  {
   "cell_type": "code",
   "execution_count": 24,
   "id": "dc43de1c-2d40-48b5-a16c-abbdc746ead5",
   "metadata": {},
   "outputs": [
    {
     "name": "stdout",
     "output_type": "stream",
     "text": [
      "Sample from Age ≤ 40 group:\n",
      " 478    126\n",
      "353     90\n",
      "364    147\n",
      "697     99\n",
      "41     133\n",
      "Name: Glucose, dtype: int64\n",
      "Sample from Age > 40 group:\n",
      " 537     57\n",
      "560    125\n",
      "558    103\n",
      "339    178\n",
      "517    125\n",
      "Name: Glucose, dtype: int64\n"
     ]
    }
   ],
   "source": [
    "# Select 30 random samples from each group with replacement\n",
    "age_le_40 = age_le_40.sample(n=30, replace=True)  # Group (Age ≤ 40)\n",
    "age_gt_40 = age_gt_40.sample(n=30, replace=True)  # Group (Age > 40)\n",
    "\n",
    "# Display the first few samples from each group for verification\n",
    "print(\"Sample from Age ≤ 40 group:\\n\", age_le_40.head())\n",
    "print(\"Sample from Age > 40 group:\\n\", age_gt_40.head())"
   ]
  },
  {
   "cell_type": "code",
   "execution_count": 25,
   "id": "9d39090d-40ec-4983-b98c-fdaa27717ada",
   "metadata": {},
   "outputs": [
    {
     "name": "stdout",
     "output_type": "stream",
     "text": [
      "T-Statistic: -2.1286449134485514\n",
      "P-Value: 0.03754240822947192\n",
      "Reject H0: There is a significant difference in glucose levels between the two age groups.\n"
     ]
    }
   ],
   "source": [
    "# Perform an independent two-sample t-test to compare glucose levels\n",
    "t_statistics, p_value = stats.ttest_ind(age_le_40, age_gt_40)\n",
    "\n",
    "# Print the test results for interpretation\n",
    "print(\"T-Statistic:\", t_statistics)\n",
    "print(\"P-Value:\", p_value)\n",
    "\n",
    "# Decision criteria:\n",
    "# - If p_value ≤ 0.05: Reject H0 (significant difference in glucose levels between age groups)\n",
    "# - If p_value > 0.05: Fail to reject H0 (no significant evidence of difference)\n",
    "if p_value <= 0.05:\n",
    "    print(\"Reject H0: There is a significant difference in glucose levels between the two age groups.\")\n",
    "else:\n",
    "    print(\"Fail to reject H0: No significant evidence that glucose levels differ between the two age groups.\")"
   ]
  },
  {
   "cell_type": "code",
   "execution_count": 26,
   "id": "7b322286-b523-4cf3-9e3c-239865408a92",
   "metadata": {},
   "outputs": [
    {
     "name": "stdout",
     "output_type": "stream",
     "text": [
      "Degrees of Freedom: 58\n"
     ]
    }
   ],
   "source": [
    "# Compute the sample sizes for each group\n",
    "n_le40 = len(age_le_40)  # Sample size for age ≤ 40 group\n",
    "n_gt40 = len(age_gt_40)  # Sample size for age > 40 group\n",
    "\n",
    "# Calculate degrees of freedom for the two-sample t-test\n",
    "degrees_of_freedom = n_le40 + n_gt40 - 2\n",
    "\n",
    "# Display the computed value for verification\n",
    "print(\"Degrees of Freedom:\", degrees_of_freedom)"
   ]
  },
  {
   "cell_type": "code",
   "execution_count": 27,
   "id": "dd9dbd76-023c-4af0-b9bb-b59d38b11288",
   "metadata": {},
   "outputs": [
    {
     "name": "stdout",
     "output_type": "stream",
     "text": [
      "Fail to reject H0: No significant evidence that glucose levels differ between the two age groups.\n"
     ]
    }
   ],
   "source": [
    "# Interpretation of hypothesis test results at alpha = 2.5%\n",
    "\n",
    "alpha = 0.025  # Significance level for decision-making\n",
    "\n",
    "# Compare p-value with alpha to determine hypothesis rejection\n",
    "if p_value < alpha:\n",
    "    print(\"Reject H0: There is a significant difference in glucose levels between the two age groups.\")\n",
    "else:\n",
    "    print(\"Fail to reject H0: No significant evidence that glucose levels differ between the two age groups.\")"
   ]
  },
  {
   "cell_type": "code",
   "execution_count": 28,
   "id": "19a8121c-1a18-4ac5-aee8-0740aa9bab16",
   "metadata": {},
   "outputs": [
    {
     "name": "stdout",
     "output_type": "stream",
     "text": [
      "Critical Value: 2.0017174841452356\n"
     ]
    }
   ],
   "source": [
    "# Compute the critical value for hypothesis testing\n",
    "critical_value = stats.t.ppf(1 - alpha, degrees_of_freedom)\n",
    "\n",
    "# Display the computed critical value for verification\n",
    "print(\"Critical Value:\", critical_value)"
   ]
  },
  {
   "cell_type": "code",
   "execution_count": 29,
   "id": "35157f03-b030-4c7d-8081-351a7e794362",
   "metadata": {},
   "outputs": [
    {
     "name": "stdout",
     "output_type": "stream",
     "text": [
      "T-statistic: -2.1286449134485514\n",
      "p-value: 0.03754240822947192\n",
      "Critical value: 2.0017174841452356\n"
     ]
    }
   ],
   "source": [
    "# Print the results of the hypothesis test\n",
    "print(\"T-statistic:\", t_statistics)  # Measures the difference between sample and hypothesized mean\n",
    "print(\"p-value:\", p_value)  # Determines statistical significance\n",
    "\n",
    "# Ensure critical_value is defined based on degrees of freedom and significance level\n",
    "critical_value = stats.t.ppf(1 - alpha, degrees_of_freedom)\n",
    "\n",
    "print(\"Critical value:\", critical_value)  # Used for comparison in hypothesis testing"
   ]
  },
  {
   "cell_type": "code",
   "execution_count": 30,
   "id": "94a16720-bd9d-4ed5-b279-1c35cc5a4bde",
   "metadata": {},
   "outputs": [
    {
     "name": "stdout",
     "output_type": "stream",
     "text": [
      "Fail to reject H0: There is no significant difference in glucose levels.\n"
     ]
    }
   ],
   "source": [
    "# Compare the p-value with the significance level (alpha)\n",
    "# Decision criteria:\n",
    "# - If p_value < alpha, reject H0 (significant difference in glucose levels)\n",
    "# - Otherwise, fail to reject H0 (no significant difference)\n",
    "\n",
    "if p_value < alpha:\n",
    "    print(\"Reject H0: There is a significant difference in glucose levels.\")\n",
    "else:\n",
    "    print(\"Fail to reject H0: There is no significant difference in glucose levels.\")"
   ]
  },
  {
   "cell_type": "markdown",
   "id": "8c7947a1-dfb2-4d37-98c1-725fcd5d12ba",
   "metadata": {},
   "source": [
    "Q3) Use the hypothermia dataset. Hypothermia is a medical condition that occurs. when the body's core temperature drops below 95 F(35 C). its a medical emergency where the body loses heat faster than it can produce it, leading to dangerously low body temperatures.Patients are treated for this condition. the t.1 column represents the patients body tempreature, when the patient got admitted. THe t.2 column represents the  patients body temperature after the initial treatment.Run a paired ttest to find if the treatment was effective."
   ]
  },
  {
   "cell_type": "code",
   "execution_count": 31,
   "id": "ac98632b-8c0a-4b1c-85b3-95b259adaf47",
   "metadata": {},
   "outputs": [
    {
     "name": "stdout",
     "output_type": "stream",
     "text": [
      "    t.1   t.2\n",
      "0  34.0  35.1\n",
      "1  29.0  33.0\n",
      "2  31.0  36.8\n",
      "3  32.0  34.0\n",
      "4  32.2  36.6\n"
     ]
    }
   ],
   "source": [
    "# Step 1: Load the dataset\n",
    "import pandas as pd\n",
    "import numpy as np\n",
    "from scipy import stats\n",
    "\n",
    "data = pd.read_csv(\"C:/Users/dbda.STUDENTSDC/Music/LabPractice/Notebooks/Datasets/Hypothermia.csv\")\n",
    "\n",
    "# Step 2: Extract relevant columns for analysis\n",
    "usage_data = data[[\"t.1\", \"t.2\"]]\n",
    "\n",
    "# Display the first few rows to verify the dataset\n",
    "print(usage_data.head())"
   ]
  },
  {
   "cell_type": "code",
   "execution_count": 32,
   "id": "9d65202c-3612-45dd-91ac-7963cfc43838",
   "metadata": {},
   "outputs": [],
   "source": [
    "# Import necessary modules for statistical analysis\n",
    "from scipy.stats import t\n",
    "from scipy.stats import ttest_rel"
   ]
  },
  {
   "cell_type": "code",
   "execution_count": 33,
   "id": "089f58eb-afe4-47b7-ac1c-86c9d4d4eb02",
   "metadata": {},
   "outputs": [
    {
     "name": "stdout",
     "output_type": "stream",
     "text": [
      "Paired T-statistic: -22.284298214866393\n",
      "P-value: 5.5720123452358365e-56\n"
     ]
    }
   ],
   "source": [
    "# Perform a paired t-test to assess temperature changes pre- and post-treatment\n",
    "tstats, pval = ttest_rel(usage_data[\"t.1\"], usage_data[\"t.2\"])\n",
    "\n",
    "# Print the test results for interpretation\n",
    "print(\"Paired T-statistic:\", tstats)\n",
    "print(\"P-value:\", pval)"
   ]
  },
  {
   "cell_type": "code",
   "execution_count": 34,
   "id": "80551919-d0da-4bd7-9dae-1171e1936955",
   "metadata": {},
   "outputs": [
    {
     "name": "stdout",
     "output_type": "stream",
     "text": [
      "Degrees of Freedom: 199\n"
     ]
    }
   ],
   "source": [
    "# Compute degrees of freedom for the paired t-test\n",
    "# Degrees of freedom (df) is calculated as (sample size - 1)\n",
    "degrees_of_freedom = len(usage_data[\"t.1\"]) - 1\n",
    "\n",
    "# Display the computed value for verification\n",
    "print(\"Degrees of Freedom:\", degrees_of_freedom)"
   ]
  },
  {
   "cell_type": "code",
   "execution_count": 35,
   "id": "fe5174f6-f50c-4fb8-8275-c7c59cc2ad28",
   "metadata": {},
   "outputs": [
    {
     "name": "stdout",
     "output_type": "stream",
     "text": [
      "Critical Value: 1.971956544249395\n"
     ]
    }
   ],
   "source": [
    "# Compute the critical value for the paired t-test\n",
    "alpha = 0.025  # Significance level\n",
    "critical_value = t.ppf(1 - alpha, degrees_of_freedom)\n",
    "\n",
    "# Display the computed critical value for verification\n",
    "print(\"Critical Value:\", critical_value)"
   ]
  },
  {
   "cell_type": "code",
   "execution_count": 36,
   "id": "157870d2-5df7-407c-8d8c-8e0fd451d623",
   "metadata": {},
   "outputs": [
    {
     "name": "stdout",
     "output_type": "stream",
     "text": [
      "T-statistic: -22.28, p-value: 0.0000\n",
      "Critical value (alpha = 0.025, two-tailed): ± 1.97\n"
     ]
    }
   ],
   "source": [
    "# Display the paired t-test results in a clear format\n",
    "print(f\"T-statistic: {tstats:.2f}, p-value: {pval:.4f}\")\n",
    "print(f\"Critical value (alpha = {alpha}, two-tailed): ± {critical_value:.2f}\")"
   ]
  },
  {
   "cell_type": "code",
   "execution_count": 37,
   "id": "0fd12f50-9b94-44c3-81f3-414c2e930c9a",
   "metadata": {},
   "outputs": [
    {
     "name": "stdout",
     "output_type": "stream",
     "text": [
      "Reject null hypothesis: The treatment significantly affected body temperature.\n"
     ]
    }
   ],
   "source": [
    "# Compare the p-value with the significance level (alpha) to determine the hypothesis outcome\n",
    "if pval < alpha:\n",
    "    print(\"Reject null hypothesis: The treatment significantly affected body temperature.\")\n",
    "else:\n",
    "    print(\"Fail to reject null hypothesis: No significant evidence that the treatment was effective.\")"
   ]
  },
  {
   "cell_type": "markdown",
   "id": "7cf2c310-d192-437c-8a3d-7a7fddd1a5d2",
   "metadata": {},
   "source": [
    "Q4) For StudentsPerformance.csv, using ANOVA find if there is a significant difference in maths marks depending on the level of parental education."
   ]
  },
  {
   "cell_type": "code",
   "execution_count": 38,
   "id": "188dd0b1-2b75-4eb9-b9e8-eed268ffffaf",
   "metadata": {},
   "outputs": [],
   "source": [
    "# Step 1: Load the dataset\n",
    "import pandas as pd\n",
    "from scipy.stats import f_oneway"
   ]
  },
  {
   "cell_type": "code",
   "execution_count": 39,
   "id": "36a2c30d-7964-489d-a397-4cb02bf410c0",
   "metadata": {},
   "outputs": [
    {
     "name": "stdout",
     "output_type": "stream",
     "text": [
      "   gender race/ethnicity parental level of education         lunch  \\\n",
      "0  female        group B           bachelor's degree      standard   \n",
      "1  female        group C                some college      standard   \n",
      "2  female        group B             master's degree      standard   \n",
      "3    male        group A          associate's degree  free/reduced   \n",
      "4    male        group C                some college      standard   \n",
      "\n",
      "  test preparation course  math score  reading score  writing score  \n",
      "0                    none          72             72             74  \n",
      "1               completed          69             90             88  \n",
      "2                    none          90             95             93  \n",
      "3                    none          47             57             44  \n",
      "4                    none          76             78             75  \n"
     ]
    }
   ],
   "source": [
    "# Load the StudentsPerformance dataset\n",
    "\n",
    "df = pd.read_csv('C:/Users/dbda.STUDENTSDC/Music/LabPractice/Notebooks/Datasets/StudentsPerformance.csv')\n",
    "\n",
    "# Display the first few rows to verify dataset structure\n",
    "print(df.head())"
   ]
  },
  {
   "cell_type": "code",
   "execution_count": 40,
   "id": "869a489c-a2d9-43c9-9ef0-9d24f56f1fcd",
   "metadata": {},
   "outputs": [
    {
     "name": "stdout",
     "output_type": "stream",
     "text": [
      "parental level of education\n",
      "some college          226\n",
      "associate's degree    222\n",
      "high school           196\n",
      "some high school      179\n",
      "bachelor's degree     118\n",
      "master's degree        59\n",
      "Name: count, dtype: int64\n"
     ]
    }
   ],
   "source": [
    "# Import necessary statistical module\n",
    "from scipy import stats\n",
    "\n",
    "# Display the count of unique parental education levels to understand group sizes\n",
    "print(df['parental level of education'].value_counts())"
   ]
  },
  {
   "cell_type": "code",
   "execution_count": 41,
   "id": "7bf2b152-60df-48c2-86a7-8eb3b314efde",
   "metadata": {},
   "outputs": [
    {
     "name": "stdout",
     "output_type": "stream",
     "text": [
      "Sample sizes: \n",
      "Some College: 226, Associate's Degree: 222, High School: 196,\n",
      "Some High School: 179, Bachelor's Degree: 118, Master's Degree: 59\n"
     ]
    }
   ],
   "source": [
    "# Separate math scores by parental level of education for ANOVA analysis\n",
    "s1 = df['math score'][df['parental level of education'] == \"some college\"]\n",
    "s2 = df['math score'][df['parental level of education'] == \"associate's degree\"]\n",
    "s3 = df['math score'][df['parental level of education'] == \"high school\"]\n",
    "s4 = df['math score'][df['parental level of education'] == \"some high school\"]\n",
    "s5 = df['math score'][df['parental level of education'] == \"bachelor's degree\"]\n",
    "s6 = df['math score'][df['parental level of education'] == \"master's degree\"]\n",
    "\n",
    "# Display the size of each group for verification\n",
    "print(f\"Sample sizes: \\nSome College: {len(s1)}, Associate's Degree: {len(s2)}, High School: {len(s3)},\")\n",
    "print(f\"Some High School: {len(s4)}, Bachelor's Degree: {len(s5)}, Master's Degree: {len(s6)}\")"
   ]
  },
  {
   "cell_type": "code",
   "execution_count": 42,
   "id": "477f0666-9027-4538-98b4-f4d22cecc0e6",
   "metadata": {},
   "outputs": [],
   "source": [
    "# Perform one-way ANOVA test to compare math scores across different parental education levels\n",
    "fstat, pval = f_oneway(s1, s2, s3, s4, s5, s6)"
   ]
  },
  {
   "cell_type": "code",
   "execution_count": 43,
   "id": "aac3f253-76c5-4ce7-958f-904cbdbd85f0",
   "metadata": {},
   "outputs": [
    {
     "name": "stdout",
     "output_type": "stream",
     "text": [
      "Between-group degrees of freedom: 5\n",
      "Within-group degrees of freedom: 994\n"
     ]
    }
   ],
   "source": [
    "# Compute degrees of freedom for ANOVA\n",
    "between_df = len([s1, s2, s3, s4, s5, s6]) - 1  # Number of groups - 1\n",
    "within_df = len(s1) + len(s2) + len(s3) + len(s4) + len(s5) + len(s6) - len([s1, s2, s3, s4, s5, s6])  # Total observations - number of groups\n",
    "\n",
    "# Display the computed degrees of freedom\n",
    "print(f\"Between-group degrees of freedom: {between_df}\")\n",
    "print(f\"Within-group degrees of freedom: {within_df}\")"
   ]
  },
  {
   "cell_type": "code",
   "execution_count": 44,
   "id": "cd428263-0e99-460f-84d1-e0eb81423af8",
   "metadata": {},
   "outputs": [
    {
     "name": "stdout",
     "output_type": "stream",
     "text": [
      "Critical Value: 2.579227762918727\n"
     ]
    }
   ],
   "source": [
    "# Compute the critical value for the ANOVA test\n",
    "alpha = 0.025  # Significance level\n",
    "critical_value = stats.f.ppf(1 - alpha, between_df, within_df)\n",
    "\n",
    "# Display the computed critical value for verification\n",
    "print(\"Critical Value:\", critical_value)"
   ]
  },
  {
   "cell_type": "code",
   "execution_count": 45,
   "id": "435ff90f-5e08-4b7e-9da9-4a4c0ec9797f",
   "metadata": {},
   "outputs": [
    {
     "name": "stdout",
     "output_type": "stream",
     "text": [
      "\n",
      "F-statistic: 6.52, p-value: 0.0000\n",
      "Critical value (alpha = 0.025): 2.58\n"
     ]
    }
   ],
   "source": [
    "# Display the ANOVA test results clearly\n",
    "print(f\"\\nF-statistic: {fstat:.2f}, p-value: {pval:.4f}\")  \n",
    "print(f\"Critical value (alpha = {alpha}): {critical_value:.2f}\")"
   ]
  },
  {
   "cell_type": "code",
   "execution_count": 46,
   "id": "a5f146ed-02ff-4b22-83b2-f33e428824b1",
   "metadata": {},
   "outputs": [
    {
     "name": "stdout",
     "output_type": "stream",
     "text": [
      "Reject null hypothesis: Significant difference in math scores based on parental education level.\n"
     ]
    }
   ],
   "source": [
    "# Interpretation of ANOVA results\n",
    "# Compare p-value with alpha to determine statistical significance\n",
    "\n",
    "if pval < alpha:\n",
    "    print(\"Reject null hypothesis: Significant difference in math scores based on parental education level.\")\n",
    "else:\n",
    "    print(\"Fail to reject null hypothesis: No significant evidence that parental education impacts math scores.\")"
   ]
  },
  {
   "cell_type": "markdown",
   "id": "39a6cc11-0cf8-42dc-bd3d-f61d262e0b83",
   "metadata": {},
   "source": [
    "Q5) Use dataset airline_passenger_satisfaction.csv.\n",
    "    for male passengers, determine if passenger class and ratings given to      \"onboard services\" are independent. seperately repeat for female passengers."
   ]
  },
  {
   "cell_type": "code",
   "execution_count": 47,
   "id": "40b3049f-b960-4c1e-a963-bf37d37e08dd",
   "metadata": {},
   "outputs": [],
   "source": [
    "import pandas as pd\n",
    "from scipy.stats import chi2_contingency\n",
    "\n",
    "# Load the dataset and remove missing values\n",
    "df = pd.read_csv('C:/Users/dbda.STUDENTSDC/Music/LabPractice/Notebooks/Datasets/airline_passenger_satisfaction.csv')\n",
    "df.dropna(inplace=True)"
   ]
  },
  {
   "cell_type": "code",
   "execution_count": 48,
   "id": "f4c179f2-d02d-442f-92b3-684f9b981da4",
   "metadata": {},
   "outputs": [],
   "source": [
    "# Filter dataset to include only male passengers\n",
    "df_male = df[df[\"Gender\"] == \"Male\"]"
   ]
  },
  {
   "cell_type": "code",
   "execution_count": 49,
   "id": "72c914e3-166a-4645-a08e-d6f29ae5cbbe",
   "metadata": {},
   "outputs": [
    {
     "name": "stdout",
     "output_type": "stream",
     "text": [
      "      Class  On-board Service\n",
      "0  Business                 3\n",
      "1  Business                 5\n",
      "2  Business                 3\n",
      "3  Business                 5\n",
      "4  Business                 3\n"
     ]
    }
   ],
   "source": [
    "# Select only the relevant columns for the chi-square test\n",
    "df = df[['Class', 'On-board Service']]\n",
    "\n",
    "# Display the first few rows to verify the selection\n",
    "print(df.head())"
   ]
  },
  {
   "cell_type": "code",
   "execution_count": 50,
   "id": "9aab4e23-4d86-4d89-b06b-9c26c25c576e",
   "metadata": {},
   "outputs": [
    {
     "name": "stdout",
     "output_type": "stream",
     "text": [
      "On-board Service  0     1     2      3      4      5\n",
      "Class                                               \n",
      "Business          5  4107  6787  11715  21426  17950\n",
      "Economy           0  9043  9758  14467  14870   9979\n",
      "Economy Plus      0  1588  1745   2278   2291   1478\n"
     ]
    }
   ],
   "source": [
    "# Create a contingency table for passenger class vs. onboard service ratings\n",
    "contingency_table = pd.crosstab(df['Class'], df['On-board Service'])\n",
    "\n",
    "# Display the contingency table\n",
    "print(contingency_table)"
   ]
  },
  {
   "cell_type": "code",
   "execution_count": 51,
   "id": "00d73172-a06c-482e-a985-9161801ca3ad",
   "metadata": {},
   "outputs": [
    {
     "name": "stdout",
     "output_type": "stream",
     "text": [
      "Chi-square statistic: 6725.10\n",
      "P-value: 0.0000\n",
      "Degrees of freedom: 10\n"
     ]
    }
   ],
   "source": [
    "# Perform the chi-square test on the contingency table\n",
    "chi2, p_value, degree_of_freedom, expected_counts = chi2_contingency(contingency_table)\n",
    "\n",
    "# Display the test results\n",
    "print(f\"Chi-square statistic: {chi2:.2f}\")\n",
    "print(f\"P-value: {p_value:.4f}\")\n",
    "print(f\"Degrees of freedom: {degree_of_freedom}\")"
   ]
  },
  {
   "cell_type": "code",
   "execution_count": 52,
   "id": "b41a3de1-19fe-4e86-a6cc-ee6984f03576",
   "metadata": {},
   "outputs": [
    {
     "name": "stdout",
     "output_type": "stream",
     "text": [
      "Chi-square statistic: 6725.0997721088515\n",
      "P-value: 0.0\n",
      "Degrees of freedom: 10\n",
      "Expected frequencies:\n",
      " [[2.39367659e+00 7.05560110e+03 8.75606895e+03 1.36248071e+04\n",
      "  1.84729597e+04 1.40781695e+04]\n",
      " [2.24412489e+00 6.61478253e+03 8.20900886e+03 1.27735589e+04\n",
      "  1.73188094e+04 1.31985961e+04]\n",
      " [3.62198522e-01 1.06761636e+03 1.32492219e+03 2.06163399e+03\n",
      "  2.79523087e+03 2.13023439e+03]]\n"
     ]
    }
   ],
   "source": [
    "# Print the chi-square test results\n",
    "print(\"Chi-square statistic:\", chi2)\n",
    "print(\"P-value:\", p_value)\n",
    "print(\"Degrees of freedom:\", degree_of_freedom)\n",
    "print(\"Expected frequencies:\\n\", expected_counts)\n"
   ]
  },
  {
   "cell_type": "code",
   "execution_count": 53,
   "id": "98f9839b-3c31-4cf8-bf0f-46a1e989a615",
   "metadata": {},
   "outputs": [
    {
     "name": "stdout",
     "output_type": "stream",
     "text": [
      "Reject H0: Passenger class and onboard service ratings are NOT independent.\n"
     ]
    }
   ],
   "source": [
    "# Set significance level (alpha)\n",
    "alpha = 0.05  \n",
    "\n",
    "# Compare p-value with alpha to determine statistical significance\n",
    "if p_value < alpha:\n",
    "    print(\"Reject H0: Passenger class and onboard service ratings are NOT independent.\")\n",
    "else:\n",
    "    print(\"Do not reject H0: No significant evidence that passenger class affects onboard service ratings.\")"
   ]
  },
  {
   "cell_type": "markdown",
   "id": "b497e7bc-a2fe-4130-a913-6a5f2c34f6f8",
   "metadata": {},
   "source": [
    "#### Female"
   ]
  },
  {
   "cell_type": "code",
   "execution_count": 54,
   "id": "8932b04b-06b1-4eaf-b322-29e9e084e1c3",
   "metadata": {},
   "outputs": [
    {
     "name": "stdout",
     "output_type": "stream",
     "text": [
      "   ID  Gender  Age Customer Type Type of Travel     Class  Flight Distance  \\\n",
      "0   1    Male   48    First-time       Business  Business              821   \n",
      "1   2  Female   35     Returning       Business  Business              821   \n",
      "2   3    Male   41     Returning       Business  Business              853   \n",
      "3   4    Male   50     Returning       Business  Business             1905   \n",
      "4   5  Female   49     Returning       Business  Business             3470   \n",
      "\n",
      "   Departure Delay  Arrival Delay  Departure and Arrival Time Convenience  \\\n",
      "0                2            5.0                                       3   \n",
      "1               26           39.0                                       2   \n",
      "2                0            0.0                                       4   \n",
      "3                0            0.0                                       2   \n",
      "4                0            1.0                                       3   \n",
      "\n",
      "   ...  On-board Service  Seat Comfort  Leg Room Service  Cleanliness  \\\n",
      "0  ...                 3             5                 2            5   \n",
      "1  ...                 5             4                 5            5   \n",
      "2  ...                 3             5                 3            5   \n",
      "3  ...                 5             5                 5            4   \n",
      "4  ...                 3             4                 4            5   \n",
      "\n",
      "   Food and Drink  In-flight Service  In-flight Wifi Service  \\\n",
      "0               5                  5                       3   \n",
      "1               3                  5                       2   \n",
      "2               5                  3                       4   \n",
      "3               4                  5                       2   \n",
      "4               4                  3                       3   \n",
      "\n",
      "   In-flight Entertainment  Baggage Handling             Satisfaction  \n",
      "0                        5                 5  Neutral or Dissatisfied  \n",
      "1                        5                 5                Satisfied  \n",
      "2                        3                 3                Satisfied  \n",
      "3                        5                 5                Satisfied  \n",
      "4                        3                 3                Satisfied  \n",
      "\n",
      "[5 rows x 24 columns]\n"
     ]
    }
   ],
   "source": [
    "# Load the airline passenger satisfaction dataset\n",
    "import pandas as pd\n",
    "\n",
    "df = pd.read_csv('C:/Users/dbda.STUDENTSDC/Music/LabPractice/Notebooks/Datasets/airline_passenger_satisfaction.csv')\n",
    "\n",
    "# Remove rows with missing values to ensure clean data for analysis\n",
    "df.dropna(inplace=True)\n",
    "\n",
    "# Display the first few rows to verify dataset structure\n",
    "print(df.head())"
   ]
  },
  {
   "cell_type": "code",
   "execution_count": 55,
   "id": "e0e6b882-d426-4a76-bb56-de5950685e21",
   "metadata": {},
   "outputs": [
    {
     "name": "stdout",
     "output_type": "stream",
     "text": [
      "    ID  Gender  Age Customer Type Type of Travel     Class  Flight Distance  \\\n",
      "1    2  Female   35     Returning       Business  Business              821   \n",
      "4    5  Female   49     Returning       Business  Business             3470   \n",
      "7    8  Female   60     Returning       Business  Business              853   \n",
      "9   10  Female   38     Returning       Business  Business             2822   \n",
      "10  11  Female   28    First-time       Business  Business              821   \n",
      "\n",
      "    Departure Delay  Arrival Delay  Departure and Arrival Time Convenience  \\\n",
      "1                26           39.0                                       2   \n",
      "4                 0            1.0                                       3   \n",
      "7                 0            3.0                                       3   \n",
      "9                13            0.0                                       2   \n",
      "10                0            5.0                                       1   \n",
      "\n",
      "    ...  On-board Service  Seat Comfort  Leg Room Service  Cleanliness  \\\n",
      "1   ...                 5             4                 5            5   \n",
      "4   ...                 3             4                 4            5   \n",
      "7   ...                 3             4                 4            4   \n",
      "9   ...                 5             4                 5            4   \n",
      "10  ...                 2             2                 5            2   \n",
      "\n",
      "    Food and Drink  In-flight Service  In-flight Wifi Service  \\\n",
      "1                3                  5                       2   \n",
      "4                4                  3                       3   \n",
      "7                4                  3                       4   \n",
      "9                2                  5                       2   \n",
      "10               2                  4                       1   \n",
      "\n",
      "    In-flight Entertainment  Baggage Handling             Satisfaction  \n",
      "1                         5                 5                Satisfied  \n",
      "4                         3                 3                Satisfied  \n",
      "7                         3                 3                Satisfied  \n",
      "9                         5                 5                Satisfied  \n",
      "10                        2                 3  Neutral or Dissatisfied  \n",
      "\n",
      "[5 rows x 24 columns]\n"
     ]
    }
   ],
   "source": [
    "# Filter dataset to include only female passengers\n",
    "df_female = df[df[\"Gender\"] == \"Female\"]\n",
    "\n",
    "# Display the first few rows to verify the selection\n",
    "print(df_female.head())"
   ]
  },
  {
   "cell_type": "code",
   "execution_count": 56,
   "id": "c7bf6226-84c6-4892-aa53-855b963725eb",
   "metadata": {},
   "outputs": [
    {
     "name": "stdout",
     "output_type": "stream",
     "text": [
      "      Class  On-board Service\n",
      "0  Business                 3\n",
      "1  Business                 5\n",
      "2  Business                 3\n",
      "3  Business                 5\n",
      "4  Business                 3\n"
     ]
    }
   ],
   "source": [
    "# Select only the relevant columns for the chi-square test\n",
    "df = df[['Class', 'On-board Service']]\n",
    "\n",
    "# Display the first few rows to verify the selection\n",
    "print(df.head())"
   ]
  },
  {
   "cell_type": "code",
   "execution_count": 57,
   "id": "fce40483-2b64-4818-bbf0-3209c84671dd",
   "metadata": {},
   "outputs": [
    {
     "name": "stdout",
     "output_type": "stream",
     "text": [
      "On-board Service  0     1     2      3      4      5\n",
      "Class                                               \n",
      "Business          5  4107  6787  11715  21426  17950\n",
      "Economy           0  9043  9758  14467  14870   9979\n",
      "Economy Plus      0  1588  1745   2278   2291   1478\n"
     ]
    }
   ],
   "source": [
    "# Create a contingency table for passenger class vs. onboard service ratings\n",
    "contingency_table = pd.crosstab(df['Class'], df['On-board Service'])\n",
    "\n",
    "# Display the contingency table\n",
    "print(contingency_table)"
   ]
  },
  {
   "cell_type": "code",
   "execution_count": 58,
   "id": "928e90ea-8031-4d6f-b6d5-b371a7ac426e",
   "metadata": {},
   "outputs": [
    {
     "name": "stdout",
     "output_type": "stream",
     "text": [
      "Chi-square statistic: 6725.10\n",
      "P-value: 0.0000\n",
      "Degrees of freedom: 10\n"
     ]
    }
   ],
   "source": [
    "# Perform chi-square test for independence\n",
    "chi2, p_value, degree_of_freedom, expected_counts = chi2_contingency(contingency_table)\n",
    "\n",
    "# Display test results\n",
    "print(f\"Chi-square statistic: {chi2:.2f}\")\n",
    "print(f\"P-value: {p_value:.4f}\")\n",
    "print(f\"Degrees of freedom: {degree_of_freedom}\")"
   ]
  },
  {
   "cell_type": "code",
   "execution_count": 59,
   "id": "fe9a904c-5f29-4810-b386-78ddc8f8cda5",
   "metadata": {},
   "outputs": [
    {
     "name": "stdout",
     "output_type": "stream",
     "text": [
      "Chi-square statistic: 6725.0997721088515\n",
      "P-value: 0.0\n",
      "Degrees of freedom: 10\n",
      "Expected frequencies:\n",
      " [[2.39367659e+00 7.05560110e+03 8.75606895e+03 1.36248071e+04\n",
      "  1.84729597e+04 1.40781695e+04]\n",
      " [2.24412489e+00 6.61478253e+03 8.20900886e+03 1.27735589e+04\n",
      "  1.73188094e+04 1.31985961e+04]\n",
      " [3.62198522e-01 1.06761636e+03 1.32492219e+03 2.06163399e+03\n",
      "  2.79523087e+03 2.13023439e+03]]\n"
     ]
    }
   ],
   "source": [
    "# Print the chi-square test results\n",
    "print(\"Chi-square statistic:\", chi2)\n",
    "print(\"P-value:\", p_value)\n",
    "print(\"Degrees of freedom:\", degree_of_freedom)\n",
    "print(\"Expected frequencies:\\n\", expected_counts)"
   ]
  },
  {
   "cell_type": "code",
   "execution_count": 60,
   "id": "dfdb6db5-d148-4cd1-8955-a3971fe7f150",
   "metadata": {},
   "outputs": [
    {
     "name": "stdout",
     "output_type": "stream",
     "text": [
      "Reject H0: Passenger class and onboard service ratings are NOT independent.\n"
     ]
    }
   ],
   "source": [
    "# Set significance level (alpha)\n",
    "alpha = 0.05  \n",
    "\n",
    "# Compare p-value with alpha to determine statistical significance\n",
    "if p_value < alpha:\n",
    "    print(\"Reject H0: Passenger class and onboard service ratings are NOT independent.\")\n",
    "else:\n",
    "    print(\"Do not reject H0: No significant evidence that passenger class affects onboard service ratings.\")"
   ]
  },
  {
   "cell_type": "markdown",
   "id": "d309472a-34ab-47fe-8360-b36a33484a27",
   "metadata": {},
   "source": [
    "6) Use dataset Amazon Sale Report.\n",
    "   Are order fulfillment and order status independent? Consider only cancelled and pending orders."
   ]
  },
  {
   "cell_type": "code",
   "execution_count": 61,
   "id": "ec450db4-0aff-487d-8465-2d4e1faa272a",
   "metadata": {},
   "outputs": [],
   "source": [
    "import pandas as pd\n",
    "from scipy.stats import chi2_contingency\n",
    "\n",
    "# Load the dataset\n",
    "df = pd.read_csv('C:/Users/dbda.STUDENTSDC/Music/LabPractice/Notebooks/Datasets/Amazon Sale Report.csv', low_memory=False)\n",
    "\n",
    "# Remove missing values\n",
    "df.dropna(inplace=True)"
   ]
  },
  {
   "cell_type": "code",
   "execution_count": 62,
   "id": "138857ee-8507-4888-bedd-8bb9e00b8d8b",
   "metadata": {},
   "outputs": [
    {
     "name": "stdout",
     "output_type": "stream",
     "text": [
      "       index             Order ID      Date                        Status  \\\n",
      "49051  49051  408-4858463-2356347  05-31-22  Shipped - Delivered to Buyer   \n",
      "\n",
      "      Fulfilment Sales Channel  ship-service-level  Style         SKU  \\\n",
      "49051   Merchant      Amazon.in           Standard  J0385  J0385-KR-M   \n",
      "\n",
      "      Category  ... currency Amount    ship-city      ship-state  \\\n",
      "49051    kurta  ...      INR  888.0  RAJAHMUNDRY  ANDHRA PRADESH   \n",
      "\n",
      "      ship-postal-code  ship-country  \\\n",
      "49051         533126.0            IN   \n",
      "\n",
      "                                           promotion-ids    B2B  fulfilled-by  \\\n",
      "49051  Amazon PLCC Free-Financing Universal Merchant ...  False     Easy Ship   \n",
      "\n",
      "      Unnamed: 22  \n",
      "49051       False  \n",
      "\n",
      "[1 rows x 24 columns]\n"
     ]
    }
   ],
   "source": [
    "# Display the first row of the dataset to check column names and data types\n",
    "print(df.head(1))"
   ]
  },
  {
   "cell_type": "code",
   "execution_count": 63,
   "id": "05b42595-8e85-417f-bfe4-276924858174",
   "metadata": {},
   "outputs": [
    {
     "name": "stdout",
     "output_type": "stream",
     "text": [
      "['Merchant']\n"
     ]
    }
   ],
   "source": [
    "# Display unique values in the 'Fulfilment' column\n",
    "print(df[\"Fulfilment\"].unique())"
   ]
  },
  {
   "cell_type": "code",
   "execution_count": 64,
   "id": "c8f7d783-d08c-49db-b850-33b99aeb8515",
   "metadata": {},
   "outputs": [
    {
     "name": "stdout",
     "output_type": "stream",
     "text": [
      "['Shipped - Delivered to Buyer' 'Shipped - Returned to Seller'\n",
      " 'Shipped - Returning to Seller' 'Shipped - Lost in Transit'\n",
      " 'Shipped - Picked Up' 'Shipped - Out for Delivery' 'Pending'\n",
      " 'Pending - Waiting for Pick Up' 'Shipped - Rejected by Buyer'\n",
      " 'Shipped - Damaged']\n"
     ]
    }
   ],
   "source": [
    "# Display unique values in the 'Status' column\n",
    "print(df[\"Status\"].unique())"
   ]
  },
  {
   "cell_type": "code",
   "execution_count": 65,
   "id": "d2eb5cca-6520-44c1-b186-451a2e73b5a2",
   "metadata": {},
   "outputs": [
    {
     "name": "stdout",
     "output_type": "stream",
     "text": [
      "       index             Order ID      Date   Status Fulfilment  \\\n",
      "91199  91199  403-0176285-9325126  06-29-22  Pending   Merchant   \n",
      "91200  91200  407-5797861-3428325  06-29-22  Pending   Merchant   \n",
      "91203  91203  406-2093090-0448363  06-29-22  Pending   Merchant   \n",
      "91207  91207  402-3666308-9956330  06-29-22  Pending   Merchant   \n",
      "91218  91218  407-1580850-5233959  06-29-22  Pending   Merchant   \n",
      "\n",
      "      Sales Channel  ship-service-level    Style             SKU  \\\n",
      "91199      Amazon.in           Standard  JNE3801   JNE3801-KR-XL   \n",
      "91200      Amazon.in           Standard  JNE3797  JNE3797-KR-XXL   \n",
      "91203      Amazon.in           Standard  JNE3797  JNE3797-KR-XXL   \n",
      "91207      Amazon.in           Standard  JNE3797   JNE3797-KR-XL   \n",
      "91218      Amazon.in           Standard    J0148    J0148-SET-XL   \n",
      "\n",
      "            Category  ... currency Amount  ship-city      ship-state  \\\n",
      "91199          kurta  ...      INR  725.0     MUMBAI     MAHARASHTRA   \n",
      "91200  Western Dress  ...      INR  735.0    CHENNAI      TAMIL NADU   \n",
      "91203  Western Dress  ...      INR  735.0  BENGALURU       KARNATAKA   \n",
      "91207  Western Dress  ...      INR  735.0   UNGUTURU  ANDHRA PRADESH   \n",
      "91218            Set  ...      INR  599.0   GURUGRAM         HARYANA   \n",
      "\n",
      "      ship-postal-code  ship-country  \\\n",
      "91199         400006.0            IN   \n",
      "91200         600032.0            IN   \n",
      "91203         560068.0            IN   \n",
      "91207         534406.0            IN   \n",
      "91218         122001.0            IN   \n",
      "\n",
      "                                           promotion-ids    B2B  fulfilled-by  \\\n",
      "91199  Amazon PLCC Free-Financing Universal Merchant ...  False     Easy Ship   \n",
      "91200  Amazon PLCC Free-Financing Universal Merchant ...  False     Easy Ship   \n",
      "91203  Amazon PLCC Free-Financing Universal Merchant ...  False     Easy Ship   \n",
      "91207  Amazon PLCC Free-Financing Universal Merchant ...  False     Easy Ship   \n",
      "91218  Amazon PLCC Free-Financing Universal Merchant ...  False     Easy Ship   \n",
      "\n",
      "      Unnamed: 22  \n",
      "91199       False  \n",
      "91200       False  \n",
      "91203       False  \n",
      "91207       False  \n",
      "91218       False  \n",
      "\n",
      "[5 rows x 24 columns]\n"
     ]
    }
   ],
   "source": [
    "# Filter dataset to include only relevant order statuses\n",
    "df_filtered = df[(df[\"Status\"] == \"Pending\") | \n",
    "                 (df[\"Status\"] == \"Pending - Waiting for Pick Up\") | \n",
    "                 (df[\"Status\"] == \"Shipped - Rejected by Buyer\")]\n",
    "\n",
    "# Display the first few rows to verify filtering\n",
    "print(df_filtered.head())"
   ]
  },
  {
   "cell_type": "code",
   "execution_count": 66,
   "id": "9c7a912e-9d26-44d3-b2ef-237df4d47cd8",
   "metadata": {},
   "outputs": [
    {
     "name": "stdout",
     "output_type": "stream",
     "text": [
      "      Fulfilment                        Status\n",
      "49051   Merchant  Shipped - Delivered to Buyer\n",
      "49077   Merchant  Shipped - Delivered to Buyer\n",
      "49081   Merchant  Shipped - Delivered to Buyer\n",
      "49082   Merchant  Shipped - Delivered to Buyer\n",
      "49083   Merchant  Shipped - Delivered to Buyer\n"
     ]
    }
   ],
   "source": [
    "# Select only the relevant columns for the chi-square test\n",
    "df = df[['Fulfilment', 'Status']]\n",
    "\n",
    "# Display the first few rows to verify the selection\n",
    "print(df.head())"
   ]
  },
  {
   "cell_type": "code",
   "execution_count": 67,
   "id": "0b8595b7-6c32-4468-a643-0aa970aae7bf",
   "metadata": {},
   "outputs": [
    {
     "name": "stdout",
     "output_type": "stream",
     "text": [
      "Status      Pending  Pending - Waiting for Pick Up  Shipped - Damaged  \\\n",
      "Fulfilment                                                              \n",
      "Merchant        220                            280                  1   \n",
      "\n",
      "Status      Shipped - Delivered to Buyer  Shipped - Lost in Transit  \\\n",
      "Fulfilment                                                            \n",
      "Merchant                           16672                          3   \n",
      "\n",
      "Status      Shipped - Out for Delivery  Shipped - Picked Up  \\\n",
      "Fulfilment                                                    \n",
      "Merchant                            34                  967   \n",
      "\n",
      "Status      Shipped - Rejected by Buyer  Shipped - Returned to Seller  \\\n",
      "Fulfilment                                                              \n",
      "Merchant                              5                          1054   \n",
      "\n",
      "Status      Shipped - Returning to Seller  \n",
      "Fulfilment                                 \n",
      "Merchant                              143  \n"
     ]
    }
   ],
   "source": [
    "# Create a contingency table for order fulfillment vs. order status\n",
    "contingency_table = pd.crosstab(df['Fulfilment'], df['Status'])\n",
    "\n",
    "# Display the contingency table\n",
    "print(contingency_table)"
   ]
  },
  {
   "cell_type": "code",
   "execution_count": 68,
   "id": "63c172fd-2ff4-438e-8706-f891efc73252",
   "metadata": {},
   "outputs": [
    {
     "name": "stdout",
     "output_type": "stream",
     "text": [
      "Chi-square statistic: 0.00\n",
      "P-value: 1.0000\n",
      "Degrees of freedom: 0\n"
     ]
    }
   ],
   "source": [
    "# Perform chi-square test for independence\n",
    "chi2, p_value, degree_of_freedom, expected_counts = chi2_contingency(contingency_table)\n",
    "\n",
    "# Display test results\n",
    "print(f\"Chi-square statistic: {chi2:.2f}\")\n",
    "print(f\"P-value: {p_value:.4f}\")\n",
    "print(f\"Degrees of freedom: {degree_of_freedom}\")"
   ]
  },
  {
   "cell_type": "code",
   "execution_count": 69,
   "id": "11eeaade-0a64-4460-81fa-33f01ac13b88",
   "metadata": {},
   "outputs": [
    {
     "name": "stdout",
     "output_type": "stream",
     "text": [
      "Chi-square statistic: 0.0\n",
      "P-value: 1.0\n",
      "Degrees of freedom: 0\n",
      "Expected frequencies:\n",
      " [[2.2000e+02 2.8000e+02 1.0000e+00 1.6672e+04 3.0000e+00 3.4000e+01\n",
      "  9.6700e+02 5.0000e+00 1.0540e+03 1.4300e+02]]\n"
     ]
    }
   ],
   "source": [
    "# Print the chi-square test results\n",
    "print(\"Chi-square statistic:\", chi2)\n",
    "print(\"P-value:\", p_value)\n",
    "print(\"Degrees of freedom:\", degree_of_freedom)\n",
    "print(\"Expected frequencies:\\n\", expected_counts)"
   ]
  },
  {
   "cell_type": "code",
   "execution_count": 70,
   "id": "d21c1d07-1809-4ee3-a36e-9380480262a9",
   "metadata": {},
   "outputs": [
    {
     "name": "stdout",
     "output_type": "stream",
     "text": [
      "Do not reject H0: No significant evidence that order fulfillment affects order status.\n"
     ]
    }
   ],
   "source": [
    "# Set significance level (alpha)\n",
    "alpha = 0.05  \n",
    "\n",
    "# Compare p-value with alpha to determine statistical significance\n",
    "if p_value < alpha:\n",
    "    print(\"Reject H0: Order fulfillment and order status are NOT independent.\")\n",
    "else:\n",
    "    print(\"Do not reject H0: No significant evidence that order fulfillment affects order status.\")"
   ]
  }
 ],
 "metadata": {
  "kernelspec": {
   "display_name": "Python 3 (ipykernel)",
   "language": "python",
   "name": "python3"
  },
  "language_info": {
   "codemirror_mode": {
    "name": "ipython",
    "version": 3
   },
   "file_extension": ".py",
   "mimetype": "text/x-python",
   "name": "python",
   "nbconvert_exporter": "python",
   "pygments_lexer": "ipython3",
   "version": "3.12.7"
  }
 },
 "nbformat": 4,
 "nbformat_minor": 5
}
