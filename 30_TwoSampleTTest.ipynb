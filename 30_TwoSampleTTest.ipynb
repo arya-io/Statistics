{
 "cells": [
  {
   "cell_type": "code",
   "execution_count": 1,
   "id": "a29c324b-79a6-40e0-98ae-8a5db99337d3",
   "metadata": {},
   "outputs": [],
   "source": [
    "# Consider dataset Mall_customer.csv.\n",
    "# The Genre column can have either Male or Female as Value.\n",
    "# Run a two Saample t-test ont the 'Spending Score (1-100)'\n",
    "# column to see if the two genres spend differently"
   ]
  },
  {
   "cell_type": "code",
   "execution_count": 2,
   "id": "46937b8a-c1f2-4650-bfb3-d4d7f0ca2161",
   "metadata": {},
   "outputs": [],
   "source": [
    "# Two/Independent sample t-test\n",
    "# H0: There is no difference between male and female customer spending "
   ]
  },
  {
   "cell_type": "code",
   "execution_count": 3,
   "id": "3bdbd4c8-c4f7-419b-9934-9e0f4955ad0e",
   "metadata": {},
   "outputs": [],
   "source": [
    "# Import necessary libraries\n",
    "import pandas as pd  # For handling datasets\n",
    "from scipy import stats  # For statistical tests"
   ]
  },
  {
   "cell_type": "code",
   "execution_count": 4,
   "id": "4b673f21-6279-4796-89dc-2ca1ca30b9e9",
   "metadata": {},
   "outputs": [
    {
     "name": "stdout",
     "output_type": "stream",
     "text": [
      "   CustomerID   Genre  Age  Annual Income (k$)  Spending Score (1-100)\n",
      "0           1    Male   19                  15                      39\n",
      "1           2    Male   21                  15                      81\n",
      "2           3  Female   20                  16                       6\n",
      "3           4  Female   23                  16                      77\n",
      "4           5  Female   31                  17                      40\n"
     ]
    }
   ],
   "source": [
    "# Load the dataset from the specified path\n",
    "data = pd.read_csv(\"C:/Users/dbda.STUDENTSDC/Music/LabPractice/Notebooks/Datasets/Mall_Customers.csv\")\n",
    "\n",
    "# Display the first five rows to understand the dataset structure\n",
    "print(data.head())  "
   ]
  },
  {
   "cell_type": "code",
   "execution_count": 5,
   "id": "088f1bc8-7c93-4f74-8e3b-9bc479e34f82",
   "metadata": {},
   "outputs": [
    {
     "name": "stdout",
     "output_type": "stream",
     "text": [
      "Male Spending Score Statistics:\n",
      " count    88.000000\n",
      "mean     48.511364\n",
      "std      27.896770\n",
      "min       1.000000\n",
      "25%      24.500000\n",
      "50%      50.000000\n",
      "75%      70.000000\n",
      "max      97.000000\n",
      "Name: Spending Score (1-100), dtype: float64\n",
      "\n",
      "Female Spending Score Statistics:\n",
      " count    112.000000\n",
      "mean      51.526786\n",
      "std       24.114950\n",
      "min        5.000000\n",
      "25%       35.000000\n",
      "50%       50.000000\n",
      "75%       73.000000\n",
      "max       99.000000\n",
      "Name: Spending Score (1-100), dtype: float64\n"
     ]
    }
   ],
   "source": [
    "# Extract the 'Spending Score (1-100)' values separately for male and female customers\n",
    "male_spending = data[data['Genre'] == 'Male']['Spending Score (1-100)']\n",
    "female_spending = data[data['Genre'] == 'Female']['Spending Score (1-100)']\n",
    "\n",
    "# Print summary statistics for both groups to understand their distributions\n",
    "print(\"Male Spending Score Statistics:\\n\", male_spending.describe())\n",
    "print(\"\\nFemale Spending Score Statistics:\\n\", female_spending.describe())"
   ]
  },
  {
   "cell_type": "code",
   "execution_count": 6,
   "id": "82c91596-b53b-4730-8822-96864e0f8b01",
   "metadata": {},
   "outputs": [
    {
     "name": "stdout",
     "output_type": "stream",
     "text": [
      "Male Spending Score Statistics:\n",
      " count    88.000000\n",
      "mean     48.511364\n",
      "std      27.896770\n",
      "min       1.000000\n",
      "25%      24.500000\n",
      "50%      50.000000\n",
      "75%      70.000000\n",
      "max      97.000000\n",
      "Name: Spending Score (1-100), dtype: float64\n",
      "\n",
      "Female Spending Score Statistics:\n",
      " count    112.000000\n",
      "mean      51.526786\n",
      "std       24.114950\n",
      "min        5.000000\n",
      "25%       35.000000\n",
      "50%       50.000000\n",
      "75%       73.000000\n",
      "max       99.000000\n",
      "Name: Spending Score (1-100), dtype: float64\n"
     ]
    }
   ],
   "source": [
    "# Extract the 'Spending Score (1-100)' values separately for male and female customers\n",
    "male_spending = data[data['Genre'] == 'Male']['Spending Score (1-100)']\n",
    "female_spending = data[data['Genre'] == 'Female']['Spending Score (1-100)']\n",
    "\n",
    "# Print summary statistics for both groups to understand their distributions\n",
    "print(\"Male Spending Score Statistics:\\n\", male_spending.describe())\n",
    "print(\"\\nFemale Spending Score Statistics:\\n\", female_spending.describe())"
   ]
  },
  {
   "cell_type": "code",
   "execution_count": 7,
   "id": "7bfb26a7-5330-45a9-96ea-7255f7fd2360",
   "metadata": {},
   "outputs": [],
   "source": [
    "# Perform an independent two-sample t-test to compare spending scores\n",
    "# H0: There is no significant difference in spending scores between male and female customers\n",
    "# H1: There is a significant difference in spending scores between male and female customers\n",
    "\n",
    "t_statistics, p_value = stats.ttest_ind(male_spending, female_spending)"
   ]
  },
  {
   "cell_type": "code",
   "execution_count": 8,
   "id": "2ca81518-63be-47f7-83bf-f6c6234d4e85",
   "metadata": {},
   "outputs": [
    {
     "name": "stdout",
     "output_type": "stream",
     "text": [
      "Sample size - Male: 88\n",
      "Sample size - Female: 112\n",
      "Degrees of Freedom: 198\n"
     ]
    }
   ],
   "source": [
    "# Calculate the sample sizes for male and female spending groups\n",
    "n_male = len(male_spending)  # Number of male customers\n",
    "n_female = len(female_spending)  # Number of female customers\n",
    "\n",
    "# Compute the degrees of freedom for the t-test\n",
    "degrees_of_freedom = n_male + n_female - 2  \n",
    "\n",
    "# Print the computed values for verification\n",
    "print(\"Sample size - Male:\", n_male)\n",
    "print(\"Sample size - Female:\", n_female)\n",
    "print(\"Degrees of Freedom:\", degrees_of_freedom)"
   ]
  },
  {
   "cell_type": "code",
   "execution_count": 9,
   "id": "48d2d1a8-26b2-482e-adf1-f0e739637781",
   "metadata": {},
   "outputs": [
    {
     "name": "stdout",
     "output_type": "stream",
     "text": [
      "Significance Level (Alpha): 0.025\n"
     ]
    }
   ],
   "source": [
    "# Define the significance level for hypothesis testing\n",
    "alpha = 0.025  # This represents the threshold for statistical significance\n",
    "\n",
    "# Print the significance level for reference\n",
    "print(\"Significance Level (Alpha):\", alpha)"
   ]
  },
  {
   "cell_type": "code",
   "execution_count": 10,
   "id": "7acfc130-53fe-4469-8e95-576b27b0d040",
   "metadata": {},
   "outputs": [
    {
     "name": "stdout",
     "output_type": "stream",
     "text": [
      "Critical Value: 1.9720174778338955\n"
     ]
    }
   ],
   "source": [
    "# Calculate the critical value for the t-distribution\n",
    "# This helps determine the rejection region for hypothesis testing\n",
    "critical_value = stats.t.ppf(1 - alpha, degrees_of_freedom)\n",
    "\n",
    "# Print the critical value to ensure correct computation\n",
    "print(\"Critical Value:\", critical_value)"
   ]
  },
  {
   "cell_type": "code",
   "execution_count": 11,
   "id": "cbd5d43a-d4d0-49a8-bcd4-2221861f1465",
   "metadata": {},
   "outputs": [
    {
     "name": "stdout",
     "output_type": "stream",
     "text": [
      "T-statistic: -0.8190464150660334\n",
      "p-value: 0.4137446589852174\n",
      "Critical Value: 1.9720174778338955\n"
     ]
    }
   ],
   "source": [
    "# Print the results of the two-sample t-test\n",
    "print(\"T-statistic:\", t_statistics)  # Measures the difference between group means\n",
    "print(\"p-value:\", p_value)  # Determines statistical significance\n",
    "print(\"Critical Value:\", critical_value)  # Threshold for rejecting the null hypothesis"
   ]
  },
  {
   "cell_type": "code",
   "execution_count": 12,
   "id": "299f9284-31e5-4988-a06e-dff1b4c688c0",
   "metadata": {},
   "outputs": [
    {
     "name": "stdout",
     "output_type": "stream",
     "text": [
      "do not reject H0: There is no significant difference in spending scores between male and female groups.\n"
     ]
    }
   ],
   "source": [
    "if p_value < alpha:\n",
    "    print(\"reject H0: There is a significant difference in spending scores between male and female groups.\")\n",
    "else:\n",
    "    print(\"do not reject H0: There is no significant difference in spending scores between male and female groups.\")"
   ]
  },
  {
   "cell_type": "code",
   "execution_count": 13,
   "id": "b2139219-550e-42f2-be43-edd039518459",
   "metadata": {},
   "outputs": [
    {
     "name": "stdout",
     "output_type": "stream",
     "text": [
      "Do not reject H0: There is no significant difference in spending scores between male and female groups.\n"
     ]
    }
   ],
   "source": [
    "# Compare the p-value with the significance level (alpha) to determine the test result\n",
    "if p_value < alpha:\n",
    "    print(\"Reject H0: There is a significant difference in spending scores between male and female groups.\")\n",
    "else:\n",
    "    print(\"Do not reject H0: There is no significant difference in spending scores between male and female groups.\")"
   ]
  }
 ],
 "metadata": {
  "kernelspec": {
   "display_name": "Python 3 (ipykernel)",
   "language": "python",
   "name": "python3"
  },
  "language_info": {
   "codemirror_mode": {
    "name": "ipython",
    "version": 3
   },
   "file_extension": ".py",
   "mimetype": "text/x-python",
   "name": "python",
   "nbconvert_exporter": "python",
   "pygments_lexer": "ipython3",
   "version": "3.12.7"
  }
 },
 "nbformat": 4,
 "nbformat_minor": 5
}
