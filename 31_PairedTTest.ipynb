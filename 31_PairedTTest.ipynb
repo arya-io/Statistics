{
 "cells": [
  {
   "cell_type": "code",
   "execution_count": 1,
   "id": "e4c1248c-3bb7-44ce-92ac-0b6dcaa6848b",
   "metadata": {},
   "outputs": [],
   "source": [
    "# Paired t-test: A company has launched some offer\n",
    "# H0: Pre and post usage is the same (i.e., offer is not effective)"
   ]
  },
  {
   "cell_type": "code",
   "execution_count": 2,
   "id": "4a8d5f4e-570d-48fd-aa7c-ebb212e8bb2f",
   "metadata": {},
   "outputs": [],
   "source": [
    "# Import necessary libraries\n",
    "import pandas as pd  # For handling datasets\n",
    "from scipy.stats import ttest_rel  # For performing the paired t-test\n",
    "from scipy.stats import t  # For computing critical values\n",
    "\n",
    "# Load the dataset (Ensure the file path is correct)\n",
    "# data = pd.read_csv(\"path_to_your_dataset.csv\")  # Uncomment and modify when using an actual dataset\n",
    "\n",
    "# Hypothesis:\n",
    "# H0: Pre and post usage is the same (offer is not effective)\n",
    "# H1: There is a difference in pre and post usage (offer is effective)\n",
    "\n",
    "# Preview the dataset structure\n",
    "# print(data.head())  # Uncomment this after loading the dataset"
   ]
  },
  {
   "cell_type": "code",
   "execution_count": 3,
   "id": "a317949f-34cf-45cc-80a7-b27e168784e9",
   "metadata": {},
   "outputs": [
    {
     "name": "stdout",
     "output_type": "stream",
     "text": [
      "   custid  sex  AqChannel  region  Marital_status  segment  pre_usage  \\\n",
      "0      70    0          4       1               1        1         57   \n",
      "1     121    1          4       2               1        3         68   \n",
      "2      86    0          4       3               1        1         44   \n",
      "3     141    0          4       3               1        3         63   \n",
      "4     172    0          4       2               1        2         47   \n",
      "\n",
      "   Post_usage_1month  Latest_mon_usage  post_usage_2ndmonth  \n",
      "0                 52              49.2                 57.2  \n",
      "1                 59              63.6                 64.9  \n",
      "2                 33              64.8                 36.3  \n",
      "3                 44              56.4                 48.4  \n",
      "4                 52              68.4                 57.2  \n"
     ]
    }
   ],
   "source": [
    "# Load the dataset from the specified path\n",
    "data = pd.read_csv(\"C:/Users/dbda.STUDENTSDC/Music/LabPractice/Notebooks/Datasets/cust_seg.csv\")\n",
    "\n",
    "# Extract relevant columns for the paired t-test: pre-usage and post-usage after 2 months\n",
    "usage_data = data[[\"pre_usage\", \"post_usage_2ndmonth\"]]\n",
    "\n",
    "# Display the first few rows of the dataset to understand its structure\n",
    "print(data.head())  # Ensure correct loading and verify column names"
   ]
  },
  {
   "cell_type": "code",
   "execution_count": 4,
   "id": "7cb9ef83-6c73-4182-a5cd-c9ae5576c9b1",
   "metadata": {},
   "outputs": [
    {
     "name": "stdout",
     "output_type": "stream",
     "text": [
      "T-statistic: -8.866832246938742\n",
      "P-value: 4.295733828012836e-16\n"
     ]
    }
   ],
   "source": [
    "# Perform a paired t-test to compare pre-usage and post-usage after 2 months\n",
    "# H0: Pre-usage and post-usage are the same (the offer is not effective)\n",
    "# H1: There is a significant difference (the offer is effective)\n",
    "\n",
    "tstats, pval = ttest_rel(usage_data[\"pre_usage\"], usage_data[\"post_usage_2ndmonth\"])\n",
    "\n",
    "# Print the results\n",
    "print(\"T-statistic:\", tstats)  # Measures the difference between paired samples\n",
    "print(\"P-value:\", pval)  # Determines statistical significance"
   ]
  },
  {
   "cell_type": "code",
   "execution_count": 5,
   "id": "04aba21e-1bd4-479e-b6f2-c5a7d9a8ac33",
   "metadata": {},
   "outputs": [
    {
     "name": "stdout",
     "output_type": "stream",
     "text": [
      "Degrees of Freedom: 199\n"
     ]
    }
   ],
   "source": [
    "# Calculate the degrees of freedom for the paired t-test\n",
    "# Degrees of freedom (df) = Number of pairs - 1\n",
    "degrees = len(usage_data[\"pre_usage\"]) - 1  \n",
    "\n",
    "# Print the computed degrees of freedom for verification\n",
    "print(\"Degrees of Freedom:\", degrees)"
   ]
  },
  {
   "cell_type": "code",
   "execution_count": 6,
   "id": "e87a43b4-c008-47d6-a355-809805f0e63b",
   "metadata": {},
   "outputs": [
    {
     "name": "stdout",
     "output_type": "stream",
     "text": [
      "Significance Level (Alpha): 0.025\n",
      "Critical Value: 1.971956544249395\n"
     ]
    }
   ],
   "source": [
    "# Define the significance level for hypothesis testing\n",
    "alpha = 0.025  # Threshold for statistical significance\n",
    "\n",
    "# Calculate the critical value for the t-distribution\n",
    "# This helps determine the rejection region for hypothesis testing\n",
    "critical_value = t.ppf(1 - alpha, degrees)\n",
    "\n",
    "# Print the significance level and critical value for verification\n",
    "print(\"Significance Level (Alpha):\", alpha)\n",
    "print(\"Critical Value:\", critical_value)"
   ]
  },
  {
   "cell_type": "code",
   "execution_count": 7,
   "id": "d8285b4f-f612-41c7-bb2e-41387c9ba25c",
   "metadata": {},
   "outputs": [
    {
     "name": "stdout",
     "output_type": "stream",
     "text": [
      "T-statistic: -8.87, p-value: 0.0000\n",
      "Critical value (alpha = 0.025, two-tailed): +- 1.97\n"
     ]
    }
   ],
   "source": [
    "# Print the results of the paired t-test in a structured format\n",
    "print(f\"T-statistic: {tstats:.2f}, p-value: {pval:.4f}\")  \n",
    "# Displays the test statistic and p-value with appropriate precision\n",
    "\n",
    "print(f\"Critical value (alpha = {alpha}, two-tailed): +- {critical_value:.2f}\")  \n",
    "# Shows the critical value based on the defined significance level"
   ]
  },
  {
   "cell_type": "code",
   "execution_count": 8,
   "id": "de5f3090-af45-470e-b2d2-b38aa2737dd4",
   "metadata": {},
   "outputs": [
    {
     "name": "stdout",
     "output_type": "stream",
     "text": [
      "Reject null hypothesis\n"
     ]
    }
   ],
   "source": [
    "# Compare the p-value with the significance level (alpha) to determine the test result\n",
    "if pval < alpha:\n",
    "    print(\"Reject null hypothesis\")  # Significant difference in pre- and post-usage → Offer is effective\n",
    "else:\n",
    "    print(\"Fail to reject null hypothesis\")  # No significant difference → Offer is not effective"
   ]
  }
 ],
 "metadata": {
  "kernelspec": {
   "display_name": "Python 3 (ipykernel)",
   "language": "python",
   "name": "python3"
  },
  "language_info": {
   "codemirror_mode": {
    "name": "ipython",
    "version": 3
   },
   "file_extension": ".py",
   "mimetype": "text/x-python",
   "name": "python",
   "nbconvert_exporter": "python",
   "pygments_lexer": "ipython3",
   "version": "3.12.7"
  }
 },
 "nbformat": 4,
 "nbformat_minor": 5
}
