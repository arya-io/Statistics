{
 "cells": [
  {
   "cell_type": "code",
   "execution_count": 1,
   "id": "3151987a-833e-419b-a982-86fd4b5f94dd",
   "metadata": {},
   "outputs": [
    {
     "data": {
      "text/plain": [
       "' for cust_seg.csv dataset, use segment column to identify various customer segments. Perform  one-way ANOVA test on Latest_mon_usage column for various customer segments.\\nH0: There is no difference among customer segments'"
      ]
     },
     "execution_count": 1,
     "metadata": {},
     "output_type": "execute_result"
    }
   ],
   "source": [
    "''' for cust_seg.csv dataset, use segment column to identify various customer segments. Perform  one-way ANOVA test on Latest_mon_usage column for various customer segments.\n",
    "H0: There is no difference among customer segments'''"
   ]
  },
  {
   "cell_type": "code",
   "execution_count": 2,
   "id": "d0c62a92-fe7c-4f88-a827-4766defc43f6",
   "metadata": {},
   "outputs": [
    {
     "name": "stdout",
     "output_type": "stream",
     "text": [
      "   custid  sex  AqChannel  region  Marital_status  segment  pre_usage  \\\n",
      "0      70    0          4       1               1        1         57   \n",
      "1     121    1          4       2               1        3         68   \n",
      "2      86    0          4       3               1        1         44   \n",
      "3     141    0          4       3               1        3         63   \n",
      "4     172    0          4       2               1        2         47   \n",
      "\n",
      "   Post_usage_1month  Latest_mon_usage  post_usage_2ndmonth  \n",
      "0                 52              49.2                 57.2  \n",
      "1                 59              63.6                 64.9  \n",
      "2                 33              64.8                 36.3  \n",
      "3                 44              56.4                 48.4  \n",
      "4                 52              68.4                 57.2  \n"
     ]
    }
   ],
   "source": [
    "# Import necessary libraries\n",
    "import pandas as pd  # For handling datasets\n",
    "from scipy.stats import f_oneway  # For performing one-way ANOVA\n",
    "from scipy import stats  # Additional statistical operations if needed\n",
    "\n",
    "# Load the dataset from the specified path\n",
    "df = pd.read_csv('C:/Users/dbda.STUDENTSDC/Music/LabPractice/Notebooks/Datasets/cust_seg.csv')\n",
    "\n",
    "# Display the first few rows of the dataset to understand its structure\n",
    "print(df.head())  # Verify column names and ensure correct data loading"
   ]
  },
  {
   "cell_type": "code",
   "execution_count": 3,
   "id": "ad09dab2-7346-4c45-8b27-6fb90b78bbfa",
   "metadata": {},
   "outputs": [
    {
     "name": "stdout",
     "output_type": "stream",
     "text": [
      "segment\n",
      "2    105\n",
      "3     50\n",
      "1     45\n",
      "Name: count, dtype: int64\n"
     ]
    }
   ],
   "source": [
    "# Display the count of customers in each unique segment\n",
    "print(df.segment.value_counts())  # Helps understand segment distribution"
   ]
  },
  {
   "cell_type": "code",
   "execution_count": 4,
   "id": "70ccd944-26f1-4829-9f70-9a161bce6cf8",
   "metadata": {},
   "outputs": [
    {
     "name": "stdout",
     "output_type": "stream",
     "text": [
      "Segment 1 Statistics:\n",
      " count    45.000000\n",
      "mean     60.026667\n",
      "std       8.930601\n",
      "min      42.000000\n",
      "25%      51.600000\n",
      "50%      58.800000\n",
      "75%      68.400000\n",
      "max      75.600000\n",
      "Name: Latest_mon_usage, dtype: float64\n",
      "\n",
      "Segment 2 Statistics:\n",
      " count    105.000000\n",
      "mean      68.080000\n",
      "std       10.476259\n",
      "min       45.600000\n",
      "25%       60.000000\n",
      "50%       68.400000\n",
      "75%       75.600000\n",
      "max       90.000000\n",
      "Name: Latest_mon_usage, dtype: float64\n",
      "\n",
      "Segment 3 Statistics:\n",
      " count    50.000000\n",
      "mean     55.704000\n",
      "std       9.545016\n",
      "min      39.600000\n",
      "25%      48.000000\n",
      "50%      54.000000\n",
      "75%      62.100000\n",
      "max      90.000000\n",
      "Name: Latest_mon_usage, dtype: float64\n"
     ]
    }
   ],
   "source": [
    "# Separate 'Latest_mon_usage' values for each customer segment\n",
    "s1 = df.Latest_mon_usage[df.segment == 1]  # Segment 1\n",
    "s2 = df.Latest_mon_usage[df.segment == 2]  # Segment 2\n",
    "s3 = df.Latest_mon_usage[df.segment == 3]  # Segment 3\n",
    "\n",
    "# Print sample statistics to understand the distributions\n",
    "print(\"Segment 1 Statistics:\\n\", s1.describe())\n",
    "print(\"\\nSegment 2 Statistics:\\n\", s2.describe())\n",
    "print(\"\\nSegment 3 Statistics:\\n\", s3.describe())"
   ]
  },
  {
   "cell_type": "code",
   "execution_count": 5,
   "id": "a9c910fd-0805-441c-97da-600fe624f85f",
   "metadata": {},
   "outputs": [
    {
     "name": "stdout",
     "output_type": "stream",
     "text": [
      "F-statistic: 29.279283801321778\n",
      "P-value: 7.36401083352674e-12\n"
     ]
    }
   ],
   "source": [
    "# Perform one-way ANOVA to test if there is a significant difference among customer segments\n",
    "# H0: There is no difference in 'Latest_mon_usage' across customer segments\n",
    "# H1: There is a significant difference in 'Latest_mon_usage' across customer segments\n",
    "\n",
    "fstat, pval = f_oneway(s1, s2, s3)\n",
    "\n",
    "# Print the results\n",
    "print(\"F-statistic:\", fstat)  # Measures variance among segment means\n",
    "print(\"P-value:\", pval)  # Determines statistical significance"
   ]
  },
  {
   "cell_type": "code",
   "execution_count": 6,
   "id": "e68ffd5e-f160-42d7-bd87-7342da4b75f5",
   "metadata": {},
   "outputs": [
    {
     "name": "stdout",
     "output_type": "stream",
     "text": [
      "Between-group Degrees of Freedom: 2\n",
      "Within-group Degrees of Freedom: 197\n"
     ]
    }
   ],
   "source": [
    "# Calculate degrees of freedom for the one-way ANOVA test\n",
    "\n",
    "# Between-group degrees of freedom (df)\n",
    "# Formula: Number of groups - 1\n",
    "between_df = len([s1, s2, s3]) - 1  \n",
    "\n",
    "# Within-group degrees of freedom (df)\n",
    "# Formula: Total observations - Number of groups\n",
    "within_df = len(s1) + len(s2) + len(s3) - len([s1, s2, s3])  \n",
    "\n",
    "# Print the computed degrees of freedom for verification\n",
    "print(\"Between-group Degrees of Freedom:\", between_df)\n",
    "print(\"Within-group Degrees of Freedom:\", within_df)"
   ]
  },
  {
   "cell_type": "code",
   "execution_count": 7,
   "id": "1f69abca-ccda-4241-a5cc-699b85de6b91",
   "metadata": {},
   "outputs": [
    {
     "name": "stdout",
     "output_type": "stream",
     "text": [
      "Significance Level (Alpha): 0.025\n",
      "Critical Value: 3.7588251784051874\n"
     ]
    }
   ],
   "source": [
    "# Define the significance level for hypothesis testing\n",
    "alpha = 0.025  # Threshold for statistical significance\n",
    "\n",
    "# Calculate the critical value for the F-distribution\n",
    "# between_df: Degrees of freedom for the numerator (between-group variation)\n",
    "# within_df: Degrees of freedom for the denominator (within-group variation)\n",
    "critical_value = stats.f.ppf(1 - alpha, between_df, within_df)\n",
    "\n",
    "# Print the significance level and critical value for verification\n",
    "print(\"Significance Level (Alpha):\", alpha)\n",
    "print(\"Critical Value:\", critical_value)"
   ]
  },
  {
   "cell_type": "code",
   "execution_count": 8,
   "id": "bdec8775-d127-4176-b959-21bf80633b4e",
   "metadata": {},
   "outputs": [
    {
     "name": "stdout",
     "output_type": "stream",
     "text": [
      "\n",
      "F-statistic: 29.28, p-value: 0.0000\n",
      "Critical value (alpha = 0.025): 3.76\n"
     ]
    }
   ],
   "source": [
    "# Print the results of the one-way ANOVA test in a structured format\n",
    "print(f\"\\nF-statistic: {fstat:.2f}, p-value: {pval:.4f}\")  \n",
    "# Displays the F-statistic and p-value with appropriate precision\n",
    "\n",
    "print(f\"Critical value (alpha = {alpha}): {critical_value:.2f}\")  \n",
    "# Shows the critical value based on the defined significance level"
   ]
  },
  {
   "cell_type": "code",
   "execution_count": 9,
   "id": "038827f7-1d54-4e6f-9228-23bc2e21d4a1",
   "metadata": {},
   "outputs": [
    {
     "name": "stdout",
     "output_type": "stream",
     "text": [
      "Reject null hypothesis\n"
     ]
    }
   ],
   "source": [
    "# Interpretation of the ANOVA test results\n",
    "# Compare the p-value with the significance level (alpha) to determine the test result\n",
    "\n",
    "if pval < alpha:\n",
    "    print(\"Reject null hypothesis\")  # Significant difference → Customer segments differ in monthly usage\n",
    "else:\n",
    "    print(\"Fail to reject null hypothesis\")  # No significant difference → Customer segments have similar monthly usage"
   ]
  }
 ],
 "metadata": {
  "kernelspec": {
   "display_name": "Python 3 (ipykernel)",
   "language": "python",
   "name": "python3"
  },
  "language_info": {
   "codemirror_mode": {
    "name": "ipython",
    "version": 3
   },
   "file_extension": ".py",
   "mimetype": "text/x-python",
   "name": "python",
   "nbconvert_exporter": "python",
   "pygments_lexer": "ipython3",
   "version": "3.12.7"
  }
 },
 "nbformat": 4,
 "nbformat_minor": 5
}
