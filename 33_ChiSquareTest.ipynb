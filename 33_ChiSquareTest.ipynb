{
 "cells": [
  {
   "cell_type": "code",
   "execution_count": 1,
   "id": "1caa2e03-9ecd-4b82-bb9a-e34c2373b3bd",
   "metadata": {},
   "outputs": [],
   "source": [
    "# H0: Wealth index and anaemia level are independent"
   ]
  },
  {
   "cell_type": "code",
   "execution_count": 2,
   "id": "6ce35bbc-4f1d-41bd-8d6f-58ad775fe6fd",
   "metadata": {},
   "outputs": [
    {
     "name": "stdout",
     "output_type": "stream",
     "text": [
      "   Age in 5-year groups Type of place of residence Highest educational level  \\\n",
      "3                 25-29                      Urban                 Secondary   \n",
      "6                 35-39                      Urban                 Secondary   \n",
      "9                 20-24                      Urban                 Secondary   \n",
      "12                25-29                      Urban                    Higher   \n",
      "13                20-24                      Urban                    Higher   \n",
      "\n",
      "   Wealth index combined  Births in last five years  \\\n",
      "3                Richest                          1   \n",
      "6                Richest                          2   \n",
      "9                Richest                          1   \n",
      "12               Richest                          1   \n",
      "13               Richest                          2   \n",
      "\n",
      "    Age of respondent at 1st birth  \\\n",
      "3                               25   \n",
      "6                               32   \n",
      "9                               19   \n",
      "12                              24   \n",
      "13                              19   \n",
      "\n",
      "    Hemoglobin level adjusted for altitude and smoking (g/dl - 1 decimal)  \\\n",
      "3                                                95.0                       \n",
      "6                                               121.0                       \n",
      "9                                               108.0                       \n",
      "12                                              116.0                       \n",
      "13                                              118.0                       \n",
      "\n",
      "   Anemia level  \\\n",
      "3      Moderate   \n",
      "6    Not anemic   \n",
      "9      Moderate   \n",
      "12         Mild   \n",
      "13         Mild   \n",
      "\n",
      "   Have mosquito bed net for sleeping (from household questionnaire)  \\\n",
      "3                                                 Yes                  \n",
      "6                                                 Yes                  \n",
      "9                                                 Yes                  \n",
      "12                                                Yes                  \n",
      "13                                                Yes                  \n",
      "\n",
      "   Smokes cigarettes Current marital status  \\\n",
      "3                 No                Married   \n",
      "6                 No                Married   \n",
      "9                 No                Married   \n",
      "12                No                Married   \n",
      "13                No                Married   \n",
      "\n",
      "   Currently residing with husband/partner When child put to breast  \\\n",
      "3                          Living with her                    105.0   \n",
      "6                          Living with her              Immediately   \n",
      "9                          Living with her              Immediately   \n",
      "12                         Living with her                  Days: 1   \n",
      "13                         Living with her              Immediately   \n",
      "\n",
      "   Had fever in last two weeks  \\\n",
      "3                           No   \n",
      "6                           No   \n",
      "9                           No   \n",
      "12                          No   \n",
      "13                          No   \n",
      "\n",
      "    Hemoglobin level adjusted for altitude (g/dl - 1 decimal) Anemia level.1  \\\n",
      "3                                               114.0             Not anemic   \n",
      "6                                               102.0                   Mild   \n",
      "9                                               113.0             Not anemic   \n",
      "12                                              109.0                   Mild   \n",
      "13                                               96.0               Moderate   \n",
      "\n",
      "   Taking iron pills, sprinkles or syrup  \n",
      "3                                     No  \n",
      "6                                    Yes  \n",
      "9                                    Yes  \n",
      "12                                    No  \n",
      "13                                   Yes  \n"
     ]
    }
   ],
   "source": [
    "# Import necessary libraries\n",
    "import pandas as pd  # For handling datasets\n",
    "from scipy.stats import chi2_contingency  # For performing the chi-square test\n",
    "\n",
    "# Load the dataset from the specified path\n",
    "df = pd.read_csv('C:/Users/dbda.STUDENTSDC/Music/LabPractice/Notebooks/Datasets/children anemia.csv')\n",
    "\n",
    "# Remove any rows with missing values to ensure clean data for analysis\n",
    "df.dropna(inplace=True)\n",
    "\n",
    "# Display the first few rows of the dataset to verify structure after cleaning\n",
    "print(df.head())  "
   ]
  },
  {
   "cell_type": "code",
   "execution_count": 3,
   "id": "6bee695a-85e5-4691-b834-a13752df0cb0",
   "metadata": {},
   "outputs": [
    {
     "name": "stdout",
     "output_type": "stream",
     "text": [
      "   Wealth index combined Anemia level\n",
      "3                Richest     Moderate\n",
      "6                Richest   Not anemic\n",
      "9                Richest     Moderate\n",
      "12               Richest         Mild\n",
      "13               Richest         Mild\n"
     ]
    }
   ],
   "source": [
    "# Select relevant columns for the chi-square test\n",
    "df = df[['Wealth index combined', 'Anemia level']]\n",
    "\n",
    "# Display the first few rows to verify the selection\n",
    "print(df.head())  "
   ]
  },
  {
   "cell_type": "code",
   "execution_count": 4,
   "id": "e4eaba84-f73c-4d87-a5e9-f932fb26aa85",
   "metadata": {},
   "outputs": [
    {
     "name": "stdout",
     "output_type": "stream",
     "text": [
      "Anemia level           Mild  Moderate  Not anemic  Severe\n",
      "Wealth index combined                                    \n",
      "Middle                  338       365         531      14\n",
      "Poorer                  317       395         453      16\n",
      "Poorest                 341       421         405      18\n",
      "Richer                  323       353         534      14\n",
      "Richest                 256       233         541      10\n"
     ]
    }
   ],
   "source": [
    "# Create a contingency table to analyze the relationship between Wealth Index and Anemia Level\n",
    "contingency_table = pd.crosstab(df['Wealth index combined'], df['Anemia level'])\n",
    "\n",
    "# Print the contingency table to observe frequencies\n",
    "print(contingency_table)"
   ]
  },
  {
   "cell_type": "code",
   "execution_count": 5,
   "id": "cf97585a-4545-46fd-8982-09e8b12ec732",
   "metadata": {},
   "outputs": [
    {
     "name": "stdout",
     "output_type": "stream",
     "text": [
      "Chi-square Statistic: 89.70213045945783\n",
      "P-value: 5.6383342988048586e-14\n",
      "Degrees of Freedom: 12\n"
     ]
    }
   ],
   "source": [
    "# Perform the chi-square test for independence\n",
    "# H0: Wealth index and anemia level are independent\n",
    "# H1: There is a significant relationship between wealth index and anemia level\n",
    "\n",
    "chi2, p_value, degree_of_freedom, expected_counts = chi2_contingency(contingency_table)\n",
    "\n",
    "# Print the results\n",
    "print(\"Chi-square Statistic:\", chi2)  # Measures how different observed values are from expected\n",
    "print(\"P-value:\", p_value)  # Determines statistical significance\n",
    "print(\"Degrees of Freedom:\", degree_of_freedom)  # Number of categories considered"
   ]
  },
  {
   "cell_type": "code",
   "execution_count": 6,
   "id": "0e10c781-fd00-40bf-8d43-eb029efe2175",
   "metadata": {},
   "outputs": [
    {
     "name": "stdout",
     "output_type": "stream",
     "text": [
      "Chi-square Statistic: 89.70213045945783\n",
      "P-value: 5.6383342988048586e-14\n",
      "Degrees of Freedom: 12\n",
      "Expected Counts:\n",
      " [[334.3994556  375.16434161 523.14937053  15.28683226]\n",
      " [316.44692072 355.02330725 495.06362708  14.46614495]\n",
      " [317.51871385 356.22575706 496.74038789  14.5151412 ]\n",
      " [327.96869684 367.94964274 513.08880572  14.99285471]\n",
      " [278.666213   312.63695134 435.95780878  12.73902688]]\n"
     ]
    }
   ],
   "source": [
    "# Print the results of the chi-square test\n",
    "print(\"Chi-square Statistic:\", chi2)  # Measures deviation from expected frequencies\n",
    "print(\"P-value:\", p_value)  # Determines statistical significance\n",
    "print(\"Degrees of Freedom:\", degree_of_freedom)  # Number of independent categories\n",
    "print(\"Expected Counts:\\n\", expected_counts)  # The expected frequencies for each category"
   ]
  },
  {
   "cell_type": "code",
   "execution_count": 7,
   "id": "10f87635-6e97-4f2e-bc06-9d25a07c7ec5",
   "metadata": {},
   "outputs": [
    {
     "name": "stdout",
     "output_type": "stream",
     "text": [
      "Reject H0\n"
     ]
    }
   ],
   "source": [
    "# Define the significance level for hypothesis testing\n",
    "alpha = 0.05  # Threshold for statistical significance\n",
    "\n",
    "# Compare the p-value with the significance level to determine the test result\n",
    "if p_value < alpha:\n",
    "    print(\"Reject H0\")  # Significant relationship → Wealth index and anemia level are dependent\n",
    "else:\n",
    "    print(\"Do not reject H0\")  # No significant relationship → Wealth index and anemia level are independent"
   ]
  }
 ],
 "metadata": {
  "kernelspec": {
   "display_name": "Python 3 (ipykernel)",
   "language": "python",
   "name": "python3"
  },
  "language_info": {
   "codemirror_mode": {
    "name": "ipython",
    "version": 3
   },
   "file_extension": ".py",
   "mimetype": "text/x-python",
   "name": "python",
   "nbconvert_exporter": "python",
   "pygments_lexer": "ipython3",
   "version": "3.12.7"
  }
 },
 "nbformat": 4,
 "nbformat_minor": 5
}
