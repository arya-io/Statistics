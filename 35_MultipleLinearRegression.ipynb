{
 "cells": [
  {
   "cell_type": "code",
   "execution_count": 1,
   "id": "1f6d7362-c8d2-47f4-a127-530f97026366",
   "metadata": {},
   "outputs": [],
   "source": [
    "# Multiple Linear Regression - Step 1: Import Necessary Libraries\n",
    "\n",
    "import pandas as pd  # For handling datasets\n",
    "import matplotlib.pyplot as plt  # For visualization\n",
    "from sklearn.model_selection import train_test_split  # For splitting data into train/test sets\n",
    "from sklearn.linear_model import LinearRegression  # For fitting the regression model\n",
    "from sklearn.metrics import mean_absolute_error, mean_squared_error, r2_score  # For model evaluation\n",
    "\n",
    "# Placeholder: Load your dataset (Update the file path when needed)\n",
    "# df = pd.read_csv(\"path_to_your_dataset.csv\")\n",
    "\n",
    "# Display the first few rows of the dataset (Uncomment after loading the dataset)\n",
    "# print(df.head())"
   ]
  },
  {
   "cell_type": "code",
   "execution_count": 2,
   "id": "fd7646bf-9274-41d5-baae-5212a87411b3",
   "metadata": {},
   "outputs": [
    {
     "name": "stdout",
     "output_type": "stream",
     "text": [
      "   country  adjusted_satisfaction  avg_satisfaction  std_satisfaction  \\\n",
      "0  Armenia                   37.0               4.9              2.42   \n",
      "\n",
      "   avg_income  median_income  income_inequality                        region  \\\n",
      "0     2096.76    1731.506667          31.445556  'Central and Eastern Europe'   \n",
      "\n",
      "   happyScore      GDP country.1  \n",
      "0        4.35  0.76821   Armenia  \n"
     ]
    }
   ],
   "source": [
    "# Step 1: Load the dataset and define features (X) and label (y)\n",
    "\n",
    "# Load the dataset from the specified path\n",
    "df = pd.read_csv('C:/Users/dbda.STUDENTSDC/Music/LabPractice/Notebooks/Datasets/happyscore_income.csv')\n",
    "\n",
    "# Display the first row to verify the dataset structure\n",
    "print(df.head(1))  "
   ]
  },
  {
   "cell_type": "code",
   "execution_count": 3,
   "id": "d119fbe5-18fa-4ae3-8577-66c5648e190f",
   "metadata": {},
   "outputs": [
    {
     "name": "stdout",
     "output_type": "stream",
     "text": [
      "Feature variables:\n",
      "    adjusted_satisfaction  avg_income  median_income  income_inequality\n",
      "0                   37.0     2096.76    1731.506667          31.445556\n",
      "1                   26.0     1448.88    1044.240000          42.720000\n",
      "2                   60.0     7101.12    5109.400000          45.475556\n",
      "3                   59.0    19457.04   16879.620000          30.296250\n",
      "4                   65.0    19917.00   15846.060000          35.285000\n",
      "\n",
      "Target variable:\n",
      " 0    4.350\n",
      "1    4.033\n",
      "2    6.574\n",
      "3    7.200\n",
      "4    7.284\n",
      "Name: happyScore, dtype: float64\n"
     ]
    }
   ],
   "source": [
    "# Step 2: Define features (X) and label (y) for multiple linear regression\n",
    "\n",
    "# Select predictor variables (independent features)\n",
    "X = df[['adjusted_satisfaction', 'avg_income', 'median_income', 'income_inequality']]  \n",
    "\n",
    "# Define target variable (dependent variable)\n",
    "y = df['happyScore']  \n",
    "\n",
    "# Print feature and label samples to verify selection\n",
    "print(\"Feature variables:\\n\", X.head())\n",
    "print(\"\\nTarget variable:\\n\", y.head())"
   ]
  },
  {
   "cell_type": "code",
   "execution_count": 4,
   "id": "33025df0-a226-4d6f-b7e1-e5972ad103fc",
   "metadata": {},
   "outputs": [
    {
     "name": "stdout",
     "output_type": "stream",
     "text": [
      "Training set size: 88 samples\n",
      "Testing set size: 23 samples\n"
     ]
    }
   ],
   "source": [
    "# Step 2: Split the data into training and testing sets\n",
    "\n",
    "# Set aside 20% of the data for testing while keeping results consistent with random_state\n",
    "X_train, X_test, y_train, y_test = train_test_split(X, y, test_size=0.20, random_state=42)\n",
    "\n",
    "# Print dataset sizes for verification\n",
    "print(f\"Training set size: {X_train.shape[0]} samples\")\n",
    "print(f\"Testing set size: {X_test.shape[0]} samples\")"
   ]
  },
  {
   "cell_type": "code",
   "execution_count": 5,
   "id": "10461a2b-3ff2-4a6d-b4c6-0e4e51fdf4b6",
   "metadata": {},
   "outputs": [
    {
     "name": "stdout",
     "output_type": "stream",
     "text": [
      "Model Coefficients: [ 0.06388931  0.00029153 -0.0002913  -0.02361837]\n",
      "Model Intercept: 2.830949004700013\n"
     ]
    }
   ],
   "source": [
    "# Step 3: Fit Multiple Linear Regression to Training Data\n",
    "\n",
    "# Initialize the linear regression model\n",
    "model = LinearRegression()\n",
    "\n",
    "# Train (fit) the model using the training dataset\n",
    "model.fit(X_train, y_train)\n",
    "\n",
    "# Print model coefficients and intercept to interpret feature importance\n",
    "print(\"Model Coefficients:\", model.coef_)  # Importance of each feature in predicting happyScore\n",
    "print(\"Model Intercept:\", model.intercept_)  # Baseline value when all predictors are zero"
   ]
  },
  {
   "cell_type": "code",
   "execution_count": 6,
   "id": "32bd2d7b-c7c8-4c40-8cdf-539b3f4ad6a1",
   "metadata": {},
   "outputs": [
    {
     "name": "stdout",
     "output_type": "stream",
     "text": [
      "Predicted Happy Score:\n",
      " [5.20189105 3.68000755 7.34074365 5.6065443  4.89762814 4.39199852\n",
      " 5.65704152 6.44224327 4.45134432 3.17970002 6.45096768 5.41473858\n",
      " 4.55903262 5.3793141  6.04159228 6.52080114 5.57365029 3.99271385\n",
      " 4.02334895 5.06458743 5.40722016 6.70751152 4.02392112]\n"
     ]
    }
   ],
   "source": [
    "# Step 4: Make Predictions on the Test Set\n",
    "\n",
    "# Predict the happyScore values using the trained model\n",
    "y_pred = model.predict(X_test)\n",
    "\n",
    "# Print predicted values for reference\n",
    "print(\"Predicted Happy Score:\\n\", y_pred)"
   ]
  },
  {
   "cell_type": "code",
   "execution_count": 7,
   "id": "c9fecf4c-3eed-432a-a7b7-35acf43e9fdd",
   "metadata": {},
   "outputs": [
    {
     "name": "stdout",
     "output_type": "stream",
     "text": [
      "--- Actual vs. Predicted (Test Set) ---\n",
      "    Actual Final values  Predicted Final values\n",
      "78                4.514                5.201891\n",
      "10                2.905                3.680008\n",
      "4                 7.284                7.340744\n",
      "84                5.102                5.606544\n",
      "64                5.889                4.897628\n",
      "68                4.436                4.391999\n",
      "30                5.429                5.657042\n",
      "45                7.278                6.442243\n",
      "96                3.667                4.451344\n",
      "11                3.340                3.179700\n",
      "-------------------------------------------------------------------------------------------\n",
      "\n"
     ]
    }
   ],
   "source": [
    "# Compare actual vs. predicted values on the test set\n",
    "\n",
    "print(\"--- Actual vs. Predicted (Test Set) ---\")\n",
    "\n",
    "# Create a DataFrame to compare actual and predicted values\n",
    "comparison_df = pd.DataFrame({'Actual Final values': y_test, 'Predicted Final values': y_pred})\n",
    "\n",
    "# Display the first 10 comparisons\n",
    "print(comparison_df.head(10))  \n",
    "print(\"-------------------------------------------------------------------------------------------\\n\")"
   ]
  },
  {
   "cell_type": "code",
   "execution_count": 8,
   "id": "f16bd509-a855-47fd-aa46-e70cca314a32",
   "metadata": {},
   "outputs": [
    {
     "name": "stdout",
     "output_type": "stream",
     "text": [
      "Mean Absolute Error (MAE): 0.506678863312916\n",
      "Mean Squared Error (MSE): 0.3511336640317997\n",
      "R-squared (R2 Score): 0.780102201136714\n"
     ]
    }
   ],
   "source": [
    "# Step 5: Model Evaluation\n",
    "# Calculate Mean Absolute Error (MAE), Mean Squared Error (MSE), and R-squared (R2 Score)\n",
    "\n",
    "mae = mean_absolute_error(y_test, y_pred)  # Measures average absolute deviation of predictions\n",
    "mse = mean_squared_error(y_test, y_pred)  # Measures squared error magnitude\n",
    "r2 = r2_score(y_test, y_pred)  # Determines model's goodness of fit\n",
    "\n",
    "# Print evaluation results for interpretation\n",
    "print(\"Mean Absolute Error (MAE):\", mae)\n",
    "print(\"Mean Squared Error (MSE):\", mse)\n",
    "print(\"R-squared (R2 Score):\", r2)"
   ]
  },
  {
   "cell_type": "code",
   "execution_count": 9,
   "id": "5350bff7-04e5-4949-8222-aa178fdefbac",
   "metadata": {},
   "outputs": [
    {
     "name": "stdout",
     "output_type": "stream",
     "text": [
      "--- Making New Predictions ---\n",
      "\n",
      "Predicted Happy Scores for New Input Values:\n",
      " [4.66197652 4.49927466 4.91269696]\n",
      "\n",
      "New Data for Prediction:\n",
      "    adjusted_satisfaction  avg_income  median_income  income_inequality\n",
      "0                     35        5000           3800                 32\n",
      "1                     42        2500           2500                 43\n",
      "2                     61        3400           5500                 51\n",
      "\n",
      "Predicted Final Happiness Score:\n",
      " [4.66197652 4.49927466 4.91269696]\n",
      "-------------------------------------------------------\n",
      "\n"
     ]
    }
   ],
   "source": [
    "# Step 6: Make new predictions with custom input\n",
    "\n",
    "print(\"--- Making New Predictions ---\")\n",
    "\n",
    "# Create a DataFrame for new input values, ensuring column names match training features\n",
    "new_data_for_prediction = pd.DataFrame({\n",
    "    'adjusted_satisfaction': [35, 42, 61],  # Example values for satisfaction\n",
    "    'avg_income': [5000, 2500, 3400],  # Example average income\n",
    "    'median_income': [3800, 2500, 5500],  # Example median income\n",
    "    'income_inequality': [32, 43, 51]  # Example income inequality\n",
    "})\n",
    "\n",
    "# Predict happy scores for new input values using the trained model\n",
    "new_y_pred = model.predict(new_data_for_prediction)\n",
    "\n",
    "# Print the predicted happy scores\n",
    "print(\"\\nPredicted Happy Scores for New Input Values:\\n\", new_y_pred)\n",
    "\n",
    "# Step 6: Make new predictions and display results\n",
    "\n",
    "# Predict happiness scores for the new data\n",
    "new_predictions = model.predict(new_data_for_prediction)\n",
    "\n",
    "# Print the new data for reference\n",
    "print(\"\\nNew Data for Prediction:\\n\", new_data_for_prediction)\n",
    "\n",
    "# Print the predicted happiness scores\n",
    "print(\"\\nPredicted Final Happiness Score:\\n\", new_predictions)\n",
    "\n",
    "print(\"-------------------------------------------------------\\n\")"
   ]
  }
 ],
 "metadata": {
  "kernelspec": {
   "display_name": "Python 3 (ipykernel)",
   "language": "python",
   "name": "python3"
  },
  "language_info": {
   "codemirror_mode": {
    "name": "ipython",
    "version": 3
   },
   "file_extension": ".py",
   "mimetype": "text/x-python",
   "name": "python",
   "nbconvert_exporter": "python",
   "pygments_lexer": "ipython3",
   "version": "3.12.7"
  }
 },
 "nbformat": 4,
 "nbformat_minor": 5
}
