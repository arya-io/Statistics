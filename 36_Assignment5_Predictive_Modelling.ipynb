{
 "cells": [
  {
   "cell_type": "markdown",
   "id": "1eababe3-280e-4c64-a07f-e6527b65d1f1",
   "metadata": {},
   "source": [
    "# 1. Perform simple linear regression on weight-height dataset. Predict weight using height."
   ]
  },
  {
   "cell_type": "code",
   "execution_count": 1,
   "id": "1ad6961c-1af0-41fc-ab44-65bd966279b9",
   "metadata": {},
   "outputs": [],
   "source": [
    "# Import necessary libraries\n",
    "import pandas as pd  # For handling datasets\n",
    "\n",
    "# Placeholder: Load your dataset (Update the file path when needed)\n",
    "# df = pd.read_csv(\"path_to_your_dataset.csv\")\n",
    "\n",
    "# Display the first few rows of the dataset (Uncomment after loading the dataset)\n",
    "# print(df.head())"
   ]
  },
  {
   "cell_type": "code",
   "execution_count": 2,
   "id": "960d98c0-0a83-4953-ae66-371a94b6c081",
   "metadata": {},
   "outputs": [
    {
     "name": "stdout",
     "output_type": "stream",
     "text": [
      "   Unnamed: 0.1  Unnamed: 0 Gender     Height      Weight  Weight_zscore  \\\n",
      "0             0           0   Male  73.847017  241.893563       2.505797   \n",
      "\n",
      "   Height_zscore  \n",
      "0       1.944061  \n"
     ]
    }
   ],
   "source": [
    "# Step 1: Load the dataset and identify feature and label\n",
    "\n",
    "# Load the dataset from the specified path\n",
    "df = pd.read_csv('C:/Users/dbda.STUDENTSDC/Music/LabPractice/Notebooks/Datasets/weight-height.csv')\n",
    "\n",
    "# Display the first row to verify the dataset structure\n",
    "print(df.head(1))  "
   ]
  },
  {
   "cell_type": "code",
   "execution_count": 3,
   "id": "07d42628-2c48-4e72-aa9e-9311cbc7d59c",
   "metadata": {},
   "outputs": [
    {
     "name": "stdout",
     "output_type": "stream",
     "text": [
      "Feature variable:\n",
      "       Height\n",
      "0  73.847017\n",
      "1  68.781904\n",
      "2  74.110105\n",
      "3  71.730978\n",
      "4  69.881796\n",
      "\n",
      "Target variable:\n",
      " 0    241.893563\n",
      "1    162.310473\n",
      "2    212.740856\n",
      "3    220.042470\n",
      "4    206.349801\n",
      "Name: Weight, dtype: float64\n"
     ]
    }
   ],
   "source": [
    "# Step 2: Define feature (X) and label (y)\n",
    "\n",
    "# Select predictor variable (independent feature)\n",
    "X = df[['Height']]  # Predictor: Height of individuals\n",
    "\n",
    "# Define target variable (dependent variable)\n",
    "y = df['Weight']  # Target: Weight of individuals\n",
    "\n",
    "# Print feature and label samples for verification\n",
    "print(\"Feature variable:\\n\", X.head())\n",
    "print(\"\\nTarget variable:\\n\", y.head())"
   ]
  },
  {
   "cell_type": "code",
   "execution_count": 4,
   "id": "1c7c41ac-ac2d-4ade-80f4-216b7ae5a9c6",
   "metadata": {},
   "outputs": [
    {
     "name": "stdout",
     "output_type": "stream",
     "text": [
      "Training set size: 8000 samples\n",
      "Testing set size: 2000 samples\n"
     ]
    }
   ],
   "source": [
    "# Step 2: Split the dataset into training and testing sets\n",
    "\n",
    "from sklearn.model_selection import train_test_split\n",
    "\n",
    "# Divide the dataset: 80% training, 20% testing\n",
    "X_train, X_test, y_train, y_test = train_test_split(X, y, test_size=0.20, random_state=0)\n",
    "\n",
    "# Print dataset sizes for verification\n",
    "print(f\"Training set size: {X_train.shape[0]} samples\")\n",
    "print(f\"Testing set size: {X_test.shape[0]} samples\")"
   ]
  },
  {
   "cell_type": "code",
   "execution_count": 5,
   "id": "7348c018-545f-47a1-806e-177e672064eb",
   "metadata": {},
   "outputs": [
    {
     "name": "stdout",
     "output_type": "stream",
     "text": [
      "--- Test Set Data ---\n",
      "X_test (Height):\n",
      "          Height\n",
      "9394  64.723877\n",
      "898   67.272171\n",
      "2398  74.520972\n",
      "5906  65.880014\n",
      "2343  64.846301\n",
      "...         ...\n",
      "1037  69.084897\n",
      "2899  71.860625\n",
      "9549  66.071107\n",
      "2740  65.641536\n",
      "6690  64.210866\n",
      "\n",
      "[2000 rows x 1 columns]\n",
      "\n",
      "y_test (Weight):\n",
      " 9394    138.085796\n",
      "898     187.363366\n",
      "2398    216.533191\n",
      "5906    131.761443\n",
      "2343    157.718438\n",
      "           ...    \n",
      "1037    189.856786\n",
      "2899    202.906859\n",
      "9549    152.420031\n",
      "2740    170.100647\n",
      "6690    158.206206\n",
      "Name: Weight, Length: 2000, dtype: float64\n",
      "----------------\n",
      "\n"
     ]
    }
   ],
   "source": [
    "# Print feature (X) and label (y) values for the test set\n",
    "\n",
    "print(\"--- Test Set Data ---\")\n",
    "\n",
    "# Display the test set's height values\n",
    "print(\"X_test (Height):\\n\", X_test)\n",
    "\n",
    "# Display the test set's actual weight values\n",
    "print(\"\\ny_test (Weight):\\n\", y_test)\n",
    "\n",
    "print(\"----------------\\n\")"
   ]
  },
  {
   "cell_type": "code",
   "execution_count": 6,
   "id": "6a7dcd3d-8e70-49b8-8864-eefa1e2d7de7",
   "metadata": {},
   "outputs": [
    {
     "name": "stdout",
     "output_type": "stream",
     "text": [
      "Intercept: -350.1904028560757\n",
      "Slope: 7.709363307245615\n"
     ]
    }
   ],
   "source": [
    "# Step 3: Fit Simple Linear Regression to Training Data\n",
    "\n",
    "from sklearn.linear_model import LinearRegression\n",
    "\n",
    "# Initialize the linear regression model\n",
    "model = LinearRegression()\n",
    "\n",
    "# Train (fit) the model using the training dataset\n",
    "model.fit(X_train, y_train)\n",
    "\n",
    "# Print model coefficients for interpretation\n",
    "print(\"Intercept:\", model.intercept_)  # Constant term in the regression equation\n",
    "print(\"Slope:\", model.coef_[0])  # Weight assigned to 'Height'"
   ]
  },
  {
   "cell_type": "code",
   "execution_count": 7,
   "id": "817b6025-3586-49ff-81ec-f0ee4575c8ec",
   "metadata": {},
   "outputs": [
    {
     "name": "stdout",
     "output_type": "stream",
     "text": [
      "Predicted values on test set:\n",
      " [148.7894772  168.43520123 224.31884497 ... 159.17576427 155.86404539\n",
      " 144.83449257]\n"
     ]
    }
   ],
   "source": [
    "# Step 4: Make Predictions on the Test Set\n",
    "\n",
    "# Predict the weight values using the trained model\n",
    "y_pred = model.predict(X_test)\n",
    "\n",
    "# Print predicted values for the test set\n",
    "print(\"Predicted values on test set:\\n\", y_pred)"
   ]
  },
  {
   "cell_type": "code",
   "execution_count": 8,
   "id": "4e3ed8c2-2eaa-4fb9-aadc-3ea6ac5ef4d9",
   "metadata": {},
   "outputs": [
    {
     "data": {
      "image/png": "[encoded data removed]",
      "text/plain": [
       "<Figure size 640x480 with 1 Axes>"
      ]
     },
     "metadata": {},
     "output_type": "display_data"
    }
   ],
   "source": [
    "# Step 5: Visualize training set results\n",
    "\n",
    "import matplotlib.pyplot as plt  # Import visualization library\n",
    "\n",
    "# Scatter plot for actual training data points\n",
    "plt.scatter(X_train, y_train, color='red', label=\"Actual Data\")\n",
    "\n",
    "# Regression line based on model predictions\n",
    "plt.plot(X_train, model.predict(X_train), color='blue', label=\"Regression Line\")\n",
    "\n",
    "# Set title and correct axis labels\n",
    "plt.title('Weight vs Height (Training Set)')\n",
    "plt.xlabel('Height')  # X-axis represents Height\n",
    "plt.ylabel('Weight')  # Y-axis represents Weight\n",
    "\n",
    "# Add legend for clarity\n",
    "plt.legend()\n",
    "\n",
    "# Show the plot\n",
    "plt.show()"
   ]
  },
  {
   "cell_type": "code",
   "execution_count": 9,
   "id": "873eee12-dfa0-4564-b214-0030242b6745",
   "metadata": {},
   "outputs": [
    {
     "data": {
      "image/png": "[encoded data removed]",
      "text/plain": [
       "<Figure size 640x480 with 1 Axes>"
      ]
     },
     "metadata": {},
     "output_type": "display_data"
    }
   ],
   "source": [
    "# Step 6: Visualize test set results\n",
    "\n",
    "import matplotlib.pyplot as plt  # Import visualization library\n",
    "\n",
    "# Scatter plot for actual test set results\n",
    "plt.scatter(X_test, y_test, color='red', label=\"Actual Data\")  \n",
    "\n",
    "# Regression line based on training predictions\n",
    "plt.plot(X_train, model.predict(X_train), color='blue', label=\"Regression Line\")  \n",
    "\n",
    "# Corrected title and axis labels\n",
    "plt.title('Weight vs Height (Test Set)')  # Updated title\n",
    "plt.xlabel('Height')  # Predictor variable\n",
    "plt.ylabel('Weight')  # Target variable\n",
    "\n",
    "# Display legend for clarity\n",
    "plt.legend()\n",
    "\n",
    "# Show the plot\n",
    "plt.show()"
   ]
  },
  {
   "cell_type": "code",
   "execution_count": 10,
   "id": "8c8e0e71-8b40-4783-a883-3831bb795f52",
   "metadata": {},
   "outputs": [],
   "source": [
    "# 2) Perform multiple linear regression on Australian_Student_PerformanceData (ASPD24).csv dataset.\n",
    "# Use columns High School GPA', 'entrance Exam Score',\n",
    "# 'Attendance Rate', 'Hours of Study per Week', 'Library Usage',\n",
    "# 'Hours of Sleep per Night', 'Project/Assignment Scores',\n",
    "# 'Midterm Exam Scores' to predict 'Final Exam Score'."
   ]
  },
  {
   "cell_type": "code",
   "execution_count": 11,
   "id": "567162d6-b09b-4db8-9fdd-ab53ce47a7e7",
   "metadata": {},
   "outputs": [],
   "source": [
    "# Multiple Linear Regression - Step 1: Import necessary libraries\n",
    "\n",
    "import pandas as pd  # For data handling\n",
    "import matplotlib.pyplot as plt  # For visualization\n",
    "from sklearn.model_selection import train_test_split  # For splitting data into training/testing sets\n",
    "from sklearn.linear_model import LinearRegression  # For regression modeling\n",
    "from sklearn.metrics import mean_absolute_error, mean_squared_error, r2_score  # For model evaluation\n",
    "\n",
    "# Placeholder: Load your dataset (Update the file path)\n",
    "# df = pd.read_csv(\"path_to_your_dataset.csv\")\n",
    "\n",
    "# Display the first few rows to verify data structure\n",
    "# print(df.head())"
   ]
  },
  {
   "cell_type": "code",
   "execution_count": 12,
   "id": "ab611976-25cf-4a9f-9c5c-29cfffc49ea7",
   "metadata": {},
   "outputs": [
    {
     "name": "stdout",
     "output_type": "stream",
     "text": [
      "   Student ID  University ID University Name  Age Gender Major  Year of Study  \\\n",
      "0           1             86    University C   25      F    EE              1   \n",
      "1           2             17    University A   26      F    ME              4   \n",
      "2           3             52    University C   20      M    CS              4   \n",
      "3           4             91    University A   25      M    ME              1   \n",
      "4           5             33    University C   22      F    CE              3   \n",
      "\n",
      "    GPA  High School GPA  Entrance Exam Score  ...  Research Involvement  \\\n",
      "0  2.06             3.50                   60  ...                     0   \n",
      "1  2.12             3.46                   52  ...                     0   \n",
      "2  2.72             3.33                   94  ...                     0   \n",
      "3  3.05             3.54                   65  ...                     1   \n",
      "4  1.86             3.35                   51  ...                     1   \n",
      "\n",
      "   Internship Experience  Peer Reviews  Academic Advising   Learning Style  \\\n",
      "0                      0            61                  5           Visual   \n",
      "1                      1            72                  7  Reading/Writing   \n",
      "2                      0            79                  2         Auditory   \n",
      "3                      0            50                  7      Kinesthetic   \n",
      "4                      1            68                  4           Visual   \n",
      "\n",
      "  Study Environment Core Course Average  Extracurricular Participation  \\\n",
      "0              Good                  51                              0   \n",
      "1         Excellent                  60                              0   \n",
      "2         Excellent                  65                              0   \n",
      "3         Excellent                  58                              1   \n",
      "4              Poor                  62                              0   \n",
      "\n",
      "   Peer Evaluations        Performance  \n",
      "0                83       Satisfactory  \n",
      "1                56               Poor  \n",
      "2                52       Satisfactory  \n",
      "3                65  Needs Improvement  \n",
      "4                71               Good  \n",
      "\n",
      "[5 rows x 51 columns]\n"
     ]
    }
   ],
   "source": [
    "# Step 1: Load the dataset\n",
    "df = pd.read_csv('C:/Users/dbda.STUDENTSDC/Music/LabPractice/Notebooks/Datasets/Australian_Student_PerformanceData (ASPD24).csv')\n",
    "\n",
    "# Display the first few rows to verify the structure\n",
    "print(df.head())\n"
   ]
  },
  {
   "cell_type": "code",
   "execution_count": 13,
   "id": "a6ccb4e3-74fb-4266-a052-33860e7cd520",
   "metadata": {},
   "outputs": [
    {
     "name": "stdout",
     "output_type": "stream",
     "text": [
      "<class 'pandas.core.frame.DataFrame'>\n",
      "RangeIndex: 100256 entries, 0 to 100255\n",
      "Data columns (total 51 columns):\n",
      " #   Column                                       Non-Null Count   Dtype  \n",
      "---  ------                                       --------------   -----  \n",
      " 0   Student ID                                   100256 non-null  int64  \n",
      " 1   University ID                                100256 non-null  int64  \n",
      " 2   University Name                              100256 non-null  object \n",
      " 3   Age                                          100256 non-null  int64  \n",
      " 4   Gender                                       100256 non-null  object \n",
      " 5   Major                                        100256 non-null  object \n",
      " 6   Year of Study                                100256 non-null  int64  \n",
      " 7   GPA                                          100256 non-null  float64\n",
      " 8   High School GPA                              100256 non-null  float64\n",
      " 9   Entrance Exam Score                          100256 non-null  int64  \n",
      " 10  Attendance Rate                              100256 non-null  float64\n",
      " 11  Participation in Extracurricular Activities  100256 non-null  int64  \n",
      " 12  Part-time Job                                100256 non-null  int64  \n",
      " 13  Hours of Study per Week                      100256 non-null  int64  \n",
      " 14  Family Income                                100256 non-null  int64  \n",
      " 15  Parental Education Level                     80290 non-null   object \n",
      " 16  Accommodation Type                           100256 non-null  object \n",
      " 17  Distance from Home to University             100256 non-null  int64  \n",
      " 18  Internet Access at Home                      100256 non-null  int64  \n",
      " 19  Library Usage                                100256 non-null  int64  \n",
      " 20  Access to Academic Resources                 100256 non-null  int64  \n",
      " 21  Health Condition                             100256 non-null  object \n",
      " 22  Mental Health Status                         100256 non-null  object \n",
      " 23  Scholarship                                  100256 non-null  int64  \n",
      " 24  Financial Aid                                100256 non-null  int64  \n",
      " 25  Tutor Support                                100256 non-null  int64  \n",
      " 26  Counseling Services                          100256 non-null  int64  \n",
      " 27  Transportation Mode                          100256 non-null  object \n",
      " 28  Hours of Sleep per Night                     100256 non-null  int64  \n",
      " 29  Diet Quality                                 100256 non-null  object \n",
      " 30  Exercise Frequency                           100256 non-null  int64  \n",
      " 31  Social Integration                           100256 non-null  object \n",
      " 32  Peer Support                                 100256 non-null  int64  \n",
      " 33  Language Proficiency                         100256 non-null  object \n",
      " 34  Use of Online Learning Platforms             100256 non-null  int64  \n",
      " 35  Class Participation                          100256 non-null  object \n",
      " 36  Project/Assignment Scores                    100256 non-null  int64  \n",
      " 37  Midterm Exam Scores                          100256 non-null  int64  \n",
      " 38  Final Exam Scores                            100256 non-null  int64  \n",
      " 39  Attendance at Office Hours                   100256 non-null  int64  \n",
      " 40  Group Work Participation                     100256 non-null  int64  \n",
      " 41  Research Involvement                         100256 non-null  int64  \n",
      " 42  Internship Experience                        100256 non-null  int64  \n",
      " 43  Peer Reviews                                 100256 non-null  int64  \n",
      " 44  Academic Advising                            100256 non-null  int64  \n",
      " 45  Learning Style                               100256 non-null  object \n",
      " 46  Study Environment                            100256 non-null  object \n",
      " 47  Core Course Average                          100256 non-null  int64  \n",
      " 48  Extracurricular Participation                100256 non-null  int64  \n",
      " 49  Peer Evaluations                             100256 non-null  int64  \n",
      " 50  Performance                                  100256 non-null  object \n",
      "dtypes: float64(3), int64(33), object(15)\n",
      "memory usage: 39.0+ MB\n"
     ]
    }
   ],
   "source": [
    "df.info()"
   ]
  },
  {
   "cell_type": "code",
   "execution_count": 14,
   "id": "9fc0d177-f29d-404e-a10b-0f39b17fb12f",
   "metadata": {},
   "outputs": [
    {
     "name": "stdout",
     "output_type": "stream",
     "text": [
      "Feature variables:\n",
      "    High School GPA  Entrance Exam Score  Attendance Rate  \\\n",
      "0             3.50                   60             0.84   \n",
      "1             3.46                   52             0.73   \n",
      "2             3.33                   94             0.96   \n",
      "3             3.54                   65             0.84   \n",
      "4             3.35                   51             0.92   \n",
      "\n",
      "   Hours of Study per Week  Library Usage  Hours of Sleep per Night  \\\n",
      "0                       17              2                         7   \n",
      "1                       21             13                         5   \n",
      "2                       34             19                         8   \n",
      "3                       21             10                         7   \n",
      "4                       37              2                         5   \n",
      "\n",
      "   Project/Assignment Scores  Midterm Exam Scores  \n",
      "0                         70                   84  \n",
      "1                         58                   82  \n",
      "2                         57                   74  \n",
      "3                         61                   85  \n",
      "4                         85                   53  \n",
      "\n",
      "Target variable:\n",
      " 0    81\n",
      "1    79\n",
      "2    53\n",
      "3    81\n",
      "4    93\n",
      "Name: Final Exam Scores, dtype: int64\n"
     ]
    }
   ],
   "source": [
    "# Step 2: Define features (X) and target variable (y)\n",
    "\n",
    "# Select predictor variables (independent features)\n",
    "X = df[['High School GPA', 'Entrance Exam Score', 'Attendance Rate', 'Hours of Study per Week',\n",
    "        'Library Usage', 'Hours of Sleep per Night', 'Project/Assignment Scores', 'Midterm Exam Scores']]  \n",
    "\n",
    "# Define target variable (dependent variable)\n",
    "y = df['Final Exam Scores']  \n",
    "\n",
    "# Print feature and label samples for verification\n",
    "print(\"Feature variables:\\n\", X.head())\n",
    "print(\"\\nTarget variable:\\n\", y.head())"
   ]
  },
  {
   "cell_type": "code",
   "execution_count": 15,
   "id": "24c23b8c-12c1-4848-8056-c53fbbed1fbc",
   "metadata": {},
   "outputs": [
    {
     "name": "stdout",
     "output_type": "stream",
     "text": [
      "Training set size: 80204 samples\n",
      "Testing set size: 20052 samples\n"
     ]
    }
   ],
   "source": [
    "# Step 2: Split the data into training and testing sets\n",
    "\n",
    "from sklearn.model_selection import train_test_split  # Import function for data splitting\n",
    "\n",
    "# Divide the dataset: 80% for training, 20% for testing\n",
    "X_train, X_test, y_train, y_test = train_test_split(X, y, test_size=0.20, random_state=42)\n",
    "\n",
    "# Print dataset sizes for verification\n",
    "print(f\"Training set size: {X_train.shape[0]} samples\")\n",
    "print(f\"Testing set size: {X_test.shape[0]} samples\")"
   ]
  },
  {
   "cell_type": "code",
   "execution_count": 16,
   "id": "e8ecd1d1-3969-4957-8760-1532e4cb6565",
   "metadata": {},
   "outputs": [
    {
     "name": "stdout",
     "output_type": "stream",
     "text": [
      "Model Coefficients: [-0.02302126 -0.004281    0.70480412 -0.01752541  0.00094977 -0.01190824\n",
      " -0.00247517 -0.00690112]\n",
      "Model Intercept: 75.5109648061768\n"
     ]
    }
   ],
   "source": [
    "# Step 3: Fit Multiple Linear Regression to Training Data\n",
    "\n",
    "from sklearn.linear_model import LinearRegression  # Import linear regression model\n",
    "\n",
    "# Initialize the linear regression model\n",
    "model = LinearRegression()\n",
    "\n",
    "# Train (fit) the model using the training dataset\n",
    "model.fit(X_train, y_train)\n",
    "\n",
    "# Print model coefficients and intercept for interpretation\n",
    "print(\"Model Coefficients:\", model.coef_)  # Importance of each feature in predicting Final Exam Score\n",
    "print(\"Model Intercept:\", model.intercept_)  # Baseline score when all predictors are zero"
   ]
  },
  {
   "cell_type": "code",
   "execution_count": 17,
   "id": "8c9ed7a1-81c0-480f-b8e5-deb8be3bf1e5",
   "metadata": {},
   "outputs": [
    {
     "name": "stdout",
     "output_type": "stream",
     "text": [
      "Predicted Final Exam Scores:\n",
      " [74.42103144 74.70979717 74.97183917 ... 74.1620739  74.63176924\n",
      " 74.26425608]\n"
     ]
    }
   ],
   "source": [
    "# Step 4: Make Predictions on the Test Set\n",
    "\n",
    "# Predict the Final Exam Scores using the trained model\n",
    "y_pred = model.predict(X_test)\n",
    "\n",
    "# Print the predicted values for reference\n",
    "print(\"Predicted Final Exam Scores:\\n\", y_pred)"
   ]
  },
  {
   "cell_type": "code",
   "execution_count": 18,
   "id": "c835adfb-062b-4c84-94a3-dee985146213",
   "metadata": {},
   "outputs": [
    {
     "name": "stdout",
     "output_type": "stream",
     "text": [
      "--- Actual vs. Predicted (Test Set) ---\n",
      "       Actual Final Exam Scores  Predicted Final Exam Scores\n",
      "19212                        81                    74.421031\n",
      "6491                         51                    74.709797\n",
      "94935                        69                    74.971839\n",
      "63684                        74                    74.303100\n",
      "63167                        79                    74.550510\n",
      "13735                        93                    74.667593\n",
      "83754                        50                    74.759550\n",
      "78465                        67                    74.156857\n",
      "85875                        53                    74.227705\n",
      "56716                        80                    74.311853\n",
      "-------------------------------------------------------------------------------------------\n",
      "\n"
     ]
    }
   ],
   "source": [
    "# Step 5: Compare Actual vs. Predicted Final Exam Scores\n",
    "\n",
    "print(\"--- Actual vs. Predicted (Test Set) ---\")\n",
    "\n",
    "# Create a DataFrame to compare actual and predicted values\n",
    "comparison_df = pd.DataFrame({'Actual Final Exam Scores': y_test, 'Predicted Final Exam Scores': y_pred})\n",
    "\n",
    "# Display the first 10 comparisons\n",
    "print(comparison_df.head(10))\n",
    "\n",
    "print(\"-------------------------------------------------------------------------------------------\\n\")"
   ]
  },
  {
   "cell_type": "code",
   "execution_count": 19,
   "id": "114cceec-565b-4441-a436-8ea637816724",
   "metadata": {},
   "outputs": [
    {
     "name": "stdout",
     "output_type": "stream",
     "text": [
      "Mean Absolute Error (MAE): 12.51915657983237\n",
      "Mean Squared Error (MSE): 208.93908233947604\n",
      "R-squared (R2 Score): -0.00040628652309715463\n"
     ]
    }
   ],
   "source": [
    "# Step 5: Model Evaluation\n",
    "# Calculate Mean Absolute Error (MAE), Mean Squared Error (MSE), and R-squared (R2 Score)\n",
    "\n",
    "mae = mean_absolute_error(y_test, y_pred)  # Measures average absolute deviation of predictions\n",
    "mse = mean_squared_error(y_test, y_pred)  # Measures squared error magnitude\n",
    "r2 = r2_score(y_test, y_pred)  # Determines model's goodness of fit\n",
    "\n",
    "# Print evaluation results for interpretation\n",
    "print(\"Mean Absolute Error (MAE):\", mae)\n",
    "print(\"Mean Squared Error (MSE):\", mse)\n",
    "print(\"R-squared (R2 Score):\", r2)"
   ]
  },
  {
   "cell_type": "code",
   "execution_count": 20,
   "id": "e7b36d97-4ccf-4978-b250-c7ccbd7da272",
   "metadata": {},
   "outputs": [
    {
     "name": "stdout",
     "output_type": "stream",
     "text": [
      "First two Midterm Exam Scores:\n",
      " 0    84\n",
      "1    82\n",
      "Name: Midterm Exam Scores, dtype: int64\n"
     ]
    }
   ],
   "source": [
    "# Display the first two values from the 'Midterm Exam Scores' column\n",
    "\n",
    "print(\"First two Midterm Exam Scores:\\n\", df['Midterm Exam Scores'].head(2))"
   ]
  },
  {
   "cell_type": "code",
   "execution_count": 21,
   "id": "35301fdb-205c-4fca-9cf3-812b60180b39",
   "metadata": {},
   "outputs": [
    {
     "name": "stdout",
     "output_type": "stream",
     "text": [
      "--- Making New Predictions ---\n",
      "\n",
      "Predicted Final Exam Scores for New Input Values:\n",
      " [74.5311763  74.10470236 74.33580668]\n"
     ]
    }
   ],
   "source": [
    "# Step 6: Make new predictions with custom input\n",
    "\n",
    "print(\"--- Making New Predictions ---\")\n",
    "\n",
    "# Create a DataFrame for new input values, ensuring column names match training features\n",
    "new_data_for_prediction = pd.DataFrame({\n",
    "    'High School GPA': [4.2, 3.6, 2.99],  # Example high school GPA values\n",
    "    'Entrance Exam Score': [52, 63, 70],  # Example entrance exam scores\n",
    "    'Attendance Rate': [0.84, 0.69, 0.65],  # Example attendance rates\n",
    "    'Hours of Study per Week': [24, 36, 22],  # Example study hours per week\n",
    "    'Library Usage': [23, 21, 14],  # Example library usage frequency\n",
    "    'Hours of Sleep per Night': [5, 7, 6],  # Example sleep hours per night\n",
    "    'Project/Assignment Scores': [56, 74, 78],  # Example project/assignment scores\n",
    "    'Midterm Exam Scores': [95, 96, 91]  # Example midterm exam scores\n",
    "})\n",
    "\n",
    "# Predict final exam scores for new input values using the trained model\n",
    "new_predictions = model.predict(new_data_for_prediction)\n",
    "\n",
    "# Print the predicted final exam scores\n",
    "print(\"\\nPredicted Final Exam Scores for New Input Values:\\n\", new_predictions)"
   ]
  },
  {
   "cell_type": "code",
   "execution_count": 22,
   "id": "079d6a9a-c40a-4493-8936-d6bbb973805e",
   "metadata": {},
   "outputs": [
    {
     "name": "stdout",
     "output_type": "stream",
     "text": [
      "\n",
      "New Data for Prediction:\n",
      "    High School GPA  Entrance Exam Score  Attendance Rate  \\\n",
      "0             4.20                   52             0.84   \n",
      "1             3.60                   63             0.69   \n",
      "2             2.99                   70             0.65   \n",
      "\n",
      "   Hours of Study per Week  Library Usage  Hours of Sleep per Night  \\\n",
      "0                       24             23                         5   \n",
      "1                       36             21                         7   \n",
      "2                       22             14                         6   \n",
      "\n",
      "   Project/Assignment Scores  Midterm Exam Scores  \n",
      "0                         56                   95  \n",
      "1                         74                   96  \n",
      "2                         78                   91  \n",
      "\n",
      "Predicted Final Exam Scores:\n",
      " [74.5311763  74.10470236 74.33580668]\n",
      "-------------------------------------------------------\n",
      "\n"
     ]
    }
   ],
   "source": [
    "# Step 6: Make new predictions using the trained model\n",
    "\n",
    "# Predict Final Exam Scores for new input values\n",
    "new_predictions = model.predict(new_data_for_prediction)\n",
    "\n",
    "# Print the new input data for reference\n",
    "print(\"\\nNew Data for Prediction:\\n\", new_data_for_prediction)\n",
    "\n",
    "# Print the predicted Final Exam Scores\n",
    "print(\"\\nPredicted Final Exam Scores:\\n\", new_predictions)\n",
    "\n",
    "print(\"-------------------------------------------------------\\n\")"
   ]
  }
 ],
 "metadata": {
  "kernelspec": {
   "display_name": "Python 3 (ipykernel)",
   "language": "python",
   "name": "python3"
  },
  "language_info": {
   "codemirror_mode": {
    "name": "ipython",
    "version": 3
   },
   "file_extension": ".py",
   "mimetype": "text/x-python",
   "name": "python",
   "nbconvert_exporter": "python",
   "pygments_lexer": "ipython3",
   "version": "3.12.7"
  }
 },
 "nbformat": 4,
 "nbformat_minor": 5
}
