{
 "cells": [
  {
   "cell_type": "code",
   "execution_count": 1,
   "id": "3fa8fb90-aedb-4084-89ec-cb3cb8df063b",
   "metadata": {},
   "outputs": [],
   "source": [
    "# Import necessary libraries\n",
    "import pandas as pd  # For handling datasets\n",
    "from sklearn.preprocessing import StandardScaler, MinMaxScaler  # For scaling features\n",
    "\n",
    "# Placeholder: Load your dataset (Update the file path)\n",
    "# df = pd.read_csv(\"path_to_your_dataset.csv\")\n",
    "\n",
    "# Display the first few rows of the dataset (Uncomment after loading the dataset)\n",
    "# print(df.head())"
   ]
  },
  {
   "cell_type": "code",
   "execution_count": 2,
   "id": "a1324f55-6fc0-410f-adef-787f2c7c9db2",
   "metadata": {},
   "outputs": [
    {
     "name": "stdout",
     "output_type": "stream",
     "text": [
      "   total_bill   tip  gender smoker  day    time  size  price_per_person  \\\n",
      "0       16.99  1.01  Female     No  Sun  Dinner     2              8.49   \n",
      "1       10.34  1.66    Male     No  Sun  Dinner     3              3.45   \n",
      "2       21.01  3.50    Male     No  Sun  Dinner     3              7.00   \n",
      "3       23.68  3.31    Male     No  Sun  Dinner     2             11.84   \n",
      "4       24.59  3.61  Female     No  Sun  Dinner     4              6.15   \n",
      "\n",
      "           Payer Name     CC Number Payment ID  \n",
      "0  Christy Cunningham  3.560330e+15    Sun2959  \n",
      "1      Douglas Tucker  4.478070e+15    Sun4608  \n",
      "2      Travis Walters  6.011810e+15    Sun4458  \n",
      "3    Nathaniel Harris  4.676140e+15    Sun5260  \n",
      "4        Tonya Carter  4.832730e+15    Sun2251  \n"
     ]
    }
   ],
   "source": [
    "# Step 1: Load the dataset\n",
    "\n",
    "# Load the dataset from the specified file path\n",
    "df = pd.read_csv('C:/Users/dbda.STUDENTSDC/Music/LabPractice/Notebooks/Datasets/tips.csv')\n",
    "\n",
    "# Display the first few rows to verify data structure\n",
    "print(df.head())"
   ]
  },
  {
   "cell_type": "code",
   "execution_count": 3,
   "id": "617eebfd-779d-44c8-8008-b35734497dd7",
   "metadata": {},
   "outputs": [
    {
     "name": "stdout",
     "output_type": "stream",
     "text": [
      "First two rows of the dataset:\n",
      "    total_bill   tip  gender smoker  day    time  size  price_per_person  \\\n",
      "0       16.99  1.01  Female     No  Sun  Dinner     2              8.49   \n",
      "1       10.34  1.66    Male     No  Sun  Dinner     3              3.45   \n",
      "\n",
      "           Payer Name     CC Number Payment ID  \n",
      "0  Christy Cunningham  3.560330e+15    Sun2959  \n",
      "1      Douglas Tucker  4.478070e+15    Sun4608  \n"
     ]
    }
   ],
   "source": [
    "# Step 2: Display the first two rows of the dataset\n",
    "\n",
    "print(\"First two rows of the dataset:\\n\", df.head(2))"
   ]
  },
  {
   "cell_type": "code",
   "execution_count": 4,
   "id": "46198ebb-ff4c-478a-86d5-4ef4126be563",
   "metadata": {},
   "outputs": [
    {
     "name": "stdout",
     "output_type": "stream",
     "text": [
      "Sample Total Bill values:\n",
      "    total_bill\n",
      "0       16.99\n",
      "1       10.34\n",
      "2       21.01\n",
      "3       23.68\n",
      "4       24.59\n"
     ]
    }
   ],
   "source": [
    "# Step 3: Select 'total_bill' column as a DataFrame\n",
    "\n",
    "total_bill = df[['total_bill']]  # Keeping column structure as DataFrame\n",
    "\n",
    "# Print sample data for verification\n",
    "print(\"Sample Total Bill values:\\n\", total_bill.head())"
   ]
  },
  {
   "cell_type": "code",
   "execution_count": 5,
   "id": "fe8df2c0-ebe8-46da-8982-49bf0aea3a50",
   "metadata": {},
   "outputs": [
    {
     "name": "stdout",
     "output_type": "stream",
     "text": [
      "Standard Scaled Total Bill:\n",
      "    total_bill  total_bill_standard_scaled\n",
      "0       16.99                   -0.314711\n",
      "1       10.34                   -1.063235\n",
      "2       21.01                    0.137780\n",
      "3       23.68                    0.438315\n",
      "4       24.59                    0.540745\n"
     ]
    }
   ],
   "source": [
    "# Step 4: Apply Standard Scaling to 'total_bill' column\n",
    "\n",
    "from sklearn.preprocessing import StandardScaler  # Import StandardScaler\n",
    "\n",
    "# Initialize the scaler\n",
    "standard_scaler = StandardScaler()\n",
    "\n",
    "# Fit and transform the 'total_bill' column\n",
    "df['total_bill_standard_scaled'] = standard_scaler.fit_transform(total_bill)\n",
    "\n",
    "# Display first few scaled values for verification\n",
    "print(\"Standard Scaled Total Bill:\\n\", df[['total_bill', 'total_bill_standard_scaled']].head())"
   ]
  },
  {
   "cell_type": "code",
   "execution_count": 6,
   "id": "3fea8a46-6f48-4a49-92bf-79badd3b1153",
   "metadata": {},
   "outputs": [
    {
     "name": "stdout",
     "output_type": "stream",
     "text": [
      "Min-Max Scaled Total Bill:\n",
      "    total_bill  total_bill_minmax_scaled\n",
      "0       16.99                  0.291579\n",
      "1       10.34                  0.152283\n",
      "2       21.01                  0.375786\n",
      "3       23.68                  0.431713\n",
      "4       24.59                  0.450775\n"
     ]
    }
   ],
   "source": [
    "# Step 5: Apply Min-Max Scaling to 'total_bill' column\n",
    "\n",
    "from sklearn.preprocessing import MinMaxScaler  # Import MinMaxScaler\n",
    "\n",
    "# Initialize the scaler\n",
    "minmax_scaler = MinMaxScaler()\n",
    "\n",
    "# Fit and transform the 'total_bill' column\n",
    "df['total_bill_minmax_scaled'] = minmax_scaler.fit_transform(total_bill)\n",
    "\n",
    "# Display first few scaled values for verification\n",
    "print(\"Min-Max Scaled Total Bill:\\n\", df[['total_bill', 'total_bill_minmax_scaled']].head())"
   ]
  },
  {
   "cell_type": "code",
   "execution_count": 7,
   "id": "5813fc9d-ced8-48e0-a561-a3039a9dceee",
   "metadata": {},
   "outputs": [
    {
     "name": "stdout",
     "output_type": "stream",
     "text": [
      "   total_bill  total_bill_standard_scaled  total_bill_minmax_scaled\n",
      "0       16.99                   -0.314711                  0.291579\n",
      "1       10.34                   -1.063235                  0.152283\n",
      "2       21.01                    0.137780                  0.375786\n",
      "3       23.68                    0.438315                  0.431713\n",
      "4       24.59                    0.540745                  0.450775\n",
      "5       25.29                    0.619537                  0.465438\n",
      "6        8.77                   -1.239955                  0.119397\n",
      "7       26.88                    0.798507                  0.498743\n",
      "8       15.04                   -0.534203                  0.250733\n",
      "9       14.78                   -0.563469                  0.245287\n"
     ]
    }
   ],
   "source": [
    "# Step 6: Display scaled values with original 'total_bill' column\n",
    "\n",
    "# Ensure all columns are visible\n",
    "pd.set_option('display.max_columns', None)  \n",
    "\n",
    "# Print first 10 rows to compare original and scaled values\n",
    "print(df[['total_bill', 'total_bill_standard_scaled', 'total_bill_minmax_scaled']].head(10))\n",
    "\n",
    "# Reset the column display option back to default\n",
    "pd.reset_option('display.max_columns')  "
   ]
  }
 ],
 "metadata": {
  "kernelspec": {
   "display_name": "Python 3 (ipykernel)",
   "language": "python",
   "name": "python3"
  },
  "language_info": {
   "codemirror_mode": {
    "name": "ipython",
    "version": 3
   },
   "file_extension": ".py",
   "mimetype": "text/x-python",
   "name": "python",
   "nbconvert_exporter": "python",
   "pygments_lexer": "ipython3",
   "version": "3.12.7"
  }
 },
 "nbformat": 4,
 "nbformat_minor": 5
}
