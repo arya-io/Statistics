{
 "cells": [
  {
   "cell_type": "code",
   "execution_count": 1,
   "id": "118e743b-2a62-4eed-bd92-f9ea85846847",
   "metadata": {},
   "outputs": [],
   "source": [
    "# Import necessary libraries\n",
    "import pandas as pd  # For handling datasets\n",
    "from sklearn.preprocessing import LabelEncoder  # For encoding categorical variables\n",
    "\n",
    "# Placeholder: Load your dataset (Update the file path)\n",
    "# df = pd.read_csv(\"path_to_your_dataset.csv\")\n",
    "\n",
    "# Display the first few rows to verify data structure (Uncomment after loading the dataset)\n",
    "# print(df.head())"
   ]
  },
  {
   "cell_type": "code",
   "execution_count": 2,
   "id": "569959d4-6e30-4bf2-a144-4ba7cbb7b69f",
   "metadata": {},
   "outputs": [
    {
     "name": "stdout",
     "output_type": "stream",
     "text": [
      "Original 'day' column:\n",
      " 0    Sun\n",
      "1    Sun\n",
      "2    Sun\n",
      "3    Sun\n",
      "4    Sun\n",
      "Name: day, dtype: object\n"
     ]
    }
   ],
   "source": [
    "# Step 1: Load the dataset\n",
    "\n",
    "df = pd.read_csv('Datasets/tips.csv')  # Load dataset\n",
    "\n",
    "# Step 2: Display first few values of the 'day' column\n",
    "\n",
    "print(\"Original 'day' column:\\n\", df['day'].head())"
   ]
  },
  {
   "cell_type": "code",
   "execution_count": 3,
   "id": "3421d663-9074-4ff6-ac40-4201716b3f1b",
   "metadata": {},
   "outputs": [
    {
     "name": "stdout",
     "output_type": "stream",
     "text": [
      "\n",
      "One-Hot Encoded 'day' with drop_first:\n",
      "    day_Sat  day_Sun  day_Thur\n",
      "0    False     True     False\n",
      "1    False     True     False\n",
      "2    False     True     False\n",
      "3    False     True     False\n",
      "4    False     True     False\n"
     ]
    }
   ],
   "source": [
    "# Step 3: Apply One-Hot Encoding to 'day' column\n",
    "\n",
    "df_ohe = pd.get_dummies(df, columns=['day'], prefix='day', drop_first=True)  # Encode categorical variable\n",
    "\n",
    "# Display first few transformed values for verification\n",
    "print(\"\\nOne-Hot Encoded 'day' with drop_first:\\n\", df_ohe.filter(like='day_').head())"
   ]
  },
  {
   "cell_type": "code",
   "execution_count": 4,
   "id": "2fffacab-8517-4529-8edd-3c6a494ef145",
   "metadata": {},
   "outputs": [
    {
     "name": "stdout",
     "output_type": "stream",
     "text": [
      "\n",
      "One-Hot Encoded 'day' with drop first:\n",
      "      day_Sat  day_Sun  day_Thur\n",
      "239     True    False     False\n",
      "240     True    False     False\n",
      "241     True    False     False\n",
      "242     True    False     False\n",
      "243    False    False      True\n"
     ]
    }
   ],
   "source": [
    "# Step 3: Apply One-Hot Encoding to 'day' column\n",
    "\n",
    "import pandas as pd\n",
    "\n",
    "# Perform one-hot encoding with drop_first=True to reduce redundancy\n",
    "df_ohe = pd.get_dummies(df, columns=['day'], drop_first=True)\n",
    "\n",
    "# Step 4: Display the encoded 'day' columns (filtered)\n",
    "print(\"\\nOne-Hot Encoded 'day' with drop first:\\n\", df_ohe.filter(like='day_').tail())"
   ]
  },
  {
   "cell_type": "code",
   "execution_count": 5,
   "id": "e95b9e65-e4f9-4949-a476-be2ffa0033ab",
   "metadata": {},
   "outputs": [
    {
     "name": "stdout",
     "output_type": "stream",
     "text": [
      "\n",
      "Label Encoded 'day' (First 5 rows):\n",
      "    day  day_label\n",
      "0  Sun          2\n",
      "1  Sun          2\n",
      "2  Sun          2\n",
      "3  Sun          2\n",
      "4  Sun          2\n",
      "\n",
      "Label Encoded 'day' (Last 5 rows):\n",
      "       day  day_label\n",
      "239   Sat          1\n",
      "240   Sat          1\n",
      "241   Sat          1\n",
      "242   Sat          1\n",
      "243  Thur          3\n"
     ]
    }
   ],
   "source": [
    "# Step 4: Apply Label Encoding to 'day' column\n",
    "\n",
    "from sklearn.preprocessing import LabelEncoder  # Import LabelEncoder\n",
    "\n",
    "# Initialize the encoder\n",
    "label_encoder = LabelEncoder()\n",
    "\n",
    "# Fit and transform the 'day' column\n",
    "df['day_label'] = label_encoder.fit_transform(df['day'])\n",
    "\n",
    "# Display first and last few encoded values for verification\n",
    "print(\"\\nLabel Encoded 'day' (First 5 rows):\\n\", df[['day', 'day_label']].head())\n",
    "print(\"\\nLabel Encoded 'day' (Last 5 rows):\\n\", df[['day', 'day_label']].tail())"
   ]
  },
  {
   "cell_type": "code",
   "execution_count": 6,
   "id": "c67b62e9-6f40-4623-8790-49cfecbea06c",
   "metadata": {},
   "outputs": [
    {
     "name": "stdout",
     "output_type": "stream",
     "text": [
      "\n",
      "Frequency Encoded 'day' (First 5 rows):\n",
      "    day  day_freq\n",
      "0  Sun        76\n",
      "1  Sun        76\n",
      "2  Sun        76\n",
      "3  Sun        76\n",
      "4  Sun        76\n",
      "\n",
      "Frequency Encoded 'day' (Last 5 rows):\n",
      "       day  day_freq\n",
      "239   Sat        87\n",
      "240   Sat        87\n",
      "241   Sat        87\n",
      "242   Sat        87\n",
      "243  Thur        62\n"
     ]
    }
   ],
   "source": [
    "# Step 3: Apply Frequency Encoding to 'day' column\n",
    "\n",
    "# Count occurrences of each category in 'day' column\n",
    "day_freq = df['day'].value_counts(normalize=False)  # Absolute frequency counts\n",
    "\n",
    "# Map frequency values to original 'day' column\n",
    "df['day_freq'] = df['day'].map(day_freq)\n",
    "\n",
    "# Display first few and last few rows for verification\n",
    "print(\"\\nFrequency Encoded 'day' (First 5 rows):\\n\", df[['day', 'day_freq']].head())\n",
    "print(\"\\nFrequency Encoded 'day' (Last 5 rows):\\n\", df[['day', 'day_freq']].tail())"
   ]
  }
 ],
 "metadata": {
  "kernelspec": {
   "display_name": "Python 3 (ipykernel)",
   "language": "python",
   "name": "python3"
  },
  "language_info": {
   "codemirror_mode": {
    "name": "ipython",
    "version": 3
   },
   "file_extension": ".py",
   "mimetype": "text/x-python",
   "name": "python",
   "nbconvert_exporter": "python",
   "pygments_lexer": "ipython3",
   "version": "3.12.7"
  }
 },
 "nbformat": 4,
 "nbformat_minor": 5
}
