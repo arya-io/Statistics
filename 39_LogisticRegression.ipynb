{
 "cells": [
  {
   "cell_type": "code",
   "execution_count": 1,
   "id": "3b89a1b8-d07e-428b-885c-b7917cdab970",
   "metadata": {},
   "outputs": [],
   "source": [
    "# Logistic Regression - Step 1: Import necessary libraries\n",
    "\n",
    "import numpy as np  # For numerical operations\n",
    "import pandas as pd  # For data handling\n",
    "import matplotlib.pyplot as plt  # For visualization\n",
    "import seaborn as sns  # For advanced visualizations\n",
    "\n",
    "from sklearn.model_selection import train_test_split  # For splitting data into training/testing sets\n",
    "from sklearn.linear_model import LogisticRegression  # For building the logistic regression model\n",
    "from sklearn.metrics import confusion_matrix, accuracy_score, classification_report  # For model evaluation\n",
    "from sklearn.preprocessing import StandardScaler  # For feature scaling (important for logistic regression)\n",
    "\n",
    "# Placeholder: Load your dataset (Update the file path)\n",
    "# df = pd.read_csv(\"path_to_your_dataset.csv\")\n",
    "\n",
    "# Display the first few rows to verify data structure (Uncomment after loading the dataset)\n",
    "# print(df.head())"
   ]
  },
  {
   "cell_type": "code",
   "execution_count": 2,
   "id": "edba9b28-e6b6-47b7-8b88-8efe4e528c88",
   "metadata": {},
   "outputs": [
    {
     "name": "stdout",
     "output_type": "stream",
     "text": [
      "Dataset preview:\n",
      "    Pregnancies  Glucose  BloodPressure  SkinThickness  Insulin   BMI  \\\n",
      "0            6      148             72             35        0  33.6   \n",
      "1            1       85             66             29        0  26.6   \n",
      "2            8      183             64              0        0  23.3   \n",
      "3            1       89             66             23       94  28.1   \n",
      "4            0      137             40             35      168  43.1   \n",
      "\n",
      "   DiabetesPedigreeFunction  Age  Outcome  \n",
      "0                     0.627   50        1  \n",
      "1                     0.351   31        0  \n",
      "2                     0.672   32        1  \n",
      "3                     0.167   21        0  \n",
      "4                     2.288   33        1  \n"
     ]
    }
   ],
   "source": [
    "# Step 1: Load the dataset\n",
    "\n",
    "df = pd.read_csv('C:/Users/dbda.STUDENTSDC/Music/LabPractice/Notebooks/Datasets/diabetes.csv')  # Load dataset\n",
    "\n",
    "# Step 2: Display first few rows to verify data structure\n",
    "print(\"Dataset preview:\\n\", df.head())"
   ]
  },
  {
   "cell_type": "code",
   "execution_count": 3,
   "id": "feb4fd1f-2451-447f-a73b-0c88065d75b2",
   "metadata": {},
   "outputs": [
    {
     "name": "stdout",
     "output_type": "stream",
     "text": [
      "Feature variables:\n",
      "    Pregnancies  Glucose  BloodPressure  SkinThickness  Insulin   BMI  \\\n",
      "0            6      148             72             35        0  33.6   \n",
      "1            1       85             66             29        0  26.6   \n",
      "2            8      183             64              0        0  23.3   \n",
      "3            1       89             66             23       94  28.1   \n",
      "4            0      137             40             35      168  43.1   \n",
      "\n",
      "   DiabetesPedigreeFunction  Age  \n",
      "0                     0.627   50  \n",
      "1                     0.351   31  \n",
      "2                     0.672   32  \n",
      "3                     0.167   21  \n",
      "4                     2.288   33  \n",
      "\n",
      "Target variable:\n",
      " 0    1\n",
      "1    0\n",
      "2    1\n",
      "3    0\n",
      "4    1\n",
      "Name: Outcome, dtype: int64\n"
     ]
    }
   ],
   "source": [
    "# Step 3: Split the dataset into predictor variables (X) and target variable (y)\n",
    "\n",
    "# Define predictor variables (features) by dropping the 'Outcome' column\n",
    "X = df.drop(\"Outcome\", axis=1)  \n",
    "\n",
    "# Define target variable (label)\n",
    "y = df['Outcome']  \n",
    "\n",
    "# Print sample data for verification\n",
    "print(\"Feature variables:\\n\", X.head())\n",
    "print(\"\\nTarget variable:\\n\", y.head())"
   ]
  },
  {
   "cell_type": "code",
   "execution_count": 4,
   "id": "a6698e5b-facb-4b90-9a1f-1e7a84b4a90f",
   "metadata": {},
   "outputs": [
    {
     "name": "stdout",
     "output_type": "stream",
     "text": [
      "Standard Scaled 'Insulin' values:\n",
      "     Insulin\n",
      "0 -0.692891\n",
      "1 -0.692891\n",
      "2 -0.692891\n",
      "3  0.123302\n",
      "4  0.765836\n"
     ]
    }
   ],
   "source": [
    "# Step 4: Standardize only the 'Insulin' column\n",
    "\n",
    "from sklearn.preprocessing import StandardScaler  # Import StandardScaler\n",
    "\n",
    "# Initialize the scaler\n",
    "scaler = StandardScaler()\n",
    "\n",
    "# Fit and transform only the 'Insulin' column\n",
    "X['Insulin'] = scaler.fit_transform(X[['Insulin']])\n",
    "\n",
    "# Display first few scaled values for verification\n",
    "print(\"Standard Scaled 'Insulin' values:\\n\", X[['Insulin']].head())"
   ]
  },
  {
   "cell_type": "code",
   "execution_count": 5,
   "id": "1488688e-79f3-437b-8dc5-952c1fd4f434",
   "metadata": {},
   "outputs": [
    {
     "name": "stdout",
     "output_type": "stream",
     "text": [
      "Training set size: 537 samples\n",
      "Testing set size: 231 samples\n"
     ]
    }
   ],
   "source": [
    "# Step 5: Split data into training and testing sets\n",
    "\n",
    "from sklearn.model_selection import train_test_split  # Import function for splitting data\n",
    "\n",
    "# Divide the dataset: 70% for training, 30% for testing\n",
    "X_train, X_test, y_train, y_test = train_test_split(X, y, test_size=0.3, random_state=1)\n",
    "\n",
    "# Print dataset sizes for verification\n",
    "print(f\"Training set size: {X_train.shape[0]} samples\")\n",
    "print(f\"Testing set size: {X_test.shape[0]} samples\")"
   ]
  },
  {
   "cell_type": "code",
   "execution_count": 6,
   "id": "24e28918-a82a-4156-ae4f-7816a1922907",
   "metadata": {},
   "outputs": [
    {
     "name": "stdout",
     "output_type": "stream",
     "text": [
      "Model Coefficients: [[ 0.09383824  0.02503341 -0.01981934 -0.00293599  0.04227076  0.0569127\n",
      "   0.37167842  0.00932433]]\n",
      "Model Intercept: [-5.00959381]\n"
     ]
    }
   ],
   "source": [
    "# Step 6: Create and Train a Logistic Regression Model\n",
    "\n",
    "from sklearn.linear_model import LogisticRegression  # Import Logistic Regression\n",
    "\n",
    "# Initialize classifier with solver based on dataset characteristics\n",
    "classifier = LogisticRegression(solver='liblinear')  # Suitable for small datasets & binary classification\n",
    "\n",
    "# Train (fit) the model using the training dataset\n",
    "classifier.fit(X_train, y_train)\n",
    "\n",
    "# Print model coefficients and intercept for interpretation\n",
    "print(\"Model Coefficients:\", classifier.coef_)  # Importance of each feature\n",
    "print(\"Model Intercept:\", classifier.intercept_)  # Baseline when all predictors are zero"
   ]
  },
  {
   "cell_type": "code",
   "execution_count": 7,
   "id": "49542816-29cb-40c4-978b-57cbbd630cb8",
   "metadata": {},
   "outputs": [
    {
     "name": "stdout",
     "output_type": "stream",
     "text": [
      "Test Set Predictions:\n",
      " [0 0 0 0 0 0 0 0 0 0]\n",
      "\n",
      "Train Set Predictions:\n",
      " [1 0 0 0 0 1 1 0 0 0]\n"
     ]
    }
   ],
   "source": [
    "# Step 7: Make Predictions Using the Trained Logistic Regression Model\n",
    "\n",
    "# Predict class labels for test and train datasets\n",
    "y_test_prediction = classifier.predict(X_test)  # Predictions on test data\n",
    "y_train_prediction = classifier.predict(X_train)  # Predictions on training data\n",
    "\n",
    "# Display sample predictions for verification\n",
    "print(\"Test Set Predictions:\\n\", y_test_prediction[:10])  # Showing first 10 test predictions\n",
    "print(\"\\nTrain Set Predictions:\\n\", y_train_prediction[:10])  # Showing first 10 train predictions"
   ]
  },
  {
   "cell_type": "code",
   "execution_count": 8,
   "id": "a4640cf2-1fa8-451b-b6bb-7e1242fdf042",
   "metadata": {},
   "outputs": [
    {
     "name": "stdout",
     "output_type": "stream",
     "text": [
      "\n",
      "Predictions Comparison:\n",
      "      Actual  Predicted\n",
      "285       0          0\n",
      "101       0          0\n"
     ]
    }
   ],
   "source": [
    "# Step 8: Compare Actual vs. Predicted Values\n",
    "\n",
    "# Create a DataFrame for comparison\n",
    "comparison = pd.DataFrame({'Actual': y_test, 'Predicted': y_test_prediction})\n",
    "\n",
    "# Display first two rows to check accuracy\n",
    "print(\"\\nPredictions Comparison:\\n\", comparison.head(2))"
   ]
  },
  {
   "cell_type": "code",
   "execution_count": 9,
   "id": "1b0e2122-ec8a-489a-8d2d-6ddd6732e57f",
   "metadata": {},
   "outputs": [
    {
     "name": "stdout",
     "output_type": "stream",
     "text": [
      "Test Accuracy: 0.7749\n",
      "Train Accuracy: 0.7616\n"
     ]
    }
   ],
   "source": [
    "# Step 9: Compute Model Accuracy\n",
    "\n",
    "from sklearn.metrics import accuracy_score  # Import accuracy metric\n",
    "\n",
    "# Calculate accuracy for training and test sets\n",
    "test_accuracy = accuracy_score(y_test, y_test_prediction)\n",
    "train_accuracy = accuracy_score(y_train, y_train_prediction)\n",
    "\n",
    "# Print accuracy scores with four decimal precision\n",
    "print(f\"Test Accuracy: {test_accuracy:.4f}\")   # Evaluates model performance on unseen data\n",
    "print(f\"Train Accuracy: {train_accuracy:.4f}\") # Checks how well the model learned from training data"
   ]
  },
  {
   "cell_type": "code",
   "execution_count": 10,
   "id": "bfc6a650-8b5a-4533-ae76-de07698b176b",
   "metadata": {},
   "outputs": [],
   "source": [
    "# H0: The patient does not have diabetes (Outcome = 0)\n",
    "# H1: The patient has diabetes (Outcome = 1)\n",
    "# FP (Type I Error): The model predicts the patient has diabetes, but in reality, they do not\n",
    "# FN (Type II Error): The model predicts the patient does not have diabetes, but in reality, they have diabetes"
   ]
  },
  {
   "cell_type": "code",
   "execution_count": 11,
   "id": "47794cc0-916e-4437-96f9-4d3387104489",
   "metadata": {},
   "outputs": [
    {
     "name": "stdout",
     "output_type": "stream",
     "text": [
      "\n",
      "Confusion Matrix:\n",
      "[[132  14]\n",
      " [ 38  47]]\n"
     ]
    }
   ],
   "source": [
    "# Step 10: Evaluate Model with Confusion Matrix\n",
    "\n",
    "from sklearn.metrics import confusion_matrix  # Import confusion matrix function\n",
    "\n",
    "# Compute confusion matrix\n",
    "conf_mat = confusion_matrix(y_test, y_test_prediction)\n",
    "\n",
    "# Print confusion matrix with labels for interpretation\n",
    "print(\"\\nConfusion Matrix:\")\n",
    "print(conf_mat)\n",
    "\n",
    "# Interpretation:\n",
    "# - True Positives (TP): Correctly predicted as diabetic\n",
    "# - True Negatives (TN): Correctly predicted as non-diabetic\n",
    "# - False Positives (FP - Type I Error): Incorrectly predicted as diabetic\n",
    "# - False Negatives (FN - Type II Error): Incorrectly predicted as non-diabetic"
   ]
  },
  {
   "cell_type": "code",
   "execution_count": 12,
   "id": "9c525f05-7a6e-4c6d-80dc-a3b84bd39a8f",
   "metadata": {},
   "outputs": [],
   "source": [
    "# Sequence: R 1 C 1: TN, R 1 C 2: FP, R 2 C 1: FN, R 2 C 2: TP"
   ]
  },
  {
   "cell_type": "code",
   "execution_count": 13,
   "id": "6447aa0a-bffd-46c6-af84-7ab02326e634",
   "metadata": {},
   "outputs": [
    {
     "data": {
      "image/png": "[encoded data removed]",
      "text/plain": [
       "<Figure size 800x600 with 2 Axes>"
      ]
     },
     "metadata": {},
     "output_type": "display_data"
    }
   ],
   "source": [
    "# Step 11: Visualize Confusion Matrix Using Heatmap\n",
    "\n",
    "import matplotlib.pyplot as plt\n",
    "import seaborn as sns\n",
    "\n",
    "# Set figure size\n",
    "plt.figure(figsize=(8, 6))\n",
    "\n",
    "# Create heatmap with annotations\n",
    "sns.heatmap(conf_mat, annot=True, fmt='d', cmap='Blues', \n",
    "            xticklabels=['Negative', 'Positive'], yticklabels=['Negative', 'Positive'])\n",
    "\n",
    "# Add titles and labels for clarity\n",
    "plt.title(\"Confusion Matrix\")\n",
    "plt.xlabel(\"Predicted Labels\")\n",
    "plt.ylabel(\"Actual Labels\")\n",
    "\n",
    "# Display the heatmap\n",
    "plt.show()"
   ]
  },
  {
   "cell_type": "code",
   "execution_count": 14,
   "id": "551019f7-26c1-43b0-a841-7b474396bb51",
   "metadata": {},
   "outputs": [
    {
     "name": "stdout",
     "output_type": "stream",
     "text": [
      "\n",
      "Classification Report:\n",
      "              precision    recall  f1-score   support\n",
      "\n",
      "           0       0.78      0.90      0.84       146\n",
      "           1       0.77      0.55      0.64        85\n",
      "\n",
      "    accuracy                           0.77       231\n",
      "   macro avg       0.77      0.73      0.74       231\n",
      "weighted avg       0.77      0.77      0.76       231\n",
      "\n"
     ]
    }
   ],
   "source": [
    "# Step 12: Generate Classification Report for Model Evaluation\n",
    "\n",
    "from sklearn.metrics import classification_report  # Import function for detailed classification metrics\n",
    "\n",
    "# Compute and print classification report\n",
    "print(\"\\nClassification Report:\")\n",
    "print(classification_report(y_test, y_test_prediction))\n",
    "\n",
    "# Interpretation:\n",
    "# - **Precision**: Out of predicted positives, how many were truly positive?\n",
    "# - **Recall (Sensitivity)**: Out of actual positives, how many did the model correctly identify?\n",
    "# - **F1-score**: Harmonic mean of precision and recall, balancing both metrics.\n",
    "# - **Support**: Number of actual occurrences for each class in the dataset."
   ]
  },
  {
   "cell_type": "code",
   "execution_count": 15,
   "id": "2b537ef2-0737-4b0f-b982-6c6810a9e6e7",
   "metadata": {},
   "outputs": [
    {
     "name": "stdout",
     "output_type": "stream",
     "text": [
      "True Negatives (TN): 132\n",
      "False Positives (FP - Type I Error): 14\n",
      "False Negatives (FN - Type II Error): 38\n",
      "True Positives (TP): 47\n"
     ]
    }
   ],
   "source": [
    "# Step 13: Extract TP, TN, FP, FN from the Confusion Matrix\n",
    "\n",
    "from sklearn.metrics import confusion_matrix, accuracy_score, precision_score, recall_score, f1_score\n",
    "\n",
    "# Compute confusion matrix\n",
    "conf_mat = confusion_matrix(y_test, y_test_prediction)\n",
    "\n",
    "# Extract individual components\n",
    "TN, FP, FN, TP = conf_mat.ravel()\n",
    "\n",
    "# Print extracted values for interpretation\n",
    "print(f\"True Negatives (TN): {TN}\")\n",
    "print(f\"False Positives (FP - Type I Error): {FP}\")\n",
    "print(f\"False Negatives (FN - Type II Error): {FN}\")\n",
    "print(f\"True Positives (TP): {TP}\")"
   ]
  },
  {
   "cell_type": "code",
   "execution_count": 16,
   "id": "b7a31e2c-bb8e-4af5-a2ad-0a62fb02099a",
   "metadata": {},
   "outputs": [
    {
     "name": "stdout",
     "output_type": "stream",
     "text": [
      "True Negatives (TN): 132\n",
      "False Positives (FP - Type I Error): 14\n",
      "False Negatives (FN - Type II Error): 38\n",
      "True Positives (TP): 47\n"
     ]
    }
   ],
   "source": [
    "# Step 14: Extract Confusion Matrix Components Manually\n",
    "\n",
    "# Extract values directly from the confusion matrix\n",
    "TN = conf_mat[0, 0]  # True Negatives\n",
    "FP = conf_mat[0, 1]  # False Positives (Type I Error)\n",
    "FN = conf_mat[1, 0]  # False Negatives (Type II Error)\n",
    "TP = conf_mat[1, 1]  # True Positives\n",
    "\n",
    "# Print extracted values for interpretation\n",
    "print(f\"True Negatives (TN): {TN}\")\n",
    "print(f\"False Positives (FP - Type I Error): {FP}\")\n",
    "print(f\"False Negatives (FN - Type II Error): {FN}\")\n",
    "print(f\"True Positives (TP): {TP}\")"
   ]
  },
  {
   "cell_type": "code",
   "execution_count": 17,
   "id": "72dfd15b-fdf2-47a1-8782-0ce8092eccba",
   "metadata": {},
   "outputs": [
    {
     "name": "stdout",
     "output_type": "stream",
     "text": [
      "Accuracy: 0.7749\n",
      "Precision: 0.7705\n",
      "Recall: 0.5529\n",
      "F1 Score: 0.6438\n"
     ]
    }
   ],
   "source": [
    "# Step 15: Compute Model Evaluation Metrics\n",
    "\n",
    "# Calculate accuracy, precision, recall, and F1-score\n",
    "accuracy = accuracy_score(y_test, y_test_prediction)\n",
    "precision = precision_score(y_test, y_test_prediction)\n",
    "recall = recall_score(y_test, y_test_prediction)\n",
    "f1 = f1_score(y_test, y_test_prediction)\n",
    "\n",
    "# Print evaluation results\n",
    "print(f\"Accuracy: {accuracy:.4f}\")      # Overall correctness of the model\n",
    "print(f\"Precision: {precision:.4f}\")    # TP / (TP + FP) - How precise are the positive predictions?\n",
    "print(f\"Recall: {recall:.4f}\")          # TP / (TP + FN) - How well does the model detect actual positives?\n",
    "print(f\"F1 Score: {f1:.4f}\")            # Balances precision and recall"
   ]
  }
 ],
 "metadata": {
  "kernelspec": {
   "display_name": "Python 3 (ipykernel)",
   "language": "python",
   "name": "python3"
  },
  "language_info": {
   "codemirror_mode": {
    "name": "ipython",
    "version": 3
   },
   "file_extension": ".py",
   "mimetype": "text/x-python",
   "name": "python",
   "nbconvert_exporter": "python",
   "pygments_lexer": "ipython3",
   "version": "3.12.7"
  }
 },
 "nbformat": 4,
 "nbformat_minor": 5
}
