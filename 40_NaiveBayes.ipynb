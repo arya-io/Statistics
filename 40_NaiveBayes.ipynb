{
 "cells": [
  {
   "cell_type": "code",
   "execution_count": 1,
   "id": "00ee0c7f-4edd-4a2b-a8d5-1bc25e9088a4",
   "metadata": {},
   "outputs": [],
   "source": [
    "# Step 1: Import the Pandas library\n",
    "import pandas as pd  # For handling datasets\n",
    "\n",
    "# Placeholder: Load your dataset (Update the file path)\n",
    "# df = pd.read_csv(\"path_to_your_dataset.csv\")\n",
    "\n",
    "# Display the first few rows to verify data structure (Uncomment after loading the dataset)\n",
    "# print(df.head())"
   ]
  },
  {
   "cell_type": "code",
   "execution_count": 2,
   "id": "f7d51d76-0365-4675-b2fb-4f27ca8d0ba9",
   "metadata": {},
   "outputs": [
    {
     "name": "stdout",
     "output_type": "stream",
     "text": [
      "Dataset Preview:\n",
      "    survived  pclass  gender   age  sibsp  parch     fare embarked deck\n",
      "0         0       3    male  22.0      1      0   7.2500        S  NaN\n",
      "1         1       1  female  38.0      1      0  71.2833        C    C\n",
      "2         1       3  female  26.0      0      0   7.9250        S  NaN\n",
      "3         1       1  female  35.0      1      0  53.1000        S    C\n",
      "4         0       3    male  35.0      0      0   8.0500        S  NaN\n"
     ]
    }
   ],
   "source": [
    "# Step 1: Load the Titanic dataset\n",
    "\n",
    "df = pd.read_csv(\"Datasets/titanic.csv\")  # Load dataset\n",
    "\n",
    "# Step 2: Display first few rows to verify data structure\n",
    "print(\"Dataset Preview:\\n\", df.head())"
   ]
  },
  {
   "cell_type": "code",
   "execution_count": 3,
   "id": "01d82a33-1984-44ba-84d6-36ca0878f8f7",
   "metadata": {},
   "outputs": [
    {
     "name": "stdout",
     "output_type": "stream",
     "text": [
      "Dataset shape after dropping missing values: (891, 9)\n"
     ]
    }
   ],
   "source": [
    "# Step 2: Drop rows with missing values in critical columns\n",
    "\n",
    "df = df.dropna(subset=['gender', 'pclass', 'survived'])  # Remove rows with NaN in specified columns\n",
    "\n",
    "# Display dataset shape after removal for verification\n",
    "print(f\"Dataset shape after dropping missing values: {df.shape}\")"
   ]
  },
  {
   "cell_type": "code",
   "execution_count": 4,
   "id": "4f82e151-7408-479a-9caa-560f51c931e9",
   "metadata": {},
   "outputs": [
    {
     "name": "stdout",
     "output_type": "stream",
     "text": [
      "Total records in the dataset: 891\n"
     ]
    }
   ],
   "source": [
    "# Step 3: Compute total number of records in the dataset\n",
    "\n",
    "total = len(df)  # Get the number of rows (records) in the DataFrame\n",
    "\n",
    "# Print the total count for verification\n",
    "print(f\"Total records in the dataset: {total}\")"
   ]
  },
  {
   "cell_type": "code",
   "execution_count": 5,
   "id": "03de53b5-4ca2-4c83-9aac-7de6bd03c7ce",
   "metadata": {},
   "outputs": [
    {
     "name": "stdout",
     "output_type": "stream",
     "text": [
      "Prior Probability of Survival (P(survived=1)): 0.3838\n",
      "Prior Probability of Not Surviving (P(survived=0)): 0.6162\n"
     ]
    }
   ],
   "source": [
    "# Step 4: Compute Prior Probabilities for Survival Outcomes\n",
    "\n",
    "# Probability of survival (P(survived=1))\n",
    "p_survived_1 = len(df[df['survived'] == 1]) / total  \n",
    "\n",
    "# Probability of not surviving (P(survived=0))\n",
    "p_survived_0 = len(df[df['survived'] == 0]) / total  \n",
    "\n",
    "# Print probabilities for verification\n",
    "print(f\"Prior Probability of Survival (P(survived=1)): {p_survived_1:.4f}\")\n",
    "print(f\"Prior Probability of Not Surviving (P(survived=0)): {p_survived_0:.4f}\")"
   ]
  },
  {
   "cell_type": "code",
   "execution_count": 6,
   "id": "359d5d93-ce00-438a-8c34-f69cb0b9ac54",
   "metadata": {},
   "outputs": [
    {
     "name": "stdout",
     "output_type": "stream",
     "text": [
      "P(gender = 'female' | survived = 1): 0.6813\n"
     ]
    }
   ],
   "source": [
    "# Step 4: Compute Conditional Probability P(gender = 'female' | survived = 1)\n",
    "\n",
    "# Count the number of females who survived\n",
    "num_female_survived = len(df[(df['gender'] == 'female') & (df['survived'] == 1)])\n",
    "\n",
    "# Count the total number of survivors\n",
    "num_survived = len(df[df['survived'] == 1])\n",
    "\n",
    "# Compute conditional probability\n",
    "p_female_given_1 = num_female_survived / num_survived\n",
    "\n",
    "# Print result\n",
    "print(f\"P(gender = 'female' | survived = 1): {p_female_given_1:.4f}\")"
   ]
  },
  {
   "cell_type": "code",
   "execution_count": 7,
   "id": "0b38b16d-9532-4d5c-986e-b5bc01165dec",
   "metadata": {},
   "outputs": [
    {
     "name": "stdout",
     "output_type": "stream",
     "text": [
      "P(pclass = 2 | survived = 1): 0.2544\n"
     ]
    }
   ],
   "source": [
    "# Step 5: Compute Conditional Probability P(pclass = 2 | survived = 1)\n",
    "\n",
    "# Probability that a passenger was in 2nd class given they survived\n",
    "p_pclass2_given_1 = len(df[(df['pclass'] == 2) & (df['survived'] == 1)]) / len(df[df['survived'] == 1])\n",
    "\n",
    "# Print computed probability for verification\n",
    "print(f\"P(pclass = 2 | survived = 1): {p_pclass2_given_1:.4f}\")"
   ]
  },
  {
   "cell_type": "code",
   "execution_count": 8,
   "id": "cda868c0-5151-4d69-903c-61e5d3a09ec2",
   "metadata": {},
   "outputs": [
    {
     "name": "stdout",
     "output_type": "stream",
     "text": [
      "P(gender = 'female' | survived = 0): 0.1475\n"
     ]
    }
   ],
   "source": [
    "# Step 5: Compute Conditional Probability P(gender = 'female' | survived = 0)\n",
    "\n",
    "# Count the number of females who did not survive\n",
    "num_female_not_survived = len(df[(df['gender'] == 'female') & (df['survived'] == 0)])\n",
    "\n",
    "# Count the total number of non-survivors\n",
    "num_not_survived = len(df[df['survived'] == 0])\n",
    "\n",
    "# Compute conditional probability\n",
    "p_female_given_0 = num_female_not_survived / num_not_survived\n",
    "\n",
    "# Print result\n",
    "print(f\"P(gender = 'female' | survived = 0): {p_female_given_0:.4f}\")"
   ]
  },
  {
   "cell_type": "code",
   "execution_count": 9,
   "id": "552e2606-1227-4e93-b9db-98ee6be46c9f",
   "metadata": {},
   "outputs": [
    {
     "name": "stdout",
     "output_type": "stream",
     "text": [
      "P(pclass = 2 | survived = 0): 0.1767\n"
     ]
    }
   ],
   "source": [
    "# Step 6: Compute Conditional Probability P(pclass = 2 | survived = 0)\n",
    "\n",
    "# Count the number of non-survivors in second-class (pclass = 2)\n",
    "num_pclass2_not_survived = len(df[(df['pclass'] == 2) & (df['survived'] == 0)])\n",
    "\n",
    "# Count the total number of non-survivors\n",
    "num_not_survived = len(df[df['survived'] == 0])\n",
    "\n",
    "# Compute conditional probability\n",
    "p_pclass2_given_0 = num_pclass2_not_survived / num_not_survived\n",
    "\n",
    "# Print result\n",
    "print(f\"P(pclass = 2 | survived = 0): {p_pclass2_given_0:.4f}\")"
   ]
  },
  {
   "cell_type": "code",
   "execution_count": 10,
   "id": "8c5f55a3-f88c-40b3-aff9-0c6d4830cb87",
   "metadata": {},
   "outputs": [
    {
     "name": "stdout",
     "output_type": "stream",
     "text": [
      "P(x | Survived = 1) * P(Survived = 1): 0.0665\n"
     ]
    }
   ],
   "source": [
    "# Step 7: Compute Naïve Bayes Probability P(x | Survived = 1) * P(Survived = 1)\n",
    "\n",
    "# Define prior probability: P(Survived = 1)\n",
    "p_survived_1 = len(df[df['survived'] == 1]) / total\n",
    "\n",
    "# Compute likelihood terms: P(x | Survived = 1)\n",
    "px_given_1 = p_female_given_1 * p_pclass2_given_1 * p_survived_1\n",
    "\n",
    "# Print result\n",
    "print(f\"P(x | Survived = 1) * P(Survived = 1): {px_given_1:.4f}\")"
   ]
  },
  {
   "cell_type": "code",
   "execution_count": 11,
   "id": "64fcf671-b1e5-48e0-9925-3b4dce8d8f3a",
   "metadata": {},
   "outputs": [
    {
     "name": "stdout",
     "output_type": "stream",
     "text": [
      "P(x | Survived = 0) * P(Survived = 0): 0.0161\n"
     ]
    }
   ],
   "source": [
    "# Step 8: Compute Naïve Bayes Probability P(x | Survived = 0) * P(Survived = 0)\n",
    "\n",
    "# Define prior probability: P(Survived = 0)\n",
    "p_survived_0 = len(df[df['survived'] == 0]) / total  # Probability of not surviving\n",
    "\n",
    "# Compute likelihood terms: P(x | Survived = 0)\n",
    "px_given_0 = p_female_given_0 * p_pclass2_given_0 * p_survived_0\n",
    "\n",
    "# Print result\n",
    "print(f\"P(x | Survived = 0) * P(Survived = 0): {px_given_0:.4f}\")"
   ]
  },
  {
   "cell_type": "code",
   "execution_count": 12,
   "id": "ce461ab5-6027-4f3e-9f18-742e9936b228",
   "metadata": {},
   "outputs": [
    {
     "name": "stdout",
     "output_type": "stream",
     "text": [
      "P(Survived = 1 | x): 0.8055\n",
      "P(Survived = 0 | x): 0.1945\n"
     ]
    }
   ],
   "source": [
    "# Step 9: Normalize Probabilities to Ensure They Sum to 1\n",
    "\n",
    "# Compute total probability (denominator for normalization)\n",
    "total_prob = px_given_1 + px_given_0  # Sum of both probabilities\n",
    "\n",
    "# Compute final probabilities (posterior probabilities)\n",
    "final_survived_1 = px_given_1 / total_prob  # Probability of survival\n",
    "final_survived_0 = px_given_0 / total_prob  # Probability of non-survival\n",
    "\n",
    "# Print final normalized probabilities\n",
    "print(f\"P(Survived = 1 | x): {final_survived_1:.4f}\")  # Probability of survival\n",
    "print(f\"P(Survived = 0 | x): {final_survived_0:.4f}\")  # Probability of non-survival"
   ]
  },
  {
   "cell_type": "code",
   "execution_count": 13,
   "id": "ccb46e5b-7745-4dc0-9488-89fac302b81c",
   "metadata": {},
   "outputs": [
    {
     "name": "stdout",
     "output_type": "stream",
     "text": [
      "P(Survived = 1 | x) = 0.8055\n",
      "P(Survived = 0 | x) = 0.1945\n"
     ]
    }
   ],
   "source": [
    "# Step 10: Display Final Posterior Probabilities\n",
    "\n",
    "# Print normalized survival probabilities\n",
    "print(f\"P(Survived = 1 | x) = {final_survived_1:.4f}\")  # Probability of survival given features\n",
    "print(f\"P(Survived = 0 | x) = {final_survived_0:.4f}\")  # Probability of non-survival given features"
   ]
  }
 ],
 "metadata": {
  "kernelspec": {
   "display_name": "Python 3 (ipykernel)",
   "language": "python",
   "name": "python3"
  },
  "language_info": {
   "codemirror_mode": {
    "name": "ipython",
    "version": 3
   },
   "file_extension": ".py",
   "mimetype": "text/x-python",
   "name": "python",
   "nbconvert_exporter": "python",
   "pygments_lexer": "ipython3",
   "version": "3.12.7"
  }
 },
 "nbformat": 4,
 "nbformat_minor": 5
}
