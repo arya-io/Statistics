{
 "cells": [
  {
   "cell_type": "code",
   "execution_count": 1,
   "id": "170792c2-af4a-4efb-9281-7ae3015c5ac2",
   "metadata": {},
   "outputs": [
    {
     "name": "stdout",
     "output_type": "stream",
     "text": [
      "Libraries successfully loaded!\n"
     ]
    }
   ],
   "source": [
    "# Step 1: Import necessary libraries for data handling, preprocessing, and modeling\n",
    "\n",
    "import pandas as pd  # Data manipulation\n",
    "import numpy as np  # Numerical operations\n",
    "from sklearn.model_selection import train_test_split  # Splitting data\n",
    "from sklearn.preprocessing import StandardScaler, MinMaxScaler  # Feature scaling\n",
    "from sklearn.naive_bayes import GaussianNB  # Naïve Bayes classifier\n",
    "from sklearn.metrics import accuracy_score, precision_score, recall_score, f1_score, confusion_matrix, classification_report  # Evaluation metrics\n",
    "import seaborn as sns  # Visualization\n",
    "import matplotlib.pyplot as plt  # Plotting\n",
    "\n",
    "# Confirm successful import\n",
    "print(\"Libraries successfully loaded!\")"
   ]
  },
  {
   "cell_type": "code",
   "execution_count": 2,
   "id": "08be31c2-ae88-4f42-90e2-115241a40e64",
   "metadata": {},
   "outputs": [
    {
     "data": {
      "text/html": [
       "<div>\n",
       "<style scoped>\n",
       "    .dataframe tbody tr th:only-of-type {\n",
       "        vertical-align: middle;\n",
       "    }\n",
       "\n",
       "    .dataframe tbody tr th {\n",
       "        vertical-align: top;\n",
       "    }\n",
       "\n",
       "    .dataframe thead th {\n",
       "        text-align: right;\n",
       "    }\n",
       "</style>\n",
       "<table border=\"1\" class=\"dataframe\">\n",
       "  <thead>\n",
       "    <tr style=\"text-align: right;\">\n",
       "      <th></th>\n",
       "      <th>Pregnancies</th>\n",
       "      <th>Glucose</th>\n",
       "      <th>BloodPressure</th>\n",
       "      <th>SkinThickness</th>\n",
       "      <th>Insulin</th>\n",
       "      <th>BMI</th>\n",
       "      <th>DiabetesPedigreeFunction</th>\n",
       "      <th>Age</th>\n",
       "      <th>Outcome</th>\n",
       "    </tr>\n",
       "  </thead>\n",
       "  <tbody>\n",
       "    <tr>\n",
       "      <th>0</th>\n",
       "      <td>6</td>\n",
       "      <td>148</td>\n",
       "      <td>72</td>\n",
       "      <td>35</td>\n",
       "      <td>0</td>\n",
       "      <td>33.6</td>\n",
       "      <td>0.627</td>\n",
       "      <td>50</td>\n",
       "      <td>1</td>\n",
       "    </tr>\n",
       "    <tr>\n",
       "      <th>1</th>\n",
       "      <td>1</td>\n",
       "      <td>85</td>\n",
       "      <td>66</td>\n",
       "      <td>29</td>\n",
       "      <td>0</td>\n",
       "      <td>26.6</td>\n",
       "      <td>0.351</td>\n",
       "      <td>31</td>\n",
       "      <td>0</td>\n",
       "    </tr>\n",
       "  </tbody>\n",
       "</table>\n",
       "</div>"
      ],
      "text/plain": [
       "   Pregnancies  Glucose  BloodPressure  SkinThickness  Insulin   BMI  \\\n",
       "0            6      148             72             35        0  33.6   \n",
       "1            1       85             66             29        0  26.6   \n",
       "\n",
       "   DiabetesPedigreeFunction  Age  Outcome  \n",
       "0                     0.627   50        1  \n",
       "1                     0.351   31        0  "
      ]
     },
     "execution_count": 2,
     "metadata": {},
     "output_type": "execute_result"
    }
   ],
   "source": [
    "# Step 2: Load the Diabetes dataset\n",
    "\n",
    "df = pd.read_csv(\"C:/Users/dbda.STUDENTSDC/Music/LabPractice/Notebooks/Datasets/Diabetes.csv\")  # Load dataset\n",
    "\n",
    "# Display first two rows for verification\n",
    "df.head(2)"
   ]
  },
  {
   "cell_type": "code",
   "execution_count": 3,
   "id": "870599da-899b-430b-ae50-280a548eb4c5",
   "metadata": {},
   "outputs": [
    {
     "name": "stdout",
     "output_type": "stream",
     "text": [
      "Features for Standard Scaling: ['Pregnancies', 'Glucose', 'BloodPressure', 'DiabetesPedigreeFunction', 'Age']\n",
      "Features for Min-Max Scaling: ['SkinThickness', 'Insulin', 'BMI']\n"
     ]
    }
   ],
   "source": [
    "# Step 3: Define Columns for Scaling\n",
    "\n",
    "# StandardScaler: Used for features with varied ranges or normal distribution\n",
    "standard_scaler_cols = ['Pregnancies', 'Glucose', 'BloodPressure', 'DiabetesPedigreeFunction', 'Age']\n",
    "\n",
    "# MinMaxScaler: Used for features that benefit from range normalization\n",
    "min_max_scaler_cols = ['SkinThickness', 'Insulin', 'BMI']\n",
    "\n",
    "# Print selected columns for verification\n",
    "print(\"Features for Standard Scaling:\", standard_scaler_cols)\n",
    "print(\"Features for Min-Max Scaling:\", min_max_scaler_cols)"
   ]
  },
  {
   "cell_type": "code",
   "execution_count": 4,
   "id": "afdaf08a-eb04-498c-b866-9be573e361c2",
   "metadata": {},
   "outputs": [
    {
     "name": "stdout",
     "output_type": "stream",
     "text": [
      "Standard scaling applied to: ['Pregnancies', 'Glucose', 'BloodPressure', 'DiabetesPedigreeFunction', 'Age']\n"
     ]
    }
   ],
   "source": [
    "# Step 4: Apply Standard Scaling to Selected Features\n",
    "\n",
    "# Initialize StandardScaler\n",
    "standard_scaler = StandardScaler()\n",
    "\n",
    "# Fit and transform the selected features\n",
    "df[standard_scaler_cols] = standard_scaler.fit_transform(df[standard_scaler_cols])\n",
    "\n",
    "# Print confirmation message\n",
    "print(\"Standard scaling applied to:\", standard_scaler_cols)"
   ]
  },
  {
   "cell_type": "code",
   "execution_count": 5,
   "id": "01cd05e1-1fdb-4abb-938e-2bdacb6114f2",
   "metadata": {},
   "outputs": [
    {
     "name": "stdout",
     "output_type": "stream",
     "text": [
      "Min-Max scaling applied to: ['SkinThickness', 'Insulin', 'BMI']\n"
     ]
    }
   ],
   "source": [
    "# Step 5: Apply Min-Max Scaling to Selected Features\n",
    "\n",
    "# Initialize MinMaxScaler\n",
    "min_max_scaler = MinMaxScaler()\n",
    "\n",
    "# Fit and transform the selected features\n",
    "df[min_max_scaler_cols] = min_max_scaler.fit_transform(df[min_max_scaler_cols])\n",
    "\n",
    "# Print confirmation message\n",
    "print(\"Min-Max scaling applied to:\", min_max_scaler_cols)"
   ]
  },
  {
   "cell_type": "code",
   "execution_count": 6,
   "id": "110fa596-0f36-467d-93d0-912c29e6a4de",
   "metadata": {},
   "outputs": [
    {
     "name": "stdout",
     "output_type": "stream",
     "text": [
      "   Pregnancies   Glucose  BloodPressure  SkinThickness  Insulin       BMI  \\\n",
      "0     0.639947  0.848324       0.149641       0.353535      0.0  0.500745   \n",
      "1    -0.844885 -1.123396      -0.160546       0.292929      0.0  0.396423   \n",
      "\n",
      "   DiabetesPedigreeFunction       Age  Outcome  \n",
      "0                  0.468492  1.425995        1  \n",
      "1                 -0.365061 -0.190672        0  \n"
     ]
    }
   ],
   "source": [
    "# Step 5: Temporarily Display All Columns in DataFrame\n",
    "\n",
    "pd.set_option('display.max_columns', None)  # Show all columns\n",
    "print(df.head(2))  # Display first two rows\n",
    "\n",
    "pd.reset_option(\"display.max_columns\")  # Reset column display setting"
   ]
  },
  {
   "cell_type": "code",
   "execution_count": 7,
   "id": "5c0be333-3208-4f37-83ed-39ec9aef63c0",
   "metadata": {},
   "outputs": [
    {
     "name": "stdout",
     "output_type": "stream",
     "text": [
      "Features (X) and Target (y) successfully defined!\n"
     ]
    }
   ],
   "source": [
    "# Step 6: Define Features and Target Variable\n",
    "\n",
    "# Features (Independent Variables)\n",
    "X = df.drop('Outcome', axis=1)  # Remove 'Outcome' column, keeping all other features\n",
    "\n",
    "# Target (Dependent Variable)\n",
    "y = df['Outcome']  # Extract 'Outcome' column as the target variable\n",
    "\n",
    "# Print confirmation\n",
    "print(\"Features (X) and Target (y) successfully defined!\")"
   ]
  },
  {
   "cell_type": "code",
   "execution_count": 8,
   "id": "2e2cb64f-a220-4213-84f1-cade48372f22",
   "metadata": {},
   "outputs": [
    {
     "name": "stdout",
     "output_type": "stream",
     "text": [
      "Training set: (614, 8), (614,)\n",
      "Testing set: (154, 8), (154,)\n"
     ]
    }
   ],
   "source": [
    "# Step 6: Split the Data into Training and Testing Sets\n",
    "\n",
    "from sklearn.model_selection import train_test_split  # Import function for data splitting\n",
    "\n",
    "# Perform train-test split with 80% training and 20% testing\n",
    "X_train, X_test, y_train, y_test = train_test_split(X, y, test_size=0.2, random_state=42)\n",
    "\n",
    "# Print dataset sizes for verification\n",
    "print(f\"Training set: {X_train.shape}, {y_train.shape}\")\n",
    "print(f\"Testing set: {X_test.shape}, {y_test.shape}\")"
   ]
  },
  {
   "cell_type": "code",
   "execution_count": 9,
   "id": "68379e4e-6b19-48ce-8053-867cbc233665",
   "metadata": {},
   "outputs": [
    {
     "name": "stdout",
     "output_type": "stream",
     "text": [
      "Naïve Bayes model successfully trained!\n"
     ]
    }
   ],
   "source": [
    "# Step 7: Train Naïve Bayes Model\n",
    "\n",
    "# Initialize the Gaussian Naïve Bayes classifier\n",
    "model = GaussianNB()\n",
    "\n",
    "# Train the model using the training data\n",
    "model.fit(X_train, y_train)\n",
    "\n",
    "# Print confirmation\n",
    "print(\"Naïve Bayes model successfully trained!\")"
   ]
  },
  {
   "cell_type": "code",
   "execution_count": 10,
   "id": "2bc15725-dbe6-4f3e-bc50-35c2977503e6",
   "metadata": {},
   "outputs": [
    {
     "name": "stdout",
     "output_type": "stream",
     "text": [
      "Predicted values:\n",
      " [0 0 0 0 1 1 0 1 0 1]\n"
     ]
    }
   ],
   "source": [
    "# Step 7: Make Predictions on Test Set\n",
    "\n",
    "# Perform prediction using the trained model\n",
    "y_pred = model.predict(X_test)\n",
    "\n",
    "# Display first few predictions for verification\n",
    "print(\"Predicted values:\\n\", y_pred[:10])  # Show first 10 predictions"
   ]
  },
  {
   "cell_type": "code",
   "execution_count": 11,
   "id": "d8b57ee9-f7f4-4577-84fc-61c33dcaa2bb",
   "metadata": {},
   "outputs": [
    {
     "name": "stdout",
     "output_type": "stream",
     "text": [
      "Accuracy: 0.7662\n",
      "Precision: 0.6610\n",
      "Recall: 0.7091\n",
      "F1 Score: 0.6842\n",
      "\n",
      "Confusion Matrix:\n",
      "[[79 20]\n",
      " [16 39]]\n"
     ]
    }
   ],
   "source": [
    "# Step 8: Compute Model Evaluation Metrics\n",
    "\n",
    "# Calculate accuracy, precision, recall, and F1-score\n",
    "accuracy = accuracy_score(y_test, y_pred)   # Overall correctness of the model\n",
    "precision = precision_score(y_test, y_pred) # TP / (TP + FP) - How precise are positive predictions?\n",
    "recall = recall_score(y_test, y_pred)       # TP / (TP + FN) - How well does the model detect actual positives?\n",
    "f1 = f1_score(y_test, y_pred)               # Harmonic mean of precision and recall\n",
    "\n",
    "# Compute confusion matrix\n",
    "conf_matrix = confusion_matrix(y_test, y_pred)\n",
    "\n",
    "# Print evaluation results\n",
    "print(f\"Accuracy: {accuracy:.4f}\")      # Measures overall classification correctness\n",
    "print(f\"Precision: {precision:.4f}\")    # Evaluates positive predictions accuracy\n",
    "print(f\"Recall: {recall:.4f}\")          # Measures sensitivity in detecting true positives\n",
    "print(f\"F1 Score: {f1:.4f}\")            # Balances precision and recall\n",
    "print(\"\\nConfusion Matrix:\")\n",
    "print(conf_matrix)"
   ]
  },
  {
   "cell_type": "code",
   "execution_count": 12,
   "id": "a1f975f2-b40e-4b2f-876d-d0fb6d71a6b2",
   "metadata": {},
   "outputs": [
    {
     "name": "stdout",
     "output_type": "stream",
     "text": [
      "Model Performance Metrics:\n",
      "Accuracy: 0.77\n",
      "Precision: 0.66\n",
      "Recall: 0.71\n",
      "F1 Score: 0.68\n",
      "\n",
      "Classification Report:\n",
      "               precision    recall  f1-score   support\n",
      "\n",
      "           0       0.83      0.80      0.81        99\n",
      "           1       0.66      0.71      0.68        55\n",
      "\n",
      "    accuracy                           0.77       154\n",
      "   macro avg       0.75      0.75      0.75       154\n",
      "weighted avg       0.77      0.77      0.77       154\n",
      "\n",
      "Confusion Matrix:\n",
      " [[79 20]\n",
      " [16 39]]\n"
     ]
    }
   ],
   "source": [
    "# Step 8: Display Model Performance Metrics\n",
    "\n",
    "print(\"Model Performance Metrics:\")\n",
    "print(f\"Accuracy: {accuracy:.2f}\")   # Measures overall correctness of predictions\n",
    "print(f\"Precision: {precision:.2f}\") # TP / (TP + FP) - How precise are the positive predictions?\n",
    "print(f\"Recall: {recall:.2f}\")       # TP / (TP + FN) - How well does the model detect actual positives?\n",
    "print(f\"F1 Score: {f1:.2f}\\n\")       # Balances precision and recall\n",
    "\n",
    "# Print detailed classification report for additional insights\n",
    "print(\"Classification Report:\\n\", classification_report(y_test, y_pred))\n",
    "\n",
    "# Print confusion matrix to visualize misclassifications\n",
    "print(\"Confusion Matrix:\\n\", conf_matrix)"
   ]
  },
  {
   "cell_type": "code",
   "execution_count": 13,
   "id": "dba03d2e-8321-4557-a54e-ce6bed86b8da",
   "metadata": {},
   "outputs": [
    {
     "name": "stdout",
     "output_type": "stream",
     "text": [
      "\n",
      "Predicted vs Actual Outcomes (Test Set):\n",
      "Actual: 0, Predicted: 0\n",
      "Actual: 0, Predicted: 0\n",
      "Actual: 0, Predicted: 0\n",
      "Actual: 0, Predicted: 0\n",
      "Actual: 0, Predicted: 1\n",
      "Actual: 0, Predicted: 1\n",
      "Actual: 0, Predicted: 0\n",
      "Actual: 0, Predicted: 1\n",
      "Actual: 0, Predicted: 0\n",
      "Actual: 0, Predicted: 1\n",
      "Actual: 1, Predicted: 0\n",
      "Actual: 0, Predicted: 1\n",
      "Actual: 1, Predicted: 1\n",
      "Actual: 0, Predicted: 0\n",
      "Actual: 0, Predicted: 0\n",
      "Actual: 1, Predicted: 0\n",
      "Actual: 0, Predicted: 0\n",
      "Actual: 0, Predicted: 0\n",
      "Actual: 1, Predicted: 1\n",
      "Actual: 1, Predicted: 0\n",
      "Actual: 0, Predicted: 0\n",
      "Actual: 0, Predicted: 0\n",
      "Actual: 0, Predicted: 1\n",
      "Actual: 0, Predicted: 0\n",
      "Actual: 0, Predicted: 1\n",
      "Actual: 1, Predicted: 1\n",
      "Actual: 0, Predicted: 0\n",
      "Actual: 0, Predicted: 0\n",
      "Actual: 1, Predicted: 0\n",
      "Actual: 0, Predicted: 0\n",
      "Actual: 1, Predicted: 1\n",
      "Actual: 1, Predicted: 1\n",
      "Actual: 1, Predicted: 1\n",
      "Actual: 1, Predicted: 1\n",
      "Actual: 0, Predicted: 1\n",
      "Actual: 1, Predicted: 1\n",
      "Actual: 1, Predicted: 1\n",
      "Actual: 1, Predicted: 0\n",
      "Actual: 0, Predicted: 1\n",
      "Actual: 1, Predicted: 0\n",
      "Actual: 0, Predicted: 0\n",
      "Actual: 0, Predicted: 0\n",
      "Actual: 0, Predicted: 0\n",
      "Actual: 1, Predicted: 1\n",
      "Actual: 0, Predicted: 0\n",
      "Actual: 1, Predicted: 1\n",
      "Actual: 1, Predicted: 1\n",
      "Actual: 0, Predicted: 0\n",
      "Actual: 0, Predicted: 0\n",
      "Actual: 0, Predicted: 1\n",
      "Actual: 0, Predicted: 0\n",
      "Actual: 1, Predicted: 1\n",
      "Actual: 1, Predicted: 1\n",
      "Actual: 1, Predicted: 0\n",
      "Actual: 0, Predicted: 0\n",
      "Actual: 0, Predicted: 0\n",
      "Actual: 0, Predicted: 1\n",
      "Actual: 0, Predicted: 0\n",
      "Actual: 0, Predicted: 0\n",
      "Actual: 1, Predicted: 1\n",
      "Actual: 1, Predicted: 1\n",
      "Actual: 0, Predicted: 0\n",
      "Actual: 0, Predicted: 1\n",
      "Actual: 1, Predicted: 1\n",
      "Actual: 0, Predicted: 0\n",
      "Actual: 0, Predicted: 1\n",
      "Actual: 0, Predicted: 0\n",
      "Actual: 1, Predicted: 1\n",
      "Actual: 0, Predicted: 0\n",
      "Actual: 1, Predicted: 1\n",
      "Actual: 0, Predicted: 1\n",
      "Actual: 0, Predicted: 0\n",
      "Actual: 0, Predicted: 0\n",
      "Actual: 1, Predicted: 0\n",
      "Actual: 0, Predicted: 0\n",
      "Actual: 0, Predicted: 1\n",
      "Actual: 0, Predicted: 0\n",
      "Actual: 0, Predicted: 0\n",
      "Actual: 0, Predicted: 0\n",
      "Actual: 0, Predicted: 0\n",
      "Actual: 1, Predicted: 1\n",
      "Actual: 1, Predicted: 0\n",
      "Actual: 0, Predicted: 0\n",
      "Actual: 0, Predicted: 0\n",
      "Actual: 0, Predicted: 0\n",
      "Actual: 1, Predicted: 1\n",
      "Actual: 1, Predicted: 1\n",
      "Actual: 1, Predicted: 0\n",
      "Actual: 0, Predicted: 0\n",
      "Actual: 0, Predicted: 0\n",
      "Actual: 0, Predicted: 0\n",
      "Actual: 0, Predicted: 0\n",
      "Actual: 0, Predicted: 0\n",
      "Actual: 1, Predicted: 0\n",
      "Actual: 0, Predicted: 0\n",
      "Actual: 0, Predicted: 0\n",
      "Actual: 0, Predicted: 0\n",
      "Actual: 0, Predicted: 0\n",
      "Actual: 1, Predicted: 1\n",
      "Actual: 0, Predicted: 0\n",
      "Actual: 0, Predicted: 1\n",
      "Actual: 0, Predicted: 0\n",
      "Actual: 1, Predicted: 1\n",
      "Actual: 0, Predicted: 0\n",
      "Actual: 1, Predicted: 1\n",
      "Actual: 0, Predicted: 0\n",
      "Actual: 0, Predicted: 0\n",
      "Actual: 1, Predicted: 1\n",
      "Actual: 1, Predicted: 0\n",
      "Actual: 1, Predicted: 1\n",
      "Actual: 0, Predicted: 0\n",
      "Actual: 0, Predicted: 0\n",
      "Actual: 0, Predicted: 0\n",
      "Actual: 1, Predicted: 1\n",
      "Actual: 0, Predicted: 0\n",
      "Actual: 0, Predicted: 0\n",
      "Actual: 1, Predicted: 1\n",
      "Actual: 0, Predicted: 0\n",
      "Actual: 0, Predicted: 0\n",
      "Actual: 0, Predicted: 1\n",
      "Actual: 0, Predicted: 0\n",
      "Actual: 0, Predicted: 0\n",
      "Actual: 1, Predicted: 0\n",
      "Actual: 0, Predicted: 0\n",
      "Actual: 0, Predicted: 0\n",
      "Actual: 0, Predicted: 1\n",
      "Actual: 1, Predicted: 0\n",
      "Actual: 1, Predicted: 1\n",
      "Actual: 1, Predicted: 1\n",
      "Actual: 0, Predicted: 1\n",
      "Actual: 1, Predicted: 1\n",
      "Actual: 1, Predicted: 1\n",
      "Actual: 0, Predicted: 0\n",
      "Actual: 1, Predicted: 1\n",
      "Actual: 1, Predicted: 1\n",
      "Actual: 0, Predicted: 0\n",
      "Actual: 1, Predicted: 0\n",
      "Actual: 1, Predicted: 1\n",
      "Actual: 1, Predicted: 1\n",
      "Actual: 0, Predicted: 0\n",
      "Actual: 0, Predicted: 0\n",
      "Actual: 0, Predicted: 0\n",
      "Actual: 0, Predicted: 0\n",
      "Actual: 0, Predicted: 1\n",
      "Actual: 0, Predicted: 0\n",
      "Actual: 0, Predicted: 0\n",
      "Actual: 1, Predicted: 0\n",
      "Actual: 0, Predicted: 0\n",
      "Actual: 0, Predicted: 0\n",
      "Actual: 1, Predicted: 1\n",
      "Actual: 0, Predicted: 0\n",
      "Actual: 0, Predicted: 0\n",
      "Actual: 1, Predicted: 1\n",
      "Actual: 0, Predicted: 0\n"
     ]
    }
   ],
   "source": [
    "# Step 9: Compare Predicted vs. Actual Outcomes for Test Set\n",
    "\n",
    "print(\"\\nPredicted vs Actual Outcomes (Test Set):\")\n",
    "\n",
    "# Iterate through actual and predicted values\n",
    "for actual, predicted in zip(y_test, y_pred):\n",
    "    print(f\"Actual: {actual}, Predicted: {predicted}\")"
   ]
  }
 ],
 "metadata": {
  "kernelspec": {
   "display_name": "Python 3 (ipykernel)",
   "language": "python",
   "name": "python3"
  },
  "language_info": {
   "codemirror_mode": {
    "name": "ipython",
    "version": 3
   },
   "file_extension": ".py",
   "mimetype": "text/x-python",
   "name": "python",
   "nbconvert_exporter": "python",
   "pygments_lexer": "ipython3",
   "version": "3.12.7"
  }
 },
 "nbformat": 4,
 "nbformat_minor": 5
}
