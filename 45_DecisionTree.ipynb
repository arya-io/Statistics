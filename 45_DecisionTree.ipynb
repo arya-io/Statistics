{
 "cells": [
  {
   "cell_type": "code",
   "execution_count": 1,
   "id": "dedca817-20f6-4098-8184-82bc168ca89d",
   "metadata": {},
   "outputs": [],
   "source": [
    "import pandas as pd\n",
    "from sklearn.impute import SimpleImputer\n",
    "from sklearn.preprocessing import OneHotEncoder, StandardScaler\n",
    "from sklearn.tree import DecisionTreeClassifier\n",
    "from sklearn.tree import export_graphviz\n",
    "from sklearn.model_selection import train_test_split\n",
    "from sklearn import metrics\n",
    "from sklearn.metrics import confusion_matrix"
   ]
  },
  {
   "cell_type": "code",
   "execution_count": 2,
   "id": "549c0233-4bbb-40b4-9048-bd33696df472",
   "metadata": {},
   "outputs": [
    {
     "data": {
      "text/html": [
       "<div>\n",
       "<style scoped>\n",
       "    .dataframe tbody tr th:only-of-type {\n",
       "        vertical-align: middle;\n",
       "    }\n",
       "\n",
       "    .dataframe tbody tr th {\n",
       "        vertical-align: top;\n",
       "    }\n",
       "\n",
       "    .dataframe thead th {\n",
       "        text-align: right;\n",
       "    }\n",
       "</style>\n",
       "<table border=\"1\" class=\"dataframe\">\n",
       "  <thead>\n",
       "    <tr style=\"text-align: right;\">\n",
       "      <th></th>\n",
       "      <th>customer_id</th>\n",
       "      <th>credit_score</th>\n",
       "      <th>country</th>\n",
       "      <th>gender</th>\n",
       "      <th>age</th>\n",
       "      <th>tenure</th>\n",
       "      <th>balance</th>\n",
       "      <th>products_number</th>\n",
       "      <th>credit_card</th>\n",
       "      <th>active_member</th>\n",
       "      <th>estimated_salary</th>\n",
       "      <th>churn</th>\n",
       "    </tr>\n",
       "  </thead>\n",
       "  <tbody>\n",
       "    <tr>\n",
       "      <th>0</th>\n",
       "      <td>15634602</td>\n",
       "      <td>619</td>\n",
       "      <td>France</td>\n",
       "      <td>Female</td>\n",
       "      <td>42</td>\n",
       "      <td>2</td>\n",
       "      <td>0.00</td>\n",
       "      <td>1</td>\n",
       "      <td>1</td>\n",
       "      <td>1</td>\n",
       "      <td>101348.88</td>\n",
       "      <td>1</td>\n",
       "    </tr>\n",
       "    <tr>\n",
       "      <th>1</th>\n",
       "      <td>15647311</td>\n",
       "      <td>608</td>\n",
       "      <td>Spain</td>\n",
       "      <td>Female</td>\n",
       "      <td>41</td>\n",
       "      <td>1</td>\n",
       "      <td>83807.86</td>\n",
       "      <td>1</td>\n",
       "      <td>0</td>\n",
       "      <td>1</td>\n",
       "      <td>112542.58</td>\n",
       "      <td>0</td>\n",
       "    </tr>\n",
       "  </tbody>\n",
       "</table>\n",
       "</div>"
      ],
      "text/plain": [
       "   customer_id  credit_score country  gender  age  tenure   balance  \\\n",
       "0     15634602           619  France  Female   42       2      0.00   \n",
       "1     15647311           608   Spain  Female   41       1  83807.86   \n",
       "\n",
       "   products_number  credit_card  active_member  estimated_salary  churn  \n",
       "0                1            1              1         101348.88      1  \n",
       "1                1            0              1         112542.58      0  "
      ]
     },
     "execution_count": 2,
     "metadata": {},
     "output_type": "execute_result"
    }
   ],
   "source": [
    "df = pd.read_csv('Datasets/Bank Customer Churn Prediction.csv')\n",
    "df.head(2)"
   ]
  },
  {
   "cell_type": "code",
   "execution_count": 3,
   "id": "b2436e23-45d9-4f16-b417-563f4942ecce",
   "metadata": {},
   "outputs": [
    {
     "name": "stdout",
     "output_type": "stream",
     "text": [
      "(10000, 12)\n"
     ]
    }
   ],
   "source": [
    "# Drop rows with missing values\n",
    "\n",
    "df = df.dropna()\n",
    "print(df.shape)\n",
    "churn = df['churn'] # We will need this later"
   ]
  },
  {
   "cell_type": "code",
   "execution_count": 7,
   "id": "96d596ac-3144-4145-8e73-d2a3da0fcffa",
   "metadata": {},
   "outputs": [],
   "source": [
    "# Columns to retain\n",
    "\n",
    "no_encoding_scaling_needed_columns = ['credit_card', 'active_member']\n",
    "numerical_cols = ['credit_score', 'age', 'tenure', 'balance', 'estimated_salary']\n",
    "categorical_cols = ['country', 'gender']"
   ]
  },
  {
   "cell_type": "code",
   "execution_count": 8,
   "id": "a81672c1-9e64-4b3a-a9bb-036c23f1419d",
   "metadata": {},
   "outputs": [],
   "source": [
    "# No encoding needed columns\n",
    "\n",
    "no_encoding_needed_df = df[no_encoding_scaling_needed_columns]"
   ]
  },
  {
   "cell_type": "code",
   "execution_count": 9,
   "id": "92fef7c1-e345-4661-b1bd-efb14ef2a7b6",
   "metadata": {},
   "outputs": [],
   "source": [
    "# Handle missing values for numerical columns\n",
    "\n",
    "numerical_data = df[numerical_cols]\n",
    "imputer_num = SimpleImputer(strategy = 'mean')\n",
    "numerical_data = imputer_num.fit_transform(numerical_data)\n",
    "numerical_df = pd.DataFrame(numerical_data, columns = numerical_cols)"
   ]
  },
  {
   "cell_type": "code",
   "execution_count": 10,
   "id": "186a6b5c-5641-4437-a160-0181a84a3d36",
   "metadata": {},
   "outputs": [],
   "source": [
    "# Encode categorical columns\n",
    "\n",
    "categorical_data = df[categorical_cols]\n",
    "encoder = OneHotEncoder(sparse_output = False, handle_unknown = 'ignore')\n",
    "categorical_data = encoder.fit_transform(categorical_data)\n",
    "categorical_df = pd.DataFrame(categorical_data, columns = encoder.get_feature_names_out(categorical_cols))"
   ]
  },
  {
   "cell_type": "code",
   "execution_count": 11,
   "id": "de9d4acb-b67c-4df8-8b43-f339197b244b",
   "metadata": {},
   "outputs": [
    {
     "name": "stdout",
     "output_type": "stream",
     "text": [
      "   credit_card  active_member  credit_score   age  tenure    balance  \\\n",
      "0            1              1         619.0  42.0     2.0       0.00   \n",
      "1            0              1         608.0  41.0     1.0   83807.86   \n",
      "2            1              0         502.0  42.0     8.0  159660.80   \n",
      "3            0              0         699.0  39.0     1.0       0.00   \n",
      "4            1              1         850.0  43.0     2.0  125510.82   \n",
      "\n",
      "   estimated_salary  country_France  country_Germany  country_Spain  \\\n",
      "0         101348.88             1.0              0.0            0.0   \n",
      "1         112542.58             0.0              0.0            1.0   \n",
      "2         113931.57             1.0              0.0            0.0   \n",
      "3          93826.63             1.0              0.0            0.0   \n",
      "4          79084.10             0.0              0.0            1.0   \n",
      "\n",
      "   gender_Female  gender_Male  \n",
      "0            1.0          0.0  \n",
      "1            1.0          0.0  \n",
      "2            1.0          0.0  \n",
      "3            1.0          0.0  \n",
      "4            1.0          0.0  \n"
     ]
    }
   ],
   "source": [
    "# Combine numerical and categorical data using pd.concat\n",
    "\n",
    "combined_data = pd.concat([no_encoding_needed_df, numerical_df, categorical_df], axis = 1)\n",
    "pd.set_option('display.max_columns', None)\n",
    "print(combined_data.head())\n",
    "pd.reset_option(\"display.max_columns\")"
   ]
  },
  {
   "cell_type": "code",
   "execution_count": 12,
   "id": "5fad4344-d83c-4edc-a201-81fc14084e02",
   "metadata": {},
   "outputs": [],
   "source": [
    "# Standardize the data\n",
    "\n",
    "scaler = StandardScaler()\n",
    "combined_data_scaled = scaler.fit_transform(combined_data)"
   ]
  },
  {
   "cell_type": "code",
   "execution_count": 13,
   "id": "e601b27e-7ea8-47bf-a4d2-8e93986b44e0",
   "metadata": {},
   "outputs": [
    {
     "name": "stdout",
     "output_type": "stream",
     "text": [
      "(10000, 12)\n"
     ]
    }
   ],
   "source": [
    "# Standard Scalar outputs a numpy array, so we need to convert it into a DF\n",
    "\n",
    "df = pd.DataFrame(combined_data_scaled, columns = combined_data.columns, index = combined_data.index)\n",
    "print(df.shape)"
   ]
  },
  {
   "cell_type": "code",
   "execution_count": 15,
   "id": "a5a26b73-e1ce-40c2-a9fe-6d86b9bf0b44",
   "metadata": {},
   "outputs": [],
   "source": [
    "# Separate features and target\n",
    "\n",
    "X = df.copy()\n",
    "y = churn"
   ]
  },
  {
   "cell_type": "code",
   "execution_count": 16,
   "id": "7ea9a805-0ac5-4e65-b85b-102740e34789",
   "metadata": {},
   "outputs": [],
   "source": [
    "X_train, X_test, y_train, y_test = train_test_split(X, y, test_size = 0.2, random_state = 1)"
   ]
  },
  {
   "cell_type": "code",
   "execution_count": 23,
   "id": "fa89b870-669a-420a-953a-83fa8640c76e",
   "metadata": {},
   "outputs": [],
   "source": [
    "model = DecisionTreeClassifier()\n",
    "model = model.fit(X_train, y_train)"
   ]
  },
  {
   "cell_type": "code",
   "execution_count": 24,
   "id": "4d8be2b6-1cdc-49c8-b5a5-7b1f23b6bfbd",
   "metadata": {},
   "outputs": [],
   "source": [
    "y_pred = model.predict(X_test)"
   ]
  },
  {
   "cell_type": "code",
   "execution_count": 25,
   "id": "cdc1fc45-b04a-4257-ad5d-f05a2204d68f",
   "metadata": {},
   "outputs": [
    {
     "name": "stdout",
     "output_type": "stream",
     "text": [
      "\n",
      "Predicted vs Actual values:\n",
      "      Actual  Predicted\n",
      "9953       0          1\n",
      "3850       0          0\n",
      "4962       0          0\n",
      "3886       0          0\n",
      "5437       0          0\n",
      "8517       0          0\n",
      "2041       0          0\n",
      "1989       0          0\n",
      "1933       0          0\n",
      "9984       0          0\n",
      "8418       0          0\n",
      "2418       1          0\n",
      "6811       0          0\n",
      "1217       0          0\n",
      "6978       0          0\n",
      "6111       0          0\n",
      "7865       0          0\n",
      "7781       0          0\n",
      "7775       0          0\n",
      "7039       0          0\n"
     ]
    }
   ],
   "source": [
    "# Combine predicted and actual values for comparison\n",
    "\n",
    "comparison_df = pd.DataFrame({'Actual': y_test, 'Predicted': y_pred})\n",
    "print(\"\\nPredicted vs Actual values:\")\n",
    "print(comparison_df.head(20)) # Display the first 20 comparisons"
   ]
  },
  {
   "cell_type": "code",
   "execution_count": 29,
   "id": "94b2fbec-5956-4068-b096-9184d84a3931",
   "metadata": {},
   "outputs": [
    {
     "name": "stdout",
     "output_type": "stream",
     "text": [
      "Confusion Matrix:\n",
      " [[1358  227]\n",
      " [ 238  177]]\n",
      "Accuracy: 0.7675\n"
     ]
    }
   ],
   "source": [
    "print(\"Confusion Matrix:\\n\", confusion_matrix(y_test, y_pred))\n",
    "print(\"Accuracy:\", metrics.accuracy_score(y_test, y_pred))\n",
    "\n",
    "# Save the tree as a DOT file\n",
    "\n",
    "with open(\"bank_tree.dot\", \"w\") as f:\n",
    "    export_graphviz(model, out_file = f, feature_names = combined_data.columns, filled = True)\n",
    "\n",
    "# Google 'dot file editor' and upload this file to see the decision tree"
   ]
  }
 ],
 "metadata": {
  "kernelspec": {
   "display_name": "Python 3 (ipykernel)",
   "language": "python",
   "name": "python3"
  },
  "language_info": {
   "codemirror_mode": {
    "name": "ipython",
    "version": 3
   },
   "file_extension": ".py",
   "mimetype": "text/x-python",
   "name": "python",
   "nbconvert_exporter": "python",
   "pygments_lexer": "ipython3",
   "version": "3.12.7"
  }
 },
 "nbformat": 4,
 "nbformat_minor": 5
}
