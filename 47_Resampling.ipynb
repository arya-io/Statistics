{
 "cells": [
  {
   "cell_type": "code",
   "execution_count": 2,
   "id": "9382cbd7-73a2-449c-9f14-f0041b6b95ad",
   "metadata": {},
   "outputs": [],
   "source": [
    "# Resampling using bootstrapping and k-fold cross validation\n",
    "\n",
    "import pandas as pd\n",
    "import numpy as np\n",
    "from sklearn.model_selection import train_test_split, KFold, cross_val_score, cross_val_predict\n",
    "from sklearn.utils import resample\n",
    "from sklearn.linear_model import LogisticRegression\n",
    "from sklearn.metrics import accuracy_score\n",
    "from sklearn.preprocessing import LabelEncoder\n",
    "import seaborn as sns"
   ]
  },
  {
   "cell_type": "code",
   "execution_count": 3,
   "id": "b5c67b56-d65b-42fb-9e9f-19777d87b3c3",
   "metadata": {},
   "outputs": [],
   "source": [
    "df = pd.read_csv('Datasets/titanic.csv')"
   ]
  },
  {
   "cell_type": "code",
   "execution_count": 4,
   "id": "2624e2e2-fb0a-4884-9f22-a039039ffb78",
   "metadata": {},
   "outputs": [
    {
     "data": {
      "text/html": [
       "<div>\n",
       "<style scoped>\n",
       "    .dataframe tbody tr th:only-of-type {\n",
       "        vertical-align: middle;\n",
       "    }\n",
       "\n",
       "    .dataframe tbody tr th {\n",
       "        vertical-align: top;\n",
       "    }\n",
       "\n",
       "    .dataframe thead th {\n",
       "        text-align: right;\n",
       "    }\n",
       "</style>\n",
       "<table border=\"1\" class=\"dataframe\">\n",
       "  <thead>\n",
       "    <tr style=\"text-align: right;\">\n",
       "      <th></th>\n",
       "      <th>survived</th>\n",
       "      <th>pclass</th>\n",
       "      <th>gender</th>\n",
       "      <th>age</th>\n",
       "      <th>sibsp</th>\n",
       "      <th>parch</th>\n",
       "      <th>fare</th>\n",
       "      <th>embarked</th>\n",
       "      <th>deck</th>\n",
       "    </tr>\n",
       "  </thead>\n",
       "  <tbody>\n",
       "    <tr>\n",
       "      <th>0</th>\n",
       "      <td>0</td>\n",
       "      <td>3</td>\n",
       "      <td>male</td>\n",
       "      <td>22.0</td>\n",
       "      <td>1</td>\n",
       "      <td>0</td>\n",
       "      <td>7.2500</td>\n",
       "      <td>S</td>\n",
       "      <td>NaN</td>\n",
       "    </tr>\n",
       "    <tr>\n",
       "      <th>1</th>\n",
       "      <td>1</td>\n",
       "      <td>1</td>\n",
       "      <td>female</td>\n",
       "      <td>38.0</td>\n",
       "      <td>1</td>\n",
       "      <td>0</td>\n",
       "      <td>71.2833</td>\n",
       "      <td>C</td>\n",
       "      <td>C</td>\n",
       "    </tr>\n",
       "  </tbody>\n",
       "</table>\n",
       "</div>"
      ],
      "text/plain": [
       "   survived  pclass  gender   age  sibsp  parch     fare embarked deck\n",
       "0         0       3    male  22.0      1      0   7.2500        S  NaN\n",
       "1         1       1  female  38.0      1      0  71.2833        C    C"
      ]
     },
     "execution_count": 4,
     "metadata": {},
     "output_type": "execute_result"
    }
   ],
   "source": [
    "df.head(2)"
   ]
  },
  {
   "cell_type": "code",
   "execution_count": 5,
   "id": "a47f1efe-e767-4d9b-b4a5-3c0b6653ec98",
   "metadata": {},
   "outputs": [],
   "source": [
    "df = df[['survived', 'pclass', 'gender', 'age', 'sibsp', 'fare']].dropna()"
   ]
  },
  {
   "cell_type": "code",
   "execution_count": 8,
   "id": "d3106338-d18b-4f3e-9ea3-c727344980e8",
   "metadata": {},
   "outputs": [
    {
     "data": {
      "text/plain": [
       "0      1\n",
       "1      0\n",
       "2      0\n",
       "3      0\n",
       "4      1\n",
       "      ..\n",
       "885    0\n",
       "886    1\n",
       "887    0\n",
       "889    1\n",
       "890    1\n",
       "Name: gender, Length: 714, dtype: int64"
      ]
     },
     "execution_count": 8,
     "metadata": {},
     "output_type": "execute_result"
    }
   ],
   "source": [
    "le = LabelEncoder()\n",
    "df['gender'] = le.fit_transform(df['gender'])\n",
    "df['gender']"
   ]
  },
  {
   "cell_type": "code",
   "execution_count": 10,
   "id": "02739ba7-d2f6-414a-8923-2132a73fa595",
   "metadata": {},
   "outputs": [],
   "source": [
    "X = df.drop('survived', axis = 1)\n",
    "y = df['survived']"
   ]
  },
  {
   "cell_type": "code",
   "execution_count": 13,
   "id": "4901b794-fadd-4b58-9ae8-24451aa5b0ad",
   "metadata": {},
   "outputs": [
    {
     "name": "stdout",
     "output_type": "stream",
     "text": [
      "\n",
      "--- Bootstrapping Example ---\n",
      "Average accuracy over 100 bootstrapped samples: 0.789\n"
     ]
    }
   ],
   "source": [
    "# Bootstrapping\n",
    "\n",
    "print(\"\\n--- Bootstrapping Example ---\")\n",
    "n_iterations = 100 # Number of bootstrap samples (i.e., how many times to repeat)\n",
    "n_size = int(len(X) * 0.80) # Each bootstrap sample size (e.g., 80% of original data)\n",
    "bootstrap_scores = [] # To store accuracy of each bootstrap iteration\n",
    "\n",
    "for i in range(n_iterations):\n",
    "\n",
    "    # Resample with replacement\n",
    "    # Each sample may include repeated rows from the original dataset\n",
    "\n",
    "    X_resample, y_resample = resample(X, y, n_samples = n_size, random_state = 1)\n",
    "\n",
    "    # Train/Test split\n",
    "\n",
    "    X_train, X_test, y_train, y_test = train_test_split(X_resample, y_resample, test_size = 0.20, random_state = i)\n",
    "\n",
    "    model = LogisticRegression(max_iter = 500)\n",
    "    model.fit(X_train, y_train)\n",
    "\n",
    "    y_pred = model.predict(X_test)\n",
    "    acc = accuracy_score(y_test, y_pred)\n",
    "    bootstrap_scores.append(acc)\n",
    "\n",
    "print(f\"Average accuracy over {n_iterations} bootstrapped samples: {np.mean(bootstrap_scores):.3f}\")    "
   ]
  },
  {
   "cell_type": "code",
   "execution_count": 18,
   "id": "718d4f53-afa2-4ac2-9cac-2e1a89a789df",
   "metadata": {},
   "outputs": [
    {
     "name": "stdout",
     "output_type": "stream",
     "text": [
      "\n",
      "--- K-Fold Cross-Validation ---\n",
      "Accuracy scores for each fold: [0.81118881 0.7972028  0.78321678 0.7972028  0.83098592]\n",
      "Mean CV accuracy: 0.804\n"
     ]
    }
   ],
   "source": [
    "# K-Fold Cross-validation\n",
    "\n",
    "print(\"\\n--- K-Fold Cross-Validation ---\")\n",
    "kf = KFold(n_splits = 5, shuffle = True, random_state = 1) # 5 Folds\n",
    "model = LogisticRegression(max_iter = 500)\n",
    "\n",
    "# Perform K-Fold CV\n",
    "cv_scores = cross_val_score(model, X, y, cv = kf, scoring = 'accuracy')\n",
    "\n",
    "print(f'Accuracy scores for each fold: {cv_scores}')\n",
    "print(f'Mean CV accuracy: {np.mean(cv_scores):.3f}')"
   ]
  },
  {
   "cell_type": "code",
   "execution_count": null,
   "id": "b8d5350f-6b99-4de8-b8df-da175a36b6b4",
   "metadata": {},
   "outputs": [],
   "source": []
  }
 ],
 "metadata": {
  "kernelspec": {
   "display_name": "Python 3 (ipykernel)",
   "language": "python",
   "name": "python3"
  },
  "language_info": {
   "codemirror_mode": {
    "name": "ipython",
    "version": 3
   },
   "file_extension": ".py",
   "mimetype": "text/x-python",
   "name": "python",
   "nbconvert_exporter": "python",
   "pygments_lexer": "ipython3",
   "version": "3.12.7"
  }
 },
 "nbformat": 4,
 "nbformat_minor": 5
}
