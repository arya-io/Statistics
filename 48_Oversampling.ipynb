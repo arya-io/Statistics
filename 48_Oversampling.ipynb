{
 "cells": [
  {
   "cell_type": "code",
   "execution_count": 11,
   "id": "13588806-ad95-41ff-a74c-059b420e264e",
   "metadata": {},
   "outputs": [],
   "source": [
    "# Oversampling using SMOTE\n",
    "\n",
    "import pandas as pd\n",
    "import numpy as np\n",
    "from sklearn.model_selection import train_test_split, KFold, cross_val_score, cross_val_predict\n",
    "from sklearn.utils import resample\n",
    "from sklearn.linear_model import LogisticRegression\n",
    "from sklearn.metrics import accuracy_score, confusion_matrix\n",
    "from sklearn.preprocessing import LabelEncoder\n",
    "import seaborn as sns\n",
    "from imblearn.over_sampling import SMOTE"
   ]
  },
  {
   "cell_type": "code",
   "execution_count": 12,
   "id": "2262b9f9-6029-45c5-963b-c78ac691af8a",
   "metadata": {},
   "outputs": [
    {
     "data": {
      "text/html": [
       "<div>\n",
       "<style scoped>\n",
       "    .dataframe tbody tr th:only-of-type {\n",
       "        vertical-align: middle;\n",
       "    }\n",
       "\n",
       "    .dataframe tbody tr th {\n",
       "        vertical-align: top;\n",
       "    }\n",
       "\n",
       "    .dataframe thead th {\n",
       "        text-align: right;\n",
       "    }\n",
       "</style>\n",
       "<table border=\"1\" class=\"dataframe\">\n",
       "  <thead>\n",
       "    <tr style=\"text-align: right;\">\n",
       "      <th></th>\n",
       "      <th>survived</th>\n",
       "      <th>pclass</th>\n",
       "      <th>gender</th>\n",
       "      <th>age</th>\n",
       "      <th>sibsp</th>\n",
       "      <th>parch</th>\n",
       "      <th>fare</th>\n",
       "      <th>embarked</th>\n",
       "      <th>deck</th>\n",
       "    </tr>\n",
       "  </thead>\n",
       "  <tbody>\n",
       "    <tr>\n",
       "      <th>0</th>\n",
       "      <td>0</td>\n",
       "      <td>3</td>\n",
       "      <td>male</td>\n",
       "      <td>22.0</td>\n",
       "      <td>1</td>\n",
       "      <td>0</td>\n",
       "      <td>7.2500</td>\n",
       "      <td>S</td>\n",
       "      <td>NaN</td>\n",
       "    </tr>\n",
       "    <tr>\n",
       "      <th>1</th>\n",
       "      <td>1</td>\n",
       "      <td>1</td>\n",
       "      <td>female</td>\n",
       "      <td>38.0</td>\n",
       "      <td>1</td>\n",
       "      <td>0</td>\n",
       "      <td>71.2833</td>\n",
       "      <td>C</td>\n",
       "      <td>C</td>\n",
       "    </tr>\n",
       "  </tbody>\n",
       "</table>\n",
       "</div>"
      ],
      "text/plain": [
       "   survived  pclass  gender   age  sibsp  parch     fare embarked deck\n",
       "0         0       3    male  22.0      1      0   7.2500        S  NaN\n",
       "1         1       1  female  38.0      1      0  71.2833        C    C"
      ]
     },
     "execution_count": 12,
     "metadata": {},
     "output_type": "execute_result"
    }
   ],
   "source": [
    "df = pd.read_csv('Datasets/titanic.csv')\n",
    "df.head(2)"
   ]
  },
  {
   "cell_type": "code",
   "execution_count": 13,
   "id": "d81bed52-0350-41bc-8347-e6c9bd488014",
   "metadata": {},
   "outputs": [],
   "source": [
    "df = df[['survived', 'pclass', 'gender', 'age', 'sibsp', 'fare']].dropna()"
   ]
  },
  {
   "cell_type": "code",
   "execution_count": 14,
   "id": "d626316f-b918-4ab7-b1c4-34e0bc78ac2b",
   "metadata": {},
   "outputs": [],
   "source": [
    "le = LabelEncoder()\n",
    "df['gender'] = le.fit_transform(df['gender'])"
   ]
  },
  {
   "cell_type": "code",
   "execution_count": 15,
   "id": "d2be8015-dc7d-4db0-be7e-09e982ea6b06",
   "metadata": {},
   "outputs": [],
   "source": [
    "X = df.drop('survived', axis=1)\n",
    "y = df['survived']"
   ]
  },
  {
   "cell_type": "code",
   "execution_count": 16,
   "id": "f51823bd-9525-49b3-8a5e-a20cb8939e15",
   "metadata": {},
   "outputs": [
    {
     "name": "stdout",
     "output_type": "stream",
     "text": [
      "Class distribution before SMOTE:\n",
      "survived\n",
      "0    424\n",
      "1    290\n",
      "Name: count, dtype: int64\n"
     ]
    }
   ],
   "source": [
    "# Check class distribution before SMOTE\n",
    "\n",
    "print(\"Class distribution before SMOTE:\")\n",
    "print(y.value_counts())"
   ]
  },
  {
   "cell_type": "code",
   "execution_count": 17,
   "id": "b24ad0fa-a182-4ae9-bacf-ae190471e673",
   "metadata": {},
   "outputs": [],
   "source": [
    "# Split data\n",
    "# stratify = y ... maintains class distribution in training and test sets\n",
    "# e.g., If y (survived) has 60% as class 0 and 40% as class 1, then:\n",
    "# With stratify = y, both y_train and y_test will maintain that 60-40 ratio\n",
    "# Without stratify = y, the split could be random (unbalanced)\n",
    "\n",
    "X_train, X_test, y_train, y_test = train_test_split(X, y, test_size = 0.3, random_state = 42, stratify = y)"
   ]
  },
  {
   "cell_type": "code",
   "execution_count": 18,
   "id": "185bacbb-cc90-4ba9-be02-87fc4fdc4fc3",
   "metadata": {},
   "outputs": [
    {
     "name": "stdout",
     "output_type": "stream",
     "text": [
      "\n",
      "Before SMOTE:\n",
      "Accuracy: 0.7953488372093023\n",
      "Confusion Matrix:\n",
      " [[106  22]\n",
      " [ 22  65]]\n"
     ]
    }
   ],
   "source": [
    "# ------------------------ Before SMOTE ------------------------\n",
    "\n",
    "model = LogisticRegression(max_iter = 500)\n",
    "model.fit(X_train, y_train)\n",
    "y_pred_before = model.predict(X_test)\n",
    "print(\"\\nBefore SMOTE:\")\n",
    "print(\"Accuracy:\", accuracy_score(y_test, y_pred_before))\n",
    "print(\"Confusion Matrix:\\n\", confusion_matrix(y_test, y_pred_before))"
   ]
  },
  {
   "cell_type": "code",
   "execution_count": 19,
   "id": "766cda01-d8cb-4994-9664-39861804be35",
   "metadata": {},
   "outputs": [],
   "source": [
    "# --------------------------- Apply SMOTE ------------------------------\n",
    "\n",
    "smote = SMOTE(random_state = 42)\n",
    "X_train_res, y_train_res = smote.fit_resample(X_train, y_train)"
   ]
  },
  {
   "cell_type": "code",
   "execution_count": 20,
   "id": "1566628b-7a5a-4b82-a5f0-fbd93c419b22",
   "metadata": {},
   "outputs": [
    {
     "name": "stdout",
     "output_type": "stream",
     "text": [
      "\n",
      "Class distribution after SMOTE:\n",
      "survived\n",
      "0    296\n",
      "1    296\n",
      "Name: count, dtype: int64\n"
     ]
    }
   ],
   "source": [
    "# Check class distribution after SMOTE\n",
    "\n",
    "print(\"\\nClass distribution after SMOTE:\")\n",
    "print(pd.Series(y_train_res).value_counts())"
   ]
  },
  {
   "cell_type": "code",
   "execution_count": 21,
   "id": "9bd7c301-a404-4acb-9614-37c0c82164c9",
   "metadata": {},
   "outputs": [
    {
     "name": "stdout",
     "output_type": "stream",
     "text": [
      "\n",
      "After SMOTE:\n",
      "Accuracy: 0.7813953488372093\n",
      "Confusion Matrix:\n",
      " [[101  27]\n",
      " [ 20  67]]\n"
     ]
    }
   ],
   "source": [
    "# ---------------------------- After SMOTE ----------------------------------\n",
    "\n",
    "model_smote = LogisticRegression(max_iter = 500)\n",
    "model_smote.fit(X_train_res, y_train_res)\n",
    "y_pred_after = model_smote.predict(X_test)\n",
    "print(\"\\nAfter SMOTE:\")\n",
    "print(\"Accuracy:\", accuracy_score(y_test, y_pred_after))\n",
    "print(\"Confusion Matrix:\\n\", confusion_matrix(y_test, y_pred_after))"
   ]
  }
 ],
 "metadata": {
  "kernelspec": {
   "display_name": "Python 3 (ipykernel)",
   "language": "python",
   "name": "python3"
  },
  "language_info": {
   "codemirror_mode": {
    "name": "ipython",
    "version": 3
   },
   "file_extension": ".py",
   "mimetype": "text/x-python",
   "name": "python",
   "nbconvert_exporter": "python",
   "pygments_lexer": "ipython3",
   "version": "3.12.7"
  }
 },
 "nbformat": 4,
 "nbformat_minor": 5
}
