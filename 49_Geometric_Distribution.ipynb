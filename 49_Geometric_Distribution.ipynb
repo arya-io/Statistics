{
 "cells": [
  {
   "cell_type": "code",
   "execution_count": 4,
   "id": "869d1530-53cf-4b8d-beb0-1442ce2c9197",
   "metadata": {},
   "outputs": [],
   "source": [
    "# Geometric distribution: How many trials before the first success?\n",
    "\n",
    "import pandas as pd\n",
    "import numpy as np\n",
    "import matplotlib.pyplot as plt"
   ]
  },
  {
   "cell_type": "code",
   "execution_count": 5,
   "id": "3c7b2919-a0c5-451b-b210-25ee5afdde28",
   "metadata": {},
   "outputs": [],
   "source": [
    "df = pd.read_csv('Datasets/tips.csv')"
   ]
  },
  {
   "cell_type": "code",
   "execution_count": 6,
   "id": "61933da3-9f20-40aa-b0f1-2a67165894c4",
   "metadata": {},
   "outputs": [
    {
     "data": {
      "text/html": [
       "<div>\n",
       "<style scoped>\n",
       "    .dataframe tbody tr th:only-of-type {\n",
       "        vertical-align: middle;\n",
       "    }\n",
       "\n",
       "    .dataframe tbody tr th {\n",
       "        vertical-align: top;\n",
       "    }\n",
       "\n",
       "    .dataframe thead th {\n",
       "        text-align: right;\n",
       "    }\n",
       "</style>\n",
       "<table border=\"1\" class=\"dataframe\">\n",
       "  <thead>\n",
       "    <tr style=\"text-align: right;\">\n",
       "      <th></th>\n",
       "      <th>total_bill</th>\n",
       "      <th>tip</th>\n",
       "      <th>gender</th>\n",
       "      <th>smoker</th>\n",
       "      <th>day</th>\n",
       "      <th>time</th>\n",
       "      <th>size</th>\n",
       "      <th>price_per_person</th>\n",
       "      <th>Payer Name</th>\n",
       "      <th>CC Number</th>\n",
       "      <th>Payment ID</th>\n",
       "    </tr>\n",
       "  </thead>\n",
       "  <tbody>\n",
       "    <tr>\n",
       "      <th>0</th>\n",
       "      <td>16.99</td>\n",
       "      <td>1.01</td>\n",
       "      <td>Female</td>\n",
       "      <td>No</td>\n",
       "      <td>Sun</td>\n",
       "      <td>Dinner</td>\n",
       "      <td>2</td>\n",
       "      <td>8.49</td>\n",
       "      <td>Christy Cunningham</td>\n",
       "      <td>3.560330e+15</td>\n",
       "      <td>Sun2959</td>\n",
       "    </tr>\n",
       "    <tr>\n",
       "      <th>1</th>\n",
       "      <td>10.34</td>\n",
       "      <td>1.66</td>\n",
       "      <td>Male</td>\n",
       "      <td>No</td>\n",
       "      <td>Sun</td>\n",
       "      <td>Dinner</td>\n",
       "      <td>3</td>\n",
       "      <td>3.45</td>\n",
       "      <td>Douglas Tucker</td>\n",
       "      <td>4.478070e+15</td>\n",
       "      <td>Sun4608</td>\n",
       "    </tr>\n",
       "  </tbody>\n",
       "</table>\n",
       "</div>"
      ],
      "text/plain": [
       "   total_bill   tip  gender smoker  day    time  size  price_per_person  \\\n",
       "0       16.99  1.01  Female     No  Sun  Dinner     2              8.49   \n",
       "1       10.34  1.66    Male     No  Sun  Dinner     3              3.45   \n",
       "\n",
       "           Payer Name     CC Number Payment ID  \n",
       "0  Christy Cunningham  3.560330e+15    Sun2959  \n",
       "1      Douglas Tucker  4.478070e+15    Sun4608  "
      ]
     },
     "execution_count": 6,
     "metadata": {},
     "output_type": "execute_result"
    }
   ],
   "source": [
    "df.head(2)"
   ]
  },
  {
   "cell_type": "code",
   "execution_count": 7,
   "id": "99dff955-8fe4-4a99-9fa9-5289f20cc61d",
   "metadata": {},
   "outputs": [],
   "source": [
    "# Define the threshold for a \"generous tipper\"\n",
    "\n",
    "avg_tip = df['tip'].mean()\n",
    "generous_tippers = df[df['tip'] > avg_tip]"
   ]
  },
  {
   "cell_type": "code",
   "execution_count": 8,
   "id": "6494b913-22c4-430f-8dfa-920f65d0c8d5",
   "metadata": {},
   "outputs": [
    {
     "name": "stdout",
     "output_type": "stream",
     "text": [
      "0.4959016393442623\n"
     ]
    }
   ],
   "source": [
    "# Calculate the probability of a generous tipper\n",
    "\n",
    "p = len(generous_tippers) / len(df)\n",
    "\n",
    "print(p)\n",
    "\n",
    "# Probability that a customer giving above average tip = around 49.5%"
   ]
  },
  {
   "cell_type": "code",
   "execution_count": 9,
   "id": "ae07af33-91a5-448d-adb1-8d42aaa20b86",
   "metadata": {},
   "outputs": [],
   "source": [
    "# Expected number of customers until the first generous tipper (geometric distribution)\n",
    "\n",
    "# As we know: expected value of the geometric distribution is: 1 / p\n",
    "\n",
    "expected_trials = 1 / p\n",
    "\n",
    "# To get the first generous tipper, we would need to wait for 2 customers"
   ]
  },
  {
   "cell_type": "code",
   "execution_count": 10,
   "id": "6488b2c4-0be8-466a-911d-1d1ef39eb186",
   "metadata": {},
   "outputs": [],
   "source": [
    "# Simulate the geometric distribution for demonstration\n",
    "\n",
    "# geometric(p): This function generates random values following a geometric distribution, which models the number of trials\n",
    "\n",
    "# (or attempts) required before the first success occurs.\n",
    "# p is the probability of success on each trial\n",
    "# (i.e., the probability of a customer tipping generously).\n",
    "# Find: \"How many customers did we have to wait before the first generous tipper?\"\n",
    "# Set the probability of success p (0.5 to get an expected value of 2 trials)\n",
    "# p = 0.99 ... keep manually changing this value to see the impact of geometric distribution"
   ]
  },
  {
   "cell_type": "code",
   "execution_count": 11,
   "id": "f43811a8-a99e-4e95-99d2-757e7c38b9c2",
   "metadata": {},
   "outputs": [
    {
     "name": "stdout",
     "output_type": "stream",
     "text": [
      "[ 2  5  6  1  1  2  2  1  2  1  2  1  1  5  1  1  4  1  1  2  1  1  3  3\n",
      "  5  1  1  4  1  1  1  1  1  1  6  3  2  1  1  1  2  1  2  2  3  1  3  1\n",
      "  1  1  4  1  2  1  3  1  1  1  2  5  1  1  1  9  1  3  1  2  1  2  1  2\n",
      "  1  3  1  3  2  2  1  1  1  1  1  3  1  4  2  4  1  2  5  2  1  1  1  1\n",
      "  2  1  2  1  1  2  6  5  1  5  1  2  4  2  2  1  2  1  1  1  1  2  1  1\n",
      "  1  3  1  3  1  1  2  2  2  2  1  2  6  1  2  3  2  2  2  2  1  1  1  1\n",
      "  3  1  2  1  3  1  3  2  1  2  1  5  4  1  4  1  1  1  2  5  1  3  1  4\n",
      "  4  2  1  1  1  1  1  1  1  1  1  1  1  2  4  1  1  1  2  1  1  1  1  2\n",
      "  3  8  2  2  2  5  1  4  1  3  1  1  4  3  5  1  1  1  1  3  1  2  1  2\n",
      "  4  1  1  1  1  3  3  1  1  2  3  2  2  1  1  6  6  1  1  1  2  1  1  1\n",
      "  1  3  2  2  1  1  2  1  3  1  2  1  2  3  1  1  1  3  1  1  3  1  2  1\n",
      "  1  3  1  1  1  1  1  1  1  1  4  2  2  2  7  2  2  2  1  1  1  2 12  1\n",
      "  1  1  1  1  1  2  2  1 10  6  4  3  2  2  1  1  1  1  1  1  2  4  1  4\n",
      "  2  4  2  1  1  1  1  1  1  5  1  4  1  2  8  1  3  1  1  2  1  1  2  1\n",
      "  3  1  4  1  2  1  3  1  4  1  2  1  1  4  5  2  1  3  3  2  2  1  5  1\n",
      "  6  1  1  1  1  1  1  1  2  1  1  4  2  1  1  2  8  1  4  1  1  2  3  1\n",
      "  1  3  2  1  1  1  4  1  1  1  6  1  5  2  1  1  2  3  1  5  2  2  8  2\n",
      "  2  1  2  1  1  3  2  1  2  1  1  2  1  2  1  1  2  2  1  1  2  1  4  5\n",
      "  1  1  1  2  1  1  1  2  2  7  3  1  1  1  2  1  2  1  1  2  1  2  1  2\n",
      "  2  1  1  1  1  2  3  1  1  1  1  1  4  1  2  1  1  1  2  1  1  1  3  3\n",
      "  2  1  1  1  1  1  2  4  6  1  1  1  1  2  1  1  5  1  2  1  4  6  3  1\n",
      "  3  3  3  2  1  3  5  1  1  1  6  5  2  1  2  1 10  4  3  1  1  2  2  1\n",
      "  3  1  1  1  7  1  1  3  2  1  1  2  2  1  2  5  2  1  4  1  1  4  3  1\n",
      "  3  2  2  2  2  2  1  1  1  3  1  1  2  1  1  4  1  3  1  1  1  4  1  1\n",
      "  1  1  1  1  1  5  1  2  1  3  1  2  7  1  2  3  1  2  1  1  4  2  1  1\n",
      "  1  6  3  1  2  1  3  1  1  1  1  1  1  1  2  1  1  1  1  1  1  1  1  3\n",
      "  1  1  3  2  2  2  2  1  1  1  1  1  1  1  1  2  4  5  2  1  1  2  4  2\n",
      "  1  1  4  1  1  3  2  1  1  1  2  3  1  1  2  2  1  1  1  1  2  3  2  2\n",
      "  1  1  1  2  2  2  1  2  1  4  1  1  1  3  4  2  1  1  1  1  1  2  1  5\n",
      "  1  1  1  1  2  1  5  1  1  6  2  1  1  1  1  1  2  1  2  6  1  5  1  1\n",
      "  1  1  3  2  4  1  1  2  5  3  1  3  2  1  2  2  3  2  4  3  2  3  2  1\n",
      "  1  2  4  1  1  4  3  1  3  1  1  1  1  2  1  1  1  1  3  2  1  1  1  1\n",
      "  3  1  1  4  1  3  2  1  3  1  6  2  1  5  3  4  3  1  4  1  1  2  1  1\n",
      "  1  4  3  2  1  2  1  1  1  8  2  5  1  2  1  1  3  3  1  1  2  1  2  2\n",
      "  3  2  1  1  2  1  3  1  1  1  2  1  1  2  2  3  1  2  3  1  5  2  1  2\n",
      "  1  2  2  1  3  2  1  7  2  1  1  1  1  3  1  3  1  4  1  6  2  1  3  2\n",
      "  1  3  1  4  2  3  2  1  2  2  3  9  3  1  1  5  1  1  1  2  3  1  2  4\n",
      "  1  1  3  1  1  1  3  1  7  3  1  2  1  1  1  1  1  3  1  1  1  1  1  6\n",
      "  1  1  3  1  2  1  1  2  1  2  1  1  4  1  1  2  3  2  6  2  1  1  3  4\n",
      "  2  2  5  4  2  2  2  2  1  2  1  2  1  4  2  1  2  1  1  3  1  1  1  2\n",
      "  1  1  3  2  4  2  2  3  1  3  1  1  1  2  6  1  1  2  1  2  3  4  1  1\n",
      "  1  1  1  5  6  2  1  1  1  1  1  3  1  3  1  1]\n"
     ]
    }
   ],
   "source": [
    "# Simulate the geometric distribution for 1000 trials\n",
    "\n",
    "simulated_trials = np.random.geometric(p, size = 1000)\n",
    "print(simulated_trials)"
   ]
  },
  {
   "cell_type": "code",
   "execution_count": 12,
   "id": "eab2f69b-1a8e-4971-adf8-ca64e4fc7610",
   "metadata": {},
   "outputs": [
    {
     "data": {
      "image/png": "[encoded data removed]",
      "text/plain": [
       "<Figure size 640x480 with 1 Axes>"
      ]
     },
     "metadata": {},
     "output_type": "display_data"
    }
   ],
   "source": [
    "# Plot the distribution\n",
    "\n",
    "plt.hist(simulated_trials, bins = 20, density = True)\n",
    "plt.title(\"Geometric Distribution: Number of Customers until a Generous Tipper\")\n",
    "plt.xlabel(\"Number of Customers\")\n",
    "plt.ylabel(\"Frequency\")\n",
    "plt.show()"
   ]
  },
  {
   "cell_type": "code",
   "execution_count": 13,
   "id": "994136ce-9bbc-4d16-ae5f-1d130db0102c",
   "metadata": {},
   "outputs": [
    {
     "name": "stdout",
     "output_type": "stream",
     "text": [
      "Expected number of customers to find a generous tipper: 2.02\n"
     ]
    }
   ],
   "source": [
    "# Output the expected trials\n",
    "\n",
    "print(f\"Expected number of customers to find a generous tipper: {expected_trials:.2f}\")"
   ]
  },
  {
   "cell_type": "code",
   "execution_count": 14,
   "id": "3a4c9ee8-59db-403b-a490-cbc79df535a1",
   "metadata": {},
   "outputs": [],
   "source": [
    "# Practice Problem: (INTERVIEW QUESTION)\n",
    "\n",
    "# 1. For yesterday's combined cricket dataset, predict the 1st instance when your favourite batsman will score a half century at least."
   ]
  },
  {
   "cell_type": "code",
   "execution_count": 16,
   "id": "32ab663f-34a2-4cf2-b0a6-3c6650f388bf",
   "metadata": {},
   "outputs": [],
   "source": [
    "df1 = pd.read_csv('Datasets/Men ODI Player Innings Stats - 20th Century.csv')\n",
    "df2 = pd.read_csv('Datasets/Men ODI Player Innings Stats - 21st Century.csv')"
   ]
  },
  {
   "cell_type": "code",
   "execution_count": 17,
   "id": "a8a3dd27-d934-462c-a5bb-f0ebb6c4ecd3",
   "metadata": {},
   "outputs": [],
   "source": [
    "df = pd.concat([df1, df2], ignore_index=True)"
   ]
  },
  {
   "cell_type": "code",
   "execution_count": 18,
   "id": "a85ce75f-df4e-4574-9926-5891d6a41d3f",
   "metadata": {},
   "outputs": [
    {
     "name": "stdout",
     "output_type": "stream",
     "text": [
      "<class 'pandas.core.frame.DataFrame'>\n",
      "RangeIndex: 400170 entries, 0 to 400169\n",
      "Data columns (total 28 columns):\n",
      " #   Column                         Non-Null Count   Dtype  \n",
      "---  ------                         --------------   -----  \n",
      " 0   Innings Player                 400170 non-null  object \n",
      " 1   Innings Runs Scored            200085 non-null  object \n",
      " 2   Innings Runs Scored Num        200085 non-null  object \n",
      " 3   Innings Minutes Batted         200085 non-null  object \n",
      " 4   Innings Batted Flag            200085 non-null  float64\n",
      " 5   Innings Not Out Flag           200085 non-null  float64\n",
      " 6   Innings Balls Faced            200085 non-null  object \n",
      " 7   Innings Boundary Fours         200085 non-null  object \n",
      " 8   Innings Boundary Sixes         200085 non-null  object \n",
      " 9   Innings Batting Strike Rate    200085 non-null  object \n",
      " 10  Innings Number                 400170 non-null  object \n",
      " 11  Opposition                     400170 non-null  object \n",
      " 12  Ground                         400170 non-null  object \n",
      " 13  Innings Date                   400170 non-null  object \n",
      " 14  Country                        400170 non-null  object \n",
      " 15  50's                           200085 non-null  float64\n",
      " 16  100's                          200085 non-null  float64\n",
      " 17  Innings Runs Scored Buckets    200085 non-null  object \n",
      " 18  Innings Overs Bowled           200085 non-null  object \n",
      " 19  Innings Bowled Flag            200085 non-null  float64\n",
      " 20  Innings Maidens Bowled         200085 non-null  object \n",
      " 21  Innings Runs Conceded          200085 non-null  object \n",
      " 22  Innings Wickets Taken          200085 non-null  object \n",
      " 23  4 Wickets                      200085 non-null  float64\n",
      " 24  5 Wickets                      200085 non-null  float64\n",
      " 25  10 Wickets                     200085 non-null  float64\n",
      " 26  Innings Wickets Taken Buckets  200085 non-null  object \n",
      " 27  Innings Economy Rate           200085 non-null  object \n",
      "dtypes: float64(8), object(20)\n",
      "memory usage: 85.5+ MB\n"
     ]
    }
   ],
   "source": [
    "df.info()"
   ]
  },
  {
   "cell_type": "code",
   "execution_count": 19,
   "id": "6bd4070e-a5ef-481e-9c9d-2b43ba6611a7",
   "metadata": {},
   "outputs": [
    {
     "data": {
      "text/html": [
       "<div>\n",
       "<style scoped>\n",
       "    .dataframe tbody tr th:only-of-type {\n",
       "        vertical-align: middle;\n",
       "    }\n",
       "\n",
       "    .dataframe tbody tr th {\n",
       "        vertical-align: top;\n",
       "    }\n",
       "\n",
       "    .dataframe thead th {\n",
       "        text-align: right;\n",
       "    }\n",
       "</style>\n",
       "<table border=\"1\" class=\"dataframe\">\n",
       "  <thead>\n",
       "    <tr style=\"text-align: right;\">\n",
       "      <th></th>\n",
       "      <th>Innings Player</th>\n",
       "      <th>Innings Runs Scored</th>\n",
       "      <th>Innings Runs Scored Num</th>\n",
       "      <th>Innings Minutes Batted</th>\n",
       "      <th>Innings Batted Flag</th>\n",
       "      <th>Innings Not Out Flag</th>\n",
       "      <th>Innings Balls Faced</th>\n",
       "      <th>Innings Boundary Fours</th>\n",
       "      <th>Innings Boundary Sixes</th>\n",
       "      <th>Innings Batting Strike Rate</th>\n",
       "      <th>...</th>\n",
       "      <th>Innings Overs Bowled</th>\n",
       "      <th>Innings Bowled Flag</th>\n",
       "      <th>Innings Maidens Bowled</th>\n",
       "      <th>Innings Runs Conceded</th>\n",
       "      <th>Innings Wickets Taken</th>\n",
       "      <th>4 Wickets</th>\n",
       "      <th>5 Wickets</th>\n",
       "      <th>10 Wickets</th>\n",
       "      <th>Innings Wickets Taken Buckets</th>\n",
       "      <th>Innings Economy Rate</th>\n",
       "    </tr>\n",
       "  </thead>\n",
       "  <tbody>\n",
       "    <tr>\n",
       "      <th>0</th>\n",
       "      <td>RA Smith</td>\n",
       "      <td>167*</td>\n",
       "      <td>167</td>\n",
       "      <td>208</td>\n",
       "      <td>1.0</td>\n",
       "      <td>1.0</td>\n",
       "      <td>163</td>\n",
       "      <td>17</td>\n",
       "      <td>3</td>\n",
       "      <td>102.45</td>\n",
       "      <td>...</td>\n",
       "      <td>NaN</td>\n",
       "      <td>NaN</td>\n",
       "      <td>NaN</td>\n",
       "      <td>NaN</td>\n",
       "      <td>NaN</td>\n",
       "      <td>NaN</td>\n",
       "      <td>NaN</td>\n",
       "      <td>NaN</td>\n",
       "      <td>NaN</td>\n",
       "      <td>NaN</td>\n",
       "    </tr>\n",
       "    <tr>\n",
       "      <th>1</th>\n",
       "      <td>DI Gower</td>\n",
       "      <td>158</td>\n",
       "      <td>158</td>\n",
       "      <td>177</td>\n",
       "      <td>1.0</td>\n",
       "      <td>0.0</td>\n",
       "      <td>118</td>\n",
       "      <td>18</td>\n",
       "      <td>4</td>\n",
       "      <td>133.89</td>\n",
       "      <td>...</td>\n",
       "      <td>NaN</td>\n",
       "      <td>NaN</td>\n",
       "      <td>NaN</td>\n",
       "      <td>NaN</td>\n",
       "      <td>NaN</td>\n",
       "      <td>NaN</td>\n",
       "      <td>NaN</td>\n",
       "      <td>NaN</td>\n",
       "      <td>NaN</td>\n",
       "      <td>NaN</td>\n",
       "    </tr>\n",
       "  </tbody>\n",
       "</table>\n",
       "<p>2 rows × 28 columns</p>\n",
       "</div>"
      ],
      "text/plain": [
       "  Innings Player Innings Runs Scored Innings Runs Scored Num  \\\n",
       "0       RA Smith                167*                     167   \n",
       "1       DI Gower                 158                     158   \n",
       "\n",
       "  Innings Minutes Batted  Innings Batted Flag  Innings Not Out Flag  \\\n",
       "0                    208                  1.0                   1.0   \n",
       "1                    177                  1.0                   0.0   \n",
       "\n",
       "  Innings Balls Faced Innings Boundary Fours Innings Boundary Sixes  \\\n",
       "0                 163                     17                      3   \n",
       "1                 118                     18                      4   \n",
       "\n",
       "  Innings Batting Strike Rate  ... Innings Overs Bowled Innings Bowled Flag  \\\n",
       "0                      102.45  ...                  NaN                 NaN   \n",
       "1                      133.89  ...                  NaN                 NaN   \n",
       "\n",
       "  Innings Maidens Bowled Innings Runs Conceded Innings Wickets Taken  \\\n",
       "0                    NaN                   NaN                   NaN   \n",
       "1                    NaN                   NaN                   NaN   \n",
       "\n",
       "   4 Wickets  5 Wickets 10 Wickets Innings Wickets Taken Buckets  \\\n",
       "0        NaN        NaN        NaN                           NaN   \n",
       "1        NaN        NaN        NaN                           NaN   \n",
       "\n",
       "   Innings Economy Rate  \n",
       "0                   NaN  \n",
       "1                   NaN  \n",
       "\n",
       "[2 rows x 28 columns]"
      ]
     },
     "execution_count": 19,
     "metadata": {},
     "output_type": "execute_result"
    }
   ],
   "source": [
    "df.head(2)"
   ]
  },
  {
   "cell_type": "code",
   "execution_count": 22,
   "id": "aedeafd3-5ab1-4f97-934c-3cf1ab6b1010",
   "metadata": {},
   "outputs": [],
   "source": [
    "# Define the threshold for a \"generous tipper\"\n",
    "\n",
    "df['Innings Runs Scored Num'] = pd.to_numeric(df['Innings Runs Scored Num'], errors='coerce')\n",
    "\n",
    "avg_runs = df['Innings Runs Scored Num'].mean()\n",
    "batsman = df[df['Innings Runs Scored Num'] > avg_runs]"
   ]
  },
  {
   "cell_type": "code",
   "execution_count": 23,
   "id": "b3bd9e0d-122e-40dc-a5ad-122d82b349a8",
   "metadata": {},
   "outputs": [
    {
     "name": "stdout",
     "output_type": "stream",
     "text": [
      "0.13886098408176525\n"
     ]
    }
   ],
   "source": [
    "# Calculate the probability of a batsman\n",
    "\n",
    "p = len(batsman) / len(df)\n",
    "\n",
    "print(p)\n",
    "\n",
    "# Probability that a batsman scored at least 50 runs"
   ]
  },
  {
   "cell_type": "code",
   "execution_count": 24,
   "id": "64b18464-854c-4bd6-97aa-3490519cf11d",
   "metadata": {},
   "outputs": [
    {
     "name": "stdout",
     "output_type": "stream",
     "text": [
      "[12  2  2 20  9 22 10  3  5 17 10  8 10 10  3  1  2  9  3  5  9  2 13  1\n",
      " 11 13  9  2  6  4  3  4  5  3  4  6  7  7  1  1  5  7 10 12  9  5 11  2\n",
      "  7 12 14  1  4  5  4  1  5  8  1  1 11  6  3 13 16  1 36  1 23  3  1  2\n",
      " 14  6 13  2 13  5  5  1  3  6  3  4  7 15  4 10  1  6  4  3 12  7  8 16\n",
      "  8 22  2  1 34 21  5 11 31  5 19  3  2 10  8 21  7 17  4  1  2  7  9  8\n",
      "  6 11  7  2  4 23 10  9  2  6  3  1  1 21  1  9  7 25 13  4  7  2  6  6\n",
      " 17 17  4  3  3  4  8  3 11  2  3  7  1  4 17  4  1 23  1  5  3  5 15  3\n",
      "  4  4 11 25  6 13  7  9 21 17 25 29  5 14  6  4 11 20  3  6 12  5  5 10\n",
      "  1  3 12  2 22  7  4  9  7 17  4  5  1  2  1  5 19 13 17 10  2 14  3  2\n",
      "  2  5  4 10  6 12  2  3  4  4 22  2 14  6  8 19  3  6  3 17  3  3  3 14\n",
      "  1  7  6  7  4 17 11  1  6  6 11 10  1  2  1 14  2  3  5  6  6  1  2 11\n",
      "  4  1  3 26  1 19 25  2 11 16  1 11  3 32 15  2  9 17 10 10  3 16  2 18\n",
      "  2 15  1  3  4  1 22  7 34  8  3  1 19 38  8  9  2  3 10 12  6  3  9  3\n",
      "  3 20  9  3  1  9 10  4  1  2 12 13 14  6  1  3  4  1  2  7  5  6  1 17\n",
      "  7 22 22  5 23  6  6  9  4 17 11 15  2  6  2  3  3  3  1  9  2 10  7  1\n",
      "  9  2  2  4 17  3  8  3  1 12  5  2  1  3  1 11  7  8 11  2 40  2  7  6\n",
      "  5 33  5  3 12  8  5  1 10  5  5  9  2  1  2  8 17  2 11 14 19  3 19  3\n",
      " 11 11  2  9  1  2  8  8 19 15  7  1 11  7 14  1  5  4  3  1  3  2  5 10\n",
      "  7  8  5  3  7  5  3  8  2  5 17  2  5  3 12  5  2  9  2  2 14  2  6 15\n",
      " 12  1 11 11 14  2  6  6  6  9  2  2  3  9 15  1  1  8 10  6  3  7  3  6\n",
      "  4  1  7  6 11 14 17 10  3  4  8 23  1 10  1  9  9  4 36  7 13  3  6  7\n",
      " 12 10  6  8  4 19  4  5  7  1  1  1  7  6 23  2  6  4  6  2  3  7 11  7\n",
      "  2  1 13  4  6 13  3  5 13  8  1  1  6  4  6  5  4  3  3  3  1  4  4  9\n",
      " 14  1  5  8  2  1  1  2  5  6  1  4 18 14  5  8  6 16 11  9  9  2  2 10\n",
      "  3 17 14  8  5  4 13  4  1  4  3  2 15  1 16  5  9  5  6 29  5 14  2  2\n",
      "  4  4  1  2  5  6  9  5  1  8  3  2  3 16 15  6  3 18  5  1  3  5  4  3\n",
      "  4 14 16  2  4  6  1  8  1  1  1  5  9  1  2  3  8 14  3 10 18  2  2  3\n",
      "  2 12  7  9 13  1  1  1  7  7  7 22 11  4  2  3  4  8  3  2  1  2  9 14\n",
      "  4  2  9  2  4  7 11  5  5  6  2 16 16  2  6  5  3  8  2  9  2 15  7  1\n",
      "  2 27  5  9  1  1  7  7  2  2 15  6  8 12  2  4  1  3  5 11  6 11  1 37\n",
      "  8  2 10  2  4  2  1  1  3 16  1  7  3 14  5  7  1 18  1  7  8  6  1 36\n",
      " 18  4  4  7  1 12  4  6  8  1  2 11  8 12  4 12 15 37 11 11  3  4 12 10\n",
      "  5 16  3  5  8  2  1  1  3  9 13 13  7  3  1  3  1 15  4  6  4  3  2 27\n",
      "  7  3 10  8  3 24  7 13  3  1 17 21  5  3  7  6  2  5  2  3 19  6  2 19\n",
      "  2  2  1  2  8  5  6  1  4  7  7  1  1 12  8  4  2  2  3 18  3  1  9 18\n",
      "  1  5  7 10  2  4  8  5  3  4  5  9 11  8  7  8  6  2  4  9  8  7  9 10\n",
      " 10  7  1  2  2  9 22  5  6 12 22  1  8 10  9 21 27  1 18  1  5  6  5 39\n",
      " 17 14  5  8  5  7 60 11 10 18  1  3  1 10  6  1  3 15 13 12  5  3  2  5\n",
      "  3 16  6  1 10  5  3  6  3  9  5 10  1  4  6  1 14  8  9  7  4  9  7 12\n",
      "  9  6  1  9  2  1  5  1  9  7  9  9  2  8  1 10 12 10 10  9  8 13  1  6\n",
      "  8  1 13  3  3  3  4  3 10 12 17  6  6 11 18 11  5 19  7 11 43  9 10  4\n",
      "  4 51  7  1  2  4  1  7  6  5  2  3  4  7 14  2]\n"
     ]
    }
   ],
   "source": [
    "# Simulate the geometric distribution for 1000 trials\n",
    "\n",
    "simulated_trials = np.random.geometric(p, size = 1000)\n",
    "print(simulated_trials)"
   ]
  },
  {
   "cell_type": "code",
   "execution_count": 26,
   "id": "0d9805b7-0158-4a88-9441-34ac0471eb73",
   "metadata": {},
   "outputs": [
    {
     "data": {
      "image/png": "[encoded data removed]",
      "text/plain": [
       "<Figure size 640x480 with 1 Axes>"
      ]
     },
     "metadata": {},
     "output_type": "display_data"
    }
   ],
   "source": [
    "# Plot the distribution\n",
    "\n",
    "plt.hist(simulated_trials, bins = 20, density = True)\n",
    "plt.title(\"Geometric Distribution: 50 Score - Batsman\")\n",
    "plt.xlabel(\"Batsman\")\n",
    "plt.ylabel(\"Frequency\")\n",
    "plt.show()"
   ]
  },
  {
   "cell_type": "code",
   "execution_count": null,
   "id": "c5fcb5d7-85c5-49f6-8e7d-44db7b8cbca6",
   "metadata": {},
   "outputs": [],
   "source": [
    "# 2. Is there a statistically significant relationship between Sachin Tendulkar scoring a century and whether India batted first or second?\n",
    "# i.e., Can we say that if India batted first, he was more likely to score a century, or if India batted second, he was more likely to score a\n",
    "# century, or was there no such relationship? (Column 'Innings Number' indicates wether India batted first/second in the matches he batted).\n",
    "# Hint: Chi-square test of independence"
   ]
  },
  {
   "cell_type": "code",
   "execution_count": 15,
   "id": "ede2e1aa-7568-475a-a156-cc9263f891ca",
   "metadata": {},
   "outputs": [],
   "source": [
    "# 3. Predict how long (i.e., how many records/rows) will we need to wait till we see a record of a passenger who survived in the titanic dataset?"
   ]
  },
  {
   "cell_type": "code",
   "execution_count": 27,
   "id": "a2bba7d9-db9a-4a41-b9e9-29b45db0260d",
   "metadata": {},
   "outputs": [],
   "source": [
    "# 4. If we pick 30 random innings each of Sachin Tendulkar and Virat Kohli, will we find a statistically significant difference between them?\n",
    "# Hint: Two-sample test"
   ]
  },
  {
   "cell_type": "code",
   "execution_count": 28,
   "id": "6c8b8dea-c748-44aa-b1a1-2dbd14825f7f",
   "metadata": {},
   "outputs": [],
   "source": [
    "# 5. If we consider the batting performance of any batsman who has played for at least 10 years,\n",
    "# will we find a statistically significant difference between his first 5 years and remaining years?\n",
    "# Hint: Paired t-test"
   ]
  },
  {
   "cell_type": "code",
   "execution_count": null,
   "id": "1a775c99-41ff-4f1b-ab60-78726152ca90",
   "metadata": {},
   "outputs": [],
   "source": [
    "# 6. Pick a player with at least 100 innings. Does his scores across all innings follow normal distribution?"
   ]
  }
 ],
 "metadata": {
  "kernelspec": {
   "display_name": "Python 3 (ipykernel)",
   "language": "python",
   "name": "python3"
  },
  "language_info": {
   "codemirror_mode": {
    "name": "ipython",
    "version": 3
   },
   "file_extension": ".py",
   "mimetype": "text/x-python",
   "name": "python",
   "nbconvert_exporter": "python",
   "pygments_lexer": "ipython3",
   "version": "3.12.7"
  }
 },
 "nbformat": 4,
 "nbformat_minor": 5
}
