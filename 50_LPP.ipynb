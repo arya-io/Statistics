{
 "cells": [
  {
   "cell_type": "code",
   "execution_count": 10,
   "id": "35d86427-6cbd-4d84-b1f1-6fe4fff64a99",
   "metadata": {},
   "outputs": [],
   "source": [
    "# LPP to maximize profits for manufacturing chairs and tables\n",
    "# Import all classes of PuLP module\n",
    "\n",
    "from pulp import *"
   ]
  },
  {
   "cell_type": "code",
   "execution_count": 11,
   "id": "39af6352-2927-422d-99e0-9a49dab08078",
   "metadata": {},
   "outputs": [],
   "source": [
    "# Create the problem variable to contain the problem data\n",
    "\n",
    "model = LpProblem(\"FactoryProductionProblem\", LpMaximize)"
   ]
  },
  {
   "cell_type": "code",
   "execution_count": 12,
   "id": "04aba145-bece-46a0-b9c0-ac9e5df6b0bb",
   "metadata": {},
   "outputs": [],
   "source": [
    "# Create variables for Chairs and Tables\n",
    "\n",
    "# Parameters: Name, Lower limit, Upper limit, Data type\n",
    "\n",
    "chairs = LpVariable(\"Chairs\", 0, None, LpInteger) # Number of chairs to produce \n",
    "tables = LpVariable(\"Tables\", 0, None, LpInteger) # Number of tables to produce "
   ]
  },
  {
   "cell_type": "code",
   "execution_count": 13,
   "id": "6ec31241-3c76-4119-b101-1723e4bc73ad",
   "metadata": {},
   "outputs": [],
   "source": [
    "# Create maximize objective function (profit)\n",
    "\n",
    "model += 300 * chairs + 1000 * tables, \"Profit\""
   ]
  },
  {
   "cell_type": "code",
   "execution_count": 14,
   "id": "7c399a1e-4e92-4496-809b-4a85ad79649a",
   "metadata": {},
   "outputs": [
    {
     "data": {
      "text/plain": [
       "1"
      ]
     },
     "execution_count": 14,
     "metadata": {},
     "output_type": "execute_result"
    }
   ],
   "source": [
    "# Create constraints\n",
    "\n",
    "model += 5 * chairs + 10 * tables <= 400, \"Wood Constraint\" # Wood availability constraint\n",
    "\n",
    "model += 2 * chairs + 6 * tables <= 300, \"Time Constraint\" # Worker time constraint\n",
    "\n",
    "model += chairs >= 2, \"Chairs constraint\"\n",
    "\n",
    "# The problem is solved using PuLP's choice of Solver\n",
    "\n",
    "model.solve()"
   ]
  },
  {
   "cell_type": "code",
   "execution_count": 15,
   "id": "0f346ebd-2fb3-444b-82f5-b8d68916a1d7",
   "metadata": {},
   "outputs": [
    {
     "name": "stdout",
     "output_type": "stream",
     "text": [
      "Chairs = 2.0\n",
      "Tables = 39.0\n"
     ]
    }
   ],
   "source": [
    "# Each of the variables is printed with its resolved optimum value\n",
    "\n",
    "for v in model.variables():\n",
    "    print(v.name, \"=\", v.varValue)"
   ]
  },
  {
   "cell_type": "code",
   "execution_count": 16,
   "id": "05ac4b3e-c4d7-457a-b774-a7b7a8248318",
   "metadata": {},
   "outputs": [
    {
     "name": "stdout",
     "output_type": "stream",
     "text": [
      "Total Profit: 39600.0\n"
     ]
    }
   ],
   "source": [
    "# Additional Information\n",
    "\n",
    "print(\"Total Profit:\", value(model.objective)) # Print objective function value (Total Profit)"
   ]
  }
 ],
 "metadata": {
  "kernelspec": {
   "display_name": "Python 3 (ipykernel)",
   "language": "python",
   "name": "python3"
  },
  "language_info": {
   "codemirror_mode": {
    "name": "ipython",
    "version": 3
   },
   "file_extension": ".py",
   "mimetype": "text/x-python",
   "name": "python",
   "nbconvert_exporter": "python",
   "pygments_lexer": "ipython3",
   "version": "3.12.7"
  }
 },
 "nbformat": 4,
 "nbformat_minor": 5
}
