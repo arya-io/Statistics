{
 "cells": [
  {
   "cell_type": "code",
   "execution_count": 3,
   "id": "44fc866e-1928-49a4-9722-6435bfa86ddb",
   "metadata": {},
   "outputs": [],
   "source": [
    "# Exponential Distribution: Estimate the probability that the next customer will arrive in 3 minutes\n",
    "\n",
    "import pandas as pd\n",
    "import numpy as np\n",
    "from math import exp\n",
    "import matplotlib.pyplot as plt"
   ]
  },
  {
   "cell_type": "code",
   "execution_count": 5,
   "id": "ccb9c6ce-7fb9-47bd-9a85-f5db3a02575c",
   "metadata": {},
   "outputs": [
    {
     "data": {
      "text/html": [
       "<div>\n",
       "<style scoped>\n",
       "    .dataframe tbody tr th:only-of-type {\n",
       "        vertical-align: middle;\n",
       "    }\n",
       "\n",
       "    .dataframe tbody tr th {\n",
       "        vertical-align: top;\n",
       "    }\n",
       "\n",
       "    .dataframe thead th {\n",
       "        text-align: right;\n",
       "    }\n",
       "</style>\n",
       "<table border=\"1\" class=\"dataframe\">\n",
       "  <thead>\n",
       "    <tr style=\"text-align: right;\">\n",
       "      <th></th>\n",
       "      <th>order_id</th>\n",
       "      <th>date</th>\n",
       "      <th>time</th>\n",
       "    </tr>\n",
       "  </thead>\n",
       "  <tbody>\n",
       "    <tr>\n",
       "      <th>0</th>\n",
       "      <td>1</td>\n",
       "      <td>01/01/2015</td>\n",
       "      <td>11:38:36</td>\n",
       "    </tr>\n",
       "    <tr>\n",
       "      <th>1</th>\n",
       "      <td>2</td>\n",
       "      <td>01/01/2015</td>\n",
       "      <td>11:57:40</td>\n",
       "    </tr>\n",
       "  </tbody>\n",
       "</table>\n",
       "</div>"
      ],
      "text/plain": [
       "   order_id        date      time\n",
       "0         1  01/01/2015  11:38:36\n",
       "1         2  01/01/2015  11:57:40"
      ]
     },
     "execution_count": 5,
     "metadata": {},
     "output_type": "execute_result"
    }
   ],
   "source": [
    "df = pd.read_csv('Datasets/orders.csv')\n",
    "df.head(2)"
   ]
  },
  {
   "cell_type": "code",
   "execution_count": 6,
   "id": "da750cf3-d1d5-4a50-9e9f-637d92fdb9ca",
   "metadata": {},
   "outputs": [],
   "source": [
    "# Combine 'date' and 'time' into a single datetime column\n",
    "\n",
    "df['datetime'] = pd.to_datetime(df['date'] + ' ' + df['time'], dayfirst = True)"
   ]
  },
  {
   "cell_type": "code",
   "execution_count": 7,
   "id": "3d3d51a9-ba4a-4d4a-89f9-fbed817e8cb1",
   "metadata": {},
   "outputs": [],
   "source": [
    "# Sort by datetime\n",
    "\n",
    "df = df.sort_values('datetime')"
   ]
  },
  {
   "cell_type": "code",
   "execution_count": 8,
   "id": "a4bcc822-16ef-4ee7-a3d0-91e7aaf6dcf5",
   "metadata": {},
   "outputs": [],
   "source": [
    "# Group by date and calculate intra-day interarrival times\n",
    "\n",
    "df['date_only'] = df['datetime'].dt.date # To avoid overwriting original 'date' if needed\n",
    "\n",
    "time_diffs = []"
   ]
  },
  {
   "cell_type": "code",
   "execution_count": 9,
   "id": "b861f2fa-595d-4aae-b6e0-ad3e86757bce",
   "metadata": {},
   "outputs": [],
   "source": [
    "for _, group in df.groupby('date_only'):\n",
    "    group = group.sort_values('datetime')\n",
    "    diffs = group['datetime'].diff().dt.total_seconds().dropna() / 60 # in minutes\n",
    "    time_diffs.extend(diffs.tolist())"
   ]
  },
  {
   "cell_type": "code",
   "execution_count": 10,
   "id": "d5cb9530-fc89-4003-b00d-6991e4b75c3f",
   "metadata": {},
   "outputs": [],
   "source": [
    "# Convert to NumPy array\n",
    "\n",
    "time_differences = np.array(time_diffs)"
   ]
  },
  {
   "cell_type": "code",
   "execution_count": 11,
   "id": "42ebc747-dd5b-4045-b52d-600f11ce9c54",
   "metadata": {},
   "outputs": [],
   "source": [
    "# Exponential distribution parameter\n",
    "\n",
    "mean_diff = time_differences.mean()\n",
    "rate_lambda = 1 / mean_diff"
   ]
  },
  {
   "cell_type": "code",
   "execution_count": 12,
   "id": "42832c26-8319-45cd-9b7e-df8174517bd1",
   "metadata": {},
   "outputs": [],
   "source": [
    "# Probability that next customer arrives after 3 minutes\n",
    "\n",
    "t = 3 # minutes\n",
    "prob_after_3_min = exp(-rate_lambda * t)"
   ]
  },
  {
   "cell_type": "code",
   "execution_count": 13,
   "id": "97fb9244-75c6-4fd7-a874-6999be119c81",
   "metadata": {},
   "outputs": [
    {
     "name": "stdout",
     "output_type": "stream",
     "text": [
      "Average time between customers (intra-day only): 11.02 minutes\n",
      "λ (rate): 0.0908\n",
      "Probability that next customer arrives AFTER 3 minutes: 0.7616\n"
     ]
    }
   ],
   "source": [
    "# Output\n",
    "\n",
    "print(f\"Average time between customers (intra-day only): {mean_diff:.2f} minutes\")\n",
    "print(f\"λ (rate): {rate_lambda:.4f}\")\n",
    "print(f\"Probability that next customer arrives AFTER {t} minutes: {prob_after_3_min:.4f}\")"
   ]
  },
  {
   "cell_type": "code",
   "execution_count": 14,
   "id": "e0bec6c9-a333-4bb1-bf31-3bacdc169bce",
   "metadata": {},
   "outputs": [],
   "source": [
    "# Calculate PDF and CDF from 0 to 20 minutes\n",
    "\n",
    "# Create time values: [0, 1, ...., 19] (20 values total)\n",
    "\n",
    "x = np.linspace(0, 19, 20)"
   ]
  },
  {
   "cell_type": "code",
   "execution_count": 15,
   "id": "bf368410-6b89-4b46-a16c-35a2a017a601",
   "metadata": {},
   "outputs": [],
   "source": [
    "# Calculate PDF and CDF for exponential distribution\n",
    "\n",
    "pdf = rate_lambda * np.exp(-rate_lambda * x)\n",
    "cdf = 1 - np.exp(-rate_lambda * x)"
   ]
  },
  {
   "cell_type": "code",
   "execution_count": 16,
   "id": "72adc2f3-95d1-494a-a75b-04d3f39cd1e6",
   "metadata": {},
   "outputs": [],
   "source": [
    "# Create DataFrame for better tabular display\n",
    "\n",
    "df_table = pd.DataFrame({\n",
    "    'Minute': x.round(0),\n",
    "    'PDF': pdf.round(6),\n",
    "    'CDF': cdf.round(6)\n",
    "})"
   ]
  },
  {
   "cell_type": "code",
   "execution_count": 17,
   "id": "8e09d436-7777-4447-a3e0-11758c065f9d",
   "metadata": {},
   "outputs": [
    {
     "name": "stdout",
     "output_type": "stream",
     "text": [
      " Minute      PDF      CDF\n",
      "    0.0 0.090782 0.000000\n",
      "    1.0 0.082904 0.086784\n",
      "    2.0 0.075709 0.166036\n",
      "    3.0 0.069139 0.238410\n",
      "    4.0 0.063139 0.304504\n",
      "    5.0 0.057659 0.364861\n",
      "    6.0 0.052655 0.419981\n",
      "    7.0 0.048086 0.470317\n",
      "    8.0 0.043913 0.516285\n",
      "    9.0 0.040102 0.558263\n",
      "   10.0 0.036622 0.596599\n",
      "   11.0 0.033444 0.631607\n",
      "   12.0 0.030541 0.663578\n",
      "   13.0 0.027891 0.692774\n",
      "   14.0 0.025470 0.719436\n",
      "   15.0 0.023260 0.743784\n",
      "   16.0 0.021241 0.766019\n",
      "   17.0 0.019398 0.786325\n",
      "   18.0 0.017714 0.804869\n",
      "   19.0 0.016177 0.821803\n"
     ]
    }
   ],
   "source": [
    "print(df_table.to_string(index = False))"
   ]
  },
  {
   "cell_type": "code",
   "execution_count": 18,
   "id": "b3482778-304c-4ac6-a2f6-572d0d8a3f0a",
   "metadata": {},
   "outputs": [
    {
     "data": {
      "image/png": "[encoded data removed]",
      "text/plain": [
       "<Figure size 1000x500 with 1 Axes>"
      ]
     },
     "metadata": {},
     "output_type": "display_data"
    }
   ],
   "source": [
    "# Plot\n",
    "\n",
    "plt.figure(figsize = (10, 5))\n",
    "plt.plot(x, pdf, label = 'PDF', color = 'blue')\n",
    "plt.plot(x, cdf, label = 'CDF', color = 'green')\n",
    "plt.title('Exponential Distribution PDF and CDF (0 to 20 minutes)')\n",
    "plt.xlabel('Time (minutes)')\n",
    "plt.ylabel('Probability')\n",
    "plt.legend()\n",
    "plt.grid(True)\n",
    "plt.tight_layout()\n",
    "plt.show()"
   ]
  }
 ],
 "metadata": {
  "kernelspec": {
   "display_name": "Python 3 (ipykernel)",
   "language": "python",
   "name": "python3"
  },
  "language_info": {
   "codemirror_mode": {
    "name": "ipython",
    "version": 3
   },
   "file_extension": ".py",
   "mimetype": "text/x-python",
   "name": "python",
   "nbconvert_exporter": "python",
   "pygments_lexer": "ipython3",
   "version": "3.12.7"
  }
 },
 "nbformat": 4,
 "nbformat_minor": 5
}
