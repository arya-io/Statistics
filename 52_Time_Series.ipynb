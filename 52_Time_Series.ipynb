{
 "cells": [
  {
   "cell_type": "code",
   "execution_count": 1,
   "id": "ec5747e8-534c-409a-bf69-3a74a325c6e4",
   "metadata": {},
   "outputs": [],
   "source": [
    "# Stationarity Check\n",
    "\n",
    "def test_stationarity(dataFrame, var, window = 12):\n",
    "\n",
    "    dataFrame['rollMean'] = dataFrame[var].rolling(window = window).mean()\n",
    "    dataFrame['rollStd'] = dataFrame[var].rolling(window = window).std()\n",
    "    adf_result = adfuller(dataFrame[var])\n",
    "    p_value = adf_result[1]\n",
    "\n",
    "    print(f\"ADF p-value: {p_value:.4f}\")\n",
    "\n",
    "    if p_value <= 0.05:\n",
    "        print(\"The time series is stationary (reject H0).\")\n",
    "    else:\n",
    "        print(\"The time series is not stationary (fail to reject H0).\")\n",
    "\n",
    "    plt.figure(figsize = (10, 5))\n",
    "    sns.lineplot(x = dataFrame.index, y = dataFrame[var], label = 'Original')\n",
    "    sns.lineplot(x = dataFrame.index, y = dataFrame['rollMean'], label = 'Rolling Mean')\n",
    "    sns.lineplot(x = dataFrame.index, y = dataFrame['rollStd'], label = 'Rolling Std')\n",
    "    plt.title(\"Rolling Statistics\")\n",
    "    plt.legend()\n",
    "    plt.show()"
   ]
  },
  {
   "cell_type": "code",
   "execution_count": 4,
   "id": "e9aa0f34-d39e-42a4-96ca-82cc9eb5d563",
   "metadata": {},
   "outputs": [],
   "source": [
    "# Test stationarity\n",
    "\n",
    "test_stationarity(airP, 'passengers')\n",
    "\n",
    "# Not stationary ... Try with diff of 1\n",
    "\n",
    "airP['shift'] = airP.passengers.shift(1)\n",
    "airP['shiftDiff'] = airP['passengers'] - airP['shift']\n",
    "print(airP.head(20))\n",
    "test_stationarity(airP.dropna(), 'shiftDiff')\n",
    "\n",
    "# Since shiftdiff of 1 is not working, let us try with 2\n",
    "\n",
    "airP['shift'] = airP.passengers.shift(2)\n",
    "airP['shiftDiff'] = airP['passengers'] - airP['shift']\n",
    "print(airP.head(20))\n",
    "test_stationarity(airP.dropna(), 'shiftDiff')"
   ]
  },
  {
   "cell_type": "code",
   "execution_count": 5,
   "id": "bd264768-bcbc-4a79-8746-96d1128c2e78",
   "metadata": {},
   "outputs": [],
   "source": [
    "# For ACF - Differencing of 1 and 12\n",
    "\n",
    "airP['firstDiff'] = airP['passengers'].diff()\n",
    "airP['Diff12'] = airP['passengers'].diff(12)"
   ]
  },
  {
   "cell_type": "code",
   "execution_count": 7,
   "id": "6ea0592f-597d-4118-a26c-57f755652ff9",
   "metadata": {},
   "outputs": [],
   "source": [
    "# PACF and ACF Plots\n",
    "\n",
    "plot_pacf(airP['firstDiff'].dropna(), lags = 20)\n",
    "plt.show()"
   ]
  },
  {
   "cell_type": "code",
   "execution_count": 11,
   "id": "aab6d125-9275-4083-bae2-6d6fd0b42ca1",
   "metadata": {},
   "outputs": [],
   "source": [
    "plot_acf(airP['firstDiff'].dropna(), lags = 20)\n",
    "plt.show()"
   ]
  },
  {
   "cell_type": "code",
   "execution_count": 10,
   "id": "e7e67383-928a-4805-b292-2a2a14f8cedf",
   "metadata": {},
   "outputs": [],
   "source": [
    "# Train-test split\n",
    "\n",
    "train_size = int(len(airP) * 0.7)\n",
    "train = airP.iloc[:train_size]\n",
    "train = airP.iloc[train_size:]"
   ]
  },
  {
   "cell_type": "code",
   "execution_count": null,
   "id": "71162d6d-6d2c-4dd5-bbe3-d7adcf167294",
   "metadata": {},
   "outputs": [],
   "source": [
    "# ARIMA MODEL\n",
    "model_arima = ARIMA(train['passenger'], order=(1,2,1))\n",
    "model_arima_fit = model_arima.fit()\n",
    "arima_pred = model_arima_fit.pred(start = len(train), end = len(airP) - 1)"
   ]
  },
  {
   "cell_type": "code",
   "execution_count": null,
   "id": "df19ee28-08e4-436f-b4e8-01a87c9e1fd9",
   "metadata": {},
   "outputs": [],
   "source": [
    "# Add ARIMA prediction to dataframe\n",
    "\n",
    "airP['arimaPred'] = np.nan\n",
    "airP.iloc[train_size:, airP.columns.get_loc('arimaPred')] = arima_pred.values\n",
    "print(airP.tail())"
   ]
  },
  {
   "cell_type": "code",
   "execution_count": null,
   "id": "a55be1f7-638e-4b23-a6d4-b787e68fb4a5",
   "metadata": {},
   "outputs": [],
   "source": [
    "# To calculate P and Q for SARIMAX\n",
    "airP['diff_combined'] = airP['passengers'].diff(2).diff(12)"
   ]
  },
  {
   "cell_type": "code",
   "execution_count": null,
   "id": "e40cb572-23d4-4d8e-888c-21507669708f",
   "metadata": {},
   "outputs": [],
   "source": [
    "plot_pacf(airP['diff_combined'].dropna(), lags = 50)\n",
    "plt.title(\"PACF - Seasonal Differencing\")\n",
    "plt.show()"
   ]
  },
  {
   "cell_type": "code",
   "execution_count": null,
   "id": "f654969c-c46e-456d-84ee-ad8d408b929c",
   "metadata": {},
   "outputs": [],
   "source": [
    "plot_acf(airP['diff_combined'].dropna(), lags = 50)\n",
    "plt.title(\"ACF = Seasonal Differencing\")\n",
    "plt.show()"
   ]
  },
  {
   "cell_type": "code",
   "execution_count": null,
   "id": "7a9ce598-e819-41bf-81a8-0c72c809d015",
   "metadata": {},
   "outputs": [],
   "source": [
    "model_sarimax = SARIMAX(train['passengers'], order = (1, 2, 1), seasonal_order = (1, 2, 1, 12))\n",
    "model_sarimax_fit = model_sarimax.fit()\n",
    "sarimax_pred = model_sarimax_fit.predict(start = len(train), end = len(airP) - 1)"
   ]
  },
  {
   "cell_type": "code",
   "execution_count": null,
   "id": "b2413d5a-9159-402c-bfff-b1147e6230f9",
   "metadata": {},
   "outputs": [],
   "source": [
    "# Add SARIMAX prediction to dataframe\n",
    "\n",
    "airP['sarimaxPred'] = np.nan\n",
    "airP.iloc[train_size:, airP.columns.get_loc('sarimaxPred')] = sarimax_pred.values\n",
    "print(airP.tail(20))"
   ]
  },
  {
   "cell_type": "code",
   "execution_count": null,
   "id": "3f406ff1-3bb8-4435-a19e-395f456de256",
   "metadata": {},
   "outputs": [],
   "source": [
    "# Plot Predictions\n",
    "\n",
    "plt.figure(figsize = (10, 5))\n",
    "sns.lineplot(x = airP.index, y = airP['passengers'], label = 'Actual Passengers')\n",
    "sns.lineplot(x = airP.index, y = airP['arimaPred'], label = 'ARIMA Prediction')\n",
    "sns.lineplot(x = airP.index, y = airP['sarimaxPred'], label = 'SARIMAX Prediction')\n",
    "plt.title('Actual vs Predicted (ARIMA and SARIMAX)')\n",
    "plt.legend()\n",
    "plt.show()"
   ]
  },
  {
   "cell_type": "code",
   "execution_count": null,
   "id": "0fae00ee-0031-4a02-8d8b-2e06196734e7",
   "metadata": {},
   "outputs": [],
   "source": [
    "# Future Forecast using SARIMAX\n",
    "\n",
    "future_dates = pd.DataFrame(pd.date_range(start = '1961-01-01', end = '1962-12-01', freq = 'MS'), columns = ['Dates'])\n",
    "future_dates.set_index('Dates', inplace = True)"
   ]
  },
  {
   "cell_type": "code",
   "execution_count": null,
   "id": "9d169482-ed15-43fa-8ee9-ca9a80223654",
   "metadata": {},
   "outputs": [],
   "source": [
    "future_forecast = model_sarimax_fit.predict(start = future_dates.index[0], end = future_dates.index[0], end = future_dates.index[-1])\n",
    "print(future_forecast)"
   ]
  },
  {
   "cell_type": "code",
   "execution_count": null,
   "id": "8d914734-c095-4313-b928-143f126052c8",
   "metadata": {},
   "outputs": [],
   "source": [
    "# Plot Future Forecast\n",
    "\n",
    "plt.figure(figsize = (10, 5))\n",
    "sns.lineplot(x = airP.index"
   ]
  },
  {
   "cell_type": "code",
   "execution_count": null,
   "id": "ec3c6a3a-82c1-4692-a2ae-801a5b482d46",
   "metadata": {},
   "outputs": [],
   "source": [
    "Model Evaluation\n",
    "airP = airP.dropna()"
   ]
  },
  {
   "cell_type": "code",
   "execution_count": null,
   "id": "a1d99188-d671-4974-b767-02c66a982eea",
   "metadata": {},
   "outputs": [],
   "source": [
    "# ARIMA Metrics\n",
    "\n",
    "arima_mae = mean_absolute_error(airP['passengers'], airP['arimaPred'])\n",
    "arima_mse = mean_squared_error(airP['passengers'], airP['arimaPred'])\n",
    "arima_rmse = math.sqrt(arima_mse)\n",
    "arima_r2 = r2_score(airP['passengers'], airP['arimaPred'])\n",
    "print(f\"ARIMA -> MAE: {arima_mae:.2f}, RMSE: {arima_rmse:.2f}, R^2: {arima_r2:.2f}\")"
   ]
  },
  {
   "cell_type": "code",
   "execution_count": null,
   "id": "48716e0e-36bf-4f65-813b-a499668e23b8",
   "metadata": {},
   "outputs": [],
   "source": [
    "# SARIMAX Metrics\n",
    "\n",
    "sarimax_mae = mean_absolute_error(airP['passengers'], airP['sarimaxPred'])\n",
    "sarimax_mse = mean_squared_error(airP['passengers'], airP['sarimaxPred'])\n",
    "sarimax_rmse = math.sqrt(sarimax_mse)\n",
    "sarimax_r2 = r2_score(airP['passengers'], airP['sarimaxPred'])\n",
    "print(f\"SARIMAX -> MAE: {sarimax_mae:.2f}, RMSE: {sarimax_rmse:.2f}, R^2: {sarimax_r2:.2f}\")"
   ]
  },
  {
   "cell_type": "code",
   "execution_count": null,
   "id": "d06a801c-4208-4fa2-97e6-d04b5e120476",
   "metadata": {},
   "outputs": [],
   "source": [
    "# 1. Perform Time Series Analysis on monthly-cola-production-in-austr.csv dataset.\n",
    "# 2. Perform Time Series Analysis on gold_price_data.csv dataset."
   ]
  },
  {
   "cell_type": "code",
   "execution_count": null,
   "id": "7578cdfe-922f-470b-8814-6a941e7e6184",
   "metadata": {},
   "outputs": [],
   "source": []
  }
 ],
 "metadata": {
  "kernelspec": {
   "display_name": "Python 3 (ipykernel)",
   "language": "python",
   "name": "python3"
  },
  "language_info": {
   "codemirror_mode": {
    "name": "ipython",
    "version": 3
   },
   "file_extension": ".py",
   "mimetype": "text/x-python",
   "name": "python",
   "nbconvert_exporter": "python",
   "pygments_lexer": "ipython3",
   "version": "3.12.7"
  }
 },
 "nbformat": 4,
 "nbformat_minor": 5
}
