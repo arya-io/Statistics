{
 "cells": [
  {
   "cell_type": "code",
   "execution_count": 4,
   "id": "fbd5c1cd-efbc-4af2-88cb-d35477af9bae",
   "metadata": {},
   "outputs": [
    {
     "name": "stderr",
     "output_type": "stream",
     "text": [
      "[nltk_data] Downloading package vader_lexicon to\n",
      "[nltk_data]     C:\\Users\\dbda.STUDENTSDC\\AppData\\Roaming\\nltk_data...\n"
     ]
    },
    {
     "data": {
      "text/plain": [
       "True"
      ]
     },
     "execution_count": 4,
     "metadata": {},
     "output_type": "execute_result"
    }
   ],
   "source": [
    "# Sentiment analysis using VADER \n",
    "import nltk\n",
    "nltk.download('vader_lexicon')"
   ]
  },
  {
   "cell_type": "code",
   "execution_count": 5,
   "id": "b373c527-a026-40f9-9525-37eca7ce499f",
   "metadata": {},
   "outputs": [],
   "source": [
    "# may need pip install vader Sentiment\n",
    "\n",
    "from nltk.sentiment.vader import SentimentIntensityAnalyzer"
   ]
  },
  {
   "cell_type": "code",
   "execution_count": 6,
   "id": "ecb216dc-3d2a-4f66-aee3-3469ad947088",
   "metadata": {},
   "outputs": [],
   "source": [
    "# Create a SentimentIntensityAnalyzer\n",
    "\n",
    "sid = SentimentIntensityAnalyzer()"
   ]
  },
  {
   "cell_type": "code",
   "execution_count": 9,
   "id": "11c12941-e71b-4869-8c40-e7520f5a536a",
   "metadata": {},
   "outputs": [],
   "source": [
    "# Example Sentences\n",
    "\n",
    "sentences = [\n",
    "                \"I am going to reach great heights in life...just need time.\",\n",
    "                \"Arya is the most humble and generous person I meet... \",\n",
    "                \"I'm sure I'll love this movie.\",\n",
    "                \"I'm going to do Awesome in Life!!!\",\n",
    "                \"I do love my life.\",\n",
    "                \"I love to live life in most adventurous and colourful way.\"]"
   ]
  },
  {
   "cell_type": "code",
   "execution_count": 10,
   "id": "ee740f3f-61e9-4c11-98af-6829f98cc052",
   "metadata": {},
   "outputs": [
    {
     "name": "stdout",
     "output_type": "stream",
     "text": [
      "Sentence: I am going to reach great heights in life...just need time.\n",
      "Sentiment Scores: {'neg': 0.0, 'neu': 0.606, 'pos': 0.394, 'compound': 0.6369}\n",
      "Sentiment: Positive\n",
      "\n",
      "Sentence: Me and Arya  \n",
      "Sentiment Scores: {'neg': 0.0, 'neu': 1.0, 'pos': 0.0, 'compound': 0.0}\n",
      "Sentiment: Negative\n",
      "\n",
      "Sentence: I'm sure I'll love this movie.\n",
      "Sentiment Scores: {'neg': 0.0, 'neu': 0.381, 'pos': 0.619, 'compound': 0.7579}\n",
      "Sentiment: Positive\n",
      "\n",
      "Sentence: I'm going to do Awesome in Life!!!\n",
      "Sentiment Scores: {'neg': 0.0, 'neu': 0.547, 'pos': 0.453, 'compound': 0.7163}\n",
      "Sentiment: Positive\n",
      "\n",
      "Sentence: I do love my life.\n",
      "Sentiment Scores: {'neg': 0.0, 'neu': 0.417, 'pos': 0.583, 'compound': 0.6369}\n",
      "Sentiment: Positive\n",
      "\n",
      "Sentence: I love to live life in most adventurous and colourful way.\n",
      "Sentiment Scores: {'neg': 0.0, 'neu': 0.537, 'pos': 0.463, 'compound': 0.7841}\n",
      "Sentiment: Positive\n",
      "\n"
     ]
    }
   ],
   "source": [
    "# Analyse sentiment for each sentence\n",
    "\n",
    "for sentence in sentences:\n",
    "    sentiment_scores = sid.polarity_scores(sentence)\n",
    "    print(f\"Sentence: {sentence}\")\n",
    "    print(f\"Sentiment Scores: {sentiment_scores}\")\n",
    "\n",
    "    if sentiment_scores['compound'] >= 0.05:\n",
    "        print(f\"Sentiment: Positive\\n\")\n",
    "    elif sentiment_scores['compound'] < 0.05:\n",
    "        print(f\"Sentiment: Negative\\n\")\n",
    "    else:\n",
    "        print(f\"Sentiment: Neutral\\n\")"
   ]
  },
  {
   "cell_type": "code",
   "execution_count": null,
   "id": "d195ae87-ad23-406d-972d-6848be0a7bdd",
   "metadata": {},
   "outputs": [],
   "source": [
    "# Determine sentiment based on the compound score\n",
    "\n",
    "# Why 0.05? Because human sentences rarely show extreme sentiments, so we need to use a low threshold.\n",
    "\n",
    "# Also, on social media etc, the sentences are quite short, making it difficult to extract sentiment\n",
    "\n",
    "# Otherwise we will miss sentiments in many sentences."
   ]
  },
  {
   "cell_type": "code",
   "execution_count": null,
   "id": "31b4762f-26e7-4f5a-9415-b7bdfe686006",
   "metadata": {},
   "outputs": [],
   "source": []
  }
 ],
 "metadata": {
  "kernelspec": {
   "display_name": "Python 3 (ipykernel)",
   "language": "python",
   "name": "python3"
  },
  "language_info": {
   "codemirror_mode": {
    "name": "ipython",
    "version": 3
   },
   "file_extension": ".py",
   "mimetype": "text/x-python",
   "name": "python",
   "nbconvert_exporter": "python",
   "pygments_lexer": "ipython3",
   "version": "3.12.7"
  }
 },
 "nbformat": 4,
 "nbformat_minor": 5
}
