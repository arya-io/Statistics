{
 "cells": [
  {
   "cell_type": "code",
   "execution_count": 5,
   "id": "63bd6a4a-6ae2-4006-a34d-26c1c0a1a9e9",
   "metadata": {},
   "outputs": [
    {
     "ename": "ModuleNotFoundError",
     "evalue": "No module named 'transformers'",
     "output_type": "error",
     "traceback": [
      "\u001b[31m---------------------------------------------------------------------------\u001b[39m",
      "\u001b[31mModuleNotFoundError\u001b[39m                       Traceback (most recent call last)",
      "\u001b[36mCell\u001b[39m\u001b[36m \u001b[39m\u001b[32mIn[5]\u001b[39m\u001b[32m, line 1\u001b[39m\n\u001b[32m----> \u001b[39m\u001b[32m1\u001b[39m \u001b[38;5;28;01mfrom\u001b[39;00m\u001b[38;5;250m \u001b[39m\u001b[34;01mtransformers\u001b[39;00m\u001b[38;5;250m \u001b[39m\u001b[38;5;28;01mimport\u001b[39;00m pipeline\n",
      "\u001b[31mModuleNotFoundError\u001b[39m: No module named 'transformers'"
     ]
    }
   ],
   "source": [
    "from transformers import pipeline"
   ]
  },
  {
   "cell_type": "code",
   "execution_count": null,
   "id": "b83ba7c0-11d8-45ab-a093-4264adadc1c9",
   "metadata": {},
   "outputs": [],
   "source": [
    "# Create a sentiment-analysis pipeline\n",
    "\n",
    "classifier = pipeline(\"sentiment-analysis\")"
   ]
  },
  {
   "cell_type": "code",
   "execution_count": null,
   "id": "5cd0b6f0-799f-4e32-b124-925cc14384da",
   "metadata": {},
   "outputs": [],
   "source": [
    "# Example Sentences\n",
    "\n",
    "sentences = [\n",
    "                \"I am going to reach great heights in life...just need time.\",\n",
    "                \"Arya is the most humble and generous person I meet... \",\n",
    "                \"I'm sure I'll love this movie.\",\n",
    "                \"I'm going to do Awesome in Life!!!\",\n",
    "                \"I do love my life.\",\n",
    "                \"I love to live life in most adventurous and colourful way.\"]"
   ]
  },
  {
   "cell_type": "code",
   "execution_count": null,
   "id": "2fbabd7c-ef9a-4f42-93d4-0d2aaed49059",
   "metadata": {},
   "outputs": [],
   "source": [
    "# Analyze each sentence\n",
    "\n",
    "for sentence in sentences:\n",
    "\n",
    "    result = classifier(sentence)[0]\n",
    "    label = result['label']\n",
    "    score = result['score']\n",
    "\n",
    "    print(f\"Sentence: {sentence}"
   ]
  }
 ],
 "metadata": {
  "kernelspec": {
   "display_name": "Python 3 (ipykernel)",
   "language": "python",
   "name": "python3"
  },
  "language_info": {
   "codemirror_mode": {
    "name": "ipython",
    "version": 3
   },
   "file_extension": ".py",
   "mimetype": "text/x-python",
   "name": "python",
   "nbconvert_exporter": "python",
   "pygments_lexer": "ipython3",
   "version": "3.12.7"
  }
 },
 "nbformat": 4,
 "nbformat_minor": 5
}
