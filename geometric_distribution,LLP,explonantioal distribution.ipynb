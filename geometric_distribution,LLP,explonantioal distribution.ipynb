{
 "cells": [
  {
   "cell_type": "markdown",
   "id": "22afb91a-bfed-4cde-9df2-d3505505030c",
   "metadata": {},
   "source": [
    "# Geometric distribution"
   ]
  },
  {
   "cell_type": "code",
   "execution_count": 2,
   "id": "3d3b65b7-6c1c-407e-a948-bda449b88b5f",
   "metadata": {},
   "outputs": [],
   "source": [
    "import pandas as pd\n",
    "import numpy as np \n",
    "import matplotlib.pyplot as plt"
   ]
  },
  {
   "cell_type": "code",
   "execution_count": 3,
   "id": "449f0cef-0eb9-415b-a22a-66c9b7c3ebda",
   "metadata": {},
   "outputs": [],
   "source": [
    "df=pd.read_csv(\"tips.csv\")"
   ]
  },
  {
   "cell_type": "code",
   "execution_count": 4,
   "id": "68748a93-662c-421b-a780-d16582e0bb22",
   "metadata": {},
   "outputs": [],
   "source": [
    "# Define threshould for a generous tipper \n",
    "avg_tip=df['tip'].mean()\n",
    "\n",
    "generous_tippers=df[df['tip']>avg_tip]"
   ]
  },
  {
   "cell_type": "code",
   "execution_count": 5,
   "id": "8288ef9d-97ac-4c0c-ba25-a8861719303b",
   "metadata": {},
   "outputs": [
    {
     "name": "stdout",
     "output_type": "stream",
     "text": [
      "0.4959016393442623\n"
     ]
    }
   ],
   "source": [
    "# Calculate the probabiplity of the generous tipper\n",
    "\n",
    "p=len(generous_tippers)/len(df)\n",
    "print(p)\n",
    "# Probability that a customer giving above average tip = around 49.5%"
   ]
  },
  {
   "cell_type": "code",
   "execution_count": 6,
   "id": "6073f02e-d5ad-46e3-8625-0c1bcb299049",
   "metadata": {},
   "outputs": [],
   "source": [
    "# Expected numbers of customers untill the first generous tipper (geometric distribution)\n",
    "# As we know : expected value of the geometric distirbution is : 1/p\n",
    "\n",
    "expected_trials =1/p\n",
    "\n",
    "# To get the first genourous tipper , we would need to wait for 2 customers"
   ]
  },
  {
   "cell_type": "code",
   "execution_count": 12,
   "id": "b8247847-6aa2-47c8-becd-128493ffa0a4",
   "metadata": {},
   "outputs": [],
   "source": [
    "# Simulate the geometric distribution for the demonstration\n",
    "# geometric(p) : this function generates random values following a geometric distribution , which models the number of trials\n",
    "# (or attempts) required before the first success occurs \n",
    "# p is the probability of success on each trial \n",
    "# (i.e. the probability of a customer tipping generously\n",
    "# find : how many customers did we have to wait before the first generous tipper :\n",
    "# Set the probability of the success p (0.5 to get an expected value of two trials\n",
    "# p=0.99 ... keep manually changing this value to see the impact of geometric distribution"
   ]
  },
  {
   "cell_type": "code",
   "execution_count": 13,
   "id": "a342c6a2-58a4-4cdb-9939-86f34395e8b4",
   "metadata": {},
   "outputs": [
    {
     "name": "stdout",
     "output_type": "stream",
     "text": [
      "[ 1  1  1  1  1  1  1  6  1  2  3  3  1  2  1  2  1  1  2  1  2  1  1  2\n",
      "  1  3  1  1  1  7  1  1  2  3  3  1  7  1  1  1  1  1  1  3  2  3  3  1\n",
      "  2  7  1  2  2  2  5  1  4  5  1  1  1  3  2  3  1  1  6  1  1  2  2  1\n",
      "  1  3  1  1  2  2  1  1  1  3  4  1  2  1  1  1  1  4  1  2  4  1  1  2\n",
      "  1  1  2  1  2  1  2  1  5  1  3  5  1  3  2  1  1  1  1  3  5  1  1  3\n",
      "  6  1  2  1  3  1  1  1  2  2  1  1  1  7  2  1  1  1  7  1  1  1  1  3\n",
      "  1  3  1  1  3  1  3  1  3  2  1  4  5  1  1  2  3  1  3  2  1  3  2  4\n",
      "  2  2  2  6  5  3  1  3  2  3  1  1  1  1  2  1  1  2  1  1  1  3  1  4\n",
      "  3  1  2  1  8  4  1  1  1  1  1  5  1  1  2  1  2  2  1  3  2  1  1  1\n",
      "  1  1  1  1  1  3  5  1  3  3  1  5  1  2  1  1  1  3  2  1  2  4  2  1\n",
      "  1  2  1  2  1  1  1  2  1  3  2  1  1  1  1  2  4  2  1  1  9  1  1  4\n",
      "  1 10  2  1  1  3  2  1  3  1  1  1  1  2  2  2  3  3  2  1  3  4  4  3\n",
      "  2  1  4  1  1  1  1  2  1  4  1  4  2  1  2  2  5  1  1  2  1  1  3  1\n",
      "  1  2  2  2  1  3  2  1  2  3  1  2  1  1  1  2  3  1  9  1  2  1  1  2\n",
      "  1  3  1  4  6  2  1  1  3  2  1  5  1  7  1  1  1  2  1  3  1  1  5  1\n",
      "  2  3  4  1  1  2  2  1  1  1  3  4  3  2  1  1  2  2  1  1  2  2  1  3\n",
      "  1  3  3  1  1  2  1  1  2  1  2  2  2  1  1  1  2  1  1  4  1  1  2  2\n",
      "  1  1  1  3  1  2  1  2  2  2  1  2  4  1  3  1  1  1  2  7  1  1  2  4\n",
      "  1  1  4  1  1  2  2  1  1  2  1  2  1  3  1  1  1  1  2  1  2  1  1  3\n",
      "  1  1  1  1  1  2  3  2  2  2  1  3  4  1  2  4  3  3  1  2  1  3  2  1\n",
      "  1  2  2  2  5  1  2  2  1  1  3  1  1  1  5  2  5  2  1  2  1  1  1  3\n",
      "  1  2  1  1  1  3  3  1  1  2  1  1  2  1  3  1  1  2  1  1  1  2  1  3\n",
      "  2  4  1  2  1  1  1  4  1  1  1  3  2  2  2  2  2  3  2  1  1  1  1  4\n",
      "  1  2  2  2  1  1  1  1  1  1  3  3  1  3  2  2  4  3  2  3  3  1  3  1\n",
      "  1  1  1  1  1  2  2  2  3  2  1  3  1  1  1  2  1  3  1  5  1  5  1  1\n",
      "  5  1  3  2  1  3  1  4  2  1  1  5  1  2  8  2  2  4  1  1  2  1  1  4\n",
      "  1  1  1  1  1  1  2  1  3  2  1  1  2  1  1  2  2  1  2  1  1  1  5  1\n",
      "  2  1  1  1  2  2  1  2  1  1  4  3  1  1  1  5  1  2  2  4  2  3  1  1\n",
      "  2  1  4  1  1  1  2  3  1  2  2  1  1  1  1  2  1  1  2  1  2  5  2  5\n",
      "  2  4  2  2  1  1  1  3  2  2  1  1  1  1  4  4  5  2  3  2  2  1  1  4\n",
      "  4  1  1  1  4  1  4  2  2  4  3  3  2  1  4  1  1  7  1  3  1  2  8  4\n",
      "  3  1  2  2  1  3  1  2  3  1  1  3  2  2  1  3  1  2  3  1  2  1  3  3\n",
      "  1  5  2  4  2  3  1  2  2  2  1  2  3  1  1  3  1  2  2  1  1  3  2  1\n",
      "  1  2  1  2  1  1  1  3  1  2  6  1  1  1  1  1  1  1  1  1  1  2  2  2\n",
      "  5  4  3  2  1  1  1  2  4  6  1  1  1  1  1  7  2  1  1  2  3  2  1  1\n",
      "  6  1  2  2  4  1  3  1  1  1  1  3  1  1  1  1  2  1  1  2  2  1  2  1\n",
      "  2  1  1  1  4  1  1  2  4  1  1  1  2  1  2  3  4  3  1  2  2  1  1  1\n",
      "  1  1  1  3  1  2  1  2  3  1  1  2  3  1  4  2  1  2  1  2  3  1  1  3\n",
      "  1  3  2  1  2  1  2  4  1  3  4  2  2  4  2  3  2  2  2  2  1  1  2  5\n",
      "  3  5  1  1  1  1  1  2  2  1  3  1  2  2  2  4  1  2  4  1  1  2  2  4\n",
      "  1  1  1  3  7  1  3  3  2  1  3  2  1  2  4  1  1  4  5  1  1  1  1  3\n",
      "  5  1  1  4  5  1  1  3  1  1  2  1  2  2  1  2]\n"
     ]
    }
   ],
   "source": [
    "# Simulate the geometric distribution for 1000 trials\n",
    "\n",
    "simulated_trials = np.random.geometric(p, size=1000)\n",
    "print(simulated_trials)"
   ]
  },
  {
   "cell_type": "code",
   "execution_count": 14,
   "id": "c3e6ef8c-f73a-4bfa-9143-3fbc0eb4d0c7",
   "metadata": {},
   "outputs": [
    {
     "data": {
      "image/png": "[encoded data removed]",
      "text/plain": [
       "<Figure size 640x480 with 1 Axes>"
      ]
     },
     "metadata": {},
     "output_type": "display_data"
    }
   ],
   "source": [
    "# Plot the distribution \n",
    "plt.hist(simulated_trials,bins=20,density=True)\n",
    "plt.title(\"Geometric Distribution : Number of customers untill a Generous Tipper\")\n",
    "plt.xlabel(\"Number of Customers\")\n",
    "plt.ylabel(\"Frequency\")\n",
    "plt.show()"
   ]
  },
  {
   "cell_type": "code",
   "execution_count": 15,
   "id": "9b76ffdd-0628-45c0-9aed-dc8d6f1ac4a4",
   "metadata": {},
   "outputs": [
    {
     "name": "stdout",
     "output_type": "stream",
     "text": [
      "Expected number of customers to find a generous tipper : 2.02\n"
     ]
    }
   ],
   "source": [
    "# Output the expected trials \n",
    "print(f\"Expected number of customers to find a generous tipper : {expected_trials:.2f}\")"
   ]
  },
  {
   "cell_type": "markdown",
   "id": "4190b327-3421-4be7-9679-25c964417b00",
   "metadata": {},
   "source": [
    "# Practice problem : \n",
    "# 1. For combined cricket dataset , predict the first instance when your favourite batsman will score a half century at least"
   ]
  },
  {
   "cell_type": "code",
   "execution_count": 33,
   "id": "55397456-4179-4ed1-9479-696a388a58e5",
   "metadata": {},
   "outputs": [],
   "source": [
    "df1=pd.read_csv(\"Men ODI Player Innings Stats - 20th Century.csv\")\n",
    "df2=pd.read_csv(\"Men ODI Player Innings Stats - 21st Century.csv\")"
   ]
  },
  {
   "cell_type": "code",
   "execution_count": 35,
   "id": "8e552033-8047-4915-bf60-325a1a488f75",
   "metadata": {},
   "outputs": [],
   "source": [
    "df=pd.concat([df1,df2])"
   ]
  },
  {
   "cell_type": "code",
   "execution_count": 36,
   "id": "8901f1b3-2d57-4e11-bad1-e9307949b31c",
   "metadata": {},
   "outputs": [
    {
     "data": {
      "text/html": [
       "<div>\n",
       "<style scoped>\n",
       "    .dataframe tbody tr th:only-of-type {\n",
       "        vertical-align: middle;\n",
       "    }\n",
       "\n",
       "    .dataframe tbody tr th {\n",
       "        vertical-align: top;\n",
       "    }\n",
       "\n",
       "    .dataframe thead th {\n",
       "        text-align: right;\n",
       "    }\n",
       "</style>\n",
       "<table border=\"1\" class=\"dataframe\">\n",
       "  <thead>\n",
       "    <tr style=\"text-align: right;\">\n",
       "      <th></th>\n",
       "      <th>Innings Player</th>\n",
       "      <th>Innings Runs Scored</th>\n",
       "      <th>Innings Runs Scored Num</th>\n",
       "      <th>Innings Minutes Batted</th>\n",
       "      <th>Innings Batted Flag</th>\n",
       "      <th>Innings Not Out Flag</th>\n",
       "      <th>Innings Balls Faced</th>\n",
       "      <th>Innings Boundary Fours</th>\n",
       "      <th>Innings Boundary Sixes</th>\n",
       "      <th>Innings Batting Strike Rate</th>\n",
       "      <th>...</th>\n",
       "      <th>Innings Overs Bowled</th>\n",
       "      <th>Innings Bowled Flag</th>\n",
       "      <th>Innings Maidens Bowled</th>\n",
       "      <th>Innings Runs Conceded</th>\n",
       "      <th>Innings Wickets Taken</th>\n",
       "      <th>4 Wickets</th>\n",
       "      <th>5 Wickets</th>\n",
       "      <th>10 Wickets</th>\n",
       "      <th>Innings Wickets Taken Buckets</th>\n",
       "      <th>Innings Economy Rate</th>\n",
       "    </tr>\n",
       "  </thead>\n",
       "  <tbody>\n",
       "    <tr>\n",
       "      <th>0</th>\n",
       "      <td>RA Smith</td>\n",
       "      <td>167*</td>\n",
       "      <td>167</td>\n",
       "      <td>208</td>\n",
       "      <td>1.0</td>\n",
       "      <td>1.0</td>\n",
       "      <td>163</td>\n",
       "      <td>17</td>\n",
       "      <td>3</td>\n",
       "      <td>102.45</td>\n",
       "      <td>...</td>\n",
       "      <td>NaN</td>\n",
       "      <td>NaN</td>\n",
       "      <td>NaN</td>\n",
       "      <td>NaN</td>\n",
       "      <td>NaN</td>\n",
       "      <td>NaN</td>\n",
       "      <td>NaN</td>\n",
       "      <td>NaN</td>\n",
       "      <td>NaN</td>\n",
       "      <td>NaN</td>\n",
       "    </tr>\n",
       "    <tr>\n",
       "      <th>1</th>\n",
       "      <td>DI Gower</td>\n",
       "      <td>158</td>\n",
       "      <td>158</td>\n",
       "      <td>177</td>\n",
       "      <td>1.0</td>\n",
       "      <td>0.0</td>\n",
       "      <td>118</td>\n",
       "      <td>18</td>\n",
       "      <td>4</td>\n",
       "      <td>133.89</td>\n",
       "      <td>...</td>\n",
       "      <td>NaN</td>\n",
       "      <td>NaN</td>\n",
       "      <td>NaN</td>\n",
       "      <td>NaN</td>\n",
       "      <td>NaN</td>\n",
       "      <td>NaN</td>\n",
       "      <td>NaN</td>\n",
       "      <td>NaN</td>\n",
       "      <td>NaN</td>\n",
       "      <td>NaN</td>\n",
       "    </tr>\n",
       "    <tr>\n",
       "      <th>2</th>\n",
       "      <td>CWJ Athey</td>\n",
       "      <td>142*</td>\n",
       "      <td>142</td>\n",
       "      <td>208</td>\n",
       "      <td>1.0</td>\n",
       "      <td>1.0</td>\n",
       "      <td>172</td>\n",
       "      <td>14</td>\n",
       "      <td>0</td>\n",
       "      <td>82.55</td>\n",
       "      <td>...</td>\n",
       "      <td>NaN</td>\n",
       "      <td>NaN</td>\n",
       "      <td>NaN</td>\n",
       "      <td>NaN</td>\n",
       "      <td>NaN</td>\n",
       "      <td>NaN</td>\n",
       "      <td>NaN</td>\n",
       "      <td>NaN</td>\n",
       "      <td>NaN</td>\n",
       "      <td>NaN</td>\n",
       "    </tr>\n",
       "    <tr>\n",
       "      <th>3</th>\n",
       "      <td>GA Gooch</td>\n",
       "      <td>142</td>\n",
       "      <td>142</td>\n",
       "      <td>-</td>\n",
       "      <td>1.0</td>\n",
       "      <td>0.0</td>\n",
       "      <td>134</td>\n",
       "      <td>14</td>\n",
       "      <td>0</td>\n",
       "      <td>105.97</td>\n",
       "      <td>...</td>\n",
       "      <td>NaN</td>\n",
       "      <td>NaN</td>\n",
       "      <td>NaN</td>\n",
       "      <td>NaN</td>\n",
       "      <td>NaN</td>\n",
       "      <td>NaN</td>\n",
       "      <td>NaN</td>\n",
       "      <td>NaN</td>\n",
       "      <td>NaN</td>\n",
       "      <td>NaN</td>\n",
       "    </tr>\n",
       "    <tr>\n",
       "      <th>4</th>\n",
       "      <td>DL Amiss</td>\n",
       "      <td>137</td>\n",
       "      <td>137</td>\n",
       "      <td>-</td>\n",
       "      <td>1.0</td>\n",
       "      <td>0.0</td>\n",
       "      <td>147</td>\n",
       "      <td>18</td>\n",
       "      <td>0</td>\n",
       "      <td>93.19</td>\n",
       "      <td>...</td>\n",
       "      <td>NaN</td>\n",
       "      <td>NaN</td>\n",
       "      <td>NaN</td>\n",
       "      <td>NaN</td>\n",
       "      <td>NaN</td>\n",
       "      <td>NaN</td>\n",
       "      <td>NaN</td>\n",
       "      <td>NaN</td>\n",
       "      <td>NaN</td>\n",
       "      <td>NaN</td>\n",
       "    </tr>\n",
       "  </tbody>\n",
       "</table>\n",
       "<p>5 rows × 28 columns</p>\n",
       "</div>"
      ],
      "text/plain": [
       "  Innings Player Innings Runs Scored Innings Runs Scored Num  \\\n",
       "0       RA Smith                167*                     167   \n",
       "1       DI Gower                 158                     158   \n",
       "2      CWJ Athey                142*                     142   \n",
       "3       GA Gooch                 142                     142   \n",
       "4       DL Amiss                 137                     137   \n",
       "\n",
       "  Innings Minutes Batted  Innings Batted Flag  Innings Not Out Flag  \\\n",
       "0                    208                  1.0                   1.0   \n",
       "1                    177                  1.0                   0.0   \n",
       "2                    208                  1.0                   1.0   \n",
       "3                      -                  1.0                   0.0   \n",
       "4                      -                  1.0                   0.0   \n",
       "\n",
       "  Innings Balls Faced Innings Boundary Fours Innings Boundary Sixes  \\\n",
       "0                 163                     17                      3   \n",
       "1                 118                     18                      4   \n",
       "2                 172                     14                      0   \n",
       "3                 134                     14                      0   \n",
       "4                 147                     18                      0   \n",
       "\n",
       "  Innings Batting Strike Rate  ... Innings Overs Bowled Innings Bowled Flag  \\\n",
       "0                      102.45  ...                  NaN                 NaN   \n",
       "1                      133.89  ...                  NaN                 NaN   \n",
       "2                       82.55  ...                  NaN                 NaN   \n",
       "3                      105.97  ...                  NaN                 NaN   \n",
       "4                       93.19  ...                  NaN                 NaN   \n",
       "\n",
       "  Innings Maidens Bowled Innings Runs Conceded Innings Wickets Taken  \\\n",
       "0                    NaN                   NaN                   NaN   \n",
       "1                    NaN                   NaN                   NaN   \n",
       "2                    NaN                   NaN                   NaN   \n",
       "3                    NaN                   NaN                   NaN   \n",
       "4                    NaN                   NaN                   NaN   \n",
       "\n",
       "   4 Wickets  5 Wickets 10 Wickets Innings Wickets Taken Buckets  \\\n",
       "0        NaN        NaN        NaN                           NaN   \n",
       "1        NaN        NaN        NaN                           NaN   \n",
       "2        NaN        NaN        NaN                           NaN   \n",
       "3        NaN        NaN        NaN                           NaN   \n",
       "4        NaN        NaN        NaN                           NaN   \n",
       "\n",
       "   Innings Economy Rate  \n",
       "0                   NaN  \n",
       "1                   NaN  \n",
       "2                   NaN  \n",
       "3                   NaN  \n",
       "4                   NaN  \n",
       "\n",
       "[5 rows x 28 columns]"
      ]
     },
     "execution_count": 36,
     "metadata": {},
     "output_type": "execute_result"
    }
   ],
   "source": [
    "df.head()"
   ]
  },
  {
   "cell_type": "code",
   "execution_count": 39,
   "id": "f9aa7ddd-3ba2-4026-adf1-b8eacf73c9c4",
   "metadata": {},
   "outputs": [],
   "source": [
    "df['Innings Runs Scored Num'] = pd.to_numeric(df['Innings Runs Scored Num'], errors='coerce').fillna(0).astype(int)\n",
    "Half_century=df[df['Innings Runs Scored Num']>49]"
   ]
  },
  {
   "cell_type": "code",
   "execution_count": 40,
   "id": "23f85d6d-6427-436d-88c6-d6765fc26991",
   "metadata": {
    "collapsed": true,
    "jupyter": {
     "outputs_hidden": true
    }
   },
   "outputs": [
    {
     "data": {
      "text/html": [
       "<div>\n",
       "<style scoped>\n",
       "    .dataframe tbody tr th:only-of-type {\n",
       "        vertical-align: middle;\n",
       "    }\n",
       "\n",
       "    .dataframe tbody tr th {\n",
       "        vertical-align: top;\n",
       "    }\n",
       "\n",
       "    .dataframe thead th {\n",
       "        text-align: right;\n",
       "    }\n",
       "</style>\n",
       "<table border=\"1\" class=\"dataframe\">\n",
       "  <thead>\n",
       "    <tr style=\"text-align: right;\">\n",
       "      <th></th>\n",
       "      <th>Innings Player</th>\n",
       "      <th>Innings Runs Scored</th>\n",
       "      <th>Innings Runs Scored Num</th>\n",
       "      <th>Innings Minutes Batted</th>\n",
       "      <th>Innings Batted Flag</th>\n",
       "      <th>Innings Not Out Flag</th>\n",
       "      <th>Innings Balls Faced</th>\n",
       "      <th>Innings Boundary Fours</th>\n",
       "      <th>Innings Boundary Sixes</th>\n",
       "      <th>Innings Batting Strike Rate</th>\n",
       "      <th>...</th>\n",
       "      <th>Innings Overs Bowled</th>\n",
       "      <th>Innings Bowled Flag</th>\n",
       "      <th>Innings Maidens Bowled</th>\n",
       "      <th>Innings Runs Conceded</th>\n",
       "      <th>Innings Wickets Taken</th>\n",
       "      <th>4 Wickets</th>\n",
       "      <th>5 Wickets</th>\n",
       "      <th>10 Wickets</th>\n",
       "      <th>Innings Wickets Taken Buckets</th>\n",
       "      <th>Innings Economy Rate</th>\n",
       "    </tr>\n",
       "  </thead>\n",
       "  <tbody>\n",
       "    <tr>\n",
       "      <th>0</th>\n",
       "      <td>RA Smith</td>\n",
       "      <td>167*</td>\n",
       "      <td>167</td>\n",
       "      <td>208</td>\n",
       "      <td>1.0</td>\n",
       "      <td>1.0</td>\n",
       "      <td>163</td>\n",
       "      <td>17</td>\n",
       "      <td>3</td>\n",
       "      <td>102.45</td>\n",
       "      <td>...</td>\n",
       "      <td>NaN</td>\n",
       "      <td>NaN</td>\n",
       "      <td>NaN</td>\n",
       "      <td>NaN</td>\n",
       "      <td>NaN</td>\n",
       "      <td>NaN</td>\n",
       "      <td>NaN</td>\n",
       "      <td>NaN</td>\n",
       "      <td>NaN</td>\n",
       "      <td>NaN</td>\n",
       "    </tr>\n",
       "    <tr>\n",
       "      <th>1</th>\n",
       "      <td>DI Gower</td>\n",
       "      <td>158</td>\n",
       "      <td>158</td>\n",
       "      <td>177</td>\n",
       "      <td>1.0</td>\n",
       "      <td>0.0</td>\n",
       "      <td>118</td>\n",
       "      <td>18</td>\n",
       "      <td>4</td>\n",
       "      <td>133.89</td>\n",
       "      <td>...</td>\n",
       "      <td>NaN</td>\n",
       "      <td>NaN</td>\n",
       "      <td>NaN</td>\n",
       "      <td>NaN</td>\n",
       "      <td>NaN</td>\n",
       "      <td>NaN</td>\n",
       "      <td>NaN</td>\n",
       "      <td>NaN</td>\n",
       "      <td>NaN</td>\n",
       "      <td>NaN</td>\n",
       "    </tr>\n",
       "    <tr>\n",
       "      <th>2</th>\n",
       "      <td>CWJ Athey</td>\n",
       "      <td>142*</td>\n",
       "      <td>142</td>\n",
       "      <td>208</td>\n",
       "      <td>1.0</td>\n",
       "      <td>1.0</td>\n",
       "      <td>172</td>\n",
       "      <td>14</td>\n",
       "      <td>0</td>\n",
       "      <td>82.55</td>\n",
       "      <td>...</td>\n",
       "      <td>NaN</td>\n",
       "      <td>NaN</td>\n",
       "      <td>NaN</td>\n",
       "      <td>NaN</td>\n",
       "      <td>NaN</td>\n",
       "      <td>NaN</td>\n",
       "      <td>NaN</td>\n",
       "      <td>NaN</td>\n",
       "      <td>NaN</td>\n",
       "      <td>NaN</td>\n",
       "    </tr>\n",
       "    <tr>\n",
       "      <th>3</th>\n",
       "      <td>GA Gooch</td>\n",
       "      <td>142</td>\n",
       "      <td>142</td>\n",
       "      <td>-</td>\n",
       "      <td>1.0</td>\n",
       "      <td>0.0</td>\n",
       "      <td>134</td>\n",
       "      <td>14</td>\n",
       "      <td>0</td>\n",
       "      <td>105.97</td>\n",
       "      <td>...</td>\n",
       "      <td>NaN</td>\n",
       "      <td>NaN</td>\n",
       "      <td>NaN</td>\n",
       "      <td>NaN</td>\n",
       "      <td>NaN</td>\n",
       "      <td>NaN</td>\n",
       "      <td>NaN</td>\n",
       "      <td>NaN</td>\n",
       "      <td>NaN</td>\n",
       "      <td>NaN</td>\n",
       "    </tr>\n",
       "    <tr>\n",
       "      <th>4</th>\n",
       "      <td>DL Amiss</td>\n",
       "      <td>137</td>\n",
       "      <td>137</td>\n",
       "      <td>-</td>\n",
       "      <td>1.0</td>\n",
       "      <td>0.0</td>\n",
       "      <td>147</td>\n",
       "      <td>18</td>\n",
       "      <td>0</td>\n",
       "      <td>93.19</td>\n",
       "      <td>...</td>\n",
       "      <td>NaN</td>\n",
       "      <td>NaN</td>\n",
       "      <td>NaN</td>\n",
       "      <td>NaN</td>\n",
       "      <td>NaN</td>\n",
       "      <td>NaN</td>\n",
       "      <td>NaN</td>\n",
       "      <td>NaN</td>\n",
       "      <td>NaN</td>\n",
       "      <td>NaN</td>\n",
       "    </tr>\n",
       "  </tbody>\n",
       "</table>\n",
       "<p>5 rows × 28 columns</p>\n",
       "</div>"
      ],
      "text/plain": [
       "  Innings Player Innings Runs Scored  Innings Runs Scored Num  \\\n",
       "0       RA Smith                167*                      167   \n",
       "1       DI Gower                 158                      158   \n",
       "2      CWJ Athey                142*                      142   \n",
       "3       GA Gooch                 142                      142   \n",
       "4       DL Amiss                 137                      137   \n",
       "\n",
       "  Innings Minutes Batted  Innings Batted Flag  Innings Not Out Flag  \\\n",
       "0                    208                  1.0                   1.0   \n",
       "1                    177                  1.0                   0.0   \n",
       "2                    208                  1.0                   1.0   \n",
       "3                      -                  1.0                   0.0   \n",
       "4                      -                  1.0                   0.0   \n",
       "\n",
       "  Innings Balls Faced Innings Boundary Fours Innings Boundary Sixes  \\\n",
       "0                 163                     17                      3   \n",
       "1                 118                     18                      4   \n",
       "2                 172                     14                      0   \n",
       "3                 134                     14                      0   \n",
       "4                 147                     18                      0   \n",
       "\n",
       "  Innings Batting Strike Rate  ... Innings Overs Bowled Innings Bowled Flag  \\\n",
       "0                      102.45  ...                  NaN                 NaN   \n",
       "1                      133.89  ...                  NaN                 NaN   \n",
       "2                       82.55  ...                  NaN                 NaN   \n",
       "3                      105.97  ...                  NaN                 NaN   \n",
       "4                       93.19  ...                  NaN                 NaN   \n",
       "\n",
       "  Innings Maidens Bowled Innings Runs Conceded Innings Wickets Taken  \\\n",
       "0                    NaN                   NaN                   NaN   \n",
       "1                    NaN                   NaN                   NaN   \n",
       "2                    NaN                   NaN                   NaN   \n",
       "3                    NaN                   NaN                   NaN   \n",
       "4                    NaN                   NaN                   NaN   \n",
       "\n",
       "   4 Wickets  5 Wickets 10 Wickets Innings Wickets Taken Buckets  \\\n",
       "0        NaN        NaN        NaN                           NaN   \n",
       "1        NaN        NaN        NaN                           NaN   \n",
       "2        NaN        NaN        NaN                           NaN   \n",
       "3        NaN        NaN        NaN                           NaN   \n",
       "4        NaN        NaN        NaN                           NaN   \n",
       "\n",
       "   Innings Economy Rate  \n",
       "0                   NaN  \n",
       "1                   NaN  \n",
       "2                   NaN  \n",
       "3                   NaN  \n",
       "4                   NaN  \n",
       "\n",
       "[5 rows x 28 columns]"
      ]
     },
     "execution_count": 40,
     "metadata": {},
     "output_type": "execute_result"
    }
   ],
   "source": [
    "Half_century.head()"
   ]
  },
  {
   "cell_type": "code",
   "execution_count": 44,
   "id": "2a18fb34-4475-4f16-8bdb-6ab98e939335",
   "metadata": {},
   "outputs": [],
   "source": [
    "MS_Dhoni=df[df['Innings Player']=='MS Dhoni']"
   ]
  },
  {
   "cell_type": "code",
   "execution_count": 45,
   "id": "77226890-4304-4b58-9036-07ff24e80af7",
   "metadata": {},
   "outputs": [],
   "source": [
    "MS_Dhoni_H=Half_century[Half_century['Innings Player']=='MS Dhoni']"
   ]
  },
  {
   "cell_type": "code",
   "execution_count": 46,
   "id": "8f13d338-44ac-45f5-9cfd-17a7cf1cb325",
   "metadata": {},
   "outputs": [],
   "source": [
    "p=len(MS_Dhoni_H)/len(MS_Dhoni)"
   ]
  },
  {
   "cell_type": "code",
   "execution_count": 47,
   "id": "a8f10464-9e10-4b86-a913-7336dcac58fc",
   "metadata": {},
   "outputs": [
    {
     "name": "stdout",
     "output_type": "stream",
     "text": [
      "0.11792905081495686\n"
     ]
    }
   ],
   "source": [
    "print(p)"
   ]
  },
  {
   "cell_type": "code",
   "execution_count": 48,
   "id": "0a359921-50a0-4f7e-9d17-c2ff0d2229bc",
   "metadata": {},
   "outputs": [],
   "source": [
    "expected_trials =1/p"
   ]
  },
  {
   "cell_type": "code",
   "execution_count": 49,
   "id": "830360e3-34dd-4d7a-bee1-0839dc477e65",
   "metadata": {},
   "outputs": [
    {
     "name": "stdout",
     "output_type": "stream",
     "text": [
      "[ 1  4 16 23 10 20  6  4  6  6  3  9  1  4  2 24 17 22 12 18  1  2  1  6\n",
      "  2  2  2  2 11 28 10 62  3 14 11 15 16  5  7 15  1  4  6 17  1 10 10  6\n",
      "  7  5  4  8  9  2 19  2 10 11 24  7  4  5  3  2  1  5  2  5  6  1  1 12\n",
      " 10 16  8  2  3  3 10 18  9 10 14  1  9 26  7  1 11 10  1 16  9  1  1 29\n",
      "  5  2  3 11  7  6  3  9 10 11  1  3  7 12 12  7  1  9  4  4  9  4 13  1\n",
      " 10 11  4 18  1 17 10 19  2  7  1  1 29  6  5  1  1  2  3 21  8 11  3  1\n",
      " 16 11  1  1  8  1 11  1  3  1 15 29 15  1 16 10  5  4  6  7  2  5  2  1\n",
      "  2  3 15 11  9  2  5  8 24  2  6  1  8  5  6  2 15  6  7  2  6  1  2 11\n",
      "  3  2  1  3 23  3  1  2  1 13 14  1  3  3  8  1  1 19  5  8  2  6  5  5\n",
      "  4 21 13  5  2 18  5  8  5 10 12 11  7  3 15 13  2 10 46  1  2  3  9 21\n",
      " 11 14 16  8  7  6  1  5  9  8  5  8 12  1  2  2  2  3  4  1  1  4 20  5\n",
      "  8  6  7  9 18  2  3  1 15 10  5  6 13 30  4 10  2  2  7  9  4  7  2 16\n",
      "  3 17  4 41  5  5 42  5  9 12  5  7 21  4  7 23 10 20  2  4 12  8  8 18\n",
      " 20  1  9  9  2  5  1 19  2  9 33 15  1 25  1  2  4 12 10  2  3 21  1 13\n",
      "  9 25  5  4  3 11  8 12 15 24  4 12  5  9  3 19  4  6 40  3  5  1  3 18\n",
      "  4  1 21  4  5  5 11 12  8  2  3 12  2  1  5  4  1  3  1  3 12  3 23  1\n",
      "  2  5  4  3 14  5  8  2  4  7  1  2 15  3  5  5 47  9 14  8  2  1 16 28\n",
      "  4 16 29  3  5  2  7  8  8 12 31 11 19  4 12  3  1  1 14  5 15  8  8  9\n",
      "  2  3  4  9  3  8  8  2 14  1  7  4  1 29 23  4 15  5  1  4 20  1 15  2\n",
      "  5  2 15  3  1  4 29  3 17  4 13  8 10 13  2  6 18  9 18  2 31 19 30  3\n",
      " 14 11  3  8 12  5  8  6 11  6 11 12  1 19 18 15  5  5 13  6 22  5  4  2\n",
      " 24 17  1  4 43  2  1  2  1  1  5  8 23  5  5  1  1 11  4  7  3 21  2  2\n",
      " 17  4 26  7  9 20 19 13  2  3  3 23  4  2  3  5  2  1  1 10 11  7  7  6\n",
      "  2  7  2  8 24  4  6  8 12  5  6 27 11 11 11 13  2  8 29  6  3  1 22  2\n",
      " 19  4  2  6  4  4  2  7 17  1 24  2  9 10 26  9  2 57  6 23  1 13 17 24\n",
      "  2 22  9  5  9 15  7 18  9 15  4  3 11 11 33 19  1 11 13 14 10  4  2  1\n",
      "  1  3  4 16  2  3  7 11  2  8  7 28 10  2  5  3  2  1  3  2  5 21  3  7\n",
      "  2  5  2  2  1 21  7 12 14  9  7  8  1 31 10  2  3  3  2  1  6 23  2  3\n",
      "  1 10  6  7  2 10  3  3 16  8  1  9 20  8  8  7  1 45  6  2  8  5  3 12\n",
      " 12 16 19  2  7 15  3 14  1  1  2  1 19  3 12  1  3  7 10 30  2  4  1 15\n",
      "  9 22  8  3  6  8 23  6  4  3  1  7  4  8  6 14  2  2  1  2  1 37 26 13\n",
      "  8  5  4  4 18 23  1 10  3 10 21  1  3 11  8 19  1  2 45 10  2  6 15  2\n",
      "  7  5  2 10  1 13 16  1  7  3  6  2  1 36 12 14  3  2  5 17  4  5 11  2\n",
      " 15  9  5  2  2  7 14  5 11  2 18  9 11 15  7  5  1  9  3 27  2  4 16  5\n",
      "  5  2  1  1  2  9  2  7  7 17 15 11 26 12  9 30 13 20 12  7 27 22  5 17\n",
      "  9  4  7  9  1 20  6  5  8  2 16  1  2 36 20  6 16  9 14  3  1  6  1 10\n",
      "  5  3  6  6  4 13 20 16  2  9 14 22  9  8 13 11  5  2  3  2  5 17 10 26\n",
      "  1  4  5 10 10 13 25  4  5  5  1  7  6  4  7  6  2  3  6  6  9  8 17  9\n",
      "  1  4  2  1  4  1  3  9  6  9  6 12  3  4  7 12 25 12  4  8 12  4  8 19\n",
      " 16  3  4  6  4  8 16  7  4 24  2  5  2 24 22  4  3  8  6  6  1  2  6  1\n",
      " 11  3 19 13 19 21  7  7  2 19  7  6  3 10  4 13  3  3  3  8  3  7  2  6\n",
      "  9  9  2  3 13 16 12  6  1  1  3 18  1 10 24  5]\n"
     ]
    }
   ],
   "source": [
    "simulated_trials = np.random.geometric(p, size=1000)\n",
    "print(simulated_trials)"
   ]
  },
  {
   "cell_type": "code",
   "execution_count": 50,
   "id": "32f1e699-2645-4c39-83e5-cdffe82b00c0",
   "metadata": {},
   "outputs": [
    {
     "data": {
      "image/png": "[encoded data removed]",
      "text/plain": [
       "<Figure size 640x480 with 1 Axes>"
      ]
     },
     "metadata": {},
     "output_type": "display_data"
    }
   ],
   "source": [
    "# Plot the distribution \n",
    "plt.hist(simulated_trials,bins=20,density=True)\n",
    "plt.title(\"Geometric Distribution : Number of innings until half century\")\n",
    "plt.xlabel(\"Number of innings\")\n",
    "plt.ylabel(\"Frequency\")\n",
    "plt.show()"
   ]
  },
  {
   "cell_type": "code",
   "execution_count": 51,
   "id": "a6895dbd-38c1-49b3-8d88-8c0314a4c00e",
   "metadata": {},
   "outputs": [
    {
     "name": "stdout",
     "output_type": "stream",
     "text": [
      "Expected number of innings untill half century : 8.48\n"
     ]
    }
   ],
   "source": [
    "# Output the expected trials \n",
    "print(f\"Expected number of innings untill half century : {expected_trials:.2f}\")"
   ]
  },
  {
   "cell_type": "code",
   "execution_count": null,
   "id": "89608ddf-b6f3-4f76-90f8-a7d2a66f33fc",
   "metadata": {},
   "outputs": [],
   "source": []
  },
  {
   "cell_type": "raw",
   "id": "d9eee370-9735-4138-aa65-1b428524f640",
   "metadata": {},
   "source": [
    "# Q.2 Is there a statistically relationship between Sachin Tendulkar scoring a century and whether India batted first or second? \n",
    "# i.e. can we say that if India batted first, he was more likely to score a century, or if India batted second, he was more likely \n",
    "# to score a century, or was there no such relationship? (Column 'Innings Number' indicated whether India betted first/Second in \n",
    "# the matches he batted). Hint: Chi-Square test of independence"
   ]
  },
  {
   "cell_type": "code",
   "execution_count": 56,
   "id": "51c41dfa-f001-4dae-9d73-3871f57075fa",
   "metadata": {},
   "outputs": [],
   "source": [
    "# Chi-Square Test"
   ]
  },
  {
   "cell_type": "code",
   "execution_count": 57,
   "id": "b4e4b0a9-be29-43d7-85c3-9b82c024d4a5",
   "metadata": {},
   "outputs": [],
   "source": [
    "df1=pd.read_csv(\"Men ODI Player Innings Stats - 20th Century.csv\")\n",
    "df2=pd.read_csv(\"Men ODI Player Innings Stats - 21st Century.csv\")"
   ]
  },
  {
   "cell_type": "code",
   "execution_count": 58,
   "id": "134c5d0d-9f53-4c36-b6bf-defb1effc573",
   "metadata": {},
   "outputs": [],
   "source": [
    "df=pd.concat([df1,df2])"
   ]
  },
  {
   "cell_type": "code",
   "execution_count": 59,
   "id": "28c5b50e-a68c-4b97-950a-29cef9eb80db",
   "metadata": {},
   "outputs": [
    {
     "data": {
      "text/html": [
       "<div>\n",
       "<style scoped>\n",
       "    .dataframe tbody tr th:only-of-type {\n",
       "        vertical-align: middle;\n",
       "    }\n",
       "\n",
       "    .dataframe tbody tr th {\n",
       "        vertical-align: top;\n",
       "    }\n",
       "\n",
       "    .dataframe thead th {\n",
       "        text-align: right;\n",
       "    }\n",
       "</style>\n",
       "<table border=\"1\" class=\"dataframe\">\n",
       "  <thead>\n",
       "    <tr style=\"text-align: right;\">\n",
       "      <th></th>\n",
       "      <th>Innings Player</th>\n",
       "      <th>Innings Runs Scored</th>\n",
       "      <th>Innings Runs Scored Num</th>\n",
       "      <th>Innings Minutes Batted</th>\n",
       "      <th>Innings Batted Flag</th>\n",
       "      <th>Innings Not Out Flag</th>\n",
       "      <th>Innings Balls Faced</th>\n",
       "      <th>Innings Boundary Fours</th>\n",
       "      <th>Innings Boundary Sixes</th>\n",
       "      <th>Innings Batting Strike Rate</th>\n",
       "      <th>...</th>\n",
       "      <th>Innings Overs Bowled</th>\n",
       "      <th>Innings Bowled Flag</th>\n",
       "      <th>Innings Maidens Bowled</th>\n",
       "      <th>Innings Runs Conceded</th>\n",
       "      <th>Innings Wickets Taken</th>\n",
       "      <th>4 Wickets</th>\n",
       "      <th>5 Wickets</th>\n",
       "      <th>10 Wickets</th>\n",
       "      <th>Innings Wickets Taken Buckets</th>\n",
       "      <th>Innings Economy Rate</th>\n",
       "    </tr>\n",
       "  </thead>\n",
       "  <tbody>\n",
       "    <tr>\n",
       "      <th>0</th>\n",
       "      <td>RA Smith</td>\n",
       "      <td>167*</td>\n",
       "      <td>167</td>\n",
       "      <td>208</td>\n",
       "      <td>1.0</td>\n",
       "      <td>1.0</td>\n",
       "      <td>163</td>\n",
       "      <td>17</td>\n",
       "      <td>3</td>\n",
       "      <td>102.45</td>\n",
       "      <td>...</td>\n",
       "      <td>NaN</td>\n",
       "      <td>NaN</td>\n",
       "      <td>NaN</td>\n",
       "      <td>NaN</td>\n",
       "      <td>NaN</td>\n",
       "      <td>NaN</td>\n",
       "      <td>NaN</td>\n",
       "      <td>NaN</td>\n",
       "      <td>NaN</td>\n",
       "      <td>NaN</td>\n",
       "    </tr>\n",
       "    <tr>\n",
       "      <th>1</th>\n",
       "      <td>DI Gower</td>\n",
       "      <td>158</td>\n",
       "      <td>158</td>\n",
       "      <td>177</td>\n",
       "      <td>1.0</td>\n",
       "      <td>0.0</td>\n",
       "      <td>118</td>\n",
       "      <td>18</td>\n",
       "      <td>4</td>\n",
       "      <td>133.89</td>\n",
       "      <td>...</td>\n",
       "      <td>NaN</td>\n",
       "      <td>NaN</td>\n",
       "      <td>NaN</td>\n",
       "      <td>NaN</td>\n",
       "      <td>NaN</td>\n",
       "      <td>NaN</td>\n",
       "      <td>NaN</td>\n",
       "      <td>NaN</td>\n",
       "      <td>NaN</td>\n",
       "      <td>NaN</td>\n",
       "    </tr>\n",
       "    <tr>\n",
       "      <th>2</th>\n",
       "      <td>CWJ Athey</td>\n",
       "      <td>142*</td>\n",
       "      <td>142</td>\n",
       "      <td>208</td>\n",
       "      <td>1.0</td>\n",
       "      <td>1.0</td>\n",
       "      <td>172</td>\n",
       "      <td>14</td>\n",
       "      <td>0</td>\n",
       "      <td>82.55</td>\n",
       "      <td>...</td>\n",
       "      <td>NaN</td>\n",
       "      <td>NaN</td>\n",
       "      <td>NaN</td>\n",
       "      <td>NaN</td>\n",
       "      <td>NaN</td>\n",
       "      <td>NaN</td>\n",
       "      <td>NaN</td>\n",
       "      <td>NaN</td>\n",
       "      <td>NaN</td>\n",
       "      <td>NaN</td>\n",
       "    </tr>\n",
       "    <tr>\n",
       "      <th>3</th>\n",
       "      <td>GA Gooch</td>\n",
       "      <td>142</td>\n",
       "      <td>142</td>\n",
       "      <td>-</td>\n",
       "      <td>1.0</td>\n",
       "      <td>0.0</td>\n",
       "      <td>134</td>\n",
       "      <td>14</td>\n",
       "      <td>0</td>\n",
       "      <td>105.97</td>\n",
       "      <td>...</td>\n",
       "      <td>NaN</td>\n",
       "      <td>NaN</td>\n",
       "      <td>NaN</td>\n",
       "      <td>NaN</td>\n",
       "      <td>NaN</td>\n",
       "      <td>NaN</td>\n",
       "      <td>NaN</td>\n",
       "      <td>NaN</td>\n",
       "      <td>NaN</td>\n",
       "      <td>NaN</td>\n",
       "    </tr>\n",
       "    <tr>\n",
       "      <th>4</th>\n",
       "      <td>DL Amiss</td>\n",
       "      <td>137</td>\n",
       "      <td>137</td>\n",
       "      <td>-</td>\n",
       "      <td>1.0</td>\n",
       "      <td>0.0</td>\n",
       "      <td>147</td>\n",
       "      <td>18</td>\n",
       "      <td>0</td>\n",
       "      <td>93.19</td>\n",
       "      <td>...</td>\n",
       "      <td>NaN</td>\n",
       "      <td>NaN</td>\n",
       "      <td>NaN</td>\n",
       "      <td>NaN</td>\n",
       "      <td>NaN</td>\n",
       "      <td>NaN</td>\n",
       "      <td>NaN</td>\n",
       "      <td>NaN</td>\n",
       "      <td>NaN</td>\n",
       "      <td>NaN</td>\n",
       "    </tr>\n",
       "  </tbody>\n",
       "</table>\n",
       "<p>5 rows × 28 columns</p>\n",
       "</div>"
      ],
      "text/plain": [
       "  Innings Player Innings Runs Scored Innings Runs Scored Num  \\\n",
       "0       RA Smith                167*                     167   \n",
       "1       DI Gower                 158                     158   \n",
       "2      CWJ Athey                142*                     142   \n",
       "3       GA Gooch                 142                     142   \n",
       "4       DL Amiss                 137                     137   \n",
       "\n",
       "  Innings Minutes Batted  Innings Batted Flag  Innings Not Out Flag  \\\n",
       "0                    208                  1.0                   1.0   \n",
       "1                    177                  1.0                   0.0   \n",
       "2                    208                  1.0                   1.0   \n",
       "3                      -                  1.0                   0.0   \n",
       "4                      -                  1.0                   0.0   \n",
       "\n",
       "  Innings Balls Faced Innings Boundary Fours Innings Boundary Sixes  \\\n",
       "0                 163                     17                      3   \n",
       "1                 118                     18                      4   \n",
       "2                 172                     14                      0   \n",
       "3                 134                     14                      0   \n",
       "4                 147                     18                      0   \n",
       "\n",
       "  Innings Batting Strike Rate  ... Innings Overs Bowled Innings Bowled Flag  \\\n",
       "0                      102.45  ...                  NaN                 NaN   \n",
       "1                      133.89  ...                  NaN                 NaN   \n",
       "2                       82.55  ...                  NaN                 NaN   \n",
       "3                      105.97  ...                  NaN                 NaN   \n",
       "4                       93.19  ...                  NaN                 NaN   \n",
       "\n",
       "  Innings Maidens Bowled Innings Runs Conceded Innings Wickets Taken  \\\n",
       "0                    NaN                   NaN                   NaN   \n",
       "1                    NaN                   NaN                   NaN   \n",
       "2                    NaN                   NaN                   NaN   \n",
       "3                    NaN                   NaN                   NaN   \n",
       "4                    NaN                   NaN                   NaN   \n",
       "\n",
       "   4 Wickets  5 Wickets 10 Wickets Innings Wickets Taken Buckets  \\\n",
       "0        NaN        NaN        NaN                           NaN   \n",
       "1        NaN        NaN        NaN                           NaN   \n",
       "2        NaN        NaN        NaN                           NaN   \n",
       "3        NaN        NaN        NaN                           NaN   \n",
       "4        NaN        NaN        NaN                           NaN   \n",
       "\n",
       "   Innings Economy Rate  \n",
       "0                   NaN  \n",
       "1                   NaN  \n",
       "2                   NaN  \n",
       "3                   NaN  \n",
       "4                   NaN  \n",
       "\n",
       "[5 rows x 28 columns]"
      ]
     },
     "execution_count": 59,
     "metadata": {},
     "output_type": "execute_result"
    }
   ],
   "source": [
    "df.head()"
   ]
  },
  {
   "cell_type": "code",
   "execution_count": null,
   "id": "fc7f2cb4-e171-47fc-a3fc-b229769deeaf",
   "metadata": {},
   "outputs": [],
   "source": []
  },
  {
   "cell_type": "code",
   "execution_count": null,
   "id": "1ee49c87-286a-4647-86d4-fe1959946d3b",
   "metadata": {},
   "outputs": [],
   "source": []
  },
  {
   "cell_type": "code",
   "execution_count": null,
   "id": "f5c4ef8b-9569-4ef6-ab40-7dd6f502f83e",
   "metadata": {},
   "outputs": [],
   "source": []
  },
  {
   "cell_type": "code",
   "execution_count": null,
   "id": "db5b6e67-bfc7-4b51-92c6-42a655eff3c1",
   "metadata": {},
   "outputs": [],
   "source": []
  },
  {
   "cell_type": "code",
   "execution_count": null,
   "id": "d21d7b09-9d5c-46bc-ae80-b3b34414ae4e",
   "metadata": {},
   "outputs": [],
   "source": []
  },
  {
   "cell_type": "code",
   "execution_count": null,
   "id": "8411f059-76a5-414e-b83b-8356720f3978",
   "metadata": {},
   "outputs": [],
   "source": []
  },
  {
   "cell_type": "markdown",
   "id": "296fde93-a259-49f7-b411-dc67c1845eea",
   "metadata": {},
   "source": [
    "# 3.Predict how long (i.e. how many records /rows) will we need to wait till we see a record of a passenger who survived in the titanic dataset."
   ]
  },
  {
   "cell_type": "code",
   "execution_count": 17,
   "id": "20714efb-e760-450e-847f-f7576458a843",
   "metadata": {},
   "outputs": [],
   "source": [
    "df=pd.read_csv(\"titanic.csv\")"
   ]
  },
  {
   "cell_type": "code",
   "execution_count": 18,
   "id": "2007ed9e-05e8-423c-9c6c-7bb804c480f8",
   "metadata": {
    "scrolled": true
   },
   "outputs": [
    {
     "data": {
      "text/html": [
       "<div>\n",
       "<style scoped>\n",
       "    .dataframe tbody tr th:only-of-type {\n",
       "        vertical-align: middle;\n",
       "    }\n",
       "\n",
       "    .dataframe tbody tr th {\n",
       "        vertical-align: top;\n",
       "    }\n",
       "\n",
       "    .dataframe thead th {\n",
       "        text-align: right;\n",
       "    }\n",
       "</style>\n",
       "<table border=\"1\" class=\"dataframe\">\n",
       "  <thead>\n",
       "    <tr style=\"text-align: right;\">\n",
       "      <th></th>\n",
       "      <th>survived</th>\n",
       "      <th>pclass</th>\n",
       "      <th>gender</th>\n",
       "      <th>age</th>\n",
       "      <th>sibsp</th>\n",
       "      <th>parch</th>\n",
       "      <th>fare</th>\n",
       "      <th>embarked</th>\n",
       "      <th>deck</th>\n",
       "    </tr>\n",
       "  </thead>\n",
       "  <tbody>\n",
       "    <tr>\n",
       "      <th>0</th>\n",
       "      <td>0</td>\n",
       "      <td>3</td>\n",
       "      <td>male</td>\n",
       "      <td>22.0</td>\n",
       "      <td>1</td>\n",
       "      <td>0</td>\n",
       "      <td>7.2500</td>\n",
       "      <td>S</td>\n",
       "      <td>NaN</td>\n",
       "    </tr>\n",
       "    <tr>\n",
       "      <th>1</th>\n",
       "      <td>1</td>\n",
       "      <td>1</td>\n",
       "      <td>female</td>\n",
       "      <td>38.0</td>\n",
       "      <td>1</td>\n",
       "      <td>0</td>\n",
       "      <td>71.2833</td>\n",
       "      <td>C</td>\n",
       "      <td>C</td>\n",
       "    </tr>\n",
       "    <tr>\n",
       "      <th>2</th>\n",
       "      <td>1</td>\n",
       "      <td>3</td>\n",
       "      <td>female</td>\n",
       "      <td>26.0</td>\n",
       "      <td>0</td>\n",
       "      <td>0</td>\n",
       "      <td>7.9250</td>\n",
       "      <td>S</td>\n",
       "      <td>NaN</td>\n",
       "    </tr>\n",
       "    <tr>\n",
       "      <th>3</th>\n",
       "      <td>1</td>\n",
       "      <td>1</td>\n",
       "      <td>female</td>\n",
       "      <td>35.0</td>\n",
       "      <td>1</td>\n",
       "      <td>0</td>\n",
       "      <td>53.1000</td>\n",
       "      <td>S</td>\n",
       "      <td>C</td>\n",
       "    </tr>\n",
       "    <tr>\n",
       "      <th>4</th>\n",
       "      <td>0</td>\n",
       "      <td>3</td>\n",
       "      <td>male</td>\n",
       "      <td>35.0</td>\n",
       "      <td>0</td>\n",
       "      <td>0</td>\n",
       "      <td>8.0500</td>\n",
       "      <td>S</td>\n",
       "      <td>NaN</td>\n",
       "    </tr>\n",
       "  </tbody>\n",
       "</table>\n",
       "</div>"
      ],
      "text/plain": [
       "   survived  pclass  gender   age  sibsp  parch     fare embarked deck\n",
       "0         0       3    male  22.0      1      0   7.2500        S  NaN\n",
       "1         1       1  female  38.0      1      0  71.2833        C    C\n",
       "2         1       3  female  26.0      0      0   7.9250        S  NaN\n",
       "3         1       1  female  35.0      1      0  53.1000        S    C\n",
       "4         0       3    male  35.0      0      0   8.0500        S  NaN"
      ]
     },
     "execution_count": 18,
     "metadata": {},
     "output_type": "execute_result"
    }
   ],
   "source": [
    "df.head()"
   ]
  },
  {
   "cell_type": "code",
   "execution_count": 20,
   "id": "cfaced7e-42e4-47c7-ab5f-84d1e6444a51",
   "metadata": {},
   "outputs": [],
   "source": [
    "survived=df[df['survived']==1]"
   ]
  },
  {
   "cell_type": "code",
   "execution_count": 21,
   "id": "7c06c725-68cf-44d8-8579-f74586a1ce77",
   "metadata": {},
   "outputs": [
    {
     "name": "stdout",
     "output_type": "stream",
     "text": [
      "0.3838383838383838\n"
     ]
    }
   ],
   "source": [
    "p=len(survived)/len(df)\n",
    "print(p)"
   ]
  },
  {
   "cell_type": "code",
   "execution_count": 22,
   "id": "310ff100-dccc-46d3-a101-38e89ac8bcd3",
   "metadata": {},
   "outputs": [],
   "source": [
    "expected_trials =1/p"
   ]
  },
  {
   "cell_type": "code",
   "execution_count": 23,
   "id": "423835d2-afba-45b8-a6bd-1f9c81219558",
   "metadata": {},
   "outputs": [
    {
     "name": "stdout",
     "output_type": "stream",
     "text": [
      "[ 1  1  3  2  2  4  2  1  5  5  3  2  2  5  4  1  2  1  1 14  4  5  5  9\n",
      "  4  6  7  1  1  2  2  2  6  3  2  1  1  2  1  2  4  1  2  4  1  1  4  2\n",
      "  2  2  1  5  1  2  1  2  1  1  3  2  3  3  2  4  2  6  6  4  4  1  7  1\n",
      "  4  2  5  2  1  1  1  3  3  1  2  1  3  1  1  2  2  4  1  5  1  1  1  2\n",
      "  2  2  1  1  7  2 10  3  2  1  2  3  1  1  2  4  1  1  1  1  2  2  1  3\n",
      "  1  1  1  4  1  2  3  1  3  1  1  2  3  5  1  2  5  6  2  2  1  2  7  5\n",
      "  3 14  2  1  5  1  1  1  1  1  1 10  3  3  1  4  2  6  1  1  2  1  1  2\n",
      "  1  1  6  3  2  2  1  3  6  1  4  1  1  2  4  1  1  1  2  4  1  1  1  2\n",
      "  2  6  2  2  8  4  4  1  5  8  3  1  2  2  1  2  8  1  1  4 10  5  2  1\n",
      "  1  2  1  1  1  1  1  2  1  3  1  3  3  1  3  1  1  1  1  4  2  1  4  2\n",
      "  1  2  2  2  6  8  3  4  1  6  1  3  4  1  4  1  3  1  2  1  2  3  2  1\n",
      "  1  2  1  3  1  2  1  8  4  1  1  1  1  6  1  2  2  1  4  2  3  2  1  2\n",
      "  2  2  1  2  4 11  3  3  2  2  2  1  5  1  1  3  1  5  5  4  4  2  2  1\n",
      "  6  1  2  1  4  6  1  1  1  1  1  2  3  4  2  1  1  6  2  1  1  1  2  4\n",
      "  1  2  3  2  1  2  6  6  1  4  3  1  3  2  5  2  1  1  1  5  1  2 12  2\n",
      "  2  2  3  3  4  1  4  1  3  1  6  1  2  1  1  1  2  3  1  1  2  2  2  6\n",
      "  1  1  2  3  1  2  1  7  1  6  3  1  1  1  4  6  1  1  1  1  2  3  4  6\n",
      "  1  1  1  3  3  2  4  6  6  6  1  1  2  1  1  3  1  2  1  3  3  2  4  1\n",
      "  9  1  2  1  3  5  1  3  2  3  5  1  1  1  2  3  1  4  3  1  1  3  1  3\n",
      "  3  3  1  5  1  2  1  3  1  1  2  2  2  1  3  1  2  3  1  3  1  3  4  3\n",
      "  3  1 11  2  2  3  5  6  2  2  1  2  1  1  1  3  2  1  1  4  2  1  1  6\n",
      "  1  3  4  1  1  3  2  6  3  3  4  6  1  1  4  1  2  1  3  1  1  3  1  2\n",
      "  1  1  8  2  2  2  1  2  1  3  2  4  2  2  1  2  4  2  2  3  2  2  1  1\n",
      "  4  1  1  1  1  5  1  4  4  6  1  1  9  1  2  1 12  2  9  1  3  6 12  4\n",
      "  3  1  3  3  4  1  5  8  4  3  3  4  1  4 10  2  3  2  2  1  2  1  2  1\n",
      "  1  2  3  4  6  5  2  1  5  2  4  6  1  3  4  5  1  1  4  1  1  2  3  1\n",
      "  1  3  4  3  3  4  7  1  5  2  2  2  6  3  1  5  2  2  1  1  1  2  2  3\n",
      "  5  1  1  3  7  6  1  5  2  1  2  1  2  1  1  6  2  4  1  2  1  4  2  2\n",
      "  2  3  1  1  1  2  3  1  2  3  1  1  4  2  4  3  1  1  1  1  1  4  1  1\n",
      "  5  2  6  1  4  2  5  1  3  4  3  1  1  2  3  1  1  1  2  3  7  2  1  1\n",
      "  5  2  2  2  4  8  4  4  2  5  3  3  4  4  1  3  3  1  2  1  1  4  2  2\n",
      "  2  2  1  1  2  3  1  2  2  1  1  2  2  2  1  5  1  1  3  1  5  3  1  4\n",
      "  2  2  1  5  4  3  3  2  1  1  1  5  1  6  1  3  2  1  1  2  2  2  4  2\n",
      "  1  1  3  1  4  2  3  5  1  2  1  1  5  2  2  1  4  2  2  6  1  2  1  2\n",
      "  4  2  2  2  4  1  2  1  1  2  2  1  1  1  1  1  2  2  2  5  4  1  4  1\n",
      "  3  1  3  1  1  2  4  1  5  1  2  1  2  1  1  4  3  1  1  3  3  6  1  3\n",
      "  1  8  2  3  1  1  3  1  3  2  6  2  1  1  1  3  3  2  1  5  2  4  1  2\n",
      "  3  2  1  2  2  1  1  1  4  1  2  5  1  6  1  3  8  3  2  2  3  2  1  3\n",
      "  2  1  1  1  1  3  3  1  4  2  1  2  1  4  4  1  3  1  3  5  4  1  3  5\n",
      "  4  2  2  1 14  1  4  2  5  1  9  5  1  5  1  2  7  1  1  4  1  2  5  4\n",
      "  9  4 10  1  1  1  2  2  1  1  5  5  5  2  5  1  1  5  1  1  1  1  2  4\n",
      "  2  4  1  7  3  1  3  3  2  4  7  9  1  1  4  9]\n"
     ]
    }
   ],
   "source": [
    "simulated_trials = np.random.geometric(p, size=1000)\n",
    "print(simulated_trials)"
   ]
  },
  {
   "cell_type": "code",
   "execution_count": 30,
   "id": "41b2709e-7be0-41da-993d-964f6fca694f",
   "metadata": {},
   "outputs": [
    {
     "data": {
      "image/png": "[encoded data removed]",
      "text/plain": [
       "<Figure size 640x480 with 1 Axes>"
      ]
     },
     "metadata": {},
     "output_type": "display_data"
    }
   ],
   "source": [
    "plt.hist(simulated_trials,bins=50,density=True)\n",
    "plt.title(\"Geometric Distribution : Number of customers untill Survived\")\n",
    "plt.xlabel(\"Number of Passengers\")\n",
    "plt.ylabel(\"Frequency\")\n",
    "plt.show()"
   ]
  },
  {
   "cell_type": "code",
   "execution_count": 27,
   "id": "45939e2f-78f5-4dc3-8328-c6152b8d61b8",
   "metadata": {},
   "outputs": [
    {
     "name": "stdout",
     "output_type": "stream",
     "text": [
      "Expected number of customers to find a generous tipper : 2.61\n"
     ]
    }
   ],
   "source": [
    "# Output the expected trials \n",
    "print(f\"Expected number of customers to find a generous tipper : {expected_trials:.2f}\")"
   ]
  },
  {
   "cell_type": "code",
   "execution_count": null,
   "id": "6686fbbb-2608-4e81-be0e-1a4e36b36e69",
   "metadata": {},
   "outputs": [],
   "source": []
  },
  {
   "cell_type": "code",
   "execution_count": null,
   "id": "3a68de55-d43b-40e4-bf8c-b818f503e401",
   "metadata": {},
   "outputs": [],
   "source": []
  },
  {
   "cell_type": "code",
   "execution_count": null,
   "id": "6ffdef54-0a4d-4384-9fb2-49fd8f539a02",
   "metadata": {},
   "outputs": [],
   "source": []
  },
  {
   "cell_type": "code",
   "execution_count": null,
   "id": "59fcb438-46be-491c-bba2-16b46981d169",
   "metadata": {},
   "outputs": [],
   "source": []
  },
  {
   "cell_type": "code",
   "execution_count": null,
   "id": "03756e47-d7a7-4cbb-b97b-b3fad8f267e9",
   "metadata": {},
   "outputs": [],
   "source": []
  },
  {
   "cell_type": "code",
   "execution_count": null,
   "id": "cb8deded-0cd1-408a-a18a-5d83a58b8cc6",
   "metadata": {},
   "outputs": [],
   "source": []
  },
  {
   "cell_type": "code",
   "execution_count": null,
   "id": "920ba427-af60-4cea-9a3a-091d56c81503",
   "metadata": {},
   "outputs": [],
   "source": []
  },
  {
   "cell_type": "code",
   "execution_count": null,
   "id": "b4d49853-e093-4b28-ac1a-985c6e389deb",
   "metadata": {},
   "outputs": [],
   "source": [
    "# "
   ]
  },
  {
   "cell_type": "code",
   "execution_count": null,
   "id": "3ae718be-7c69-4e19-bb3a-2a2568254b54",
   "metadata": {},
   "outputs": [],
   "source": [
    "# Q.4 If we consider the batting performance of any batsman who has played for at least 10 years, will we find a statistically \n",
    "# significant difference between his first 5 years and remaining years? Hint: Independent Sample t-test"
   ]
  },
  {
   "cell_type": "code",
   "execution_count": 60,
   "id": "996bb9fd-3817-4f09-96e3-b33b3c10f291",
   "metadata": {},
   "outputs": [],
   "source": [
    "df1=pd.read_csv(\"Men ODI Player Innings Stats - 20th Century.csv\")\n",
    "df2=pd.read_csv(\"Men ODI Player Innings Stats - 21st Century.csv\")"
   ]
  },
  {
   "cell_type": "code",
   "execution_count": 62,
   "id": "e773cadb-58ac-4cb0-a81c-4a73acdac218",
   "metadata": {},
   "outputs": [],
   "source": [
    "df=pd.concat([df1, df2])"
   ]
  },
  {
   "cell_type": "code",
   "execution_count": 63,
   "id": "b36888a2-61ae-4d62-80e6-b435eb480975",
   "metadata": {},
   "outputs": [
    {
     "data": {
      "text/html": [
       "<div>\n",
       "<style scoped>\n",
       "    .dataframe tbody tr th:only-of-type {\n",
       "        vertical-align: middle;\n",
       "    }\n",
       "\n",
       "    .dataframe tbody tr th {\n",
       "        vertical-align: top;\n",
       "    }\n",
       "\n",
       "    .dataframe thead th {\n",
       "        text-align: right;\n",
       "    }\n",
       "</style>\n",
       "<table border=\"1\" class=\"dataframe\">\n",
       "  <thead>\n",
       "    <tr style=\"text-align: right;\">\n",
       "      <th></th>\n",
       "      <th>Innings Player</th>\n",
       "      <th>Innings Runs Scored</th>\n",
       "      <th>Innings Runs Scored Num</th>\n",
       "      <th>Innings Minutes Batted</th>\n",
       "      <th>Innings Batted Flag</th>\n",
       "      <th>Innings Not Out Flag</th>\n",
       "      <th>Innings Balls Faced</th>\n",
       "      <th>Innings Boundary Fours</th>\n",
       "      <th>Innings Boundary Sixes</th>\n",
       "      <th>Innings Batting Strike Rate</th>\n",
       "      <th>...</th>\n",
       "      <th>Innings Overs Bowled</th>\n",
       "      <th>Innings Bowled Flag</th>\n",
       "      <th>Innings Maidens Bowled</th>\n",
       "      <th>Innings Runs Conceded</th>\n",
       "      <th>Innings Wickets Taken</th>\n",
       "      <th>4 Wickets</th>\n",
       "      <th>5 Wickets</th>\n",
       "      <th>10 Wickets</th>\n",
       "      <th>Innings Wickets Taken Buckets</th>\n",
       "      <th>Innings Economy Rate</th>\n",
       "    </tr>\n",
       "  </thead>\n",
       "  <tbody>\n",
       "    <tr>\n",
       "      <th>0</th>\n",
       "      <td>RA Smith</td>\n",
       "      <td>167*</td>\n",
       "      <td>167</td>\n",
       "      <td>208</td>\n",
       "      <td>1.0</td>\n",
       "      <td>1.0</td>\n",
       "      <td>163</td>\n",
       "      <td>17</td>\n",
       "      <td>3</td>\n",
       "      <td>102.45</td>\n",
       "      <td>...</td>\n",
       "      <td>NaN</td>\n",
       "      <td>NaN</td>\n",
       "      <td>NaN</td>\n",
       "      <td>NaN</td>\n",
       "      <td>NaN</td>\n",
       "      <td>NaN</td>\n",
       "      <td>NaN</td>\n",
       "      <td>NaN</td>\n",
       "      <td>NaN</td>\n",
       "      <td>NaN</td>\n",
       "    </tr>\n",
       "    <tr>\n",
       "      <th>1</th>\n",
       "      <td>DI Gower</td>\n",
       "      <td>158</td>\n",
       "      <td>158</td>\n",
       "      <td>177</td>\n",
       "      <td>1.0</td>\n",
       "      <td>0.0</td>\n",
       "      <td>118</td>\n",
       "      <td>18</td>\n",
       "      <td>4</td>\n",
       "      <td>133.89</td>\n",
       "      <td>...</td>\n",
       "      <td>NaN</td>\n",
       "      <td>NaN</td>\n",
       "      <td>NaN</td>\n",
       "      <td>NaN</td>\n",
       "      <td>NaN</td>\n",
       "      <td>NaN</td>\n",
       "      <td>NaN</td>\n",
       "      <td>NaN</td>\n",
       "      <td>NaN</td>\n",
       "      <td>NaN</td>\n",
       "    </tr>\n",
       "    <tr>\n",
       "      <th>2</th>\n",
       "      <td>CWJ Athey</td>\n",
       "      <td>142*</td>\n",
       "      <td>142</td>\n",
       "      <td>208</td>\n",
       "      <td>1.0</td>\n",
       "      <td>1.0</td>\n",
       "      <td>172</td>\n",
       "      <td>14</td>\n",
       "      <td>0</td>\n",
       "      <td>82.55</td>\n",
       "      <td>...</td>\n",
       "      <td>NaN</td>\n",
       "      <td>NaN</td>\n",
       "      <td>NaN</td>\n",
       "      <td>NaN</td>\n",
       "      <td>NaN</td>\n",
       "      <td>NaN</td>\n",
       "      <td>NaN</td>\n",
       "      <td>NaN</td>\n",
       "      <td>NaN</td>\n",
       "      <td>NaN</td>\n",
       "    </tr>\n",
       "    <tr>\n",
       "      <th>3</th>\n",
       "      <td>GA Gooch</td>\n",
       "      <td>142</td>\n",
       "      <td>142</td>\n",
       "      <td>-</td>\n",
       "      <td>1.0</td>\n",
       "      <td>0.0</td>\n",
       "      <td>134</td>\n",
       "      <td>14</td>\n",
       "      <td>0</td>\n",
       "      <td>105.97</td>\n",
       "      <td>...</td>\n",
       "      <td>NaN</td>\n",
       "      <td>NaN</td>\n",
       "      <td>NaN</td>\n",
       "      <td>NaN</td>\n",
       "      <td>NaN</td>\n",
       "      <td>NaN</td>\n",
       "      <td>NaN</td>\n",
       "      <td>NaN</td>\n",
       "      <td>NaN</td>\n",
       "      <td>NaN</td>\n",
       "    </tr>\n",
       "    <tr>\n",
       "      <th>4</th>\n",
       "      <td>DL Amiss</td>\n",
       "      <td>137</td>\n",
       "      <td>137</td>\n",
       "      <td>-</td>\n",
       "      <td>1.0</td>\n",
       "      <td>0.0</td>\n",
       "      <td>147</td>\n",
       "      <td>18</td>\n",
       "      <td>0</td>\n",
       "      <td>93.19</td>\n",
       "      <td>...</td>\n",
       "      <td>NaN</td>\n",
       "      <td>NaN</td>\n",
       "      <td>NaN</td>\n",
       "      <td>NaN</td>\n",
       "      <td>NaN</td>\n",
       "      <td>NaN</td>\n",
       "      <td>NaN</td>\n",
       "      <td>NaN</td>\n",
       "      <td>NaN</td>\n",
       "      <td>NaN</td>\n",
       "    </tr>\n",
       "  </tbody>\n",
       "</table>\n",
       "<p>5 rows × 28 columns</p>\n",
       "</div>"
      ],
      "text/plain": [
       "  Innings Player Innings Runs Scored Innings Runs Scored Num  \\\n",
       "0       RA Smith                167*                     167   \n",
       "1       DI Gower                 158                     158   \n",
       "2      CWJ Athey                142*                     142   \n",
       "3       GA Gooch                 142                     142   \n",
       "4       DL Amiss                 137                     137   \n",
       "\n",
       "  Innings Minutes Batted  Innings Batted Flag  Innings Not Out Flag  \\\n",
       "0                    208                  1.0                   1.0   \n",
       "1                    177                  1.0                   0.0   \n",
       "2                    208                  1.0                   1.0   \n",
       "3                      -                  1.0                   0.0   \n",
       "4                      -                  1.0                   0.0   \n",
       "\n",
       "  Innings Balls Faced Innings Boundary Fours Innings Boundary Sixes  \\\n",
       "0                 163                     17                      3   \n",
       "1                 118                     18                      4   \n",
       "2                 172                     14                      0   \n",
       "3                 134                     14                      0   \n",
       "4                 147                     18                      0   \n",
       "\n",
       "  Innings Batting Strike Rate  ... Innings Overs Bowled Innings Bowled Flag  \\\n",
       "0                      102.45  ...                  NaN                 NaN   \n",
       "1                      133.89  ...                  NaN                 NaN   \n",
       "2                       82.55  ...                  NaN                 NaN   \n",
       "3                      105.97  ...                  NaN                 NaN   \n",
       "4                       93.19  ...                  NaN                 NaN   \n",
       "\n",
       "  Innings Maidens Bowled Innings Runs Conceded Innings Wickets Taken  \\\n",
       "0                    NaN                   NaN                   NaN   \n",
       "1                    NaN                   NaN                   NaN   \n",
       "2                    NaN                   NaN                   NaN   \n",
       "3                    NaN                   NaN                   NaN   \n",
       "4                    NaN                   NaN                   NaN   \n",
       "\n",
       "   4 Wickets  5 Wickets 10 Wickets Innings Wickets Taken Buckets  \\\n",
       "0        NaN        NaN        NaN                           NaN   \n",
       "1        NaN        NaN        NaN                           NaN   \n",
       "2        NaN        NaN        NaN                           NaN   \n",
       "3        NaN        NaN        NaN                           NaN   \n",
       "4        NaN        NaN        NaN                           NaN   \n",
       "\n",
       "   Innings Economy Rate  \n",
       "0                   NaN  \n",
       "1                   NaN  \n",
       "2                   NaN  \n",
       "3                   NaN  \n",
       "4                   NaN  \n",
       "\n",
       "[5 rows x 28 columns]"
      ]
     },
     "execution_count": 63,
     "metadata": {},
     "output_type": "execute_result"
    }
   ],
   "source": [
    "df.head()"
   ]
  },
  {
   "cell_type": "code",
   "execution_count": null,
   "id": "1fd037e4-f730-4589-a3bd-5a7e2e73f6bb",
   "metadata": {},
   "outputs": [],
   "source": []
  },
  {
   "cell_type": "code",
   "execution_count": null,
   "id": "4bd320cd-1243-4d59-ab1d-1202d11747ca",
   "metadata": {},
   "outputs": [],
   "source": []
  },
  {
   "cell_type": "code",
   "execution_count": null,
   "id": "980116d5-7801-4548-9ecc-5040612dbe92",
   "metadata": {},
   "outputs": [],
   "source": []
  },
  {
   "cell_type": "code",
   "execution_count": null,
   "id": "7e3c7b08-21c9-49f0-a3ad-72a240af6025",
   "metadata": {},
   "outputs": [],
   "source": []
  },
  {
   "cell_type": "code",
   "execution_count": null,
   "id": "f47a9937-39f0-4c1c-a222-9e339980c836",
   "metadata": {},
   "outputs": [],
   "source": []
  },
  {
   "cell_type": "code",
   "execution_count": null,
   "id": "7eb0aa5c-03c0-49b3-86fd-c83f9682f71e",
   "metadata": {},
   "outputs": [],
   "source": []
  },
  {
   "cell_type": "code",
   "execution_count": 55,
   "id": "50f080b7-ad74-4b4f-a4d4-f4b9a3864783",
   "metadata": {},
   "outputs": [],
   "source": [
    "# Q.5 If we pick 30 random innings each of Sachin Tendulkar and Virat kohli, will we find a statistically significant difference \n",
    "# between them? Hint: Two-Sample t-test."
   ]
  },
  {
   "cell_type": "code",
   "execution_count": 65,
   "id": "4b387cb7-96ca-48b1-a44a-9e27afb1aa10",
   "metadata": {},
   "outputs": [],
   "source": [
    "df1=pd.read_csv(\"Men ODI Player Innings Stats - 20th Century.csv\")\n",
    "df2=pd.read_csv(\"Men ODI Player Innings Stats - 21st Century.csv\")"
   ]
  },
  {
   "cell_type": "code",
   "execution_count": 66,
   "id": "4fc45c0c-d642-454c-a874-c5bf9fa04930",
   "metadata": {},
   "outputs": [],
   "source": [
    "df=pd.concat([df1, df2])"
   ]
  },
  {
   "cell_type": "code",
   "execution_count": 67,
   "id": "4783d052-bd44-4b29-b99a-16cf4737e40f",
   "metadata": {},
   "outputs": [
    {
     "data": {
      "text/html": [
       "<div>\n",
       "<style scoped>\n",
       "    .dataframe tbody tr th:only-of-type {\n",
       "        vertical-align: middle;\n",
       "    }\n",
       "\n",
       "    .dataframe tbody tr th {\n",
       "        vertical-align: top;\n",
       "    }\n",
       "\n",
       "    .dataframe thead th {\n",
       "        text-align: right;\n",
       "    }\n",
       "</style>\n",
       "<table border=\"1\" class=\"dataframe\">\n",
       "  <thead>\n",
       "    <tr style=\"text-align: right;\">\n",
       "      <th></th>\n",
       "      <th>Innings Player</th>\n",
       "      <th>Innings Runs Scored</th>\n",
       "      <th>Innings Runs Scored Num</th>\n",
       "      <th>Innings Minutes Batted</th>\n",
       "      <th>Innings Batted Flag</th>\n",
       "      <th>Innings Not Out Flag</th>\n",
       "      <th>Innings Balls Faced</th>\n",
       "      <th>Innings Boundary Fours</th>\n",
       "      <th>Innings Boundary Sixes</th>\n",
       "      <th>Innings Batting Strike Rate</th>\n",
       "      <th>...</th>\n",
       "      <th>Innings Overs Bowled</th>\n",
       "      <th>Innings Bowled Flag</th>\n",
       "      <th>Innings Maidens Bowled</th>\n",
       "      <th>Innings Runs Conceded</th>\n",
       "      <th>Innings Wickets Taken</th>\n",
       "      <th>4 Wickets</th>\n",
       "      <th>5 Wickets</th>\n",
       "      <th>10 Wickets</th>\n",
       "      <th>Innings Wickets Taken Buckets</th>\n",
       "      <th>Innings Economy Rate</th>\n",
       "    </tr>\n",
       "  </thead>\n",
       "  <tbody>\n",
       "    <tr>\n",
       "      <th>0</th>\n",
       "      <td>RA Smith</td>\n",
       "      <td>167*</td>\n",
       "      <td>167</td>\n",
       "      <td>208</td>\n",
       "      <td>1.0</td>\n",
       "      <td>1.0</td>\n",
       "      <td>163</td>\n",
       "      <td>17</td>\n",
       "      <td>3</td>\n",
       "      <td>102.45</td>\n",
       "      <td>...</td>\n",
       "      <td>NaN</td>\n",
       "      <td>NaN</td>\n",
       "      <td>NaN</td>\n",
       "      <td>NaN</td>\n",
       "      <td>NaN</td>\n",
       "      <td>NaN</td>\n",
       "      <td>NaN</td>\n",
       "      <td>NaN</td>\n",
       "      <td>NaN</td>\n",
       "      <td>NaN</td>\n",
       "    </tr>\n",
       "    <tr>\n",
       "      <th>1</th>\n",
       "      <td>DI Gower</td>\n",
       "      <td>158</td>\n",
       "      <td>158</td>\n",
       "      <td>177</td>\n",
       "      <td>1.0</td>\n",
       "      <td>0.0</td>\n",
       "      <td>118</td>\n",
       "      <td>18</td>\n",
       "      <td>4</td>\n",
       "      <td>133.89</td>\n",
       "      <td>...</td>\n",
       "      <td>NaN</td>\n",
       "      <td>NaN</td>\n",
       "      <td>NaN</td>\n",
       "      <td>NaN</td>\n",
       "      <td>NaN</td>\n",
       "      <td>NaN</td>\n",
       "      <td>NaN</td>\n",
       "      <td>NaN</td>\n",
       "      <td>NaN</td>\n",
       "      <td>NaN</td>\n",
       "    </tr>\n",
       "    <tr>\n",
       "      <th>2</th>\n",
       "      <td>CWJ Athey</td>\n",
       "      <td>142*</td>\n",
       "      <td>142</td>\n",
       "      <td>208</td>\n",
       "      <td>1.0</td>\n",
       "      <td>1.0</td>\n",
       "      <td>172</td>\n",
       "      <td>14</td>\n",
       "      <td>0</td>\n",
       "      <td>82.55</td>\n",
       "      <td>...</td>\n",
       "      <td>NaN</td>\n",
       "      <td>NaN</td>\n",
       "      <td>NaN</td>\n",
       "      <td>NaN</td>\n",
       "      <td>NaN</td>\n",
       "      <td>NaN</td>\n",
       "      <td>NaN</td>\n",
       "      <td>NaN</td>\n",
       "      <td>NaN</td>\n",
       "      <td>NaN</td>\n",
       "    </tr>\n",
       "    <tr>\n",
       "      <th>3</th>\n",
       "      <td>GA Gooch</td>\n",
       "      <td>142</td>\n",
       "      <td>142</td>\n",
       "      <td>-</td>\n",
       "      <td>1.0</td>\n",
       "      <td>0.0</td>\n",
       "      <td>134</td>\n",
       "      <td>14</td>\n",
       "      <td>0</td>\n",
       "      <td>105.97</td>\n",
       "      <td>...</td>\n",
       "      <td>NaN</td>\n",
       "      <td>NaN</td>\n",
       "      <td>NaN</td>\n",
       "      <td>NaN</td>\n",
       "      <td>NaN</td>\n",
       "      <td>NaN</td>\n",
       "      <td>NaN</td>\n",
       "      <td>NaN</td>\n",
       "      <td>NaN</td>\n",
       "      <td>NaN</td>\n",
       "    </tr>\n",
       "    <tr>\n",
       "      <th>4</th>\n",
       "      <td>DL Amiss</td>\n",
       "      <td>137</td>\n",
       "      <td>137</td>\n",
       "      <td>-</td>\n",
       "      <td>1.0</td>\n",
       "      <td>0.0</td>\n",
       "      <td>147</td>\n",
       "      <td>18</td>\n",
       "      <td>0</td>\n",
       "      <td>93.19</td>\n",
       "      <td>...</td>\n",
       "      <td>NaN</td>\n",
       "      <td>NaN</td>\n",
       "      <td>NaN</td>\n",
       "      <td>NaN</td>\n",
       "      <td>NaN</td>\n",
       "      <td>NaN</td>\n",
       "      <td>NaN</td>\n",
       "      <td>NaN</td>\n",
       "      <td>NaN</td>\n",
       "      <td>NaN</td>\n",
       "    </tr>\n",
       "  </tbody>\n",
       "</table>\n",
       "<p>5 rows × 28 columns</p>\n",
       "</div>"
      ],
      "text/plain": [
       "  Innings Player Innings Runs Scored Innings Runs Scored Num  \\\n",
       "0       RA Smith                167*                     167   \n",
       "1       DI Gower                 158                     158   \n",
       "2      CWJ Athey                142*                     142   \n",
       "3       GA Gooch                 142                     142   \n",
       "4       DL Amiss                 137                     137   \n",
       "\n",
       "  Innings Minutes Batted  Innings Batted Flag  Innings Not Out Flag  \\\n",
       "0                    208                  1.0                   1.0   \n",
       "1                    177                  1.0                   0.0   \n",
       "2                    208                  1.0                   1.0   \n",
       "3                      -                  1.0                   0.0   \n",
       "4                      -                  1.0                   0.0   \n",
       "\n",
       "  Innings Balls Faced Innings Boundary Fours Innings Boundary Sixes  \\\n",
       "0                 163                     17                      3   \n",
       "1                 118                     18                      4   \n",
       "2                 172                     14                      0   \n",
       "3                 134                     14                      0   \n",
       "4                 147                     18                      0   \n",
       "\n",
       "  Innings Batting Strike Rate  ... Innings Overs Bowled Innings Bowled Flag  \\\n",
       "0                      102.45  ...                  NaN                 NaN   \n",
       "1                      133.89  ...                  NaN                 NaN   \n",
       "2                       82.55  ...                  NaN                 NaN   \n",
       "3                      105.97  ...                  NaN                 NaN   \n",
       "4                       93.19  ...                  NaN                 NaN   \n",
       "\n",
       "  Innings Maidens Bowled Innings Runs Conceded Innings Wickets Taken  \\\n",
       "0                    NaN                   NaN                   NaN   \n",
       "1                    NaN                   NaN                   NaN   \n",
       "2                    NaN                   NaN                   NaN   \n",
       "3                    NaN                   NaN                   NaN   \n",
       "4                    NaN                   NaN                   NaN   \n",
       "\n",
       "   4 Wickets  5 Wickets 10 Wickets Innings Wickets Taken Buckets  \\\n",
       "0        NaN        NaN        NaN                           NaN   \n",
       "1        NaN        NaN        NaN                           NaN   \n",
       "2        NaN        NaN        NaN                           NaN   \n",
       "3        NaN        NaN        NaN                           NaN   \n",
       "4        NaN        NaN        NaN                           NaN   \n",
       "\n",
       "   Innings Economy Rate  \n",
       "0                   NaN  \n",
       "1                   NaN  \n",
       "2                   NaN  \n",
       "3                   NaN  \n",
       "4                   NaN  \n",
       "\n",
       "[5 rows x 28 columns]"
      ]
     },
     "execution_count": 67,
     "metadata": {},
     "output_type": "execute_result"
    }
   ],
   "source": [
    "df.head()"
   ]
  },
  {
   "cell_type": "code",
   "execution_count": null,
   "id": "c37acab1-f6c4-47ee-b58a-11bdad3b71fe",
   "metadata": {},
   "outputs": [],
   "source": []
  },
  {
   "cell_type": "code",
   "execution_count": null,
   "id": "a3047a2a-3803-464d-969e-cdfd81b582c3",
   "metadata": {},
   "outputs": [],
   "source": []
  },
  {
   "cell_type": "code",
   "execution_count": null,
   "id": "38c30459-acb3-4809-8660-46d8d6421516",
   "metadata": {},
   "outputs": [],
   "source": []
  },
  {
   "cell_type": "code",
   "execution_count": null,
   "id": "5a18c174-e55d-4c68-b4ac-5e694a997165",
   "metadata": {},
   "outputs": [],
   "source": []
  },
  {
   "cell_type": "code",
   "execution_count": null,
   "id": "4ab5ea5d-ebfe-4fa5-921f-72483a171ad8",
   "metadata": {},
   "outputs": [],
   "source": []
  },
  {
   "cell_type": "code",
   "execution_count": null,
   "id": "1a8d242e-07d4-41d6-8b95-b2c2c4eea8e1",
   "metadata": {},
   "outputs": [],
   "source": []
  },
  {
   "cell_type": "code",
   "execution_count": null,
   "id": "6b724924-c6d4-4af5-a8aa-b1b7328935ef",
   "metadata": {},
   "outputs": [],
   "source": []
  },
  {
   "cell_type": "code",
   "execution_count": null,
   "id": "e61e10f0-5ed9-4104-bf43-3defb6846b04",
   "metadata": {},
   "outputs": [],
   "source": []
  },
  {
   "cell_type": "code",
   "execution_count": null,
   "id": "ec86e938-2e05-4baf-ab27-dd63cef349fb",
   "metadata": {},
   "outputs": [],
   "source": []
  },
  {
   "cell_type": "code",
   "execution_count": null,
   "id": "5dca4326-bb6d-4739-8ffc-2c91c438e9b6",
   "metadata": {},
   "outputs": [],
   "source": [
    "# Q.6 Pick a player with at least 100 innings. Does his scores across all innings follow normal distribution?"
   ]
  },
  {
   "cell_type": "code",
   "execution_count": null,
   "id": "707e124b-499f-4bdd-9973-ad34024bd869",
   "metadata": {},
   "outputs": [],
   "source": []
  },
  {
   "cell_type": "markdown",
   "id": "a4b629e4-8bd0-479a-a025-62bb41155836",
   "metadata": {},
   "source": [
    "# Linear programming problem (LLP)"
   ]
  },
  {
   "cell_type": "code",
   "execution_count": 75,
   "id": "ffa7ea42-13c4-4474-9b81-9ebfcaf9b69a",
   "metadata": {},
   "outputs": [
    {
     "name": "stdout",
     "output_type": "stream",
     "text": [
      "Requirement already satisfied: pulp in c:\\users\\dbda.studentsdc\\appdata\\local\\anaconda3\\lib\\site-packages (3.2.1)\n"
     ]
    }
   ],
   "source": [
    "# LLP to maximize profits for manufacturing chairs and tables\n",
    "# import all classes of PuLP module\n",
    "!pip install pulp"
   ]
  },
  {
   "cell_type": "code",
   "execution_count": 76,
   "id": "e3446160-aa50-4ec5-9661-bc9a744e99d8",
   "metadata": {},
   "outputs": [],
   "source": [
    "from pulp import *"
   ]
  },
  {
   "cell_type": "code",
   "execution_count": 77,
   "id": "035e86b1-cc35-4abb-93f5-c362551092ff",
   "metadata": {},
   "outputs": [],
   "source": [
    "# Create the problem variable to contain the problem data\n",
    "model = LpProblem(\"FactoryProductionProblem\", LpMaximize)"
   ]
  },
  {
   "cell_type": "code",
   "execution_count": 78,
   "id": "5d0ea570-df07-4797-886e-fb48f54a04cf",
   "metadata": {},
   "outputs": [],
   "source": [
    "# Create variables for chairs and tables\n",
    "# Parameter: Name, Lower limit, Upper Limit, Data Type\n",
    "chairs = LpVariable(\"Chairs\", 0, None, LpInteger)   # No of chairs to produce\n",
    "tables = LpVariable(\"Tables\", 0, None, LpInteger)   # No of tables to produce"
   ]
  },
  {
   "cell_type": "code",
   "execution_count": 79,
   "id": "9bd84fc7-ba26-4d5f-aed7-b6186312e1a6",
   "metadata": {},
   "outputs": [],
   "source": [
    "# Create maximize objective function(profit)\n",
    "model += 300 * chairs + 1000*tables, \"Profit\""
   ]
  },
  {
   "cell_type": "code",
   "execution_count": 80,
   "id": "709a3ca0-d86d-42a5-8a33-3db47c57436e",
   "metadata": {},
   "outputs": [],
   "source": [
    "# Create Constraints\n",
    "model += 5*chairs + 10*tables <= 400, \"Wood Constraint\"   # Wood availability constraint\n",
    "model += 2*chairs + 6*tables <= 300, \"Time Constraint\"   # Worker time constraint"
   ]
  },
  {
   "cell_type": "code",
   "execution_count": 81,
   "id": "50823ca9-de21-437d-a935-ddb5acec9166",
   "metadata": {},
   "outputs": [
    {
     "data": {
      "text/plain": [
       "1"
      ]
     },
     "execution_count": 81,
     "metadata": {},
     "output_type": "execute_result"
    }
   ],
   "source": [
    "# The problem is solve using PuLP's choice of solver\n",
    "model.solve()"
   ]
  },
  {
   "cell_type": "code",
   "execution_count": 82,
   "id": "0deec6d6-23ee-4feb-bf18-faa07ed750eb",
   "metadata": {},
   "outputs": [
    {
     "name": "stdout",
     "output_type": "stream",
     "text": [
      "Chairs = 0.0\n",
      "Tables = 40.0\n"
     ]
    }
   ],
   "source": [
    "# Each of the variable is printed with its resolved optimum value\n",
    "for v in model.variables():\n",
    "    print(v.name, \"=\", v.varValue)"
   ]
  },
  {
   "cell_type": "code",
   "execution_count": 83,
   "id": "7d37b957-bdb5-4e5d-bac1-cad128f94f30",
   "metadata": {},
   "outputs": [
    {
     "name": "stdout",
     "output_type": "stream",
     "text": [
      "Total Profit: 40000.0\n"
     ]
    }
   ],
   "source": [
    "# Additional Information\n",
    "print(\"Total Profit:\", value(model.objective))  # Print objective function value  ((Total Prfit))"
   ]
  },
  {
   "cell_type": "code",
   "execution_count": null,
   "id": "3f40cb42-6ee8-4074-bb60-a77bc9e43159",
   "metadata": {},
   "outputs": [],
   "source": []
  },
  {
   "cell_type": "code",
   "execution_count": 84,
   "id": "c7e053b0-678a-456a-9ce0-12de25bc9823",
   "metadata": {},
   "outputs": [],
   "source": [
    "# Car Example"
   ]
  },
  {
   "cell_type": "code",
   "execution_count": 114,
   "id": "8e75d573-575f-4333-82fc-1d4cea211466",
   "metadata": {},
   "outputs": [],
   "source": [
    "car = LpProblem(\"CarProductionProblem\", LpMaximize)"
   ]
  },
  {
   "cell_type": "code",
   "execution_count": 115,
   "id": "a1d01f27-0c8f-4feb-99cc-50c59a553694",
   "metadata": {},
   "outputs": [],
   "source": [
    "carA = LpVariable(\"carA\", 0, None, LpInteger)   # No of carA to produce\n",
    "carB = LpVariable(\"carB\", 0, None, LpInteger)   # No of carB to produce"
   ]
  },
  {
   "cell_type": "code",
   "execution_count": 116,
   "id": "1e503cd3-cfaf-470f-9136-979f0a375902",
   "metadata": {},
   "outputs": [],
   "source": [
    "car += 30000 * carA + 45000*carB, \"Profit\"\n",
    "car += 3*carA + 4*carB <=30, \"Robot Time Constraint\"\n",
    "car += 5*carA + 6*carB <=60, \"Engineer Time Constraint\"\n",
    "car += 1.5*carA + 3*carB <=21, \"Detailer Time Constraint\""
   ]
  },
  {
   "cell_type": "code",
   "execution_count": 117,
   "id": "bab7400d-fa9c-4ecf-8a58-84ea1d7116ad",
   "metadata": {},
   "outputs": [
    {
     "data": {
      "text/plain": [
       "1"
      ]
     },
     "execution_count": 117,
     "metadata": {},
     "output_type": "execute_result"
    }
   ],
   "source": [
    "car.solve()"
   ]
  },
  {
   "cell_type": "code",
   "execution_count": 118,
   "id": "92b6d83d-7643-4304-9b08-9f14adb65d00",
   "metadata": {},
   "outputs": [
    {
     "name": "stdout",
     "output_type": "stream",
     "text": [
      "carA = 2.0\n",
      "carB = 6.0\n"
     ]
    }
   ],
   "source": [
    "for v in car.variables():\n",
    "    print(v.name, \"=\", v.varValue)"
   ]
  },
  {
   "cell_type": "code",
   "execution_count": 119,
   "id": "e01de69f-5ef8-4039-9065-7d16873c5a9c",
   "metadata": {},
   "outputs": [
    {
     "name": "stdout",
     "output_type": "stream",
     "text": [
      "Total Profit: 330000.0\n"
     ]
    }
   ],
   "source": [
    "print(\"Total Profit:\", value(car.objective))"
   ]
  },
  {
   "cell_type": "code",
   "execution_count": null,
   "id": "cd0df2e1-10d5-4709-aceb-b801f0e89067",
   "metadata": {},
   "outputs": [],
   "source": []
  },
  {
   "cell_type": "code",
   "execution_count": 130,
   "id": "f16c0295-66b2-4b92-9249-c306f0295bbe",
   "metadata": {},
   "outputs": [],
   "source": [
    "# Q.Classroom Problem\n",
    "# we have only one classroom that can be used for both theory and lab classes\n",
    "# x = Number of theory classes scheduled per week\n",
    "# y = Number of lab classes scheduled per week\n",
    "# we want to maximize the total number of students accommodated in this classrom. On Average, atheory class has 30 students, and \n",
    "# a lab class has 15 students\n",
    "\n",
    "# Total sessions: The total number of thery and lab classes scheduled per week cannot exceed 20 sessions due to limited faculty \n",
    "# availability\n",
    "# lab Session Requirement: At least 4 lab sessions must be scheduled per week\n",
    "# Theory Focus: Theory classes must be at least twice that of the lab classes\n",
    "# Objective: maximize the total number of students accomodated in the classroom."
   ]
  },
  {
   "cell_type": "code",
   "execution_count": 138,
   "id": "44bc9da9-4eb2-4946-a3fb-3e0b45160860",
   "metadata": {},
   "outputs": [],
   "source": [
    "car = LpProblem(\"CarProductionProblem\", LpMaximize)"
   ]
  },
  {
   "cell_type": "code",
   "execution_count": 139,
   "id": "42d130ea-678f-4107-8cb4-7a8696b25124",
   "metadata": {},
   "outputs": [],
   "source": [
    "theory = LpVariable(\"theory\", 0, None, LpInteger)   # No of carA to produce\n",
    "lab = LpVariable(\"lab\", 0, None, LpInteger)   # No of carB to produce"
   ]
  },
  {
   "cell_type": "code",
   "execution_count": 140,
   "id": "1accc575-ab11-4d21-9493-5883d10705f4",
   "metadata": {},
   "outputs": [],
   "source": [
    "car += 30 * theory + 15*lab, \"Max\"\n",
    "car += theory + lab <=20, \"Total Session\"\n",
    "car += lab >=4, \"lab session requirement\"\n",
    "car += theory >=2 * lab, \"Theory focus\""
   ]
  },
  {
   "cell_type": "code",
   "execution_count": 141,
   "id": "227cac03-bcca-4337-9aa5-cbf8508c82de",
   "metadata": {},
   "outputs": [
    {
     "data": {
      "text/plain": [
       "1"
      ]
     },
     "execution_count": 141,
     "metadata": {},
     "output_type": "execute_result"
    }
   ],
   "source": [
    "car.solve()"
   ]
  },
  {
   "cell_type": "code",
   "execution_count": 142,
   "id": "a749d58c-1211-4184-9c69-6ac07331d302",
   "metadata": {},
   "outputs": [
    {
     "name": "stdout",
     "output_type": "stream",
     "text": [
      "lab = 4.0\n",
      "theory = 16.0\n"
     ]
    }
   ],
   "source": [
    "for v in car.variables():\n",
    "    print(v.name, \"=\", v.varValue)"
   ]
  },
  {
   "cell_type": "code",
   "execution_count": 143,
   "id": "2dfe8896-eaa5-4b7d-bd1b-389c23a490b6",
   "metadata": {},
   "outputs": [
    {
     "name": "stdout",
     "output_type": "stream",
     "text": [
      "Total Profit: 540.0\n"
     ]
    }
   ],
   "source": [
    "print(\"Total Profit:\", value(car.objective))"
   ]
  },
  {
   "cell_type": "code",
   "execution_count": null,
   "id": "353f222b-8558-4076-9cbd-19ba4f69a157",
   "metadata": {},
   "outputs": [],
   "source": []
  },
  {
   "cell_type": "code",
   "execution_count": 144,
   "id": "40030a71-7e16-4b0f-be72-8a6a99afc7a7",
   "metadata": {},
   "outputs": [],
   "source": [
    "# Q. A fast-food restaurent sells three popular items: Sandwitches, Burgers, and Pizzas.The restaurent has limited resources each day:\n",
    "# 20kg of bread, 15kg of vegetables, 10 hours of cooking time. The profit per sandwitch is Rs.25,  per burger is Rs.50, \n",
    "# per pizza is Rs.75\n",
    "\n",
    "# Each sandwitch requires 0.2kg of bread, 0.1kg of vegetables and 10 minutes of cooking time. Each burger requires 0.3kg of bread, \n",
    "# 0.2kg of vegetables, 15 minutes of cooking time. Each pizza requires 0.5kg of bread, 0.3kg of vegetables and 20 min of cooking time.\n",
    "\n",
    "# Formulate a linear pogramming problem to determine the optimal number of sandwitches, burgers and pizzas the reastaurent should \n",
    "# prepare daily to maximiza profit, while ensuring that the resources are not exceeded."
   ]
  },
  {
   "cell_type": "code",
   "execution_count": 147,
   "id": "f5a565d0-5ef4-4c61-a07b-dd5a9a8f5aaa",
   "metadata": {},
   "outputs": [
    {
     "name": "stdout",
     "output_type": "stream",
     "text": [
      "Optimal number of sandwiches: 0.0\n",
      "Optimal number of burgers: 0.0\n",
      "Optimal number of pizzas: 30.0\n",
      "Maximum possible profit: Rs.2250.0\n"
     ]
    }
   ],
   "source": [
    "from pulp import LpMaximize, LpProblem, LpVariable\n",
    "\n",
    "# Define the problem\n",
    "model = LpProblem(name=\"fast-food-optimization\", sense=LpMaximize)\n",
    "\n",
    "# Define decision variables (number of sandwiches, burgers, pizzas)\n",
    "x = LpVariable(name=\"Sandwiches\", lowBound=0, cat=\"Integer\")\n",
    "y = LpVariable(name=\"Burgers\", lowBound=0, cat=\"Integer\")\n",
    "z = LpVariable(name=\"Pizzas\", lowBound=0, cat=\"Integer\")\n",
    "\n",
    "# Objective function: Maximize profit\n",
    "model += 25 * x + 50 * y + 75 * z, \"Total_Profit\"\n",
    "\n",
    "# Constraints\n",
    "model += 0.2 * x + 0.3 * y + 0.5 * z <= 20, \"Bread_constraint\"\n",
    "model += 0.1 * x + 0.2 * y + 0.3 * z <= 15, \"Vegetable_constraint\"\n",
    "model += 10 * x + 15 * y + 20 * z <= 600, \"Cooking_time_constraint\"\n",
    "\n",
    "# Solve the problem\n",
    "status = model.solve()\n",
    "\n",
    "# Output results\n",
    "print(f\"Optimal number of sandwiches: {x.varValue}\")\n",
    "print(f\"Optimal number of burgers: {y.varValue}\")\n",
    "print(f\"Optimal number of pizzas: {z.varValue}\")\n",
    "print(f\"Maximum possible profit: Rs.{model.objective.value()}\")\n"
   ]
  },
  {
   "cell_type": "code",
   "execution_count": null,
   "id": "8e2f91fc-2311-4e73-8541-046efe2449ea",
   "metadata": {},
   "outputs": [],
   "source": []
  },
  {
   "cell_type": "code",
   "execution_count": 148,
   "id": "584a8909-11db-455e-8ac3-184ea94f45b5",
   "metadata": {},
   "outputs": [],
   "source": [
    "# Q. The student need to prepare for 3 modules: python programming(3 credits), SQL(2 credits) and advanced analytics(5 credits)\n",
    "# The student must get at least one credit in every subject.\n",
    "# 100 hours of study available\n",
    "# Number of hours study needed for one credit: python: 15, SQL:20, Analytics:25\n",
    "# One analytics credit has of 1.5 weightage\n",
    "# How can the student study to get maximum credits?"
   ]
  },
  {
   "cell_type": "code",
   "execution_count": 149,
   "id": "9cd8bc49-9772-402c-9eb5-9a466693969e",
   "metadata": {},
   "outputs": [
    {
     "name": "stdout",
     "output_type": "stream",
     "text": [
      "Optimal Python credits: 2.0\n",
      "Optimal SQL credits: 1.0\n",
      "Optimal Analytics credits: 2.0\n",
      "Maximum weighted credits possible: 6.0\n"
     ]
    }
   ],
   "source": [
    "from pulp import LpMaximize, LpProblem, LpVariable\n",
    "\n",
    "# Define the problem\n",
    "model = LpProblem(name=\"study-optimization\", sense=LpMaximize)\n",
    "\n",
    "# Define decision variables (credits for Python, SQL, and Analytics)\n",
    "x = LpVariable(name=\"Python_Credits\", lowBound=1, upBound=3, cat=\"Integer\")\n",
    "y = LpVariable(name=\"SQL_Credits\", lowBound=1, upBound=2, cat=\"Integer\")\n",
    "z = LpVariable(name=\"Analytics_Credits\", lowBound=1, upBound=5, cat=\"Integer\")\n",
    "\n",
    "# Objective function: Maximize weighted credits\n",
    "model += x + y + 1.5 * z, \"Total_Weighted_Credits\"\n",
    "\n",
    "# Constraints\n",
    "model += 15 * x + 20 * y + 25 * z <= 100, \"Total_Study_Hours\"\n",
    "    \n",
    "# Solve the problem\n",
    "status = model.solve()\n",
    "\n",
    "# Output results\n",
    "print(f\"Optimal Python credits: {x.varValue}\")\n",
    "print(f\"Optimal SQL credits: {y.varValue}\")\n",
    "print(f\"Optimal Analytics credits: {z.varValue}\")\n",
    "print(f\"Maximum weighted credits possible: {model.objective.value()}\")\n"
   ]
  },
  {
   "cell_type": "code",
   "execution_count": null,
   "id": "072e1b5b-1a65-46d0-81ba-a0b564148254",
   "metadata": {},
   "outputs": [],
   "source": []
  },
  {
   "cell_type": "markdown",
   "id": "b71d7c31-1103-49cc-a3af-cc6a84529850",
   "metadata": {},
   "source": [
    "# Exponential Distribution"
   ]
  },
  {
   "cell_type": "code",
   "execution_count": 151,
   "id": "9b1a00e6-3e02-4a46-a3df-c98ce4ef7823",
   "metadata": {},
   "outputs": [],
   "source": [
    "# Estimate the probability that the next customer will arrive in 3 minutes"
   ]
  },
  {
   "cell_type": "code",
   "execution_count": 152,
   "id": "c9a241dd-c8ef-4d53-a8eb-941ad2b3f4a0",
   "metadata": {},
   "outputs": [],
   "source": [
    "import pandas as pd\n",
    "import numpy as np\n",
    "from math import exp\n",
    "import matplotlib.pyplot as plt"
   ]
  },
  {
   "cell_type": "code",
   "execution_count": 153,
   "id": "7fae75e1-480c-4c3c-87c5-88825710cd2c",
   "metadata": {},
   "outputs": [],
   "source": [
    "df = pd.read_csv(\"orders.csv\")"
   ]
  },
  {
   "cell_type": "code",
   "execution_count": 154,
   "id": "45f7baa7-fe6a-4d2b-8f86-745b2fc9e082",
   "metadata": {},
   "outputs": [],
   "source": [
    "# Combine 'date' and 'time' into a single datetime column\n",
    "df['datetime'] = pd.to_datetime(df['date'] + ' ' + df['time'], dayfirst=True)"
   ]
  },
  {
   "cell_type": "code",
   "execution_count": 155,
   "id": "bc823d14-4a89-4743-843a-350e0c273dab",
   "metadata": {},
   "outputs": [],
   "source": [
    "# Sort by datetime\n",
    "df = df.sort_values('datetime')"
   ]
  },
  {
   "cell_type": "code",
   "execution_count": 156,
   "id": "66a9dc21-5223-40cb-9938-ea775d24f1f4",
   "metadata": {},
   "outputs": [],
   "source": [
    "# Group by date and calculate intra-day interarrival times\n",
    "df['date_only'] = df['datetime'].dt.date  # To avoid overwriting original 'date' of needed\n",
    "time_diffs = []"
   ]
  },
  {
   "cell_type": "code",
   "execution_count": 157,
   "id": "09145bbe-745c-4416-9f16-cb35d23e1404",
   "metadata": {},
   "outputs": [],
   "source": [
    "for _, group in df.groupby('date_only'):\n",
    "    group = group.sort_values('datetime')\n",
    "    diffs = group['datetime'].diff().dt.total_seconds().dropna() / 60  # in minutes\n",
    "    time_diffs.extend(diffs.tolist())"
   ]
  },
  {
   "cell_type": "code",
   "execution_count": 158,
   "id": "06533aa5-94a7-428b-8021-efc9a8099040",
   "metadata": {},
   "outputs": [],
   "source": [
    "# convert to numpy array\n",
    "time_differences  = np.array(time_diffs)"
   ]
  },
  {
   "cell_type": "code",
   "execution_count": 159,
   "id": "27178a5c-aeef-449e-ade7-1b8f99a8f1f6",
   "metadata": {},
   "outputs": [],
   "source": [
    "# Exponential distribution parameter\n",
    "mean_diff = time_differences.mean()\n",
    "rate_lambda = 1 / mean_diff"
   ]
  },
  {
   "cell_type": "code",
   "execution_count": 160,
   "id": "da4a7305-6dfc-4fc9-be0f-35348c9d912c",
   "metadata": {},
   "outputs": [],
   "source": [
    "# probability that next customer arrives after 3 minutes\n",
    "t = 3  #minutes\n",
    "prob_after_3_min = exp(-rate_lambda * t)"
   ]
  },
  {
   "cell_type": "code",
   "execution_count": 163,
   "id": "b459370d-2b08-45a9-8c51-0c9e9cee95ec",
   "metadata": {},
   "outputs": [
    {
     "name": "stdout",
     "output_type": "stream",
     "text": [
      "Average time between customers (intra-dayonly): 11.02 minutes\n",
      "lambda(rate): 0.0908\n",
      "Probability that next customer arrives AFTER 3 minutes: 0.7616\n"
     ]
    }
   ],
   "source": [
    "# output\n",
    "print(f\"Average time between customers (intra-dayonly): {mean_diff:.2f} minutes\")\n",
    "print(f'lambda(rate): {rate_lambda:.4f}')\n",
    "print(f\"Probability that next customer arrives AFTER {t} minutes: {prob_after_3_min:.4f}\")"
   ]
  },
  {
   "cell_type": "code",
   "execution_count": 164,
   "id": "c00cdfe2-2b6f-415c-9089-40341827f73a",
   "metadata": {},
   "outputs": [],
   "source": [
    "# calculate PDF and CDF from 0 to 20 minutes\n"
   ]
  },
  {
   "cell_type": "code",
   "execution_count": 168,
   "id": "376591e9-2956-44ba-ac0b-e62dd18b7240",
   "metadata": {},
   "outputs": [],
   "source": [
    "# create time values: [0,1, ....., 19] (20 Values total)\n",
    "x = np.linspace(0, 19, 20)"
   ]
  },
  {
   "cell_type": "code",
   "execution_count": 169,
   "id": "d448bccb-bd0f-457d-abe7-34f9b21fa934",
   "metadata": {},
   "outputs": [],
   "source": [
    "# calculate PDF and CDF for exponential distribution\n",
    "pdf = rate_lambda * np.exp(-rate_lambda * x)\n",
    "cdf = 1 - np.exp(-rate_lambda * x)"
   ]
  },
  {
   "cell_type": "code",
   "execution_count": 170,
   "id": "1433b868-75e8-4dcc-af5f-1a1aecb9373a",
   "metadata": {},
   "outputs": [],
   "source": [
    "# Create DataFrame for better tabular display\n",
    "df_table = pd.DataFrame({\n",
    "    'MINUTE': x.round(0),\n",
    "    'PDF':pdf.round(6),\n",
    "    'CDF':cdf.round(6)\n",
    "})"
   ]
  },
  {
   "cell_type": "code",
   "execution_count": 172,
   "id": "87bc1e98-b263-494e-a76f-7594f4644712",
   "metadata": {},
   "outputs": [
    {
     "name": "stdout",
     "output_type": "stream",
     "text": [
      " MINUTE      PDF      CDF\n",
      "    0.0 0.090782 0.000000\n",
      "    1.0 0.082904 0.086784\n",
      "    2.0 0.075709 0.166036\n",
      "    3.0 0.069139 0.238410\n",
      "    4.0 0.063139 0.304504\n",
      "    5.0 0.057659 0.364861\n",
      "    6.0 0.052655 0.419981\n",
      "    7.0 0.048086 0.470317\n",
      "    8.0 0.043913 0.516285\n",
      "    9.0 0.040102 0.558263\n",
      "   10.0 0.036622 0.596599\n",
      "   11.0 0.033444 0.631607\n",
      "   12.0 0.030541 0.663578\n",
      "   13.0 0.027891 0.692774\n",
      "   14.0 0.025470 0.719436\n",
      "   15.0 0.023260 0.743784\n",
      "   16.0 0.021241 0.766019\n",
      "   17.0 0.019398 0.786325\n",
      "   18.0 0.017714 0.804869\n",
      "   19.0 0.016177 0.821803\n"
     ]
    }
   ],
   "source": [
    "print(df_table.to_string(index = False))\n"
   ]
  },
  {
   "cell_type": "code",
   "execution_count": 173,
   "id": "038a215e-76f3-4311-b235-5ded54d832ee",
   "metadata": {},
   "outputs": [
    {
     "data": {
      "text/plain": [
       "<Figure size 1000x500 with 0 Axes>"
      ]
     },
     "execution_count": 173,
     "metadata": {},
     "output_type": "execute_result"
    },
    {
     "data": {
      "text/plain": [
       "<Figure size 1000x500 with 0 Axes>"
      ]
     },
     "metadata": {},
     "output_type": "display_data"
    }
   ],
   "source": [
    "# Plot\n",
    "plt.figure(figsize=(10, 5))"
   ]
  },
  {
   "cell_type": "code",
   "execution_count": 174,
   "id": "afd6913c-aad3-40e1-9901-67062c3b7e30",
   "metadata": {},
   "outputs": [
    {
     "data": {
      "image/png": "[encoded data removed]",
      "text/plain": [
       "<Figure size 640x480 with 1 Axes>"
      ]
     },
     "metadata": {},
     "output_type": "display_data"
    }
   ],
   "source": [
    "plt.plot(x, pdf, label='PDF', color ='blue')\n",
    "plt.plot(x, cdf, label='CDF', color ='green')\n",
    "plt.title('Exponential Distribution PDF and CDF (0 to 10 minutes)')\n",
    "plt.xlabel('Time (minutes)')\n",
    "plt.ylabel('Probability')\n",
    "plt.legend()\n",
    "plt.grid(True)\n",
    "plt.tight_layout()\n",
    "plt.show()       "
   ]
  },
  {
   "cell_type": "code",
   "execution_count": null,
   "id": "59ed2efa-65f7-4f27-ac26-a6681ff8a932",
   "metadata": {},
   "outputs": [],
   "source": []
  },
  {
   "cell_type": "code",
   "execution_count": null,
   "id": "ff0d4b67-4f8e-44b9-928a-3c5c022a723e",
   "metadata": {},
   "outputs": [],
   "source": []
  }
 ],
 "metadata": {
  "kernelspec": {
   "display_name": "Python 3 (ipykernel)",
   "language": "python",
   "name": "python3"
  },
  "language_info": {
   "codemirror_mode": {
    "name": "ipython",
    "version": 3
   },
   "file_extension": ".py",
   "mimetype": "text/x-python",
   "name": "python",
   "nbconvert_exporter": "python",
   "pygments_lexer": "ipython3",
   "version": "3.12.7"
  }
 },
 "nbformat": 4,
 "nbformat_minor": 5
}
